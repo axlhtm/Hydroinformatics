{
 "cells": [
  {
   "cell_type": "markdown",
   "metadata": {},
   "source": [
    "# QUADRATIC FORMULA"
   ]
  },
  {
   "cell_type": "code",
   "execution_count": 13,
   "metadata": {},
   "outputs": [
    {
     "name": "stdout",
     "output_type": "stream",
     "text": [
      "You have one real root\n",
      "0.5\n"
     ]
    }
   ],
   "source": [
    "a = float(input('Insert a value for variable a'))\n",
    "b = float(input('Insert a value for variable b'))\n",
    "c = float(input('Insert a value for variable c'))\n",
    "\n",
    "print(a, b, c) \n",
    "\n",
    "####################\n",
    "d = b**2 - 4 * a * c \n",
    "\n",
    "if d > 0 : \n",
    "    x1 = (-b + d**0.5)/ (2*a)\n",
    "    x2 = (-b - d**0.5)/ (2*a)\n",
    "    print('You have two real and distincts root')\n",
    "    print(x1, x2)\n",
    "\n",
    "elif d == 0 : \n",
    "    x1 = (-b / (2*a))\n",
    "    x2 = x1 \n",
    "    print('You have one real root')\n",
    "    print(x1) \n",
    "\n",
    "else : \n",
    "    print('No real root can be defined')"
   ]
  },
  {
   "cell_type": "code",
   "execution_count": null,
   "metadata": {},
   "outputs": [],
   "source": []
  }
 ],
 "metadata": {
  "kernelspec": {
   "display_name": "Python 3.10.7 64-bit (microsoft store)",
   "language": "python",
   "name": "python3"
  },
  "language_info": {
   "codemirror_mode": {
    "name": "ipython",
    "version": 3
   },
   "file_extension": ".py",
   "mimetype": "text/x-python",
   "name": "python",
   "nbconvert_exporter": "python",
   "pygments_lexer": "ipython3",
   "version": "3.10.7"
  },
  "orig_nbformat": 4,
  "vscode": {
   "interpreter": {
    "hash": "0aa17839d096e15ae1a76eed349c71a14ba5ec2d4ab73d3b71c13ed3614de595"
   }
  }
 },
 "nbformat": 4,
 "nbformat_minor": 2
}
