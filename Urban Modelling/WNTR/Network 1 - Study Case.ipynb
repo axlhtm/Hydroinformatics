{
 "cells": [
  {
   "cell_type": "markdown",
   "metadata": {},
   "source": [
    "#### Import Python Libraries"
   ]
  },
  {
   "cell_type": "code",
   "execution_count": 2,
   "metadata": {},
   "outputs": [],
   "source": [
    "import numpy as np \n",
    "import wntr \n"
   ]
  },
  {
   "cell_type": "markdown",
   "metadata": {},
   "source": [
    "#### Import and Simulate EPANET Water Distribituion Networks (WDN)"
   ]
  },
  {
   "cell_type": "code",
   "execution_count": 3,
   "metadata": {},
   "outputs": [],
   "source": [
    "inp_file = 'G:/My Drive/Work Data/PT. Hutomo Bangun Perkasa/Hydroinformatics/Urban Modelling/WNTR/Net1.inp'\n",
    "wn       = wntr.network.WaterNetworkModel(inp_file)\n",
    "sim      = wntr.sim.EpanetSimulator(wn)\n",
    "results  = sim.run_sim() "
   ]
  },
  {
   "cell_type": "markdown",
   "metadata": {},
   "source": [
    "#### Plot the Water Distribution Networks (WDN)"
   ]
  },
  {
   "cell_type": "code",
   "execution_count": 4,
   "metadata": {},
   "outputs": [
    {
     "data": {
      "image/png": "[encoded data removed]",
      "text/plain": [
       "<Figure size 432x288 with 1 Axes>"
      ]
     },
     "metadata": {},
     "output_type": "display_data"
    },
    {
     "data": {
      "text/plain": [
       "<AxesSubplot:title={'center':'Water Distribution Networks'}>"
      ]
     },
     "execution_count": 4,
     "metadata": {},
     "output_type": "execute_result"
    }
   ],
   "source": [
    "wntr.graphics.plot_network(wn, title = 'Water Distribution Networks') "
   ]
  },
  {
   "cell_type": "markdown",
   "metadata": {},
   "source": [
    "#### Check the Pressure Along the Networks"
   ]
  },
  {
   "cell_type": "code",
   "execution_count": 5,
   "metadata": {},
   "outputs": [
    {
     "data": {
      "text/html": [
       "<div>\n",
       "<style scoped>\n",
       "    .dataframe tbody tr th:only-of-type {\n",
       "        vertical-align: middle;\n",
       "    }\n",
       "\n",
       "    .dataframe tbody tr th {\n",
       "        vertical-align: top;\n",
       "    }\n",
       "\n",
       "    .dataframe thead th {\n",
       "        text-align: right;\n",
       "    }\n",
       "</style>\n",
       "<table border=\"1\" class=\"dataframe\">\n",
       "  <thead>\n",
       "    <tr style=\"text-align: right;\">\n",
       "      <th>name</th>\n",
       "      <th>10</th>\n",
       "      <th>11</th>\n",
       "      <th>12</th>\n",
       "      <th>13</th>\n",
       "      <th>21</th>\n",
       "      <th>22</th>\n",
       "      <th>23</th>\n",
       "      <th>31</th>\n",
       "      <th>32</th>\n",
       "      <th>9</th>\n",
       "      <th>2</th>\n",
       "    </tr>\n",
       "  </thead>\n",
       "  <tbody>\n",
       "    <tr>\n",
       "      <th>0</th>\n",
       "      <td>89.717087</td>\n",
       "      <td>83.890205</td>\n",
       "      <td>82.317276</td>\n",
       "      <td>83.476387</td>\n",
       "      <td>82.767410</td>\n",
       "      <td>83.539085</td>\n",
       "      <td>84.931053</td>\n",
       "      <td>81.500954</td>\n",
       "      <td>77.934105</td>\n",
       "      <td>0.0</td>\n",
       "      <td>36.575996</td>\n",
       "    </tr>\n",
       "    <tr>\n",
       "      <th>3600</th>\n",
       "      <td>90.454926</td>\n",
       "      <td>84.729393</td>\n",
       "      <td>83.251549</td>\n",
       "      <td>84.406586</td>\n",
       "      <td>83.667519</td>\n",
       "      <td>84.464272</td>\n",
       "      <td>85.857826</td>\n",
       "      <td>82.406822</td>\n",
       "      <td>78.848099</td>\n",
       "      <td>0.0</td>\n",
       "      <td>37.511158</td>\n",
       "    </tr>\n",
       "    <tr>\n",
       "      <th>7200</th>\n",
       "      <td>90.917648</td>\n",
       "      <td>85.255745</td>\n",
       "      <td>84.155159</td>\n",
       "      <td>85.054062</td>\n",
       "      <td>83.953423</td>\n",
       "      <td>84.992241</td>\n",
       "      <td>86.371002</td>\n",
       "      <td>82.307472</td>\n",
       "      <td>78.707024</td>\n",
       "      <td>0.0</td>\n",
       "      <td>38.424873</td>\n",
       "    </tr>\n",
       "    <tr>\n",
       "      <th>10800</th>\n",
       "      <td>91.417061</td>\n",
       "      <td>85.823898</td>\n",
       "      <td>84.786301</td>\n",
       "      <td>85.681648</td>\n",
       "      <td>84.562263</td>\n",
       "      <td>85.614861</td>\n",
       "      <td>86.994759</td>\n",
       "      <td>82.919395</td>\n",
       "      <td>79.322929</td>\n",
       "      <td>0.0</td>\n",
       "      <td>39.056461</td>\n",
       "    </tr>\n",
       "    <tr>\n",
       "      <th>14400</th>\n",
       "      <td>91.644539</td>\n",
       "      <td>86.082703</td>\n",
       "      <td>85.396606</td>\n",
       "      <td>85.978691</td>\n",
       "      <td>84.503044</td>\n",
       "      <td>85.736961</td>\n",
       "      <td>87.100243</td>\n",
       "      <td>82.392494</td>\n",
       "      <td>78.709198</td>\n",
       "      <td>0.0</td>\n",
       "      <td>39.673317</td>\n",
       "    </tr>\n",
       "  </tbody>\n",
       "</table>\n",
       "</div>"
      ],
      "text/plain": [
       "name          10         11         12         13         21         22  \\\n",
       "0      89.717087  83.890205  82.317276  83.476387  82.767410  83.539085   \n",
       "3600   90.454926  84.729393  83.251549  84.406586  83.667519  84.464272   \n",
       "7200   90.917648  85.255745  84.155159  85.054062  83.953423  84.992241   \n",
       "10800  91.417061  85.823898  84.786301  85.681648  84.562263  85.614861   \n",
       "14400  91.644539  86.082703  85.396606  85.978691  84.503044  85.736961   \n",
       "\n",
       "name          23         31         32    9          2  \n",
       "0      84.931053  81.500954  77.934105  0.0  36.575996  \n",
       "3600   85.857826  82.406822  78.848099  0.0  37.511158  \n",
       "7200   86.371002  82.307472  78.707024  0.0  38.424873  \n",
       "10800  86.994759  82.919395  79.322929  0.0  39.056461  \n",
       "14400  87.100243  82.392494  78.709198  0.0  39.673317  "
      ]
     },
     "execution_count": 5,
     "metadata": {},
     "output_type": "execute_result"
    }
   ],
   "source": [
    "P_All_Nodes = results.node['pressure']\n",
    "P_All_Nodes.head()"
   ]
  },
  {
   "cell_type": "markdown",
   "metadata": {},
   "source": [
    "#### Removing Reservoir Nodes from the Networks"
   ]
  },
  {
   "cell_type": "code",
   "execution_count": 6,
   "metadata": {},
   "outputs": [
    {
     "data": {
      "text/html": [
       "<div>\n",
       "<style scoped>\n",
       "    .dataframe tbody tr th:only-of-type {\n",
       "        vertical-align: middle;\n",
       "    }\n",
       "\n",
       "    .dataframe tbody tr th {\n",
       "        vertical-align: top;\n",
       "    }\n",
       "\n",
       "    .dataframe thead th {\n",
       "        text-align: right;\n",
       "    }\n",
       "</style>\n",
       "<table border=\"1\" class=\"dataframe\">\n",
       "  <thead>\n",
       "    <tr style=\"text-align: right;\">\n",
       "      <th>name</th>\n",
       "      <th>10</th>\n",
       "      <th>11</th>\n",
       "      <th>12</th>\n",
       "      <th>13</th>\n",
       "      <th>21</th>\n",
       "      <th>22</th>\n",
       "      <th>23</th>\n",
       "      <th>31</th>\n",
       "      <th>32</th>\n",
       "      <th>2</th>\n",
       "    </tr>\n",
       "  </thead>\n",
       "  <tbody>\n",
       "    <tr>\n",
       "      <th>0</th>\n",
       "      <td>89.717087</td>\n",
       "      <td>83.890205</td>\n",
       "      <td>82.317276</td>\n",
       "      <td>83.476387</td>\n",
       "      <td>82.767410</td>\n",
       "      <td>83.539085</td>\n",
       "      <td>84.931053</td>\n",
       "      <td>81.500954</td>\n",
       "      <td>77.934105</td>\n",
       "      <td>36.575996</td>\n",
       "    </tr>\n",
       "    <tr>\n",
       "      <th>3600</th>\n",
       "      <td>90.454926</td>\n",
       "      <td>84.729393</td>\n",
       "      <td>83.251549</td>\n",
       "      <td>84.406586</td>\n",
       "      <td>83.667519</td>\n",
       "      <td>84.464272</td>\n",
       "      <td>85.857826</td>\n",
       "      <td>82.406822</td>\n",
       "      <td>78.848099</td>\n",
       "      <td>37.511158</td>\n",
       "    </tr>\n",
       "    <tr>\n",
       "      <th>7200</th>\n",
       "      <td>90.917648</td>\n",
       "      <td>85.255745</td>\n",
       "      <td>84.155159</td>\n",
       "      <td>85.054062</td>\n",
       "      <td>83.953423</td>\n",
       "      <td>84.992241</td>\n",
       "      <td>86.371002</td>\n",
       "      <td>82.307472</td>\n",
       "      <td>78.707024</td>\n",
       "      <td>38.424873</td>\n",
       "    </tr>\n",
       "    <tr>\n",
       "      <th>10800</th>\n",
       "      <td>91.417061</td>\n",
       "      <td>85.823898</td>\n",
       "      <td>84.786301</td>\n",
       "      <td>85.681648</td>\n",
       "      <td>84.562263</td>\n",
       "      <td>85.614861</td>\n",
       "      <td>86.994759</td>\n",
       "      <td>82.919395</td>\n",
       "      <td>79.322929</td>\n",
       "      <td>39.056461</td>\n",
       "    </tr>\n",
       "    <tr>\n",
       "      <th>14400</th>\n",
       "      <td>91.644539</td>\n",
       "      <td>86.082703</td>\n",
       "      <td>85.396606</td>\n",
       "      <td>85.978691</td>\n",
       "      <td>84.503044</td>\n",
       "      <td>85.736961</td>\n",
       "      <td>87.100243</td>\n",
       "      <td>82.392494</td>\n",
       "      <td>78.709198</td>\n",
       "      <td>39.673317</td>\n",
       "    </tr>\n",
       "  </tbody>\n",
       "</table>\n",
       "</div>"
      ],
      "text/plain": [
       "name          10         11         12         13         21         22  \\\n",
       "0      89.717087  83.890205  82.317276  83.476387  82.767410  83.539085   \n",
       "3600   90.454926  84.729393  83.251549  84.406586  83.667519  84.464272   \n",
       "7200   90.917648  85.255745  84.155159  85.054062  83.953423  84.992241   \n",
       "10800  91.417061  85.823898  84.786301  85.681648  84.562263  85.614861   \n",
       "14400  91.644539  86.082703  85.396606  85.978691  84.503044  85.736961   \n",
       "\n",
       "name          23         31         32          2  \n",
       "0      84.931053  81.500954  77.934105  36.575996  \n",
       "3600   85.857826  82.406822  78.848099  37.511158  \n",
       "7200   86.371002  82.307472  78.707024  38.424873  \n",
       "10800  86.994759  82.919395  79.322929  39.056461  \n",
       "14400  87.100243  82.392494  78.709198  39.673317  "
      ]
     },
     "execution_count": 6,
     "metadata": {},
     "output_type": "execute_result"
    }
   ],
   "source": [
    "P_Nodes = P_All_Nodes.drop('9', axis=1)\n",
    "P_Nodes.head()"
   ]
  },
  {
   "cell_type": "code",
   "execution_count": 7,
   "metadata": {},
   "outputs": [
    {
     "name": "stdout",
     "output_type": "stream",
     "text": [
      "All pressures in nodes are above 20 feet\n",
      "All pressures in nodes are above 20 feet\n",
      "All pressures in nodes are above 20 feet\n",
      "All pressures in nodes are above 20 feet\n",
      "All pressures in nodes are above 20 feet\n",
      "All pressures in nodes are above 20 feet\n",
      "All pressures in nodes are above 20 feet\n",
      "All pressures in nodes are above 20 feet\n",
      "All pressures in nodes are above 20 feet\n",
      "All pressures in nodes are above 20 feet\n",
      "All pressures in nodes are above 20 feet\n",
      "All pressures in nodes are above 20 feet\n",
      "All pressures in nodes are above 20 feet\n",
      "All pressures in nodes are above 20 feet\n",
      "All pressures in nodes are above 20 feet\n",
      "All pressures in nodes are above 20 feet\n",
      "All pressures in nodes are above 20 feet\n",
      "All pressures in nodes are above 20 feet\n",
      "All pressures in nodes are above 20 feet\n",
      "All pressures in nodes are above 20 feet\n",
      "All pressures in nodes are above 20 feet\n",
      "All pressures in nodes are above 20 feet\n",
      "All pressures in nodes are above 20 feet\n",
      "All pressures in nodes are above 20 feet\n",
      "All pressures in nodes are above 20 feet\n",
      "All pressures in nodes are above 20 feet\n",
      "All pressures in nodes are above 20 feet\n",
      "All pressures in nodes are above 20 feet\n",
      "All pressures in nodes are above 20 feet\n",
      "All pressures in nodes are above 20 feet\n",
      "All pressures in nodes are above 20 feet\n",
      "All pressures in nodes are above 20 feet\n",
      "All pressures in nodes are above 20 feet\n",
      "All pressures in nodes are above 20 feet\n",
      "All pressures in nodes are above 20 feet\n",
      "All pressures in nodes are above 20 feet\n",
      "All pressures in nodes are above 20 feet\n",
      "All pressures in nodes are above 20 feet\n",
      "All pressures in nodes are above 20 feet\n",
      "All pressures in nodes are above 20 feet\n",
      "All pressures in nodes are above 20 feet\n",
      "All pressures in nodes are above 20 feet\n",
      "All pressures in nodes are above 20 feet\n",
      "All pressures in nodes are above 20 feet\n",
      "All pressures in nodes are above 20 feet\n",
      "All pressures in nodes are above 20 feet\n",
      "All pressures in nodes are above 20 feet\n",
      "All pressures in nodes are above 20 feet\n",
      "All pressures in nodes are above 20 feet\n",
      "All pressures in nodes are above 20 feet\n",
      "All pressures in nodes are above 20 feet\n",
      "All pressures in nodes are above 20 feet\n",
      "All pressures in nodes are above 20 feet\n",
      "All pressures in nodes are above 20 feet\n",
      "All pressures in nodes are above 20 feet\n",
      "All pressures in nodes are above 20 feet\n",
      "All pressures in nodes are above 20 feet\n",
      "All pressures in nodes are above 20 feet\n",
      "All pressures in nodes are above 20 feet\n",
      "All pressures in nodes are above 20 feet\n",
      "All pressures in nodes are above 20 feet\n",
      "All pressures in nodes are above 20 feet\n",
      "All pressures in nodes are above 20 feet\n",
      "All pressures in nodes are above 20 feet\n",
      "All pressures in nodes are above 20 feet\n",
      "All pressures in nodes are above 20 feet\n",
      "All pressures in nodes are above 20 feet\n",
      "All pressures in nodes are above 20 feet\n",
      "All pressures in nodes are above 20 feet\n",
      "All pressures in nodes are above 20 feet\n",
      "All pressures in nodes are above 20 feet\n",
      "All pressures in nodes are above 20 feet\n",
      "All pressures in nodes are above 20 feet\n",
      "All pressures in nodes are above 20 feet\n",
      "All pressures in nodes are above 20 feet\n",
      "All pressures in nodes are above 20 feet\n",
      "All pressures in nodes are above 20 feet\n",
      "All pressures in nodes are above 20 feet\n",
      "All pressures in nodes are above 20 feet\n",
      "All pressures in nodes are above 20 feet\n",
      "All pressures in nodes are above 20 feet\n",
      "All pressures in nodes are above 20 feet\n",
      "All pressures in nodes are above 20 feet\n",
      "All pressures in nodes are above 20 feet\n",
      "All pressures in nodes are above 20 feet\n",
      "All pressures in nodes are above 20 feet\n",
      "All pressures in nodes are above 20 feet\n",
      "All pressures in nodes are above 20 feet\n",
      "All pressures in nodes are above 20 feet\n",
      "All pressures in nodes are above 20 feet\n",
      "All pressures in nodes are above 20 feet\n",
      "All pressures in nodes are above 20 feet\n",
      "All pressures in nodes are above 20 feet\n",
      "All pressures in nodes are above 20 feet\n",
      "All pressures in nodes are above 20 feet\n",
      "All pressures in nodes are above 20 feet\n",
      "All pressures in nodes are above 20 feet\n",
      "All pressures in nodes are above 20 feet\n",
      "All pressures in nodes are above 20 feet\n",
      "All pressures in nodes are above 20 feet\n"
     ]
    }
   ],
   "source": [
    "P_Col_Min = P_Nodes.min() # Set a variable to check the minimum pressure in coloums persepective\n",
    "P_Row_Min = P_Nodes.min() # Set a variable to check the minimum pressure in rows perspective\n",
    "\n",
    "for i in P_Col_Min :      # Check the minimum pressure in coloums persepective\n",
    "    for i in P_Row_Min :  # Check the minimum pressure in rows perspective\n",
    "        if i > 20 : \n",
    "            print ('All pressures in nodes are above 20 feet')\n",
    "        else : \n",
    "            print ('Some pressures are below 20 feet. Loop Ended. Check your diameter')\n",
    "            break"
   ]
  },
  {
   "cell_type": "markdown",
   "metadata": {},
   "source": [
    "#### Make a Loop to Itteratively Change Pipe Diameter with Certain Bondaries"
   ]
  },
  {
   "cell_type": "code",
   "execution_count": 58,
   "metadata": {},
   "outputs": [
    {
     "ename": "IndentationError",
     "evalue": "unexpected indent (3648294364.py, line 12)",
     "output_type": "error",
     "traceback": [
      "\u001b[1;36m  File \u001b[1;32m\"C:\\Users\\axelh\\AppData\\Local\\Temp\\ipykernel_15980\\3648294364.py\"\u001b[1;36m, line \u001b[1;32m12\u001b[0m\n\u001b[1;33m    for j in P_Row_Min :  # Check the minimum pressure in rows perspective\u001b[0m\n\u001b[1;37m    ^\u001b[0m\n\u001b[1;31mIndentationError\u001b[0m\u001b[1;31m:\u001b[0m unexpected indent\n"
     ]
    }
   ],
   "source": [
    "new_diameter = []\n",
    "\n",
    "for i in np.arange(0, 0.4, 0.001) : \n",
    "    pipe_10.diameter = pipe_10.diameter = 0.44 - i \n",
    "    results  = sim.run_sim() \n",
    "    P_All_Nodes = results.node['pressure']\n",
    "    P_Nodes = P_All_Nodes.drop('9', axis=1)\n",
    "    P_Col_Min = P_Nodes.min() # Set a variable to check the minimum pressure in coloums persepective\n",
    "    P_Row_Min = P_Nodes.min() # Set a variable to check the minimum pressure in rows perspective\n",
    "   \n",
    "    for j in P_Col_Min :      # Check the minimum pressure in coloums persepective\n",
    "        for j in P_Row_Min :  # Check the minimum pressure in rows perspective\n",
    "            if j > 20 : \n",
    "                new_diameter.append(pipe_10.diameter) # Putting a new diameter in an array\n",
    "                continue\n",
    "            else : \n",
    "                break\n",
    "                print ('Some pressures are below 20 feet. Loop Ended. Check your diameter')\n",
    "                break"
   ]
  },
  {
   "cell_type": "code",
   "execution_count": 57,
   "metadata": {},
   "outputs": [
    {
     "data": {
      "text/plain": [
       "0.04099999999999998"
      ]
     },
     "execution_count": 57,
     "metadata": {},
     "output_type": "execute_result"
    }
   ],
   "source": [
    "min(new_diameter) # Get the minimum value of an array, which represent the minimum diameter "
   ]
  },
  {
   "cell_type": "code",
   "execution_count": null,
   "metadata": {},
   "outputs": [],
   "source": []
  }
 ],
 "metadata": {
  "kernelspec": {
   "display_name": "Python 3.9.10 64-bit (system)",
   "language": "python",
   "name": "python3"
  },
  "language_info": {
   "codemirror_mode": {
    "name": "ipython",
    "version": 3
   },
   "file_extension": ".py",
   "mimetype": "text/x-python",
   "name": "python",
   "nbconvert_exporter": "python",
   "pygments_lexer": "ipython3",
   "version": "3.9.10"
  },
  "orig_nbformat": 4,
  "vscode": {
   "interpreter": {
    "hash": "e4b0dc3f566f05bc103e1f1b3ab48badc3f605c5ba46d00ca4d445c3c8a098ce"
   }
  }
 },
 "nbformat": 4,
 "nbformat_minor": 2
}
