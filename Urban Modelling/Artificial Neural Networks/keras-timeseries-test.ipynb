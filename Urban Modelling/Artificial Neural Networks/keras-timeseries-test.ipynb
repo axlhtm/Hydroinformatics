{
 "cells": [
  {
   "cell_type": "code",
   "execution_count": null,
   "metadata": {},
   "outputs": [],
   "source": [
    "import tensorflow as tf\n",
    "from tensorflow.keras.callbacks import CSVLogger, EarlyStopping\n",
    "\n",
    "import matplotlib\n",
    "import matplotlib.pyplot as plt\n",
    "import numpy as np\n",
    "import os\n",
    "import pandas as pd\n",
    "import seaborn as sns\n",
    "import time\n",
    "import gc\n",
    "import sys\n",
    "import pickle\n",
    "\n",
    "print(f\"Tensorflow Version: {tf.__version__}\")\n",
    "print(f\"Pandas Version: {pd.__version__}\")\n",
    "print(f\"Numpy Version: {np.__version__}\")\n",
    "print(f\"System Version: {sys.version}\")\n",
    "\n",
    "matplotlib.rcParams['figure.figsize'] = (17, 5)\n",
    "matplotlib.rcParams['axes.grid'] = False\n",
    "sns.set_style(\"whitegrid\")\n",
    "\n",
    "\n",
    "def mpl_inline(): \n",
    "    rc = plt.rcParams.copy()\n",
    "    %matplotlib inline\n",
    "    plt.rcParams.update(rc)\n",
    "mpl_inline() #  A bug in IPython - does not pick up rcParams! (see https://github.com/jupyter/notebook/issues/3385)"
   ]
  },
  {
   "cell_type": "code",
   "execution_count": null,
   "metadata": {},
   "outputs": [],
   "source": [
    "past_history = 240\n",
    "future_target = 24\n",
    "TL=past_history+future_target\n",
    "# predictor index\n",
    "PRED_INDEX=2 # 3rd column (RL) is what we want to predict"
   ]
  },
  {
   "cell_type": "code",
   "execution_count": null,
   "metadata": {},
   "outputs": [],
   "source": [
    "STEP=1\n",
    "def create_time_steps(length):\n",
    "    return list(range(-length, 0))\n",
    "\n",
    "   \n",
    "def multi_step_plot(history, true_future, prediction):\n",
    "    num_in = create_time_steps(len(history))\n",
    "    num_out = len(true_future)\n",
    "\n",
    "    plt.plot(num_in, np.array(history), label='History')\n",
    "    plt.plot(np.arange(num_out)/STEP, np.array(true_future), '--gh',\n",
    "           label='True Future')\n",
    "    if prediction.any():\n",
    "        plt.plot(np.arange(num_out)/STEP, np.array(prediction), '--rh',\n",
    "                 label='Predicted Future')\n",
    "    plt.legend(loc='upper left')\n",
    "    plt.show()\n",
    "\n",
    "\n",
    "def get_window(dataset,start,back, fwd, predictor_index):\n",
    "    print(start-back, start,start,start+fwd )\n",
    "    pd=dataset[start-back:start, :]\n",
    "    fd=dataset[start:start+fwd, :]\n",
    "    print(pd[0], pd[-1],fd[0],fd[-1])\n",
    "\n",
    "    return pd, fd[:,predictor_index]"
   ]
  },
  {
   "cell_type": "code",
   "execution_count": null,
   "metadata": {},
   "outputs": [],
   "source": [
    "multi_step_model=tf.keras.models.load_model('model_good.keras')\n",
    "with open(\"model_good.param\",\"rb\") as fp:\n",
    "    data_mean, data_std = pickle.load(fp)\n",
    "    print(f\"Mean : {data_mean} and std : {data_std}\")\n"
   ]
  },
  {
   "cell_type": "code",
   "execution_count": null,
   "metadata": {},
   "outputs": [],
   "source": [
    "df = pd.read_csv('data.csv', index_col=0);\n",
    "dataset_= df.values\n",
    "dataset = (dataset_-data_mean)/data_std\n",
    "\n",
    "x, y=get_window(dataset,530,past_history,future_target, PRED_INDEX)\n",
    "multi_step_plot(x[:,PRED_INDEX], y, np.array([0]))\n"
   ]
  },
  {
   "cell_type": "code",
   "execution_count": null,
   "metadata": {},
   "outputs": [],
   "source": [
    "x, y=get_window(dataset,532,past_history,future_target, PRED_INDEX)\n",
    "multi_step_plot(x[:,PRED_INDEX], y, multi_step_model.predict(np.array([x]))[0])"
   ]
  },
  {
   "cell_type": "markdown",
   "metadata": {},
   "source": [
    "Now let us check some edge caeses (e.g. extremes)"
   ]
  },
  {
   "cell_type": "code",
   "execution_count": null,
   "metadata": {},
   "outputs": [],
   "source": [
    "maxv=dataset[:,PRED_INDEX].max()\n",
    "idm=np.where(dataset == maxv)[0][0]\n",
    "print(idm,maxv)"
   ]
  },
  {
   "cell_type": "code",
   "execution_count": null,
   "metadata": {},
   "outputs": [],
   "source": [
    "x, y=get_window(dataset,idm+3,past_history,future_target, PRED_INDEX)\n",
    "multi_step_plot(x[:,PRED_INDEX], y, multi_step_model.predict(np.array([x]))[0])"
   ]
  },
  {
   "cell_type": "code",
   "execution_count": null,
   "metadata": {},
   "outputs": [],
   "source": [
    "x, y=get_window(dataset,idm-137,past_history,future_target, PRED_INDEX)\n",
    "multi_step_plot(x[:,PRED_INDEX], y, multi_step_model.predict(np.array([x]))[0])"
   ]
  },
  {
   "cell_type": "code",
   "execution_count": null,
   "metadata": {},
   "outputs": [],
   "source": []
  }
 ],
 "metadata": {
  "kernelspec": {
   "display_name": "Python 3.10.5 64-bit (system)",
   "language": "python",
   "name": "python3"
  },
  "language_info": {
   "codemirror_mode": {
    "name": "ipython",
    "version": 3
   },
   "file_extension": ".py",
   "mimetype": "text/x-python",
   "name": "python",
   "nbconvert_exporter": "python",
   "pygments_lexer": "ipython3",
   "version": "3.10.5"
  },
  "orig_nbformat": 4,
  "vscode": {
   "interpreter": {
    "hash": "1721537060a5b8107cc7f26d404d8db36aed61f3a60e300859d12d171c7113cd"
   }
  }
 },
 "nbformat": 4,
 "nbformat_minor": 2
}
