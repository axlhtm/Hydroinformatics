{
 "cells": [
  {
   "cell_type": "markdown",
   "metadata": {},
   "source": [
    "<div>\n",
    "<table style=\"width: 100%\">\n",
    "\t<tr>\n",
    "\t\t<td>\n",
    "\t\t<table style=\"width: 100%\">\n",
    "\t\t\t<tr>\n",
    "                <td ><center><font size=\"30\">WSE-HI-03</font><center>\n",
    "                    <center><font size=\"30\">Software Engineering</font><center></td>\n",
    "\t\t\t</tr>\n",
    "\t\t\t<tr>\n",
    "                <td><center><font size=\"5\">Jupyter Notebook 8</font><center></td>\n",
    "\t\t\t</tr>\n",
    "\t\t\t<tr>\n",
    "                <td><center><font size=\"10\">Functions</font><center></td>\n",
    "\t\t\t</tr>\n",
    "\t\t</table>\n",
    "\t\t</td>\n",
    "\t\t<td><img src='figures/ihe_logo.png'></img></td>\n",
    "\t</tr>\n",
    "</table>\n",
    "</div>  "
   ]
  },
  {
   "cell_type": "markdown",
   "metadata": {},
   "source": [
    "# Introduction\n",
    "\n",
    "A function is a block of code that carry out a specific task and that can be reused when needed. A function generally need one or more inputs, which are processed to generate outputs. \n",
    "\n",
    "So far you have already used many functions. `print()`, `sqrt()` and `np.sin()` are some examples. However, you can also create your own functions. These functions are called user-defined functions.\n",
    "\n",
    "# Defining a Function\n",
    "You can define functions to take inputs and convert them into the required output. A function in Python has four parts: \n",
    "\n",
    "1. Function statement\n",
    "2. Function description (optional)\n",
    "3. Validation of inputs (optional)\n",
    "4. Computation code\n",
    "\n",
    "## 1. Function statement\n",
    "The function statement is the first line you write when creating a function. Every line of indented code below this line will be part of the function. The function statement begins with the keyword `def`, followed by: \n",
    "\n",
    "a. The function name\n",
    "\n",
    "b. arguments (or parameters) separated by commas, inside round brackets `()`\n",
    "\n",
    "c. a colon (`:`)\n",
    "\n",
    "An example of a function statement is:\n",
    "\n",
    "    def my_function(x):\n",
    "    \n",
    "where `my_function` is the name of the user-defined function.\n",
    "\n",
    "## 2. Function description (optional)\n",
    "The function description is a text that describes what the function does, what are the inputs needed, what are the input requirements, and what are the outputs produced. A good description includes also some examples of how to use it. This text is known in Python as `docstrings` and it is saved as part of the function documentation. Although this section is not compulsory, it should be always used.\n",
    "\n",
    "## 3. Validation of inputs (optional)\n",
    "The validation part consists of code to check if the provided inputs are in agreement to what the function needs. In other words, it is where the inputs entered by the user are appropriate to be used in the calculations. Although this section is not compulsory, a good validation of inputs is a must of robust and solid functions.\n",
    "\n",
    "If the inputs are not acceptable, it is possible to stop the code execution by issuing the statement `raise`. This statement is usually followed by an <i>exception</i> name, which helps to identify the type of error that occurred. Some of the base type errors are `NameError`, when the name of the variable is not defined, or `TypeError`, when the type of the variable is not of the expected one. The exceptions are functions that take as input a `str` containing the description of the error. Keep in mind that raising errors is not unique for input validation, but valid for handling errors. A description of the built-in exceptions are given in https://docs.python.org/2.7/library/exceptions.html#bltin-exceptions.\n",
    "\n",
    "## 4. Computations\n",
    "The last part of a function is actually the code required to transform the inputs to outputs. In this block, the `return` keyword is needed to \"send\" the obtained output to the line from which the function was called. If `return` is empty, or if it is not issued, the function returns `None`.\n",
    "\n",
    "Let us see an example of a function with all parts that sums up the variables `a` and `b`."
   ]
  },
  {
   "cell_type": "code",
   "execution_count": 1,
   "metadata": {},
   "outputs": [],
   "source": [
    "def my_function(a, b):\n",
    "    # Description section (documentation)\n",
    "    '''    #Use three single quotes to start the documentation\n",
    "    my_function(a,b)\n",
    "    Returns the sum of two real numbers a and b\n",
    "    Parameters:\n",
    "    ----------\n",
    "    a: int or float. The value of parameter a\n",
    "    b: int or float. The value of parameter b\n",
    "        \n",
    "    Returns:\n",
    "    -------\n",
    "    Out: int or float. The sum of a and b\n",
    "    \n",
    "    Example of usage:\n",
    "    ----------------\n",
    "    s = myfunction(4,5)\n",
    "    print(s)\n",
    "    \n",
    "    This will return 9\n",
    "    '''    #Use three single quotes to stop the documentation\n",
    "\n",
    "    # Input validation section\n",
    "   \n",
    "    if type(a) != int and type(a) != float:\n",
    "        # quit the function and any function(s) that may have called it\n",
    "        # print('a should be float!')\n",
    "        raise TypeError('a should be float!')\n",
    "        \n",
    "    if type(b) != int and type(b) != float:\n",
    "        # quit the function and any function(s) that may have called it\n",
    "        # print('b should be float!')\n",
    "        raise TypeError('b should be a float')\n",
    "        \n",
    "    # Computation section\n",
    "    result = a + b\n",
    "    \n",
    "    return result\n"
   ]
  },
  {
   "cell_type": "markdown",
   "metadata": {},
   "source": [
    "Note that at this point we have only defined the function, but we have not used it yet. Therefore, it is not possible to get any results until we use the function. \n",
    "\n",
    "To use the function (or more technically, to <b>call the function</b>) we simply write the name of the function, followed by the values for the corresponding parameters `a` and `b`, inside round brackets, in the same order as defined:"
   ]
  },
  {
   "cell_type": "code",
   "execution_count": 2,
   "metadata": {},
   "outputs": [
    {
     "name": "stdout",
     "output_type": "stream",
     "text": [
      "6\n"
     ]
    }
   ],
   "source": [
    "out = my_function(2,4)    # The function defined above will work with the arguments a=2 and b=4\n",
    "print(out)\n"
   ]
  },
  {
   "cell_type": "markdown",
   "metadata": {},
   "source": [
    "#### Note:\n",
    "The description section shows a typical Python's `docstrings`, which is used for documentation. \n",
    "Try the following code in the cell below:\n",
    "\n",
    "    help(my_function)"
   ]
  },
  {
   "cell_type": "code",
   "execution_count": 3,
   "metadata": {},
   "outputs": [
    {
     "name": "stdout",
     "output_type": "stream",
     "text": [
      "Help on function my_function in module __main__:\n",
      "\n",
      "my_function(a, b)\n",
      "    #Use three single quotes to start the documentation\n",
      "    my_function(a,b)\n",
      "    Returns the sum of two real numbers a and b\n",
      "    Parameters:\n",
      "    ----------\n",
      "    a: int or float. The value of parameter a\n",
      "    b: int or float. The value of parameter b\n",
      "        \n",
      "    Returns:\n",
      "    -------\n",
      "    Out: int or float. The sum of a and b\n",
      "    \n",
      "    Example of usage:\n",
      "    ----------------\n",
      "    s = myfunction(4,5)\n",
      "    print(s)\n",
      "    \n",
      "    This will return 9\n",
      "\n"
     ]
    }
   ],
   "source": [
    "#Your code here:\n",
    "help(my_function)\n"
   ]
  },
  {
   "cell_type": "markdown",
   "metadata": {},
   "source": [
    "# Exercise\n",
    "\n",
    "Write a function called `my_solver`, to solve the quadratic equation $ax^2+bx+c=0$. Recall that the solution is:\n",
    "\n",
    "$$x =\\frac{-b±\\sqrt{b^2 - 4ac}}{2a}$$ \n",
    "\n",
    "Before coding in the cell below, think:\n",
    "\n",
    "- What are the input arguments? How many there are?\n",
    "  There are 3 input arguments, which are: the value of a, b and c \n",
    "- What are the output arguments? How many there are?\n",
    "  There are 2 output arguments, which are: X1 and X2\n",
    "- What are the four parts needed to define the function?"
   ]
  },
  {
   "cell_type": "code",
   "execution_count": 22,
   "metadata": {},
   "outputs": [
    {
     "name": "stdout",
     "output_type": "stream",
     "text": [
      "Insert your a value here = -1\n",
      "Insert yout b value here = 2\n",
      "Insert your c value here = 5\n"
     ]
    }
   ],
   "source": [
    "#Write here the code to define the function (with all its parts!)\n",
    "import numpy as np\n",
    "a = float(input('Insert your a value here = '))\n",
    "b = float(input('Insert yout b value here = '))\n",
    "c = float(input('Insert your c value here = '))\n",
    "\n",
    "\n",
    "def my_solver(a,b,c):    \n",
    "    disc = b*b - 4*a*c\n",
    "    sqrt_disc = np.sqrt(disc)\n",
    "        \n",
    "    if sqrt_disc > 0 : \n",
    "        print (\"The value of X's are real and have different value of roots\")\n",
    "        return (\"The value of X1 is {x:0.2f} and the value of X2 is {y:0.2f}\" .format(x=(-b + sqrt_disc) / (2*a) , y=(-b - sqrt_disc) / (2*a)))\n",
    "            \n",
    "    elif sqrt_disc == 0 :\n",
    "        print(\"The value of X's are real and have same value of roots\")\n",
    "        return (\"The value of X1 and X2 are {z:0.2f}\" .format(z=(-b) / (2*a)))\n",
    "       \n",
    "    else : \n",
    "        print(\"The value of X's is imaginer\")\n"
   ]
  },
  {
   "cell_type": "code",
   "execution_count": 24,
   "metadata": {},
   "outputs": [
    {
     "name": "stdout",
     "output_type": "stream",
     "text": [
      "The value of X's are real and have different value of roots\n",
      "The value of X1 is -1.45 and the value of X2 is 3.45\n"
     ]
    }
   ],
   "source": [
    "#Write here the code to call the function\n",
    "x = my_solver (a,b,c)\n",
    "print(x)"
   ]
  },
  {
   "cell_type": "markdown",
   "metadata": {},
   "source": [
    "# Understanding mutations\n",
    "\n",
    "All parameters (arguments) in the Python language are <i>passed by reference</i>. This means that if you change a parameter within a function, this change (or mutate, to use a more geeky word) is also reflected in the outputs. \n",
    "\n",
    "Note that re-assignment of variables (which is not the same as mutation of variables) are not reflected in the outputs.\n",
    "\n",
    "For example, the following function `my_function2`, <i>mutates</i> the passed variable `a`, but it does not affect the <i>re-assigned</i> variable `b`."
   ]
  },
  {
   "cell_type": "code",
   "execution_count": 7,
   "metadata": {},
   "outputs": [],
   "source": [
    "def my_function2(a,b):\n",
    "    # Let's ignore description and validation sections for the time being...\n",
    "    \n",
    "    # Mutated variable\n",
    "    a.append(1000)\n",
    "    \n",
    "    # Re-assigned variable\n",
    "    b = 'something else'\n",
    "    \n",
    "    # See the values of the parameter inside the function\n",
    "    print('Printing a inside the function: {0}'.format(a))\n",
    "    print('Printing b inside the function: {0}'.format(b))\n",
    "    \n",
    "    return\n",
    "\n"
   ]
  },
  {
   "cell_type": "markdown",
   "metadata": {},
   "source": [
    "Let's call the function `my_function2` with some input arguments:"
   ]
  },
  {
   "cell_type": "code",
   "execution_count": 8,
   "metadata": {},
   "outputs": [
    {
     "name": "stdout",
     "output_type": "stream",
     "text": [
      "Printing a inside the function: [1, 2, 3, 1000]\n",
      "Printing b inside the function: something else\n",
      "value of the input a after running the function [1, 2, 3, 1000]\n",
      "value of the input b after running the function [1, 2, 3]\n"
     ]
    }
   ],
   "source": [
    "# define the function arguments\n",
    "inp_a = [1,2,3]\n",
    "inp_b = [1,2,3]\n",
    "\n",
    "#call the function\n",
    "my_function2(inp_a, inp_b)\n",
    "print('value of the input a after running the function {0}'.format(inp_a))\n",
    "print('value of the input b after running the function {0}'.format(inp_b))"
   ]
  },
  {
   "cell_type": "markdown",
   "metadata": {},
   "source": [
    "In other words: the function `my_function2` changed the variable `inp_a`, whereas it did nothing to the variable `inp_b`. This happens because `a` and `inp_a` are actually the same object in memory. You check this using with the `id()` command."
   ]
  },
  {
   "cell_type": "markdown",
   "metadata": {},
   "source": [
    "# Function Arguments\n",
    "You can call a function by using the following types of formal arguments:\n",
    "\n",
    "- Required arguments\n",
    "- Keyword arguments\n",
    "- Default arguments\n",
    "- Variable-length arguments\n",
    "\n",
    "## Required arguments\n",
    "\n",
    "Required arguments are the arguments passed to a function in the corresponding order. The number of arguments in the function call should match exactly with those in the function definition. If this is not the case, the function will raise an error. Required arguments must be passed, even if the computational part of the code does not use them. Check the following code:"
   ]
  },
  {
   "cell_type": "code",
   "execution_count": 9,
   "metadata": {},
   "outputs": [
    {
     "name": "stdout",
     "output_type": "stream",
     "text": [
      "1\n"
     ]
    }
   ],
   "source": [
    "# This is a function definition with required arguments\n",
    "def my_function3(a, b):\n",
    "    print(a)\n",
    "    return\n",
    "\n",
    "# Here we call the function with the required arguments\n",
    "my_function3(1,4)\n"
   ]
  },
  {
   "cell_type": "markdown",
   "metadata": {},
   "source": [
    "## Keyword arguments\n",
    "When you use keyword arguments in a function call, the caller identifies the arguments by the parameter name. In this case, it is possible to re-order the parameters. This allows you to skip arguments or place them out of order because the Python interpreter is able to use the keywords provided to match the values with parameters. Note that the keyword arguments use the same variables that were defined in the function parameters. Check the following:"
   ]
  },
  {
   "cell_type": "code",
   "execution_count": 10,
   "metadata": {},
   "outputs": [
    {
     "name": "stdout",
     "output_type": "stream",
     "text": [
      "1\n",
      "1\n"
     ]
    }
   ],
   "source": [
    "# This is a function definition with required arguments\n",
    "def my_function4(a, b):\n",
    "    print(a)\n",
    "    return\n",
    "\n",
    "# Here we call a function with the keyword arguments\n",
    "my_function4(a=1, b=2)\n",
    "\n",
    "# Here we call the function with arguments sorted in a different manner\n",
    "my_function4(b=2, a=1)"
   ]
  },
  {
   "cell_type": "markdown",
   "metadata": {},
   "source": [
    "## Default arguments\n",
    "\n",
    "These type of arguments will take a default value in case no argument is passed. These type of arguments are quite useful to reduce the amount of characters that common functions receive, and therefore, helps you simplifying your code. Check the code below:"
   ]
  },
  {
   "cell_type": "code",
   "execution_count": 11,
   "metadata": {},
   "outputs": [
    {
     "name": "stdout",
     "output_type": "stream",
     "text": [
      "value of a inside the function: 1\n",
      "value of b inside the function: 2\n",
      "\n",
      "value of a inside the function: 3\n",
      "value of b inside the function: 2\n",
      "\n",
      "value of a inside the function: 1\n",
      "value of b inside the function: 4\n",
      "\n"
     ]
    }
   ],
   "source": [
    "a = 1\n",
    "def my_function5(a=a, b=2):\n",
    "    # See the values of the parameter inside the function\n",
    "    print('value of a inside the function: {0}'.format(a))\n",
    "    print('value of b inside the function: {0}'.format(b))\n",
    "    print('')\n",
    "    return\n",
    "\n",
    "my_function5()\n",
    "my_function5(a=3)\n",
    "my_function5(b=4)\n"
   ]
  },
  {
   "cell_type": "markdown",
   "metadata": {},
   "source": [
    "## Variable-length arguments\n",
    "You may need to process a function for more arguments than you specified while defining the function. These arguments are called variable-length arguments and are not named in the function definition, unlike required and default arguments. The arguments are defined within a function with the `*` prefix, and the results will be stored in a tuple. Check this out:\n",
    "\n"
   ]
  },
  {
   "cell_type": "code",
   "execution_count": 12,
   "metadata": {},
   "outputs": [
    {
     "name": "stdout",
     "output_type": "stream",
     "text": [
      "value of a inside the function: 1\n",
      "value of b inside the function: 2\n",
      "value of the additional variables inside the function: (3, 4, 5, 6)\n",
      "\n"
     ]
    }
   ],
   "source": [
    "a = 1\n",
    "def my_function6(a=a, b=2, *vl_args):\n",
    "    # See the values of the parameter inside the function\n",
    "    print('value of a inside the function: {0}'.format(a))\n",
    "    print('value of b inside the function: {0}'.format(b))\n",
    "    print('value of the additional variables inside the function: {0}'.format(vl_args))\n",
    "    print('')\n",
    "    return\n",
    "\n",
    "my_function6(1,2,3,4,5,6)"
   ]
  },
  {
   "cell_type": "markdown",
   "metadata": {},
   "source": [
    "## Optional Keyword arguments\n",
    "\n",
    "Additionally, it is possible to pass positional arguments with keywords. This type of arguments are commonly seen in the `matplotlib` library. For passing optional keyword arguments, the variable that will store the dictionary with the variables is stored in the argument with the prefix with two asterisks `**`. The variable that is created is a dictionary that is possible to be accessed later."
   ]
  },
  {
   "cell_type": "code",
   "execution_count": 13,
   "metadata": {},
   "outputs": [
    {
     "name": "stdout",
     "output_type": "stream",
     "text": [
      "value of a inside the function: 1\n",
      "value of b inside the function: 2\n",
      "value of the optional keyword arguments inside the function: {'xx': 11, 'yy': 22}\n",
      "\n"
     ]
    }
   ],
   "source": [
    "a = 1\n",
    "def my_function7(a=a, b=2, **opt_kw):\n",
    "    # See the values of the parameter inside the function\n",
    "    print('value of a inside the function: {0}'.format(a))\n",
    "    print('value of b inside the function: {0}'.format(b))\n",
    "    print('value of the optional keyword arguments inside the function: {0}'.format(opt_kw))\n",
    "    print('')\n",
    "    return\n",
    "\n",
    "my_function7(1,2, xx=11, yy=22)"
   ]
  },
  {
   "cell_type": "markdown",
   "metadata": {},
   "source": [
    "Keep in mind that the optional arguments"
   ]
  },
  {
   "cell_type": "code",
   "execution_count": 14,
   "metadata": {},
   "outputs": [
    {
     "name": "stdout",
     "output_type": "stream",
     "text": [
      "value of a inside the function: 1\n",
      "value of b inside the function: 2\n",
      "value of the optional keyword arguments inside the function: {'xyz': 30}\n",
      "\n"
     ]
    }
   ],
   "source": [
    "xyz = 10\n",
    "my_function7(xyz=30)"
   ]
  },
  {
   "cell_type": "markdown",
   "metadata": {},
   "source": [
    "## Scope of Variables\n",
    "All variables in a program may not be accessible at all locations in that program. This depends on where you have declared a variable. The scope of a variable determines the portion of the program where you can access a particular identifier. There are two basic scopes of variables in Python\n",
    "\n",
    "- Global variables\n",
    "- Local variables\n",
    "\n",
    "Variables that are defined inside a function body have a local scope, and those defined outside have a global scope. If the variable is defined as local, it will not be possible to be accessed once the function has returned, and therefore, only available within each call.\n",
    "\n",
    "This means that local variables can be accessed only inside the function in which they are declared, whereas global variables can be accessed throughout the program body by all functions. When you call a function, the variables declared inside it are brought into scope. \n",
    "\n"
   ]
  },
  {
   "cell_type": "code",
   "execution_count": 15,
   "metadata": {},
   "outputs": [
    {
     "name": "stdout",
     "output_type": "stream",
     "text": [
      "value of a inside the function: 1\n",
      "value of b inside the function: 2\n",
      "value of the global variable zz is: 20\n",
      "value of the local variable c is: 3\n",
      "2.0\n"
     ]
    }
   ],
   "source": [
    "a = 1\n",
    "def my_function8(a=a, b=2, **opt_kw):\n",
    "    # See the values of the parameter inside the function\n",
    "    print('value of a inside the function: {0}'.format(a))\n",
    "    print('value of b inside the function: {0}'.format(b))\n",
    "    print('value of the global variable zz is: {0}'.format(zz))\n",
    "    \n",
    "    c = a + b\n",
    "    print('value of the local variable c is: {0}'.format(c))\n",
    "    \n",
    "    return\n",
    "\n",
    "zz = 20\n",
    "my_function8()\n",
    "\n",
    "# note that printing the variable c outside the function scope will \n",
    "# lead to an error as c is not defined outside the variable\n",
    "print(c)"
   ]
  },
  {
   "cell_type": "markdown",
   "metadata": {},
   "source": [
    "# Modules\n",
    "\n",
    "Modules are a way of storing functions which can be re-used from external files, and therefore, reducing the amount of lines within a script, or between them. So far you have used modules such as `numpy` or `matplotlib`. Keep in mind that to be able to use a module, the module has to be within the python path (`sys.path`), and in case its location is not available, it is possible to add it, by appending the location of the module to the path using the method `append`.\n",
    "\n",
    "To define and re-use a module, here are the steps we need to take:\n",
    "1. Open a new code in spyder and type our function there, starting from the definition (e.g. `def my_function(a,b)`)\n",
    "2. Save the file with the extension .py and with a name that will allow you to remind that it contains your function, for example let's call it `my_module.py` . You can save it in the folder where you have all the other codes (e.g. base-notebook folder) or in another folder. If you choose the latter option, read how to append the folder in the next steps\n",
    "3. Open a new code in spyder, where you want to recall your function and import the name of the module (not of the function!):\n",
    "\n",
    "    `import my_module`\n"
   ]
  },
  {
   "cell_type": "markdown",
   "metadata": {},
   "source": [
    "4. Define the input(s) of your function and call it, like in the example below:\n",
    "\n",
    "\n",
    "                import my_module\n",
    "                a = 10\n",
    "                b = 2\n",
    "                my_module.my_function(a, b)"
   ]
  },
  {
   "cell_type": "markdown",
   "metadata": {},
   "source": [
    "Note that you are using the same syntax of when you are calling numpy or matplotlib methods, whiche is\n",
    "`name_of_the_module.name_of_the_function` \n",
    "\n",
    "You can store more than one function in the same module, by simply adding the definition of the other functions below the first one. Remember to define them with different names.\n",
    "For instance, let's assume that in the module `my_module` we define three functions: `my_function(a,b)`,  `my_function2(a,b)`, `my_function3(a,b,c)`. We can call them in the same way as we did before (<b> this is just an example, do not try to run it </b>):\n",
    "\n",
    "                import my_module\n",
    "                a = 10\n",
    "                b = 2\n",
    "                c = 20\n",
    "                my_module.my_function(a, b)\n",
    "                my_module.my_function2(a, b)\n",
    "                my_module.my_function3(a, b, c)"
   ]
  },
  {
   "cell_type": "markdown",
   "metadata": {},
   "source": [
    "What if the module we just defined is not in our path? \n",
    "First, let's visualize our path by typing (<b> now you can run it </b>):"
   ]
  },
  {
   "cell_type": "code",
   "execution_count": 16,
   "metadata": {},
   "outputs": [
    {
     "name": "stdout",
     "output_type": "stream",
     "text": [
      "['D:\\\\Python3\\\\Notebook 8', 'D:\\\\Anaconda\\\\python39.zip', 'D:\\\\Anaconda\\\\DLLs', 'D:\\\\Anaconda\\\\lib', 'D:\\\\Anaconda', '', 'D:\\\\Anaconda\\\\lib\\\\site-packages', 'D:\\\\Anaconda\\\\lib\\\\site-packages\\\\locket-0.2.1-py3.9.egg', 'D:\\\\Anaconda\\\\lib\\\\site-packages\\\\win32', 'D:\\\\Anaconda\\\\lib\\\\site-packages\\\\win32\\\\lib', 'D:\\\\Anaconda\\\\lib\\\\site-packages\\\\Pythonwin', 'D:\\\\Anaconda\\\\lib\\\\site-packages\\\\IPython\\\\extensions', 'C:\\\\Users\\\\ihu001\\\\.ipython']\n"
     ]
    }
   ],
   "source": [
    "import sys\n",
    "print(sys.path)"
   ]
  },
  {
   "cell_type": "markdown",
   "metadata": {},
   "source": [
    "As an example let us load the module `my_module`, which is located in the folder `my_module_folder`. You can find the folder in the `.zip` folder that you downloaded (and unzipped) from ecampus. Make sure to unzip the folder in such a way the folder named `my_module_folder` is inside your `base_notebook` folder.\n",
    "\n",
    "To carry out this example, first we need to add the `my_module_folder` to the python path, and then, proceed to use the statement `import` to have the module functions and constants."
   ]
  },
  {
   "cell_type": "code",
   "execution_count": 17,
   "metadata": {},
   "outputs": [
    {
     "ename": "ModuleNotFoundError",
     "evalue": "No module named 'my_module'",
     "output_type": "error",
     "traceback": [
      "\u001b[1;31m---------------------------------------------------------------------------\u001b[0m",
      "\u001b[1;31mModuleNotFoundError\u001b[0m                       Traceback (most recent call last)",
      "\u001b[1;32m~\\AppData\\Local\\Temp/ipykernel_7524/2147388963.py\u001b[0m in \u001b[0;36m<module>\u001b[1;34m\u001b[0m\n\u001b[0;32m      3\u001b[0m \u001b[1;33m\u001b[0m\u001b[0m\n\u001b[0;32m      4\u001b[0m \u001b[1;31m# After this we can import the module\u001b[0m\u001b[1;33m\u001b[0m\u001b[1;33m\u001b[0m\u001b[0m\n\u001b[1;32m----> 5\u001b[1;33m \u001b[1;32mimport\u001b[0m \u001b[0mmy_module\u001b[0m\u001b[1;33m\u001b[0m\u001b[1;33m\u001b[0m\u001b[0m\n\u001b[0m\u001b[0;32m      6\u001b[0m \u001b[0mprint\u001b[0m\u001b[1;33m(\u001b[0m\u001b[0mmy_module\u001b[0m\u001b[1;33m)\u001b[0m\u001b[1;33m\u001b[0m\u001b[1;33m\u001b[0m\u001b[0m\n",
      "\u001b[1;31mModuleNotFoundError\u001b[0m: No module named 'my_module'"
     ]
    }
   ],
   "source": [
    "# we add the folder with the module to the python path\n",
    "sys.path.append('my_module_folder/')\n",
    "\n",
    "# After this we can import the module\n",
    "import my_module\n",
    "print(my_module)"
   ]
  },
  {
   "cell_type": "code",
   "execution_count": null,
   "metadata": {},
   "outputs": [],
   "source": [
    "# Let us use the functions in the module\n",
    "my_module.print_a()\n",
    "my_module.print_args(1,2,3,4)\n",
    "\n",
    "# Let us call a constant from the module\n",
    "print(my_module.c)"
   ]
  },
  {
   "cell_type": "markdown",
   "metadata": {},
   "source": [
    "# Exercises\n",
    "\n",
    "## Exercise 01 - tank function\n",
    "\n",
    "Make a function (named tank_model) that takes as input arguments:\n",
    "\n",
    "- precipitation at time t, \n",
    "- discharge at time t-1,\n",
    "- k, but make it default to 1.5\n",
    "\n",
    "and returns:\n",
    "- discharge at time t\n",
    "\n",
    "Use the same formula as in the transversal exercise\n",
    "\n",
    "to test the function, make sure it can run:\n",
    "\n",
    "    tank_model(0, 10)\n",
    "    tank_model(0, 10, 1.5)\n",
    "    \n",
    "    \n",
    "    "
   ]
  },
  {
   "cell_type": "code",
   "execution_count": null,
   "metadata": {},
   "outputs": [],
   "source": [
    "# Make the function here\n",
    "\n"
   ]
  },
  {
   "cell_type": "markdown",
   "metadata": {},
   "source": [
    "## Exercise 02 - tank function plus\n",
    "\n",
    "Now, using the previously created `tank_model`, create a new function (`tank_model_ts`) that takes as input arguments:\n",
    "\n",
    "- Precipitation time series (vector)\n",
    "- Initial discharge Q at t=0 (Q0), but if it is not specified, then un a default of Q0=10\n",
    "- k, but if it is not specified, then un a default of 1.5\n",
    "\n",
    "and that returns a time series of the discharge. To make sure it works, you can test your function with:\n",
    "    tank_model_ts([1,2,3,4])\n",
    "    tank_model_ts([1,2,3,4], 10)\n",
    "    tank_model_ts([1,2,3,4], 10, 1.5)\n",
    "\n"
   ]
  },
  {
   "cell_type": "code",
   "execution_count": null,
   "metadata": {},
   "outputs": [],
   "source": [
    "# Make the function here\n",
    "\n"
   ]
  },
  {
   "cell_type": "markdown",
   "metadata": {},
   "source": [
    "## Exercise 03 - tank module\n",
    "\n",
    "As you have developed so far two functions for the tank, turn them into a module named `tank_module`. Remember that the file which has the functions (module) is the one used for the import. Also, do not forget that the file has to be a `.py` file, and therefore, you will not be able to create it as a notebook. Instead, use Spyder to create the module.\n",
    "\n",
    "After creating the module, import it, and test it using:\n",
    "\n",
    "    tank_module.tank_model(0, 10)"
   ]
  },
  {
   "cell_type": "code",
   "execution_count": null,
   "metadata": {},
   "outputs": [],
   "source": [
    "# Build the module in spyder, and import and call it here\n"
   ]
  }
 ],
 "metadata": {
  "kernelspec": {
   "display_name": "Python 3 (ipykernel)",
   "language": "python",
   "name": "python3"
  },
  "language_info": {
   "codemirror_mode": {
    "name": "ipython",
    "version": 3
   },
   "file_extension": ".py",
   "mimetype": "text/x-python",
   "name": "python",
   "nbconvert_exporter": "python",
   "pygments_lexer": "ipython3",
   "version": "3.9.7"
  }
 },
 "nbformat": 4,
 "nbformat_minor": 2
}
