{
 "cells": [
  {
   "cell_type": "markdown",
   "metadata": {
    "raw_mimetype": "text/markdown"
   },
   "source": [
    "<div>\n",
    "<table style=\"width: 100%\">\n",
    "\t<tr>\n",
    "\t\t<td>\n",
    "\t\t<table style=\"width: 100%\">\n",
    "\t\t\t<tr>\n",
    "                <td ><center><font size=\"30\">WSE-HI-03</font><center>\n",
    "                    <center><font size=\"30\">Software Engineering</font><center></td>\n",
    "\t\t\t</tr>\n",
    "\t\t\t<tr>\n",
    "                <td><center><font size=\"5\">Jupyter Notebook 1</font><center></td>\n",
    "\t\t\t</tr>\n",
    "\t\t\t<tr>\n",
    "                <td><center><font size=\"10\">Python Essentials</font><center></td>\n",
    "\t\t\t</tr>\n",
    "\t\t</table>\n",
    "\t\t</td>\n",
    "\t\t<td><img src='figures/ihe_logo.png'></img></td>\n",
    "\t</tr>\n",
    "</table>\n",
    "</div>    "
   ]
  },
  {
   "cell_type": "markdown",
   "metadata": {},
   "source": [
    "# Table of contents\n",
    "1. [Learning objectives](#learningobs)\n",
    "2. [Python essentials](#essentials)\n",
    "3. [Mathematical expressions](#math_exp)"
   ]
  },
  {
   "cell_type": "markdown",
   "metadata": {},
   "source": [
    "# 1. Learning Objectives<a name=\"learningobs\"></a> \n",
    "\n",
    "- To familiarise with the basic features of Python, including versions and distributions\n",
    "- To get to know the basic mathematical expresssions in Python\n",
    "- To get familiar with some Python IDE's Jupyter Notebook and Spyder"
   ]
  },
  {
   "cell_type": "markdown",
   "metadata": {},
   "source": [
    "# 2. Python Essentials<a name=\"essentials\"></a>\n",
    "\n",
    "## 2.1. What is Python?\n",
    "Python is a high-level, dynamically-typed, intepreted, object-oriented programming language. \n",
    "- High-level language means that it does not handle directly memory addresses, screen pixels, or any other hardware function of the machine. High-level languages focus on usability over optimal program efficiency.\n",
    "\n",
    "\n",
    "- Dynamically-typed language are those where the type of a variable is allowed to change over its lifetime. So, variable types can change at runtime based on the variable's value at the time. For this reason, explicit declaration of variable types are not required.\n",
    "\n",
    "\n",
    "- Interpreted means that the code does not need to be compiled to be executed, as for example a C++ code.  \n",
    "\n",
    "\n",
    "- Object-oriented programming (OOP) is a computer programming model that organizes software design around data (or objects), rather than functions (or logic). An object can be defined as a data field that has unique attributes and behavior.\n",
    "\n",
    "## 2.2. Advantages\n",
    "Python has the following advantages:\n",
    "\n",
    "- It can be executed in different operative systems, including Linux, Windows, UNIX and MacOS. \n",
    "\n",
    "\n",
    "- It is a language that has a large community of developers who constantly update the language and produce libraries for all purposes. \n",
    "\n",
    "\n",
    "- It is intuitive and user-friendly, which makes it useful for different uses, from fast prototyping to complex applications.\n",
    "\n",
    "\n",
    "- It is open-source, free of charge.\n",
    "\n",
    "## 2.3. Characteristics\n",
    "\n",
    "- Python requires precise indentation (a number of spaces or tabs at the left of a line of code). Indentation is the way to define blocks of code. It indicates when the code starts and when it ends.\n",
    "\n",
    "- In Python, each <b>element is an object</b>, which means that each element has methods and properties. This feature has significant advantages that will be explored later.\n",
    "\n",
    "- Python was developed by the Dutch programmer Guido Van Rossum, who named the language after the 1970's BBC comedy series \"Monty Python's Flying Circus\". \n",
    "\n",
    "- In the last years, Python has been widely adopted by the scientific community. \n",
    "\n",
    "\n",
    "\n",
    "\n",
    "## 2.4. Python versions\n",
    "\n",
    "The Python language started with version 0.9 at the beginning of the 90's, and its development, always done by a large community, it still continuing. At the beginning of the decade of 2010's, Python 2 grew in popularity and usability. However, one update in particular brought so many structural changes, that a new branch started to be developed in parallel, Python 3. For most of the decade of 2010's, versions 2 and 3 were in use. Some developers had to ensure their applications were running in both versions, whereas others stick to the old 2.7. In November 2014, it was announced that Python 2.7 would be supported until 2020, but users were encouraged to move to Python 3 as soon as possible. On 20 April 2020, the last release of Python 2 (Python 2.7.18) was made.\n",
    "\n",
    "In case you still stumble upon a useful library in 2.7, the following could be useful.\n",
    "\n",
    "There are some differences between Python 2.x and 3.x (check [this](https://sebastianraschka.com/Articles/2014_python_2_3_key_diff.html) article for a comprehensive list). The most important ones for us are:\n",
    "\n",
    "- Names of some commands. E.g., the command 'xrange' in Python 2.x is equivalent to the command 'range' in Python 3.x \n",
    "- Commands 'print' and 'exec' are no longer expressions, but functions\n",
    "- Division '(/)' between integers; in v2.x, it is equivalent to a floor division, whereas in v3.x it is the real division.\n",
    "- Path management is simplified in v3.x. However, syntax of 2.x is still valid\n",
    "- Python 3.x avoids memory leaks from iterators (this will be explained in detail further in the course)\n",
    "- String handling is slightly different\n",
    "\n",
    "To ease the transition between python 2 and 3, it is advised that the first line of every piece of code in Python 2.x is:\n",
    "\n",
    "`from __future__ import division, print_function`\n",
    "\n",
    "This line imports the necessary libraries to make division and the print command to behave as in version 3.x. Other elements can also be imported from the `__future__` library, but will not be discussed here.\n",
    "\n",
    "\n",
    "<b>In this course we will use Python 3.7.</b>"
   ]
  },
  {
   "cell_type": "markdown",
   "metadata": {},
   "source": [
    "# 3. Mathematical expressions<a name=\"math_exp\"></a>\n",
    "## 3.1 Basic maths\n",
    "You have seen that you can use Python as a calculator. Type the following command for calculating the square root in the cell below: \n",
    "\n",
    "    sqrt(2)\n",
    "    \n",
    "What do you expect to get?"
   ]
  },
  {
   "cell_type": "code",
   "execution_count": 8,
   "metadata": {},
   "outputs": [
    {
     "ename": "NameError",
     "evalue": "name 'sqrt' is not defined",
     "output_type": "error",
     "traceback": [
      "\u001b[1;31m---------------------------------------------------------------------------\u001b[0m",
      "\u001b[1;31mNameError\u001b[0m                                 Traceback (most recent call last)",
      "\u001b[1;32m~\\AppData\\Local\\Temp/ipykernel_7400/1927173412.py\u001b[0m in \u001b[0;36m<module>\u001b[1;34m\u001b[0m\n\u001b[0;32m      1\u001b[0m \u001b[1;31m# type your code here!\u001b[0m\u001b[1;33m\u001b[0m\u001b[1;33m\u001b[0m\u001b[0m\n\u001b[1;32m----> 2\u001b[1;33m \u001b[0msqrt\u001b[0m\u001b[1;33m(\u001b[0m\u001b[1;36m2\u001b[0m\u001b[1;33m)\u001b[0m\u001b[1;33m\u001b[0m\u001b[1;33m\u001b[0m\u001b[0m\n\u001b[0m",
      "\u001b[1;31mNameError\u001b[0m: name 'sqrt' is not defined"
     ]
    }
   ],
   "source": [
    "# type your code here!\n",
    "sqrt(2)"
   ]
  },
  {
   "cell_type": "markdown",
   "metadata": {},
   "source": [
    "Note that you get the error message `NameError: name 'sqrt' is not defined`, in which the number of the line where the error was produced is also indicated (line 2).\n",
    "\n",
    "We get this error because Python does not find a reference to the function `sqrt()`. \n",
    "\n",
    "Before using this (and other maths, statistics, plot and a lot more commands), we need to `import` either a <i>module</i>, a <i>package</i> or a <i>library</i>. We will see this in detail later in the course, but for now it is useful to:\n",
    "- think of a `module` as a file that contains Python code already implemented\n",
    "- think of a `package` as sets of modules \n",
    "- think of a `library` as sets of packages. \n",
    "Different communities develop modules, packages and libraries for different purposes. \n",
    "\n",
    "One of the most used libraries is `NumPy` , which is the fundamental package for scientific computing in Python. It is used to perform mathematical operations, linear algebra, Fourier transforms, random number generation and more. Check https://numpy.org/.\n",
    "\n",
    "#### Action: \n",
    "Import the `NumPy` library by typing the following in the cell below: \n",
    "\n",
    "    import numpy as np"
   ]
  },
  {
   "cell_type": "code",
   "execution_count": 35,
   "metadata": {},
   "outputs": [],
   "source": [
    "# type your code here!\n",
    "import numpy as np"
   ]
  },
  {
   "cell_type": "markdown",
   "metadata": {},
   "source": [
    "Although it seems that there is no action, what happened is that by importing the `numpy` library (and therefore a bunch of new Python commands) a separate namespace (`np`) is created. This namespace contains all the functions that are in the numpy library. We have then imported the library, and therefore the function `sqrt` that comes with it.\n",
    "\n",
    "#### Action:\n",
    "Try again \n",
    "\n",
    "    sqrt(2)\n",
    "\n",
    "in the cell below. What do you get?"
   ]
  },
  {
   "cell_type": "code",
   "execution_count": 7,
   "metadata": {},
   "outputs": [
    {
     "ename": "NameError",
     "evalue": "name 'sqrt' is not defined",
     "output_type": "error",
     "traceback": [
      "\u001b[1;31m---------------------------------------------------------------------------\u001b[0m",
      "\u001b[1;31mNameError\u001b[0m                                 Traceback (most recent call last)",
      "\u001b[1;32m~\\AppData\\Local\\Temp/ipykernel_15036/1927173412.py\u001b[0m in \u001b[0;36m<module>\u001b[1;34m\u001b[0m\n\u001b[0;32m      1\u001b[0m \u001b[1;31m# type your code here!\u001b[0m\u001b[1;33m\u001b[0m\u001b[1;33m\u001b[0m\u001b[0m\n\u001b[1;32m----> 2\u001b[1;33m \u001b[0msqrt\u001b[0m\u001b[1;33m(\u001b[0m\u001b[1;36m2\u001b[0m\u001b[1;33m)\u001b[0m\u001b[1;33m\u001b[0m\u001b[1;33m\u001b[0m\u001b[0m\n\u001b[0m",
      "\u001b[1;31mNameError\u001b[0m: name 'sqrt' is not defined"
     ]
    }
   ],
   "source": [
    "# type your code here!\n",
    "sqrt(2)"
   ]
  },
  {
   "cell_type": "markdown",
   "metadata": {},
   "source": [
    "Yes, you get an error again, but <b>do not panic</b>. Instead, execute the following action:\n",
    "\n",
    "#### Action:\n",
    "Try the following line in the cell below. \n",
    "\n",
    "    np.sqrt(2)\n",
    "\n",
    "Can you explain what is the link between the `sqrt` command and the `NumPy` library?"
   ]
  },
  {
   "cell_type": "code",
   "execution_count": 8,
   "metadata": {},
   "outputs": [
    {
     "data": {
      "text/plain": [
       "1.4142135623730951"
      ]
     },
     "execution_count": 8,
     "metadata": {},
     "output_type": "execute_result"
    }
   ],
   "source": [
    "# type your code here!\n",
    "np.sqrt(2)"
   ]
  },
  {
   "cell_type": "markdown",
   "metadata": {},
   "source": [
    "Finally!\n",
    "\n",
    "Note that we needed to add `np.` before the actual command `sqrt`. This is because we need to tell Python that the `sqrt` function is available in the `np` namespace. In other words, we have to tell Python that the `sqrt` command is contained in the `NumPy` library, which was imported above with the alias `np`.\n",
    "\n",
    "Note we could have used any other alias. However, it is a widely accepted practice in the Python community to use `np` as the alias for `NumPy`.\n",
    "\n",
    "As you can see, the `NumPy` library can be used to calculate the square root (`sqrt`) of a number. In fact there are many elementary functions that you can simply type the same way as its mathematical form, like: \n",
    "    \n",
    "    sin \n",
    "    cos \n",
    "    exp \n",
    "    round \n",
    "    log \n",
    "    log10\n",
    "\n",
    "`NumPy` also contains definition of constants such as `pi` ($\\pi$), `e` (Euler's constant) and `inf` (positive infinite).\n",
    "\n",
    "<b> Note: The number $\\pi$ cannot be represented exactly as a floating-point number. This means that `np.radians(180)` is not exactly $\\pi$, but 3.1415926535897931, and `sin(3.1415926535897931)` is something like `1.22e-16`, instead of `0`. </b>\n",
    "\n",
    "\n",
    "\n",
    "### Exercise 1: \n",
    "Use a Python expression in the cell below to calculate the cosine of $\\pi$/3"
   ]
  },
  {
   "cell_type": "code",
   "execution_count": 51,
   "metadata": {},
   "outputs": [
    {
     "name": "stdout",
     "output_type": "stream",
     "text": [
      "Then the answer will be 0.50\n"
     ]
    }
   ],
   "source": [
    "# type your code here!\n",
    "a = np.pi/3 \n",
    "b = np.cos(a)\n",
    "\n",
    "print('Then the answer will be {c:0.2f}' .format(c=b))"
   ]
  },
  {
   "cell_type": "markdown",
   "metadata": {},
   "source": [
    "Python provides a series of built-in operations to common data types to build simple mathematical expressions:\n",
    "\n",
    "    Plus: + \n",
    "    Minus: -\n",
    "    Multiplication: * \n",
    "    Division: /\n",
    "    Power: **\n",
    "    Brackets: ()\n",
    "\n",
    "Keep in mind that the operations that are carried out depend on the data types of the operators. In consequence, data-type mixtures can bring up unexpected results. For example:\n",
    "\n",
    "    '1' + '1'  is adding two strings, which is equivalent to concatenate them:\n",
    "    > '11'\n",
    "\n",
    "    1 + 1  is adding two integers, result is an integer:\n",
    "    > 2\n",
    "\n",
    "    1.0 + 1.0  is adding two float numbers, result is a float:\n",
    "    > 2.0\n",
    "\n",
    "    [1,] + [1,]  is combining two lists, result is another list:\n",
    "    > [1, 1]\n",
    "\n",
    "\n",
    "We shall see lists and other special types later in the course. For the time being it is useful to kwow that numbers can be entered either as plain numbers such as `8000`, `-8.0`, or in scientific format, such as `3e10` (3x10^10) or `3e-10` (3.0x10^-10)."
   ]
  },
  {
   "cell_type": "markdown",
   "metadata": {},
   "source": [
    "### Exercise 2\n",
    "\n",
    "Type in the cell below an expression to find out how many seconds are there in a 365-day year."
   ]
  },
  {
   "cell_type": "code",
   "execution_count": 9,
   "metadata": {},
   "outputs": [
    {
     "data": {
      "text/plain": [
       "31536000"
      ]
     },
     "execution_count": 9,
     "metadata": {},
     "output_type": "execute_result"
    }
   ],
   "source": [
    "# type your code here!\n",
    "365*24*60*60"
   ]
  },
  {
   "cell_type": "markdown",
   "metadata": {},
   "source": [
    "### Exercise 3 \n",
    "The Earth can be approximated as a sphere with a radius of 6370 km. Use the cell below to find out the volume of such a shape in cubic meters."
   ]
  },
  {
   "cell_type": "code",
   "execution_count": 40,
   "metadata": {},
   "outputs": [
    {
     "name": "stdout",
     "output_type": "stream",
     "text": [
      "1.082697e+12\n"
     ]
    }
   ],
   "source": [
    "# type your code here!\n",
    "r = 6370 \n",
    "\n",
    "a = 4/3*np.pi*r**3\n",
    "\n",
    "b =\"{:e}\".format(a)\n",
    "\n",
    "print (b)\n",
    "\n"
   ]
  },
  {
   "cell_type": "markdown",
   "metadata": {},
   "source": [
    "### Exercise 4 \n",
    "Get the answer of the following expression:\n",
    "\n",
    "$$\\frac{1}{2}+\\frac{\\frac{1}{3}}{\\frac{1}{4}+\\frac{1}{5}}$$"
   ]
  },
  {
   "cell_type": "code",
   "execution_count": 52,
   "metadata": {},
   "outputs": [
    {
     "name": "stdout",
     "output_type": "stream",
     "text": [
      "The answer will be 1.2407\n"
     ]
    }
   ],
   "source": [
    "# type your code here!\n",
    "a = 1/2 + (1/3)/(1/4+1/5)\n",
    "print('The answer will be {b:0.4f}' .format(b=a))"
   ]
  },
  {
   "cell_type": "markdown",
   "metadata": {},
   "source": [
    "## 3.2 Using variables in mathematical expressions\n",
    "\n",
    "Variables are used to store values in memory, in order to use them in further expressions. Try the following in the cell below:\n",
    "\n",
    "    a = 8\n",
    "    b = 12\n",
    "    c = a + b"
   ]
  },
  {
   "cell_type": "code",
   "execution_count": 59,
   "metadata": {},
   "outputs": [],
   "source": [
    "# type your code here\n",
    "a = 8"
   ]
  },
  {
   "cell_type": "code",
   "execution_count": 60,
   "metadata": {},
   "outputs": [],
   "source": [
    "b = 12"
   ]
  },
  {
   "cell_type": "code",
   "execution_count": 61,
   "metadata": {},
   "outputs": [
    {
     "name": "stdout",
     "output_type": "stream",
     "text": [
      "20\n"
     ]
    }
   ],
   "source": [
    "c = a+b \n",
    "print (c)"
   ]
  },
  {
   "cell_type": "markdown",
   "metadata": {},
   "source": [
    "As you can imagine, `c` takes the value of `20`. However, the result is not shown. To show its value, print it. Do it by adding the following line at the end of the code in the cell above:\n",
    "\n",
    "    print(c)\n",
    "\n",
    "In Python it is possible to give identifiers (names) to variables, but some rules must be followed. \n",
    "\n",
    "1. Variable names should always start with a letter followed by:\n",
    "\n",
    " - More letters\n",
    " - Underscores `_`\n",
    " - Numbers\n",
    "\n",
    "For example, the following variables can be accepted: \n",
    "  \n",
    "    x\n",
    "    y\n",
    "    z\n",
    "    x_1\n",
    "    a_long_varilable_name\n",
    "\n",
    "It is also possible to use underscores as a starting character. However, this will be reserved for \"private\" references inside objects and functions. This will be discussed in the lesson about object-oriented programming.\n",
    "\n",
    "2. Symbols such as `@, #, %`, etc., cannot be added to variable names.\n",
    "\n",
    "3. Python reserved names cannot be used as variable names.  These reserved names are: </b>\n",
    "\n",
    "    and\n",
    "    as\n",
    "    assert\n",
    "    break\n",
    "    class\n",
    "    continue\n",
    "    def\n",
    "    del\n",
    "    elif\n",
    "    else\n",
    "    except\n",
    "    exec\n",
    "    finally\n",
    "    for\n",
    "    from\n",
    "    global\n",
    "    if\n",
    "    import\n",
    "    in\n",
    "    is\n",
    "    lambda\n",
    "    not\n",
    "    or\n",
    "    pass\n",
    "    print\n",
    "    raise\n",
    "    range\n",
    "    return\n",
    "    try\n",
    "    while\n",
    "    with\n",
    "    yield\n",
    "    \n",
    "#### Notes: \n",
    "- You do not need to remember these reserved names. Notebook Jupyter, Spyder and other IDE's will highlight the reserved names when you type them.\n",
    "- Be aware of the keyword `lambda`, which could easily be mistakenly used as a variable name in a scientific program.\n",
    "- Python is case-sensitive. So variable `x` is NOT the same as variable `X`.\n",
    "- Do not use spaces in variable names. Python will manipulate them differently.\n",
    "- It is a good practice to keep the name of your variables in lower case, and separated using underscores\n",
    "- Use meaningful names, but not too long: `nw_bike` is a better name than `bike` and also better than `number_of_wheels_used_by_a_bycicle`."
   ]
  },
  {
   "cell_type": "markdown",
   "metadata": {},
   "source": [
    "## 3.3 Statements\n",
    "\n",
    "The commands you have typed so far are known as <i>statements</i>. Simply speaking, a statement is an instruction that combines operators and expressions to achieve certain goal. For example: \n",
    "\n",
    "- Assign a value to a variable, as you did above when assigning the value `8` to variable `a`, `12` to variable `b`, etc.\n",
    "- Call a function and store the return value in a variable, as in the following action:\n",
    "    \n",
    "#### Action\n",
    "Type the following statements in the cell below:\n",
    "\n",
    "    x = np.sqrt(2)\n",
    "    y = np.sqrt(3)\n",
    "    print(x)\n",
    "    print(y)"
   ]
  },
  {
   "cell_type": "code",
   "execution_count": 30,
   "metadata": {},
   "outputs": [
    {
     "name": "stdout",
     "output_type": "stream",
     "text": [
      "then the value of x will be 1.4142\n",
      "then the value of y will be 1.7321\n"
     ]
    }
   ],
   "source": [
    "# type your code here!\n",
    "x = np.sqrt(2)\n",
    "y = np.sqrt(3)\n",
    "print('then the value of x will be {a:0.4f}' .format (a=x))\n",
    "print('then the value of y will be {b:0.4f}' .format (b=y))"
   ]
  },
  {
   "cell_type": "markdown",
   "metadata": {},
   "source": [
    "#### Action\n",
    "\n",
    "Now, let's make a mistake on purpose. Suppose we want to check/use variable `x`, but mistakenly refer to it by `X` (capital X).\n",
    "\n",
    "    print(X)"
   ]
  },
  {
   "cell_type": "code",
   "execution_count": 69,
   "metadata": {},
   "outputs": [
    {
     "ename": "NameError",
     "evalue": "name 'X' is not defined",
     "output_type": "error",
     "traceback": [
      "\u001b[1;31m---------------------------------------------------------------------------\u001b[0m",
      "\u001b[1;31mNameError\u001b[0m                                 Traceback (most recent call last)",
      "\u001b[1;32m~\\AppData\\Local\\Temp/ipykernel_7400/2297648175.py\u001b[0m in \u001b[0;36m<module>\u001b[1;34m\u001b[0m\n\u001b[0;32m      1\u001b[0m \u001b[1;31m# type your code here!\u001b[0m\u001b[1;33m\u001b[0m\u001b[1;33m\u001b[0m\u001b[0m\n\u001b[1;32m----> 2\u001b[1;33m \u001b[0mprint\u001b[0m\u001b[1;33m(\u001b[0m\u001b[0mX\u001b[0m\u001b[1;33m)\u001b[0m\u001b[1;33m\u001b[0m\u001b[1;33m\u001b[0m\u001b[0m\n\u001b[0m",
      "\u001b[1;31mNameError\u001b[0m: name 'X' is not defined"
     ]
    }
   ],
   "source": [
    "# type your code here!\n",
    "print(X)"
   ]
  },
  {
   "cell_type": "markdown",
   "metadata": {},
   "source": [
    "You get a message indicating an error. The last line indicates the reason of the error:\n",
    "\n",
    "    NameError: name 'X' is not defined\n",
    "\n",
    "<b>Note: this is the first time you get this error, but surely it will not be the last one. This is perhaps the most common error you can make in Python, and it is mainly due to typos. Type the names of your variables and functions correctly!</b>\n"
   ]
  },
  {
   "cell_type": "markdown",
   "metadata": {},
   "source": [
    "As you have seen, Python prints out error messages when something is not right. Some aspects about errors:\n",
    "\n",
    "- Error messages show the number of the line of code, and the module or library where the error occurred. Although these are not always completely accurate, they give you an idea of the line of code that is causing the error.\n",
    "\n",
    "- Python has several types of errors; among others, they can be related to syntax, indexing, indentation, wrong types, etc.\n",
    "\n",
    "- When confronted to errors, read them well. Try to understand what happens. Sometimes this requires some googling (you will see you are not the only one with the same problem).\n",
    "\n",
    "### Exercise 5 \n",
    "\n",
    "Work out the Euclidian distance between two points `(x1, y1)` and `(x2, y2)` on a 2D plane. Use the following variable names and values:\n",
    "\n",
    "    x1 = 1\n",
    "    y1 = 1\n",
    "    x2 = 3\n",
    "    y2 = 4 \n",
    "\n",
    "Try other values defined by you."
   ]
  },
  {
   "cell_type": "code",
   "execution_count": 29,
   "metadata": {},
   "outputs": [
    {
     "name": "stdout",
     "output_type": "stream",
     "text": [
      "Then the value of the Eculidian distance between those points is 3.6056\n"
     ]
    }
   ],
   "source": [
    "# type your code here!\n",
    "x1 = 1\n",
    "y1 = 1\n",
    "x2 = 3\n",
    "y2 = 4 \n",
    "\n",
    "dist=np.sqrt((x2-x1)**2+(y2-y1)**2)\n",
    "\n",
    "print('Then the value of the Eculidian distance between those points is {a:0.4f}' .format (a=dist))"
   ]
  },
  {
   "cell_type": "markdown",
   "metadata": {},
   "source": [
    "### Exercise 6 \n",
    "Find the roots of the quadratic equation \n",
    "\n",
    "$$ax^2 + bx + c = 0$$\n",
    "\n",
    "where $a=1$, $b=8$ and $c=4$. You may remember that: \n",
    "\n",
    "$$x =\\frac{-b±\\sqrt{b^2 - 4ac}}{2a}$$ \n",
    "\n",
    "Use variables instead of a direct calculation."
   ]
  },
  {
   "cell_type": "code",
   "execution_count": 50,
   "metadata": {},
   "outputs": [
    {
     "name": "stdout",
     "output_type": "stream",
     "text": [
      "Then the value of x can be defined as -0.5359 and also can be defined as -7.4641\n"
     ]
    }
   ],
   "source": [
    "# Type your code here!\n",
    "a = 1 \n",
    "b = 8 \n",
    "c = 4 \n",
    "\n",
    "x1 = (-b+np.sqrt(b**2-4*a*c))/2*a\n",
    "x2 = (-b-np.sqrt(b**2-4*a*c))/2*a\n",
    "\n",
    "print('Then the value of x can be defined as {a:0.4f} and also can be defined as {b:0.4f}' .format (a=x1, b=x2))\n"
   ]
  },
  {
   "cell_type": "markdown",
   "metadata": {},
   "source": [
    "## 5. Spyder IDE (Interactive Development Environment)<a name=\"spyder_IDE\"></a>\n",
    "\n",
    "Just as the Jupyer Notebook, Spyder IDE is a platform to code in Python that is included in Anaconda Navigator. Spyder is useful to develop complex programming tasks, because it allows to edit Python files, debug code, access and structure project folders, keep track of variable values, and many other functions.    \n",
    "\n",
    "#### Action\n",
    "Start Spyder by clicking the Windows’ start button, writing down 'Spyder' and pressing ENTER. You should be able a window similar as the one shown below. \n",
    "\n",
    "![](figures\\Spyder_gui.png)\n",
    "\n",
    "As you can see, the Spyder Interface is divided into many sub-windows, called panes, described below.\n",
    "\n",
    "<b>Editor</b>: located by default at the left side of the window. This pane is where the user can write several lines of code without evaluating them. Once the user is satisfied with all the lines, they can all be run at once. It allows to save these lines of code and access them later. Additionally, it provides context information that can help you writing your code, such as syntax highlight (colours), automatic spacing correction, autocomplete, etc.\n",
    "\n",
    "<b>Python console</b> (or IPython console): This pane is the place where the user can write Python commands <i>line by line</i>, and where the resulting output is shown. In the console, each line is executed immediately.\n",
    "\n",
    "<b>Variable Explorer</b>: You can click the tab <i>Variable Explorer</i> to show this pane. It shows the variables currently residing in the memory and that are accessible in the console. The variable types, their sizes and values are also shown there. Note that although most of the variable types are shown in the explorer, not all variables are visualised by default. \n",
    "\n",
    "<b>Help</b>: This pane provides access to the documentation of the modules, as written in something called docstrings (we will see this further in the course).\n",
    "\n",
    "<b>File Explorer</b>: This pane shows the content of the folder where you are currently working. You can create and access subfolders in this window, rename files, etc. You can also navigate to other folders if you like. Files with extensions recognised by Python (e.g., .py), can be opened by double clicking them in the file explorer. People experienced with Matlab can think about the File explorer as the Matlab’s Current Folder.\n",
    "\n",
    "<b>History log</b>: The history log is one of the tabs in the bottom right of the screen by default. This pane contains all the commands typed in by user in the console. It allows you to check the previously typed commands, and copy one or more of them. People experienced with Matlab can think about the History log as the Matlab’s Command History.\n",
    "\n",
    "All these panes can be minimized, maximized and closed. \n",
    "\n",
    "#### Note\n",
    "If you close a pane by accident, you will always be able to open it in the menu View - Panes. You can also choose one of the predefined pane layouts in the View menu. To reset the view to the original, `view\\window layouts\\Spyder default layout`\n",
    "\n",
    "#### Action: \n",
    "Use the introduction tour to visualise the Spyder features 'Help\\Interactive tours\\Introduction tour'"
   ]
  }
 ],
 "metadata": {
  "celltoolbar": "Raw Cell Format",
  "kernelspec": {
   "display_name": "Python 3 (ipykernel)",
   "language": "python",
   "name": "python3"
  },
  "language_info": {
   "codemirror_mode": {
    "name": "ipython",
    "version": 3
   },
   "file_extension": ".py",
   "mimetype": "text/x-python",
   "name": "python",
   "nbconvert_exporter": "python",
   "pygments_lexer": "ipython3",
   "version": "3.9.7"
  }
 },
 "nbformat": 4,
 "nbformat_minor": 2
}
