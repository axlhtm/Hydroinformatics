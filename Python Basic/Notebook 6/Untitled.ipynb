{
 "cells": [
  {
   "cell_type": "code",
   "execution_count": 40,
   "id": "5d75c077",
   "metadata": {},
   "outputs": [
    {
     "ename": "SyntaxError",
     "evalue": "invalid syntax (Temp/ipykernel_5680/2066837086.py, line 27)",
     "output_type": "error",
     "traceback": [
      "\u001b[1;36m  File \u001b[1;32m\"C:\\Users\\ihu001\\AppData\\Local\\Temp/ipykernel_5680/2066837086.py\"\u001b[1;36m, line \u001b[1;32m27\u001b[0m\n\u001b[1;33m    else\u001b[0m\n\u001b[1;37m         ^\u001b[0m\n\u001b[1;31mSyntaxError\u001b[0m\u001b[1;31m:\u001b[0m invalid syntax\n"
     ]
    }
   ],
   "source": [
    "da = 22               ## INSERT YOUR AGE HERE\n",
    "na = 2                ## INSERT YOUR NO. ACCIDENTS HERE\n",
    "###############\n",
    "if da > 25 : \n",
    "    bi = 500 \n",
    "    if na == 0 :\n",
    "        bi = bi + 0\n",
    "        print('Your age is {} and No. of accidents that you had is {}, therefore the number of money that you need to pay is {}' .format(da,na,bi))\n",
    "    if na == 1 :\n",
    "        bi = bi + 50\n",
    "        print('Your age is {} and No. of accidents that you had is {}, therefore the number of money that you need to pay is {}' .format(da,na,bi))\n",
    "    if na == 2 :\n",
    "        bi = bi + 10\n",
    "        print('Your age is {} and No. of accidents that you had is {}, therefore the number of money that you need to pay is {}' .format(da,na,bi))\n",
    "    if na == 3 :\n",
    "        bi = bi + 150\n",
    "        print('Your age is {} and No. of accidents that you had is {}, therefore the number of money that you need to pay is {}' .format(da,na,bi))\n",
    "    if na == 4 :\n",
    "        bi = bi + 200\n",
    "        print('Your age is {} and No. of accidents that you had is {}, therefore the number of money that you need to pay is {}' .format(da,na,bi))\n",
    "    if na == 5 :\n",
    "        bi = bi + 250\n",
    "        print('Your age is {} and No. of accidents that you had is {}, therefore the number of money that you need to pay is {}' .format(da,na,bi))\n",
    "    if na >= 5 :\n",
    "        print('Due to number of accidents that you had, you can not get an insurance')\n",
    "\n",
    "if da < 25 : \n",
    "    bi = 500+100\n",
    "    if na == 0 :\n",
    "        bi = bi + 0\n",
    "        print('Your age is {} and No. of accidents that you had is {}, therefore the number of money that you need to pay is {}' .format(da,na,bi))\n",
    "    if na == 1 :\n",
    "        bi = bi + 50\n",
    "        print('Your age is {} and No. of accidents that you had is {}, therefore the number of money that you need to pay is {}' .format(da,na,bi))\n",
    "    if na == 2 :\n",
    "        bi = bi + 10\n",
    "        print('Your age is {} and No. of accidents that you had is {}, therefore the number of money that you need to pay is {}' .format(da,na,bi))\n",
    "    if na == 3 :\n",
    "        bi = bi + 150\n",
    "        print('Your age is {} and No. of accidents that you had is {}, therefore the number of money that you need to pay is {}' .format(da,na,bi))\n",
    "    if na == 4 :\n",
    "        bi = bi + 200\n",
    "        print('Your age is {} and No. of accidents that you had is {}, therefore the number of money that you need to pay is {}' .format(da,na,bi))\n",
    "    if na == 5 :\n",
    "        bi = bi + 250\n",
    "        print('Your age is {} and No. of accidents that you had is {}, therefore the number of money that you need to pay is {}' .format(da,na,bi))\n",
    "    if na >= 5 :\n",
    "        print('Due to number of accidents that you had, you can not get an insurance')"
   ]
  },
  {
   "cell_type": "code",
   "execution_count": null,
   "id": "5cf31055",
   "metadata": {},
   "outputs": [],
   "source": []
  },
  {
   "cell_type": "code",
   "execution_count": null,
   "id": "f526256f",
   "metadata": {},
   "outputs": [],
   "source": []
  }
 ],
 "metadata": {
  "kernelspec": {
   "display_name": "Python 3 (ipykernel)",
   "language": "python",
   "name": "python3"
  },
  "language_info": {
   "codemirror_mode": {
    "name": "ipython",
    "version": 3
   },
   "file_extension": ".py",
   "mimetype": "text/x-python",
   "name": "python",
   "nbconvert_exporter": "python",
   "pygments_lexer": "ipython3",
   "version": "3.9.7"
  }
 },
 "nbformat": 4,
 "nbformat_minor": 5
}
