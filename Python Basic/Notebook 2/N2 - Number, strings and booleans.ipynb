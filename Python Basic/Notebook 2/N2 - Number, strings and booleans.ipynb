{
 "cells": [
  {
   "cell_type": "markdown",
   "metadata": {},
   "source": [
    "<div>\n",
    "<table style=\"width: 100%\">\n",
    "\t<tr>\n",
    "\t\t<td>\n",
    "\t\t<table style=\"width: 100%\">\n",
    "\t\t\t<tr>\n",
    "                <td ><center><font size=\"30\">WSE-HI-03</font><center>\n",
    "                    <center><font size=\"30\">Software Engineering</font><center></td>\n",
    "\t\t\t</tr>\n",
    "\t\t\t<tr>\n",
    "                <td><center><font size=\"5\">Jupyter Notebook 2</font><center></td>\n",
    "\t\t\t</tr>\n",
    "\t\t\t<tr>\n",
    "                <td><center><font size=\"10\">Number, strings and booleans</font><center></td>\n",
    "\t\t\t</tr>\n",
    "\t\t</table>\n",
    "\t\t</td>\n",
    "\t\t<td><img src='figures/ihe_logo.png'></img></td>\n",
    "\t</tr>\n",
    "</table>\n",
    "</div>    "
   ]
  },
  {
   "cell_type": "markdown",
   "metadata": {},
   "source": [
    "# Table of contents\n",
    "1. [Learning objectives](#learningobs)\n",
    "2. [Introduction](#introduction)\n",
    "3. [Python data-types ](#data_types)\n",
    "\n",
    "    3.1. [Numbers](#numbers)\n",
    "    \n",
    "    3.2. [Strings](#strings)\n",
    "    \n",
    "    3.3. [Booleans](#booleans)\n",
    "\n",
    "\n",
    "## 1. Learning objectives<a name=\"learningobs\"></a>\n",
    "\n",
    "At the end of this session you will be able to:\n",
    "- Identify the main data types used in Python\n",
    "- List the differences among the different data types\n",
    "- Access and modify (when possible) data from the different types of variables\n",
    "\n",
    "\n",
    "## 2. Introduction<a name=\"introduction\"></a>\n",
    "\n",
    "Data can have different types. Data types determines how a variable behaves and how it is stored by the system. In traditional programming languages such as C++, a variable must be declared before using it. This declaration explicitly assigns a type of data to the variable. In Python, however, it is not necessary (although it is possible), to explicitly declare the data types of variables. Instead, Python is able to automatically interpret which type is required, and what kinds of operations are possible.\n",
    "\n",
    "\n",
    "## 3. Python data-types  <a name=\"data_types\"></a>\n",
    "\n",
    "Python has bult-in data types, which include:\n",
    "\n",
    "- Numbers (Integers, Floating point, Complex)\n",
    "- Strings (Strings, Escape sequences)\n",
    "- Booleans (Bool)\n",
    "- Sequences (Lists, Tuples, Generators)\n",
    "- Sets (Sets, Frozen sets)\n",
    "- Mappings (Dictionaries, Enumerate)\n",
    "- Functions (Functions, Lambda functions)\n",
    "\n",
    "Additional types exist for different libraries. For example, `Numpy` has the type `array`. To inspect what type is a variable, we can use the function `type`.\n",
    "\n",
    "<b>Note:</b> Python data-types is covered in three different notebooks: Introduction to Python data-types (the notebook you are now reading), Sequences and Mappings, Arrays.\n",
    "\n",
    "## 3.1. Numbers<a name=\"numbers\"></a>\n",
    "\n",
    "The main types used for numbers are Integer (`int`), Floating point (`float`) and Complex (`complex`). Examples:\n",
    "\n",
    "    int\n",
    "    a = 10\n",
    "\n",
    "    float\n",
    "    a = 10.0\n",
    "\n",
    "    complex\n",
    "    a = 10.0+0j\n",
    "\n",
    "### Action\n",
    "Type each of the previous numbers in the cell below and retrieve its data type by using the `type` command."
   ]
  },
  {
   "cell_type": "code",
   "execution_count": 9,
   "metadata": {},
   "outputs": [
    {
     "data": {
      "text/plain": [
       "int"
      ]
     },
     "execution_count": 9,
     "metadata": {},
     "output_type": "execute_result"
    }
   ],
   "source": [
    "# Type your code here!\n",
    "a = 10\n",
    "type(a)"
   ]
  },
  {
   "cell_type": "code",
   "execution_count": 7,
   "metadata": {},
   "outputs": [
    {
     "data": {
      "text/plain": [
       "float"
      ]
     },
     "execution_count": 7,
     "metadata": {},
     "output_type": "execute_result"
    }
   ],
   "source": [
    "b = 10.0\n",
    "type(b)"
   ]
  },
  {
   "cell_type": "code",
   "execution_count": 8,
   "metadata": {},
   "outputs": [
    {
     "data": {
      "text/plain": [
       "complex"
      ]
     },
     "execution_count": 8,
     "metadata": {},
     "output_type": "execute_result"
    }
   ],
   "source": [
    "c = 10.0+0j\n",
    "type(c)"
   ]
  },
  {
   "cell_type": "markdown",
   "metadata": {},
   "source": [
    "\n",
    "## 3.2 Strings<a name=\"strings\"></a>\n",
    "\n",
    "Strings are a sequence of characters. A string variable only requires that the value that is being assigned is between quotes, both single (`'`) or double (`\"`). For example:\n",
    "\n",
    "    a = '10'\n",
    "    a = \"10\"\n",
    "\n",
    "In this case, the value of `a` is not the <i> numerical value</i> `10`, but instead the sequence of characters `1` and `0`.\n",
    "\n",
    "### Action\n",
    "\n",
    "Type the following in the cell below:\n",
    "\n",
    "    a = '10'\n",
    "    a + 2"
   ]
  },
  {
   "cell_type": "code",
   "execution_count": 32,
   "metadata": {},
   "outputs": [
    {
     "ename": "NameError",
     "evalue": "name 'true' is not defined",
     "output_type": "error",
     "traceback": [
      "\u001b[1;31m---------------------------------------------------------------------------\u001b[0m",
      "\u001b[1;31mNameError\u001b[0m                                 Traceback (most recent call last)",
      "\u001b[1;32m~\\AppData\\Local\\Temp/ipykernel_3032/61885837.py\u001b[0m in \u001b[0;36m<module>\u001b[1;34m\u001b[0m\n\u001b[1;32m----> 1\u001b[1;33m \u001b[0ma\u001b[0m \u001b[1;33m=\u001b[0m \u001b[0mtrue\u001b[0m\u001b[1;33m\u001b[0m\u001b[1;33m\u001b[0m\u001b[0m\n\u001b[0m\u001b[0;32m      2\u001b[0m \u001b[0mb\u001b[0m \u001b[1;33m=\u001b[0m \u001b[1;32mnot\u001b[0m\u001b[1;33m(\u001b[0m\u001b[0ma\u001b[0m\u001b[1;33m)\u001b[0m\u001b[1;33m\u001b[0m\u001b[1;33m\u001b[0m\u001b[0m\n\u001b[0;32m      3\u001b[0m \u001b[0mprint\u001b[0m\u001b[1;33m(\u001b[0m\u001b[0mb\u001b[0m\u001b[1;33m)\u001b[0m\u001b[1;33m\u001b[0m\u001b[1;33m\u001b[0m\u001b[0m\n",
      "\u001b[1;31mNameError\u001b[0m: name 'true' is not defined"
     ]
    }
   ],
   "source": [
    "a = true\n",
    "b = not(a)\n",
    "print(b)"
   ]
  },
  {
   "cell_type": "code",
   "execution_count": 33,
   "metadata": {},
   "outputs": [
    {
     "ename": "TypeError",
     "evalue": "can only concatenate str (not \"int\") to str",
     "output_type": "error",
     "traceback": [
      "\u001b[1;31m---------------------------------------------------------------------------\u001b[0m",
      "\u001b[1;31mTypeError\u001b[0m                                 Traceback (most recent call last)",
      "\u001b[1;32m~\\AppData\\Local\\Temp/ipykernel_3032/452464024.py\u001b[0m in \u001b[0;36m<module>\u001b[1;34m\u001b[0m\n\u001b[0;32m      1\u001b[0m \u001b[1;31m# Type your code here!\u001b[0m\u001b[1;33m\u001b[0m\u001b[1;33m\u001b[0m\u001b[0m\n\u001b[0;32m      2\u001b[0m \u001b[0ma\u001b[0m \u001b[1;33m=\u001b[0m \u001b[1;34m'10'\u001b[0m\u001b[1;33m\u001b[0m\u001b[1;33m\u001b[0m\u001b[0m\n\u001b[1;32m----> 3\u001b[1;33m \u001b[0mb\u001b[0m \u001b[1;33m=\u001b[0m \u001b[0ma\u001b[0m \u001b[1;33m+\u001b[0m \u001b[1;36m20\u001b[0m\u001b[1;33m\u001b[0m\u001b[1;33m\u001b[0m\u001b[0m\n\u001b[0m\u001b[0;32m      4\u001b[0m \u001b[0mprint\u001b[0m\u001b[1;33m(\u001b[0m\u001b[0mb\u001b[0m\u001b[1;33m)\u001b[0m\u001b[1;33m\u001b[0m\u001b[1;33m\u001b[0m\u001b[0m\n",
      "\u001b[1;31mTypeError\u001b[0m: can only concatenate str (not \"int\") to str"
     ]
    }
   ],
   "source": [
    "# Type your code here!\n",
    "a = '10'\n",
    "b = a + 20\n",
    "print(b)"
   ]
  },
  {
   "cell_type": "markdown",
   "metadata": {},
   "source": [
    "As you can see, `a + 2` will result in a <i>type</i> error: `TypeError: can only concatenate str (not \"int\") to str`. \n",
    "\n",
    "Note the following:\n",
    " - It is not possible to execute the `+` operation between objects of different types;\n",
    " - If `a` was a number, then `+` would perform the summation `10+2`=`12`; \n",
    " - If the number `2` would have been instead the string `'2'`, then `+` would perform a <i>concatenation</i>, i.e., an operation that <i>glues</i> the strings `'10'` and `'2'` together, resulting in the sequence of characters `'102'`.\n",
    "\n",
    "### Action\n",
    "What if the number `2` would have been instead the number `2.0`? Feel free to experiment these expressions in the same cell below."
   ]
  },
  {
   "cell_type": "code",
   "execution_count": 21,
   "metadata": {},
   "outputs": [
    {
     "name": "stdout",
     "output_type": "stream",
     "text": [
      "Python can not calculate b because the data type in a is string\n"
     ]
    }
   ],
   "source": [
    "# Type your code here!\n",
    "a = 10\n",
    "b = a + 2.0\n",
    "\n",
    "print('Python can not calculate b because the data type in a is string')"
   ]
  },
  {
   "cell_type": "markdown",
   "metadata": {},
   "source": [
    "### Action\n",
    "Try the following in the cell below:\n",
    "\n",
    "`a = '10'\n",
    "b = ' is a number'\n",
    "a + b\n",
    "a * 2`"
   ]
  },
  {
   "cell_type": "code",
   "execution_count": 25,
   "metadata": {},
   "outputs": [
    {
     "name": "stdout",
     "output_type": "stream",
     "text": [
      "10is a number\n",
      "1010\n"
     ]
    }
   ],
   "source": [
    "# Type your code here!\n",
    "a = '10'\n",
    "b = 'is a number'\n",
    "c = a + b \n",
    "print(c)\n",
    "d = a * 2\n",
    "print(d)"
   ]
  },
  {
   "cell_type": "markdown",
   "metadata": {},
   "source": [
    "It is possible to see all of the methods (i.e., the actions we could do) with `str` objects in the documentation [here](https://www.programiz.com/python-programming/methods/string).\n",
    "\n",
    "### Action\n",
    "Try this in the cell below:\n",
    "\n",
    "`c = 'juan'\n",
    "c.capitalize()`"
   ]
  },
  {
   "cell_type": "code",
   "execution_count": 26,
   "metadata": {},
   "outputs": [
    {
     "data": {
      "text/plain": [
       "'Juan'"
      ]
     },
     "execution_count": 26,
     "metadata": {},
     "output_type": "execute_result"
    }
   ],
   "source": [
    "# Type your code here!\n",
    "c = 'juan'\n",
    "c.capitalize()"
   ]
  },
  {
   "cell_type": "markdown",
   "metadata": {},
   "source": [
    "### 3.2.1. The `format` command\n",
    "It is possible to create custom messages mixing text and numerical values. We do this with the `format` method. \n",
    "\n",
    "### Action\n",
    "Run the cells below and analyse the outputs carefully:"
   ]
  },
  {
   "cell_type": "code",
   "execution_count": 27,
   "metadata": {},
   "outputs": [
    {
     "data": {
      "text/plain": [
       "\"My name is Axel, I'm 25, I am from Indonesia\""
      ]
     },
     "execution_count": 27,
     "metadata": {},
     "output_type": "execute_result"
    }
   ],
   "source": [
    "\"My name is {a_name}, I'm {an_age}, I am from {a_nation}\".format(a_name = \"Axel\", an_age = 25, a_nation = \"Indonesia\")"
   ]
  },
  {
   "cell_type": "code",
   "execution_count": 29,
   "metadata": {},
   "outputs": [
    {
     "data": {
      "text/plain": [
       "\"My name is Axel, I'm 25, I am from Indonesia\""
      ]
     },
     "execution_count": 29,
     "metadata": {},
     "output_type": "execute_result"
    }
   ],
   "source": [
    "\"My name is {0}, I'm {1}, I am from {2}\".format(\"Axel\", 25, \"Indonesia\")"
   ]
  },
  {
   "cell_type": "code",
   "execution_count": 30,
   "metadata": {},
   "outputs": [
    {
     "name": "stdout",
     "output_type": "stream",
     "text": [
      "The universe is 13,800,000,000 years old.\n"
     ]
    }
   ],
   "source": [
    "#Use \",\" to add a comma as a thousand separator:\n",
    "txt = \"The universe is {:,} years old.\"\n",
    "print(txt.format(13800000000))"
   ]
  },
  {
   "cell_type": "markdown",
   "metadata": {},
   "source": [
    "In the previous cell, note the following:\n",
    " - we are using a variable to store the resulting string (`txt`, although it can have any other name)\n",
    " - we are applying the format to the variable `txt`\n",
    " - most formatting options can be defined with the combination `{: something}`. In the example above, we have added a colon `:` inside the curly brackets and then, at its right hand side, we are specifying a particular format, in this case the thousands separator using the comma `,`.\n",
    " \n",
    "Run the cell below:"
   ]
  },
  {
   "cell_type": "code",
   "execution_count": 34,
   "metadata": {},
   "outputs": [
    {
     "name": "stdout",
     "output_type": "stream",
     "text": [
      "The water level is 45.00 meters.\n"
     ]
    }
   ],
   "source": [
    "txt = \"The water level is {:.2f} meters.\"\n",
    "print(txt.format(45))"
   ]
  },
  {
   "cell_type": "markdown",
   "metadata": {},
   "source": [
    "So, at the right hand side of `:`, use `.n` to display the value with `n` decimals, and `f` to convert a number into a fixed point number.\n",
    "\n",
    "Without the `.2` inside the placeholder, this number will be displayed with six decimal places (by default):"
   ]
  },
  {
   "cell_type": "code",
   "execution_count": 60,
   "metadata": {},
   "outputs": [
    {
     "name": "stdout",
     "output_type": "stream",
     "text": [
      "The water level is 45.000000 meters.\n"
     ]
    }
   ],
   "source": [
    "txt = \"The water level is {:f} meters.\"\n",
    "print(txt.format(45))"
   ]
  },
  {
   "cell_type": "markdown",
   "metadata": {},
   "source": [
    "## Excercise 1\n",
    "Explain how the `format` command is being used in the last three lines of the code below. Look at the outputs they generate. Insert a new Markdown cell after the code and write there your explanation. "
   ]
  },
  {
   "cell_type": "code",
   "execution_count": 37,
   "metadata": {
    "scrolled": true
   },
   "outputs": [
    {
     "name": "stdout",
     "output_type": "stream",
     "text": [
      "The current minute is 38\n",
      "a =  12345.54321\n",
      "Displaying a with two decimals: 12345.54\n",
      "Displaying a in a string of 10 characters in total 0012345.54\n",
      "Put two strings in one sentence, like: this and THIS\n"
     ]
    }
   ],
   "source": [
    "import time\n",
    "print('The current minute is {0}'.format(time.localtime().tm_min))\n",
    "\n",
    "a = 12345.54321\n",
    "\n",
    "print('a = ', a)\n",
    "\n",
    "# Explain briefly these three lines:\n",
    "print('Displaying a with two decimals: {:.2f}'.format(a))\n",
    "print('Displaying a in a string of 10 characters in total {0:010.2f}'.format(12345.54321))\n",
    "print('Put two strings in one sentence, like: {0} and {1}'.format('this', 'THIS'))"
   ]
  },
  {
   "cell_type": "markdown",
   "metadata": {},
   "source": [
    "**Answers** \n",
    "- the first print command asked for the two decimals format, shown by the {:.2f}\n",
    "- the second print command asked for 10 characters dan 2 decimals, therefore the system will added anoter two zeroes infront the value. \n",
    "- the third print command asked for writing two strings in a row"
   ]
  },
  {
   "cell_type": "markdown",
   "metadata": {},
   "source": [
    "Note that in the previous exercise, the `time` library was imported. It provides several functions to work with time operators and formats. "
   ]
  },
  {
   "cell_type": "markdown",
   "metadata": {},
   "source": [
    "### 3.2.2. Special characters\n",
    "\n",
    "When using strings, there are some special characters that will trigger particular behaviours of the string. As we just saw, the use of `{}` will create a placeholder for arguments using the format method. These characters are known as escape characters.\n",
    "\n",
    "    \\n\tBackslash and newline ignored\t \n",
    "    \\\\\tBackslash (\\)\t \n",
    "    \\'\tSingle quote (')\t \n",
    "    \\\"\tDouble quote (\")\t \n",
    "    \\a\tASCII Bell (BEL)\t \n",
    "    \\b\tASCII Backspace (BS)\t \n",
    "    \\f\tASCII Formfeed (FF)\t \n",
    "    \\n\tASCII Linefeed (LF)\t \n",
    "    \\r\tASCII Carriage Return (CR)\t \n",
    "    \\t\tASCII Horizontal Tab (TAB)\t \n",
    "    \\v\tASCII Vertical Tab (VT)\t \n",
    "    \\ooo\tCharacter with octal value ooo\t(1,3)\n",
    "    \\xhh\tCharacter with hex value hh\t(2,3)\n",
    "    \n"
   ]
  },
  {
   "cell_type": "code",
   "execution_count": 40,
   "metadata": {},
   "outputs": [
    {
     "name": "stdout",
     "output_type": "stream",
     "text": [
      "my file is in c:\n",
      "ew\\myfile.txt\n",
      "my file is in c:\tigers\brazilian_tiger_picture.png\n",
      "\n",
      "\n",
      "my file is in c:\\new\\myfile.txt\n",
      "my file is in c:\\tigers\\brazilian_tiger.png\n"
     ]
    }
   ],
   "source": [
    "# This is an example of something that does not work\n",
    "\n",
    "print('my file is in c:\\new\\myfile.txt')\n",
    "print('my file is in c:\\tigers\\brazilian_tiger_picture.png')\n",
    "\n",
    "# This is an example of something that works\n",
    "print('\\n')\n",
    "print('my file is in c:\\\\new\\\\myfile.txt')\n",
    "print(r'my file is in c:\\tigers\\brazilian_tiger.png')"
   ]
  },
  {
   "cell_type": "markdown",
   "metadata": {},
   "source": [
    "Note that in the last of the previous examples,  there is an <i>r</i> before the string with the path of a file. The <i>r</i> stands for <i>raw string</i>, which is a slightly different version of strings. In raw strings, the backslash is not treated as a special character but as a regular backslash. For this reason, in the last of the examples there is no need to use the double backslash `\\\\` to print one backslash."
   ]
  },
  {
   "cell_type": "markdown",
   "metadata": {},
   "source": [
    "A convenient resource for understading Python formatting can be found [here](https://pyformat.info/).\n",
    "\n",
    "## Exercise 2\n",
    "\n",
    "Given the points $p_1 =(x_1, y_1)$ and $p_2 =(x_2, y_2)$, with coordinates (in meters) $x_1 = 13.0$, $x_2 = 15.0$, $y_1 = 35.0$, and $y_2 = 40.0$, complete and display the following string: \n",
    "\n",
    "'The distance between p1 and p2 is `___m` and `___cm`.'\n"
   ]
  },
  {
   "cell_type": "code",
   "execution_count": 83,
   "metadata": {},
   "outputs": [
    {
     "name": "stdout",
     "output_type": "stream",
     "text": [
      "The distance between p1 and p2 is 5 m and 38.52 cm.\n",
      "The distance between p1 and p2 is 5 m and 38.52 cm.\n"
     ]
    }
   ],
   "source": [
    "# Write your answer here\n",
    "import numpy as np \n",
    "import math\n",
    "\n",
    "x1 = 13\n",
    "x2 = 15 \n",
    "y1 = 35\n",
    "y2 = 40 \n",
    "\n",
    "dist = np.sqrt((x2-x1)**2+(y2-y1)**2)\n",
    "\n",
    "print('The distance between p1 and p2 is {a} m and {b:0.2f} cm.' .format(a=math.trunc(dist), b=(dist-math.trunc(dist))*100))\n",
    "print('The distance between p1 and p2 is {0} m and {1:0.2f} cm.' .format(int(dist), ((dist-int(dist))*100)))"
   ]
  },
  {
   "cell_type": "markdown",
   "metadata": {},
   "source": [
    "## 3.3 Booleans<a name=\"booleans\"></a>\n",
    "\n",
    "Boolean types are used to determine if a given condition is either `True` or `False`. Note that the boolean variables are capitalised.\n",
    "    \n",
    "    a = True\n",
    "    b = False\n",
    "\n",
    "Try in the cell below what will be output of:\n",
    "\n",
    "    print(a)\n",
    "    print(not a)\n",
    "    print(a is b)\n",
    "    print(a is not b)\n",
    "other logical operations between the variables `a` and `b`"
   ]
  },
  {
   "cell_type": "code",
   "execution_count": 49,
   "metadata": {
    "scrolled": true
   },
   "outputs": [
    {
     "name": "stdout",
     "output_type": "stream",
     "text": [
      "True\n",
      "False\n",
      "False\n",
      "True\n"
     ]
    }
   ],
   "source": [
    "# Type your answer here\n",
    "a = True\n",
    "b = False \n",
    "c = not(a)\n",
    "\n",
    "print(a)\n",
    "print(not a)\n",
    "print(a is b)\n",
    "print(a is not b)"
   ]
  },
  {
   "cell_type": "markdown",
   "metadata": {},
   "source": [
    "The output of logical conditions used with mathematical operations are also Boolean. For example:\n",
    "\n",
    "- Equals: `a == b`\n",
    "- Not Equals: `a != b`\n",
    "- Less than: `a < b`\n",
    "- Less than or equal to: `a <= b`\n",
    "- Greater than: `a > b`\n",
    "- Greater than or equal to: `a >= b`\n",
    "\n",
    "Try in the cell below some logical operations with the values: \n",
    "\n",
    "    a = 10\n",
    "    b = 20"
   ]
  },
  {
   "cell_type": "code",
   "execution_count": 51,
   "metadata": {},
   "outputs": [
    {
     "name": "stdout",
     "output_type": "stream",
     "text": [
      "False\n"
     ]
    }
   ],
   "source": [
    "# Type your answer here\n",
    "a = 10\n",
    "b = 20 \n",
    "\n",
    "print(a == b)"
   ]
  },
  {
   "cell_type": "code",
   "execution_count": 52,
   "metadata": {},
   "outputs": [
    {
     "name": "stdout",
     "output_type": "stream",
     "text": [
      "True\n"
     ]
    }
   ],
   "source": [
    "print(a !=b)"
   ]
  },
  {
   "cell_type": "code",
   "execution_count": 53,
   "metadata": {},
   "outputs": [
    {
     "name": "stdout",
     "output_type": "stream",
     "text": [
      "True\n"
     ]
    }
   ],
   "source": [
    "print (a < b)"
   ]
  },
  {
   "cell_type": "code",
   "execution_count": 54,
   "metadata": {},
   "outputs": [
    {
     "name": "stdout",
     "output_type": "stream",
     "text": [
      "True\n"
     ]
    }
   ],
   "source": [
    "print (a <= b)"
   ]
  },
  {
   "cell_type": "code",
   "execution_count": 55,
   "metadata": {},
   "outputs": [
    {
     "name": "stdout",
     "output_type": "stream",
     "text": [
      "False\n"
     ]
    }
   ],
   "source": [
    "print (a > b)"
   ]
  },
  {
   "cell_type": "code",
   "execution_count": 56,
   "metadata": {},
   "outputs": [
    {
     "name": "stdout",
     "output_type": "stream",
     "text": [
      "False\n"
     ]
    }
   ],
   "source": [
    "print (a >= b)"
   ]
  }
 ],
 "metadata": {
  "kernelspec": {
   "display_name": "Python 3 (ipykernel)",
   "language": "python",
   "name": "python3"
  },
  "language_info": {
   "codemirror_mode": {
    "name": "ipython",
    "version": 3
   },
   "file_extension": ".py",
   "mimetype": "text/x-python",
   "name": "python",
   "nbconvert_exporter": "python",
   "pygments_lexer": "ipython3",
   "version": "3.9.7"
  }
 },
 "nbformat": 4,
 "nbformat_minor": 2
}
