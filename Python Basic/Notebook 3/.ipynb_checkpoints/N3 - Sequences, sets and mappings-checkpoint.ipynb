{
 "cells": [
  {
   "cell_type": "markdown",
   "metadata": {},
   "source": [
    "<div>\n",
    "<table style=\"width: 100%\">\n",
    "\t<tr>\n",
    "\t\t<td>\n",
    "\t\t<table style=\"width: 100%\">\n",
    "\t\t\t<tr>\n",
    "                <td ><center><font size=\"30\">WSE-HI-03</font><center>\n",
    "                    <center><font size=\"30\">Software Engineering</font><center></td>\n",
    "\t\t\t</tr>\n",
    "\t\t\t<tr>\n",
    "                <td><center><font size=\"5\">Jupyter Notebook 3</font><center></td>\n",
    "\t\t\t</tr>\n",
    "\t\t\t<tr>\n",
    "                <td><center><font size=\"10\">Sequences, sets and mappings</font><center></td>\n",
    "\t\t\t</tr>\n",
    "\t\t</table>\n",
    "\t\t</td>\n",
    "\t\t<td><img src='figures/ihe_logo.png'></img></td>\n",
    "\t</tr>\n",
    "</table>\n",
    "</div>    "
   ]
  },
  {
   "cell_type": "markdown",
   "metadata": {},
   "source": [
    "# Table of contents\n",
    "1. [Learning objectives](#learningobs)\n",
    "2. [Introduction](#introduction)\n",
    "3. [Sequences](#sequen)\n",
    "    \n",
    "    3.1. [Lists](#list_sequen)\n",
    "    \n",
    "    3.2. [Tuples](#tuple_sequen)\n",
    "    \n",
    "    3.3. [Generators](#generat_sequen)\n",
    "    \n",
    "4. [Sets](#sets_sequen)\n",
    "   \n",
    " \n",
    "5. [Mappings](#mappings)\n",
    "    \n",
    "    5.1. [Dictionaries](#dictionaries)\n",
    "    \n",
    "    5.2. [Enumerates](#enumerates)\n",
    "    \n",
    "\n",
    "\n",
    "## 1. Learning objectives<a name=\"learningobs\"></a>\n",
    "\n",
    "At the end of this session you will be able to:\n",
    "- Define Sequences, sets and mappings in the context of Python\n",
    "- Explain the difference among lists, tuples, generators, dictionaries and enumerates in Python. \n",
    "- Manipulate different types of sequences in Python\n",
    "- List some possible operations that are possible to do with sequences and mappings\n",
    "\n",
    "\n",
    "## 2. Introduction<a name=\"introduction\"></a>\n",
    "\n",
    "In the previous Notebook we learnt that Python has several bult-in data types, and we studied Numbers (Integers, Floating point, Complex), Strings and Booleans. In this Notebook, we will look at more sophisticated data types, namely:\n",
    "\n",
    "- Sequences (Lists, Tuples, Generators)\n",
    "- Sets (Sets, Frozen sets)\n",
    "- Mappings (Dictionaries, Enumerate)\n",
    "\n",
    "In the next Notebook we will see Arrays, as well as additional types that exist for different libraries."
   ]
  },
  {
   "cell_type": "markdown",
   "metadata": {},
   "source": [
    "# 3. Sequences<a name=\"sequen\"></a>\n",
    "Sequence is a generic term to refer to an ordered set.\n",
    "\n",
    "\n",
    "## 3.1. Lists<a name=\"list_sequen\"></a>\n",
    "A list is a vector of elements separated by commas, within brackets. For example, a 3-element list whose first, second and third elements are `8`, `12` and `20` respectively, can be stored in a list called `a` as follows: \n",
    "\n",
    "    a = [8 ,12, 20]\n",
    "\n",
    "Note that spaces before and after the commas are ignored.\n",
    "\n",
    "\n",
    "In order to get the $i^{th}$ element of `a` ($i$ is also called <b>index</b>), the expression `a[i]` can be used. So:\n",
    "\n",
    "- `a[0]` will return `8`\n",
    "- `a[2]` will return `20`\n",
    "\n",
    "Note that the first element of the list is accessed using the index `0`, not `1`.\n",
    "\n",
    "Interestingly, `a[-1]` will also return `20`. In fact, the index `-1` will always return the last element of a list, the index `-2` will always return the element before the last, and so on. In other words, negative indexes allow to access the elements in a list from right to left, starting from `-1`.\n",
    "\n",
    "### Action \n",
    "Create in the cell below a list called `v` with the following elements: `2, 4, 6, 8, 10`. What elements of `v` are retrieved when using the indexes `0`, `3`, `-1` and `-6`?"
   ]
  },
  {
   "cell_type": "code",
   "execution_count": null,
   "metadata": {},
   "outputs": [],
   "source": [
    "# Type your code here\n",
    "v = [2,4,6,8,10]"
   ]
  },
  {
   "cell_type": "code",
   "execution_count": null,
   "metadata": {},
   "outputs": [],
   "source": [
    "v[0]"
   ]
  },
  {
   "cell_type": "code",
   "execution_count": null,
   "metadata": {},
   "outputs": [],
   "source": [
    "v[3]"
   ]
  },
  {
   "cell_type": "code",
   "execution_count": null,
   "metadata": {},
   "outputs": [],
   "source": [
    "v[-1]"
   ]
  },
  {
   "cell_type": "code",
   "execution_count": null,
   "metadata": {},
   "outputs": [],
   "source": [
    "v[-6]"
   ]
  },
  {
   "cell_type": "markdown",
   "metadata": {},
   "source": [
    "The `IndexError: list index out of range` is a very common error. Add a Markdown cell below and explain there when does this error happen. "
   ]
  },
  {
   "cell_type": "markdown",
   "metadata": {},
   "source": [
    "### Explanation  \n",
    "The shown error **List Index Out of Range** is because we are trying to index / slice the 6th varible from behind whereeas there are only 5 variables inside the list"
   ]
  },
  {
   "cell_type": "markdown",
   "metadata": {},
   "source": [
    "<b>Note: </b>Lists can also accept combinations of data types. For example, the list below contains an integer (`2021`) and four strings (`'HI', 'CEPD', 'HWR', 'HERBD'`):\n",
    "\n",
    "    msc_list = [2021, 'HI', 'CEPD', 'HWR', 'HERBD']\n",
    "\n",
    "Therefore, `msc_list[0]` will return `2021` and `msc_list[1]` will return `'HI'`\n",
    "\n",
    "\n",
    "<b>Note:</b> We can also use the index to change an element of a list. For instance:\n",
    "\n",
    "    msc_list[0] = 2019\n",
    "\n",
    "will update the first element from `2021` to `2019`. Try the above expressions in the cell below."
   ]
  },
  {
   "cell_type": "code",
   "execution_count": null,
   "metadata": {},
   "outputs": [],
   "source": [
    "# Type your code here\n",
    "msc_list = [2021, 'HI', 'CEPD', 'HWR', 'HERBD']\n",
    "msc_list[0] = 2019"
   ]
  },
  {
   "cell_type": "code",
   "execution_count": null,
   "metadata": {},
   "outputs": [],
   "source": [
    "msc_list"
   ]
  },
  {
   "cell_type": "markdown",
   "metadata": {},
   "source": [
    "### Some possible operations in lists\n",
    "\n",
    "Lists support certain operations or <i>methods</i> that control their behaviour (we shall see methods in detail later in the course). Some examples are:\n",
    "\n",
    "`list.append(x)`: Adds an element at the end of the list.\n",
    "\n",
    "`list.insert(i, x)`: Inserts the element `x` at a given index `i`. For example, `a.insert(0, x)` inserts `x` at the beginning of the list. Note that `a.insert(len(a), x)` is equivalent to `a.append(x)`, as the command `len` returns the number of elements in a list.\n",
    "\n",
    "`list.remove(x)`: Removes the first element of a list whose value is equal to `x`. It raises a `ValueError` if such element does not exist in the list.\n",
    "\n",
    "`list.pop(i)`: Removes the element at position `i`.\n",
    "\n",
    "`list.clear()`: Removes all the elements of the list. The list will still exist, but empty. Equivalent to `del a[:]`.\n",
    "\n",
    "`list.count(x)`: Returns the number of times `x` appears in the list.\n",
    "\n",
    "`list.sort(reverse=False)`: Sorts a list with numerical elements from the smallest to the biggest value. Use `reverse=True` to sort the list the other way around.\n",
    "\n",
    "`list.reverse()`: Reverses the elements of the list.\n",
    "\n",
    "`list.copy()`: Returns a <i>shallow</i> copy of the list. Equivalent to `a[:]`.\n",
    "\n",
    "The complete documentation of the lists can be found [here](https://docs.python.org/3/tutorial/datastructures.html) \n",
    "\n",
    "### Action\n",
    "\n",
    "Create two lists with the following elements\n",
    "\n",
    "    a = ['a', 1, 3, 30, 2, '5', sum]\n",
    "    b = [1, 10, 50, 2, 40]\n",
    "\n",
    "- Apply to both lists the methods mentioned above, and describe what happens in each case."
   ]
  },
  {
   "cell_type": "markdown",
   "metadata": {},
   "source": [
    "**Variable A**"
   ]
  },
  {
   "cell_type": "code",
   "execution_count": 79,
   "metadata": {},
   "outputs": [],
   "source": [
    "a = ['a', 1, 3, 30, 2, '5', sum]"
   ]
  },
  {
   "cell_type": "code",
   "execution_count": 80,
   "metadata": {},
   "outputs": [
    {
     "data": {
      "text/plain": [
       "1"
      ]
     },
     "execution_count": 80,
     "metadata": {},
     "output_type": "execute_result"
    }
   ],
   "source": [
    "a.count('a')"
   ]
  },
  {
   "cell_type": "code",
   "execution_count": 81,
   "metadata": {},
   "outputs": [
    {
     "name": "stdout",
     "output_type": "stream",
     "text": [
      "['a', 1, 3, 30, 2, '5', <built-in function sum>, 'x']\n"
     ]
    }
   ],
   "source": [
    "a.append('x')\n",
    "print(a)"
   ]
  },
  {
   "cell_type": "code",
   "execution_count": 82,
   "metadata": {},
   "outputs": [
    {
     "name": "stdout",
     "output_type": "stream",
     "text": [
      "['L', 'a', 1, 3, 30, 2, '5', <built-in function sum>, 'x']\n"
     ]
    }
   ],
   "source": [
    "a.insert(0, 'L')\n",
    "print(a)"
   ]
  },
  {
   "cell_type": "code",
   "execution_count": 83,
   "metadata": {},
   "outputs": [
    {
     "name": "stdout",
     "output_type": "stream",
     "text": [
      "['L', 'a', 1, 3, 30, 2, '5', 'x']\n"
     ]
    }
   ],
   "source": [
    "a.remove(sum)\n",
    "print(a)"
   ]
  },
  {
   "cell_type": "code",
   "execution_count": 84,
   "metadata": {},
   "outputs": [
    {
     "name": "stdout",
     "output_type": "stream",
     "text": [
      "['L', 1, 3, 30, 2, '5', 'x']\n"
     ]
    }
   ],
   "source": [
    "a.pop(1)\n",
    "print(a)"
   ]
  },
  {
   "cell_type": "code",
   "execution_count": 88,
   "metadata": {},
   "outputs": [
    {
     "ename": "TypeError",
     "evalue": "'<' not supported between instances of 'int' and 'str'",
     "output_type": "error",
     "traceback": [
      "\u001b[1;31m---------------------------------------------------------------------------\u001b[0m",
      "\u001b[1;31mTypeError\u001b[0m                                 Traceback (most recent call last)",
      "\u001b[1;32m~\\AppData\\Local\\Temp/ipykernel_12568/4161480915.py\u001b[0m in \u001b[0;36m<module>\u001b[1;34m\u001b[0m\n\u001b[1;32m----> 1\u001b[1;33m \u001b[0ma\u001b[0m\u001b[1;33m.\u001b[0m\u001b[0msort\u001b[0m\u001b[1;33m(\u001b[0m\u001b[0mreverse\u001b[0m\u001b[1;33m=\u001b[0m\u001b[1;32mFalse\u001b[0m\u001b[1;33m)\u001b[0m\u001b[1;33m\u001b[0m\u001b[1;33m\u001b[0m\u001b[0m\n\u001b[0m\u001b[0;32m      2\u001b[0m \u001b[0mprint\u001b[0m\u001b[1;33m(\u001b[0m\u001b[0ma\u001b[0m\u001b[1;33m)\u001b[0m\u001b[1;33m\u001b[0m\u001b[1;33m\u001b[0m\u001b[0m\n\u001b[0;32m      3\u001b[0m \u001b[1;33m\u001b[0m\u001b[0m\n\u001b[0;32m      4\u001b[0m \u001b[0ma\u001b[0m\u001b[1;33m.\u001b[0m\u001b[0msort\u001b[0m\u001b[1;33m(\u001b[0m\u001b[0mreverse\u001b[0m\u001b[1;33m=\u001b[0m\u001b[1;32mTrue\u001b[0m\u001b[1;33m)\u001b[0m\u001b[1;33m\u001b[0m\u001b[1;33m\u001b[0m\u001b[0m\n\u001b[0;32m      5\u001b[0m \u001b[0mprint\u001b[0m\u001b[1;33m(\u001b[0m\u001b[0ma\u001b[0m\u001b[1;33m)\u001b[0m\u001b[1;33m\u001b[0m\u001b[1;33m\u001b[0m\u001b[0m\n",
      "\u001b[1;31mTypeError\u001b[0m: '<' not supported between instances of 'int' and 'str'"
     ]
    }
   ],
   "source": [
    "a.sort(reverse=False)\n",
    "print(a)\n",
    "\n",
    "a.sort(reverse=True)\n",
    "print(a)"
   ]
  },
  {
   "cell_type": "markdown",
   "metadata": {},
   "source": [
    "**Catatan:** List yang berisikan tipe data yang terdiri dari integer dan string tidak dapat diurutkan."
   ]
  },
  {
   "cell_type": "code",
   "execution_count": 89,
   "metadata": {},
   "outputs": [
    {
     "data": {
      "text/plain": [
       "['L', 1, 3, 30, 2, '5', 'x']"
      ]
     },
     "execution_count": 89,
     "metadata": {},
     "output_type": "execute_result"
    }
   ],
   "source": [
    "a.copy()"
   ]
  },
  {
   "cell_type": "markdown",
   "metadata": {},
   "source": [
    "**Variable B**"
   ]
  },
  {
   "cell_type": "code",
   "execution_count": 90,
   "metadata": {},
   "outputs": [
    {
     "name": "stdout",
     "output_type": "stream",
     "text": [
      "[1, 10, 50, 2, 40, 40]\n"
     ]
    }
   ],
   "source": [
    "# Type your code here\n",
    "b = [1, 10, 50, 2, 40, 40]\n",
    "print(b)"
   ]
  },
  {
   "cell_type": "code",
   "execution_count": 91,
   "metadata": {},
   "outputs": [
    {
     "data": {
      "text/plain": [
       "2"
      ]
     },
     "execution_count": 91,
     "metadata": {},
     "output_type": "execute_result"
    }
   ],
   "source": [
    "b.count(40)"
   ]
  },
  {
   "cell_type": "code",
   "execution_count": 92,
   "metadata": {},
   "outputs": [
    {
     "name": "stdout",
     "output_type": "stream",
     "text": [
      "[1, 10, 50, 2, 40, 40, 9]\n"
     ]
    }
   ],
   "source": [
    "b.append(9)\n",
    "print(b)"
   ]
  },
  {
   "cell_type": "code",
   "execution_count": 93,
   "metadata": {},
   "outputs": [
    {
     "name": "stdout",
     "output_type": "stream",
     "text": [
      "[1, 10, 4, 50, 2, 40, 40, 9]\n"
     ]
    }
   ],
   "source": [
    "b.insert(2,4)\n",
    "print(b)"
   ]
  },
  {
   "cell_type": "code",
   "execution_count": 94,
   "metadata": {},
   "outputs": [
    {
     "name": "stdout",
     "output_type": "stream",
     "text": [
      "[1, 10, 4, 50, 2, 40, 9]\n"
     ]
    }
   ],
   "source": [
    "b.remove(40)\n",
    "print(b)"
   ]
  },
  {
   "cell_type": "code",
   "execution_count": 95,
   "metadata": {},
   "outputs": [
    {
     "name": "stdout",
     "output_type": "stream",
     "text": [
      "[1, 10, 4, 2, 40, 9]\n"
     ]
    }
   ],
   "source": [
    "b.pop(3)\n",
    "print(b)"
   ]
  },
  {
   "cell_type": "code",
   "execution_count": 96,
   "metadata": {},
   "outputs": [
    {
     "name": "stdout",
     "output_type": "stream",
     "text": [
      "[40, 10, 9, 4, 2, 1]\n",
      "[1, 2, 4, 9, 10, 40]\n"
     ]
    }
   ],
   "source": [
    "b.sort(reverse=True)\n",
    "print(b)\n",
    "\n",
    "b.sort(reverse=False)\n",
    "print(b)"
   ]
  },
  {
   "cell_type": "code",
   "execution_count": 101,
   "metadata": {},
   "outputs": [
    {
     "data": {
      "text/plain": [
       "[1, 2, 4, 9, 10, 40]"
      ]
     },
     "execution_count": 101,
     "metadata": {},
     "output_type": "execute_result"
    }
   ],
   "source": [
    "b.copy()"
   ]
  },
  {
   "cell_type": "markdown",
   "metadata": {},
   "source": [
    "### Assignment: \n",
    "The `list.copy` method makes a <i>shallow</i> copy of a list. Investigate what does this mean. Write your answer in the cell below."
   ]
  },
  {
   "cell_type": "code",
   "execution_count": 100,
   "metadata": {},
   "outputs": [
    {
     "data": {
      "text/plain": [
       "(['L', 1, 3, 30, 2, '5', 'x'], [1, 2, 4, 9, 10, 40])"
      ]
     },
     "execution_count": 100,
     "metadata": {},
     "output_type": "execute_result"
    }
   ],
   "source": [
    "a,b"
   ]
  },
  {
   "cell_type": "markdown",
   "metadata": {},
   "source": [
    "___\n",
    "<i>Type your answer below (remember to double-click this cell in order to make it editable. Press Ctrl+Enter when you finish.</i>\n",
    "\n",
    "...\n",
    "\n",
    "___"
   ]
  },
  {
   "cell_type": "markdown",
   "metadata": {},
   "source": [
    "## 3.2 Tuples<a name=\"tuple_sequen\"></a>\n",
    "\n",
    "Tuples are like lists, but: \n",
    "\n",
    "- Tuples cannot be modified, i.e., they are <i>immutable</i>\n",
    "- Tuples are defined using parentheses `()`, not square brackets `[]`\n",
    "\n",
    "The fact that tuples are immutable makes them very efficient for iterations.\n",
    "\n",
    "A Tuple can be created using comma-separated elements. For example:\n",
    "\n",
    "    tup1 = \"a\", \"b\", \"c\", \"d\";\n",
    "\n",
    "Alternatively, the comma-separated values can go within round brackets, for example: \n",
    "\n",
    "    tup2 = ('physics', 'chemistry', 1997, 2000);\n",
    "    tup3 = (1, 2, 3, 4, 5 );\n",
    "    \n",
    "This last formulation is preferred, as it is easier to read."
   ]
  },
  {
   "cell_type": "markdown",
   "metadata": {},
   "source": [
    "Let’s build the tuple variable `msc_list_2`, based on the list you made above. Just use round brackets instead of the \n",
    "squared ones to create the tuple:\n",
    "\n",
    "    msc_list_2 = (2019, 'HI', 'CEPD', 'HWR', 'HERBD')"
   ]
  },
  {
   "cell_type": "markdown",
   "metadata": {},
   "source": [
    "As in the case of the list, `msc_list_2[0]` will retrieve `2019` and `msc_list_2[1]` will retrieve `'HI'`. However,\n",
    "\n",
    "    msc_list_2[0] = 2018\n",
    "    \n",
    "will generate an error because we are trying to change a value in the tuple. The generated error is a `type error`, because the assignment command is not supported by the tuple type variable.\n",
    "\n",
    "However, it is possible that the tuples contain <i>mutable</i> elements. For example, an element in a tuple can be a list, and this list can be mutable. Therefore, the following is possible (run the cell and observe the outputs):"
   ]
  },
  {
   "cell_type": "code",
   "execution_count": 124,
   "metadata": {},
   "outputs": [
    {
     "name": "stdout",
     "output_type": "stream",
     "text": [
      "[1, 2, 3]\n",
      "([1, 10, 3], 4, 5)\n"
     ]
    }
   ],
   "source": [
    "    a = ([1,2,3], 4, 5)\n",
    "    print(a[0])     #The first element of the tuple (which is a list)\n",
    "    a[0][1] = 10    #The second element of the list (index 1) that is contained in the first element of the tuple  \n",
    "    print(a)"
   ]
  },
  {
   "cell_type": "markdown",
   "metadata": {},
   "source": [
    "<b> Note </b> When constructing tuples with one element, a comma after the first element is required. Otherwise, the interpreter will think that the variable is assigned to the type of such element. It is a good practice to do this also for lists, although this is not mandatory. For example:\n",
    "\n",
    "    a = [1, ]  # This creates a list of one element. The comma is not mandatory\n",
    "    a = [1]    # This is equivalent to the line above\n",
    "    \n",
    "    b = (1)    # This creates an 'int' value\n",
    "    b = (1, )  # This creates a tuple with the value of 1 as its first element\n",
    "\n",
    "Try the expressions above in the cell below, run it and observe its outputs. Use the `type` function to support your understanding."
   ]
  },
  {
   "cell_type": "markdown",
   "metadata": {},
   "source": [
    "### Contoh Penggunaan Tuple Dengan Menggunakan Integer"
   ]
  },
  {
   "cell_type": "code",
   "execution_count": 149,
   "metadata": {},
   "outputs": [
    {
     "data": {
      "text/plain": [
       "tuple"
      ]
     },
     "execution_count": 149,
     "metadata": {},
     "output_type": "execute_result"
    }
   ],
   "source": [
    "# Type your code here:\n",
    "x = (1,2,3,4,5)\n",
    "type(x)"
   ]
  },
  {
   "cell_type": "code",
   "execution_count": 150,
   "metadata": {},
   "outputs": [
    {
     "data": {
      "text/plain": [
       "5"
      ]
     },
     "execution_count": 150,
     "metadata": {},
     "output_type": "execute_result"
    }
   ],
   "source": [
    "len(x)"
   ]
  },
  {
   "cell_type": "code",
   "execution_count": 151,
   "metadata": {},
   "outputs": [
    {
     "data": {
      "text/plain": [
       "5"
      ]
     },
     "execution_count": 151,
     "metadata": {},
     "output_type": "execute_result"
    }
   ],
   "source": [
    "max(x)"
   ]
  },
  {
   "cell_type": "code",
   "execution_count": 152,
   "metadata": {},
   "outputs": [
    {
     "data": {
      "text/plain": [
       "1"
      ]
     },
     "execution_count": 152,
     "metadata": {},
     "output_type": "execute_result"
    }
   ],
   "source": [
    "min(x)"
   ]
  },
  {
   "cell_type": "code",
   "execution_count": 136,
   "metadata": {},
   "outputs": [
    {
     "data": {
      "text/plain": [
       "list"
      ]
     },
     "execution_count": 136,
     "metadata": {},
     "output_type": "execute_result"
    }
   ],
   "source": [
    "x = list(x)\n",
    "type(x)"
   ]
  },
  {
   "cell_type": "code",
   "execution_count": 135,
   "metadata": {},
   "outputs": [
    {
     "name": "stdout",
     "output_type": "stream",
     "text": [
      "[1, 2, 3, 4, 5]\n"
     ]
    }
   ],
   "source": [
    "print(x)"
   ]
  },
  {
   "cell_type": "code",
   "execution_count": 138,
   "metadata": {},
   "outputs": [
    {
     "name": "stdout",
     "output_type": "stream",
     "text": [
      "[1, 2, 3, 5, 5]\n"
     ]
    }
   ],
   "source": [
    "x[3]=5\n",
    "print(x)"
   ]
  },
  {
   "cell_type": "code",
   "execution_count": 140,
   "metadata": {},
   "outputs": [
    {
     "data": {
      "text/plain": [
       "tuple"
      ]
     },
     "execution_count": 140,
     "metadata": {},
     "output_type": "execute_result"
    }
   ],
   "source": [
    "x = tuple(x)\n",
    "type(x)"
   ]
  },
  {
   "cell_type": "markdown",
   "metadata": {},
   "source": [
    "### Contoh Penggunaaan Tuple Dengan Menggunakan String"
   ]
  },
  {
   "cell_type": "code",
   "execution_count": 141,
   "metadata": {},
   "outputs": [
    {
     "data": {
      "text/plain": [
       "tuple"
      ]
     },
     "execution_count": 141,
     "metadata": {},
     "output_type": "execute_result"
    }
   ],
   "source": [
    "y = ('apple' , 'orange' , 'melon', 'durian' , 'rambutan')\n",
    "type(y)"
   ]
  },
  {
   "cell_type": "code",
   "execution_count": 142,
   "metadata": {},
   "outputs": [
    {
     "data": {
      "text/plain": [
       "5"
      ]
     },
     "execution_count": 142,
     "metadata": {},
     "output_type": "execute_result"
    }
   ],
   "source": [
    "len(y)"
   ]
  },
  {
   "cell_type": "code",
   "execution_count": 143,
   "metadata": {},
   "outputs": [
    {
     "data": {
      "text/plain": [
       "'apple'"
      ]
     },
     "execution_count": 143,
     "metadata": {},
     "output_type": "execute_result"
    }
   ],
   "source": [
    "min(y)"
   ]
  },
  {
   "cell_type": "code",
   "execution_count": 144,
   "metadata": {},
   "outputs": [
    {
     "data": {
      "text/plain": [
       "'rambutan'"
      ]
     },
     "execution_count": 144,
     "metadata": {},
     "output_type": "execute_result"
    }
   ],
   "source": [
    "max(y)"
   ]
  },
  {
   "cell_type": "code",
   "execution_count": 154,
   "metadata": {},
   "outputs": [
    {
     "data": {
      "text/plain": [
       "list"
      ]
     },
     "execution_count": 154,
     "metadata": {},
     "output_type": "execute_result"
    }
   ],
   "source": [
    "y = list(y)\n",
    "type(y)"
   ]
  },
  {
   "cell_type": "code",
   "execution_count": 155,
   "metadata": {},
   "outputs": [
    {
     "name": "stdout",
     "output_type": "stream",
     "text": [
      "['apple', 'orange', 'melon', 'durian', 'rambutan']\n"
     ]
    }
   ],
   "source": [
    "print(y)"
   ]
  },
  {
   "cell_type": "code",
   "execution_count": 156,
   "metadata": {},
   "outputs": [
    {
     "name": "stdout",
     "output_type": "stream",
     "text": [
      "['apple', 'orange', 'banana', 'durian', 'rambutan']\n"
     ]
    }
   ],
   "source": [
    "y[2] = 'banana'\n",
    "print(y)"
   ]
  },
  {
   "cell_type": "code",
   "execution_count": 159,
   "metadata": {},
   "outputs": [
    {
     "data": {
      "text/plain": [
       "tuple"
      ]
     },
     "execution_count": 159,
     "metadata": {},
     "output_type": "execute_result"
    }
   ],
   "source": [
    "y = tuple(y)\n",
    "type(y)"
   ]
  },
  {
   "cell_type": "markdown",
   "metadata": {},
   "source": [
    "### Some possible operations with tuples\n",
    "`len(tuple)`: Gives the total length of the tuple.\n",
    "\n",
    "`max(tuple)`: Returns item from the tuple with max value.\n",
    "\n",
    "`min(tuple)`: Returns item from the tuple with min value.\n",
    "\n",
    "`tuple(seq)`: Converts a list into a tuple.\n",
    "\n",
    "### Action\n",
    "\n",
    "In the cell below, create a tuple and apply to it the operations mentioned above."
   ]
  },
  {
   "cell_type": "code",
   "execution_count": null,
   "metadata": {},
   "outputs": [],
   "source": [
    "# Type your code here:\n"
   ]
  },
  {
   "cell_type": "markdown",
   "metadata": {},
   "source": [
    "## 3.3 Generators<a name=\"generat_sequen\"></a>\n",
    "\n",
    "Generators are immutable sequences that create elements to be used in iterations, without storing the full sequence and therefore avoiding the use of excessive space in memory. Due to its efficiency, generators are used to create <i>collections</i> of 'counters' for iterations.\n",
    "\n",
    "The generated values are only retrieved 'on demand' (some call this 'lazy evaluation'). Furthermore, it is not necessary to wait until all the elements are generated to start using them.\n",
    "\n",
    "### The range function\n",
    "The most common generator is the `range` function. It is used, for example, to create iterators of integer numbers. For example, if we want to create an iterator for the integers between `0` and `10` (without including the `10`), we will use:\n",
    "\n",
    "    range(10)\n",
    "\n",
    "It is also possible to have a starting number different from 0. To do so, it should be passed as first argument. For example `range(2,10)` will create a generator that spans from `2` to `10` (exclusive). i.e., `2, 3, 4, 5, 7, 8, 9`.\n",
    "\n",
    "It is also possible to define the step that the iterator will use by adding a third argument. For example, if we want to create a sequence from `5` to `30` (exclusive) with a step of `5`, we use `range(5, 30, 5)`, and the output will be `5, 10, 15, 20, 25`.\n",
    "\n",
    "<b>Note: </b>Keep in mind that generators deliver values on the go, so it is not possible to access their value or position in memory as we do with lists. Instead, it is only possible to access its <i>current</i> value. For this reason, no output is shown when we try to `print` a generator variable, unless we use a loop (we shall see `loops` later in the course).\n",
    "\n",
    "### Action\n",
    "\n",
    "Create, in the cell below, a sequence of integers from 20 to 30 (inclusive) with a step of 2. How many values will be generated?"
   ]
  },
  {
   "cell_type": "code",
   "execution_count": 163,
   "metadata": {},
   "outputs": [
    {
     "data": {
      "text/plain": [
       "range(5, 30, 5)"
      ]
     },
     "execution_count": 163,
     "metadata": {},
     "output_type": "execute_result"
    }
   ],
   "source": [
    "# Type your code here\n",
    "range(5, 30, 5)"
   ]
  },
  {
   "cell_type": "markdown",
   "metadata": {},
   "source": [
    "# 4 Sets <a name=\"sets_sequen\"></a>\n",
    "\n",
    "A set is basically a sequence that has no particular order, and has no duplicate elements. We can create a set of elements from strings (recall that a string is a sequence of characters):\n",
    "\n",
    "    a = set('Is this the real life?')\n",
    "    b = set('Is this just fantasy?')\n",
    "    c = {'1', '2', 'a', 'Pirates'}\n",
    "\n",
    "Sets can be created with curly brackets `{}` or with the `set()` function. \n",
    "\n",
    "<b>Notes</b>: \n",
    "\n",
    "- To create an empty set you have to use set(), not {}.\n",
    "- As sets do not have ordered elemenbts, they do not support <i>indexation</i>. So, for the example above, the expression `a[0]` does not make sense.\n",
    "\n",
    "Try some sets in the cell below:"
   ]
  },
  {
   "cell_type": "code",
   "execution_count": 164,
   "metadata": {},
   "outputs": [],
   "source": [
    "#Type your code here\n",
    "a = set('Is this the real life?')"
   ]
  },
  {
   "cell_type": "markdown",
   "metadata": {},
   "source": [
    "### Some possible operations with Sets\n",
    "\n",
    "The `add()` method adds the specified element to the set. E.g., `set1.add(a_new_element)`\n",
    "\n",
    "The `remove()` method removes the specified element from the set. E.g., `set1.remove(element_to_remove)`\n",
    "\n",
    "The `union()` method returns a set that contains all items from both sets, excluding duplicates. E,g, `set1.union(set2)`\n",
    "\n",
    "The `intersection()` method returns a set that contains only items that exist in both sets (or more). E.g., `set1.intersection(set2)`\n",
    "\n",
    "The `difference()` method returns a set that contains items that exist only in the first set, and not in both sets. E.g., `set2.difference(set1)`\n",
    "\n",
    "\n",
    "### Action\n",
    "In the cell below, do the following:\n",
    "\n",
    "- Create a set `set1` that contains the elements `'a','b','c','d','e'`\n",
    "- Create another set `set2` that contains the elements `'d','e','f','g','h'`\n",
    "- Find the union and intersection between both sets.\n",
    "- Find the difference between `set2` and `set1`\n",
    "- Add the element `'f'` to `set1`\n",
    "- Remove the element `'a'` from `set2`\n"
   ]
  },
  {
   "cell_type": "code",
   "execution_count": 165,
   "metadata": {},
   "outputs": [],
   "source": [
    "#Type your code here\n",
    "set1 = set()"
   ]
  },
  {
   "cell_type": "code",
   "execution_count": 167,
   "metadata": {},
   "outputs": [
    {
     "data": {
      "text/plain": [
       "{'a'}"
      ]
     },
     "execution_count": 167,
     "metadata": {},
     "output_type": "execute_result"
    }
   ],
   "source": [
    "set1.add('a')\n",
    "set1"
   ]
  },
  {
   "cell_type": "code",
   "execution_count": 169,
   "metadata": {},
   "outputs": [
    {
     "data": {
      "text/plain": [
       "{'a', 'b'}"
      ]
     },
     "execution_count": 169,
     "metadata": {},
     "output_type": "execute_result"
    }
   ],
   "source": [
    "set1.add('b')\n",
    "set1"
   ]
  },
  {
   "cell_type": "code",
   "execution_count": 171,
   "metadata": {},
   "outputs": [
    {
     "data": {
      "text/plain": [
       "{'a', 'b', 'c'}"
      ]
     },
     "execution_count": 171,
     "metadata": {},
     "output_type": "execute_result"
    }
   ],
   "source": [
    "set1.add('c')\n",
    "set1"
   ]
  },
  {
   "cell_type": "code",
   "execution_count": 172,
   "metadata": {},
   "outputs": [
    {
     "data": {
      "text/plain": [
       "{'a', 'b', 'c', 'd'}"
      ]
     },
     "execution_count": 172,
     "metadata": {},
     "output_type": "execute_result"
    }
   ],
   "source": [
    "set1.add('d')\n",
    "set1"
   ]
  },
  {
   "cell_type": "code",
   "execution_count": 173,
   "metadata": {},
   "outputs": [
    {
     "data": {
      "text/plain": [
       "{'a', 'b', 'c', 'd', 'e'}"
      ]
     },
     "execution_count": 173,
     "metadata": {},
     "output_type": "execute_result"
    }
   ],
   "source": [
    "set1.add('e')\n",
    "set1"
   ]
  },
  {
   "cell_type": "code",
   "execution_count": 175,
   "metadata": {},
   "outputs": [],
   "source": [
    "set2 = set()"
   ]
  },
  {
   "cell_type": "code",
   "execution_count": 176,
   "metadata": {},
   "outputs": [
    {
     "data": {
      "text/plain": [
       "{'d'}"
      ]
     },
     "execution_count": 176,
     "metadata": {},
     "output_type": "execute_result"
    }
   ],
   "source": [
    "set2.add('d')\n",
    "set2"
   ]
  },
  {
   "cell_type": "code",
   "execution_count": 177,
   "metadata": {},
   "outputs": [
    {
     "data": {
      "text/plain": [
       "{'d', 'e'}"
      ]
     },
     "execution_count": 177,
     "metadata": {},
     "output_type": "execute_result"
    }
   ],
   "source": [
    "set2.add('e')\n",
    "set2"
   ]
  },
  {
   "cell_type": "code",
   "execution_count": 178,
   "metadata": {},
   "outputs": [
    {
     "data": {
      "text/plain": [
       "{'d', 'e', 'f'}"
      ]
     },
     "execution_count": 178,
     "metadata": {},
     "output_type": "execute_result"
    }
   ],
   "source": [
    "set2.add('f')\n",
    "set2"
   ]
  },
  {
   "cell_type": "code",
   "execution_count": 179,
   "metadata": {},
   "outputs": [
    {
     "data": {
      "text/plain": [
       "{'d', 'e', 'f', 'g'}"
      ]
     },
     "execution_count": 179,
     "metadata": {},
     "output_type": "execute_result"
    }
   ],
   "source": [
    "set2.add('g')\n",
    "set2"
   ]
  },
  {
   "cell_type": "code",
   "execution_count": 180,
   "metadata": {},
   "outputs": [
    {
     "data": {
      "text/plain": [
       "{'d', 'e', 'f', 'g', 'h'}"
      ]
     },
     "execution_count": 180,
     "metadata": {},
     "output_type": "execute_result"
    }
   ],
   "source": [
    "set2.add('h')\n",
    "set2"
   ]
  },
  {
   "cell_type": "code",
   "execution_count": 181,
   "metadata": {},
   "outputs": [
    {
     "data": {
      "text/plain": [
       "{'a', 'b', 'c', 'd', 'e', 'f', 'g', 'h'}"
      ]
     },
     "execution_count": 181,
     "metadata": {},
     "output_type": "execute_result"
    }
   ],
   "source": [
    "set1.union(set2)"
   ]
  },
  {
   "cell_type": "code",
   "execution_count": 182,
   "metadata": {},
   "outputs": [
    {
     "data": {
      "text/plain": [
       "{'d', 'e'}"
      ]
     },
     "execution_count": 182,
     "metadata": {},
     "output_type": "execute_result"
    }
   ],
   "source": [
    "set1.intersection(set2)"
   ]
  },
  {
   "cell_type": "code",
   "execution_count": 183,
   "metadata": {},
   "outputs": [
    {
     "data": {
      "text/plain": [
       "{'f', 'g', 'h'}"
      ]
     },
     "execution_count": 183,
     "metadata": {},
     "output_type": "execute_result"
    }
   ],
   "source": [
    "set2.difference(set1)"
   ]
  },
  {
   "cell_type": "code",
   "execution_count": 187,
   "metadata": {},
   "outputs": [
    {
     "data": {
      "text/plain": [
       "{'a', 'b', 'c', 'd', 'e'}"
      ]
     },
     "execution_count": 187,
     "metadata": {},
     "output_type": "execute_result"
    }
   ],
   "source": [
    "set1"
   ]
  },
  {
   "cell_type": "code",
   "execution_count": 188,
   "metadata": {},
   "outputs": [
    {
     "data": {
      "text/plain": [
       "{'d', 'e', 'f', 'g', 'h'}"
      ]
     },
     "execution_count": 188,
     "metadata": {},
     "output_type": "execute_result"
    }
   ],
   "source": [
    "set2"
   ]
  },
  {
   "cell_type": "markdown",
   "metadata": {},
   "source": [
    "One important feature of sets is that they do not allow the use of mutable elements. Therefore, a set cannot contain elements such as lists. As an example, the following line will raise a type error:\n",
    "\n",
    "    set([[1,2,3], 4,5])\n",
    "    \n",
    "To avoid this behaviour, we can pass inmutable sequences instead of mutable ones. In this particular case, we can fix this issue by:\n",
    "    \n",
    "    set([(1,2,3), 4,5])\n",
    "    \n",
    "### Action\n",
    "\n",
    "Try below both of the previous statements and understand the behaviour of this property.\n"
   ]
  },
  {
   "cell_type": "code",
   "execution_count": 192,
   "metadata": {},
   "outputs": [
    {
     "data": {
      "text/plain": [
       "{(1, 2, 3), 4, 5}"
      ]
     },
     "execution_count": 192,
     "metadata": {},
     "output_type": "execute_result"
    }
   ],
   "source": [
    "# Write your code here!\n",
    "set3 = set([(1,2,3), 4,5])\n",
    "set3"
   ]
  },
  {
   "cell_type": "markdown",
   "metadata": {},
   "source": [
    "# 5 Mappings <a name=\"mappings\"></a>\n",
    "\n",
    "A <i>mapping</i> is a data type in which the position of the elements can be identified using a <i>key</i>. Lists can be understood as a particular type of mapping where the <i>key</i> is a sequence of integers (the indexes). We can think of a mapping as a sort of table, in which each row has an identifier assigned.\n",
    "\n",
    "For example a mapping called `map` in which the elements `1` to `4` are identified by their corresponding name in words, can be conceptualised as a table like the one below:\n",
    "![](figures\\\\mapping.png)\n",
    "\n",
    "## 5.1 Dictionaries<a name=\"dictionaries\"></a>\n",
    "\n",
    "A dictionary is a type of mapping in which the keys are either strings or tuples. \n",
    "\n",
    "In practice, only strings are used to create keys. To define a dictionary, pairs of `values` and `keys` are needed. We can build a dictionary in two ways: either as a \"keyed set\", or using the `dict` command. These two methods are presented below to start building a dictionary that represents the table above: \n",
    "\n",
    "Way 1: using the \"keyed construction\".\n",
    "\n",
    "    f = {'one': 1, 'two': 2}\n",
    "    \n",
    "Way 2: using the `dict` command:\n",
    "    \n",
    "    f = dict(one=1, two=2)\n",
    "    \n",
    "In both examples, the keys are the labels `'one'` and `'two'`.\n",
    "\n",
    "### Action\n",
    "\n",
    "In the cell below, make a dictionary with keys `name` and `last_name`, and fill it up with your own values. Try both methods."
   ]
  },
  {
   "cell_type": "code",
   "execution_count": null,
   "metadata": {},
   "outputs": [],
   "source": [
    "#Type here your code!\n",
    "f = {'name':'Axel' , 'last_name':'Hutomo'}\n",
    "\n",
    "f = dict(name='Axel', last_name='Hutomo')\n",
    "\n",
    "f"
   ]
  },
  {
   "cell_type": "markdown",
   "metadata": {},
   "source": [
    "### Some possible operations with Dictionaries\n",
    "\n",
    "Dictionaries have several useful <i>methods</i>, including:\n",
    "\n",
    "- `dict.keys()` Returns a view of the keys in the dictionary\n",
    "- `dict.values()` Returns a view of the values in the dictionary\n",
    "- `dict.items()` Returns a view of the key-value pairs in the dictionary\n",
    "\n",
    "<b>Note</b> The outcome of these methods are <i>generators</i>.\n",
    "\n",
    "To access the elements of a dictionary, we use square brackets. Therefore, to access the value of the key `'one'` of the dictionary `f` above, we use:\n",
    "\n",
    "    f['one']\n",
    "whose output is `1`.\n",
    "\n",
    "#### Action\n",
    "\n",
    "- Make a dictionary with your personal data (does not have to be real) which include your name, last name, telephone number, favourite colour and a list of your lucky numbers (at least 3)\n",
    "- Retrieve the name that you saved in the dictionary\n",
    "- Retrieve your second lucky number\n",
    "\n"
   ]
  },
  {
   "cell_type": "code",
   "execution_count": null,
   "metadata": {},
   "outputs": [],
   "source": [
    "id_1 = {'name':'Ignasius Axel' , 'last_name':'Hutomo' , 'telephone number':'6281239396644' , 'favourite colour':'black' , 'lucky_numbers':[7,21,12,95]}"
   ]
  },
  {
   "cell_type": "code",
   "execution_count": null,
   "metadata": {},
   "outputs": [],
   "source": [
    "id_1['name']"
   ]
  },
  {
   "cell_type": "code",
   "execution_count": null,
   "metadata": {},
   "outputs": [],
   "source": [
    "id_1['last_name']"
   ]
  },
  {
   "cell_type": "code",
   "execution_count": null,
   "metadata": {},
   "outputs": [],
   "source": [
    "id_1['lucky_numbers'][1]"
   ]
  },
  {
   "cell_type": "markdown",
   "metadata": {},
   "source": [
    "## 5.2. Enumerates<a name=\"enumerates\"></a>\n",
    "\n",
    "Enumerates are a type of mapping that allow generating a numerical sequence that maps the position of the iterable element that was used to create it. In other words, an enumerate adds an index to an element to be iterated.\n",
    "\n",
    "As an example, we can have the string (which is an iterable):\n",
    "\n",
    "    a = 'Open your eyes'\n",
    "    \n",
    "We can generate an enumerate to define the position of each element as:\n",
    "    \n",
    "    enumerate(a)\n",
    "    \n",
    "Check this in the cell below. Note that in order to see all pairs, an <i>iteration</i> is needed. In this case, a `for` loop (we shall see loops later in the course)."
   ]
  },
  {
   "cell_type": "code",
   "execution_count": 111,
   "metadata": {},
   "outputs": [
    {
     "name": "stdout",
     "output_type": "stream",
     "text": [
      "(0, 'O')\n",
      "(1, 'p')\n",
      "(2, 'e')\n",
      "(3, 'n')\n",
      "(4, ' ')\n",
      "(5, 'y')\n",
      "(6, 'o')\n",
      "(7, 'u')\n",
      "(8, 'r')\n",
      "(9, ' ')\n",
      "(10, 'e')\n",
      "(11, 'y')\n",
      "(12, 'e')\n",
      "(13, 's')\n"
     ]
    }
   ],
   "source": [
    "a = 'Open your eyes'\n",
    "b = [print(i) for i in enumerate(a)]"
   ]
  },
  {
   "cell_type": "code",
   "execution_count": 115,
   "metadata": {},
   "outputs": [],
   "source": [
    "a = [0]"
   ]
  },
  {
   "cell_type": "code",
   "execution_count": 118,
   "metadata": {},
   "outputs": [
    {
     "data": {
      "text/plain": [
       "list"
      ]
     },
     "execution_count": 118,
     "metadata": {},
     "output_type": "execute_result"
    }
   ],
   "source": [
    "type(a)"
   ]
  },
  {
   "cell_type": "code",
   "execution_count": null,
   "metadata": {},
   "outputs": [],
   "source": []
  }
 ],
 "metadata": {
  "kernelspec": {
   "display_name": "Python 3 (ipykernel)",
   "language": "python",
   "name": "python3"
  },
  "language_info": {
   "codemirror_mode": {
    "name": "ipython",
    "version": 3
   },
   "file_extension": ".py",
   "mimetype": "text/x-python",
   "name": "python",
   "nbconvert_exporter": "python",
   "pygments_lexer": "ipython3",
   "version": "3.9.7"
  }
 },
 "nbformat": 4,
 "nbformat_minor": 2
}
