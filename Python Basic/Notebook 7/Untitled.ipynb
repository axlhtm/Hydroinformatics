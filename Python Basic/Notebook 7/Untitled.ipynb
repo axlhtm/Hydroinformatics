{
 "cells": [
  {
   "cell_type": "code",
   "execution_count": 2,
   "id": "133a45e9",
   "metadata": {},
   "outputs": [],
   "source": [
    "temperature = [10,11,12,13,14,15.5]"
   ]
  },
  {
   "cell_type": "code",
   "execution_count": 5,
   "id": "1010bb6a",
   "metadata": {},
   "outputs": [],
   "source": [
    "import numpy as np"
   ]
  },
  {
   "cell_type": "code",
   "execution_count": 8,
   "id": "94d3f201",
   "metadata": {},
   "outputs": [],
   "source": [
    "temperature = np.array(temperature)"
   ]
  },
  {
   "cell_type": "code",
   "execution_count": 25,
   "id": "04e01330",
   "metadata": {},
   "outputs": [
    {
     "data": {
      "text/plain": [
       "12.583333333333334"
      ]
     },
     "execution_count": 25,
     "metadata": {},
     "output_type": "execute_result"
    }
   ],
   "source": [
    "temperature.mean()"
   ]
  },
  {
   "cell_type": "code",
   "execution_count": 32,
   "id": "04f50b9a",
   "metadata": {},
   "outputs": [
    {
     "name": "stdout",
     "output_type": "stream",
     "text": [
      "10.0\n",
      "21.0\n",
      "33.0\n",
      "46.0\n",
      "60.0\n",
      "75.5\n"
     ]
    }
   ],
   "source": [
    "a = 0 \n",
    "for i in temperature : \n",
    "    a = a + i \n",
    "    print (a)\n",
    "\n",
    "rerata = a / len(temperature)"
   ]
  },
  {
   "cell_type": "code",
   "execution_count": 33,
   "id": "60a5e076",
   "metadata": {},
   "outputs": [
    {
     "data": {
      "text/plain": [
       "12.583333333333334"
      ]
     },
     "execution_count": 33,
     "metadata": {},
     "output_type": "execute_result"
    }
   ],
   "source": [
    "rerata"
   ]
  },
  {
   "cell_type": "code",
   "execution_count": null,
   "id": "1a639a24",
   "metadata": {},
   "outputs": [],
   "source": []
  },
  {
   "cell_type": "code",
   "execution_count": null,
   "id": "fc79e60e",
   "metadata": {},
   "outputs": [],
   "source": []
  },
  {
   "cell_type": "code",
   "execution_count": null,
   "id": "c4711e28",
   "metadata": {},
   "outputs": [],
   "source": []
  },
  {
   "cell_type": "code",
   "execution_count": null,
   "id": "fea47efb",
   "metadata": {},
   "outputs": [],
   "source": [
    "for i in temperature : \n",
    "    if abs (i - average) < "
   ]
  },
  {
   "cell_type": "code",
   "execution_count": null,
   "id": "7fa230a3",
   "metadata": {},
   "outputs": [],
   "source": []
  },
  {
   "cell_type": "code",
   "execution_count": null,
   "id": "ccae95d2",
   "metadata": {},
   "outputs": [],
   "source": []
  }
 ],
 "metadata": {
  "kernelspec": {
   "display_name": "Python 3 (ipykernel)",
   "language": "python",
   "name": "python3"
  },
  "language_info": {
   "codemirror_mode": {
    "name": "ipython",
    "version": 3
   },
   "file_extension": ".py",
   "mimetype": "text/x-python",
   "name": "python",
   "nbconvert_exporter": "python",
   "pygments_lexer": "ipython3",
   "version": "3.9.7"
  }
 },
 "nbformat": 4,
 "nbformat_minor": 5
}
