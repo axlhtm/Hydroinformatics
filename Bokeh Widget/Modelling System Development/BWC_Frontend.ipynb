{
 "cells": [
  {
   "cell_type": "markdown",
   "metadata": {},
   "source": [
    "# Back Water Curve - Front End"
   ]
  },
  {
   "cell_type": "markdown",
   "metadata": {},
   "source": [
    "### Make the Front End Layout by Using Bokeh Widget "
   ]
  },
  {
   "cell_type": "code",
   "execution_count": 2,
   "metadata": {},
   "outputs": [],
   "source": [
    "from bokeh.plotting import figure\n",
    "from bokeh.layouts import row, column\n",
    "from bokeh.io import output_file, show\n",
    "from bokeh.models import CustomJS, TextInput, RangeSlider\n",
    "from bokeh.models.widgets import RadioButtonGroup, Slider, Select, Button, Div\n",
    "\n",
    "##### SET THE HEADER #####\n",
    "main_menu        = RadioButtonGroup(labels=[\"Back Water Curve\", \"Sugawara Tank\", \"Free Flow Equations\"], active=0)\n",
    "app_title        = Div(text=\"<b> BACK WATER CURVE </b>\")\n",
    "description      = Div(text=\"This application helps <b>calculating and analyzing the water profiles for the back water curve phenomenon.</b> All errors and the graphical result will be shown after the calculation is finished.\")\n",
    "\n",
    "##### SET THE CHANNEL GEOMETRIC PARAMETER ##### \n",
    "sub_div_title_1  = Div(text=\"<b>CHANNEL GEOMETRIC PARAMETER\")\n",
    "channel_length   = TextInput(value=\"1000\", title=\"Channel Length (meter):\")\n",
    "channel_width    = TextInput(title=\"Channel Width (meter):\", value=\"10\")\n",
    "channel_sloope   = Slider(start=0, end=1, value=0.05, step=.0001, title=\"Channel Sloope\")\n",
    "\n",
    "##### SET THE ROUGHNESS CALCULATION METHOD #####\n",
    "sub_div_title_2  = Div(text=\"<b>HYDRAULICS PARAMETER\")\n",
    "roughness_method = Select(title=\"Roughness Coefficient Method:\", value=\"Chezy\", options=[\"Chezy\", \"Hazen-Williams\", \"Darcy-Weisbach\", \"Manning-Strickler\"])\n",
    "roughness        = TextInput(title=\"Roughness Coefficient Value:\", value=\"5\")\n",
    "discharge        = TextInput(title=\"Discharge (meter cubes / seconds):\", value=\"50\")\n",
    "water_depth      = TextInput(title=\"Water Depth (meter):\", value=\"8\")\n",
    "\n",
    "##### SET THE NUMERICAL METHOD ##### \n",
    "sub_div_title_3  = Div(text=\"<b>NUMERICAL SOLUTIONS METHOD\")\n",
    "numerical        = Select(title=\"Numerical Method:\", value=\"Explicit\", options=[\"Explicit\", \"Implicit\", \"Combined\"])\n",
    "space_step       = Slider(start=0, end=100, value=10, step=.1, title=\"Space Step (dx) (meter)\")\n",
    "error            = Slider(start=0, end=1, value=0.5, step=.01, title=\"Error Tollerance\")\n",
    "\n",
    "##### SET THE OUTPUT BUTTON #####\n",
    "sub_div_title_4  = Div(text=\"<b>===========================================================================================</b>\")\n",
    "output_button_1  = Button(label=\"Analyze Data\", button_type=\"default\")\n",
    "output_button_2  = Button(label=\"Export Chart Result\")\n",
    "\n",
    "##### SET THE FIGURE #####\n",
    "graph            = figure(plot_width=700, plot_height=500, title=None)\n",
    "graph.line([0,5,10,15,20],[0,5,10,15,20])\n",
    "fig              = figure(plot_width=650, plot_height=650, title=None)\n",
    "\n",
    "##### SHOW THE GUI #####\n",
    "output_file(\"Back-Water-Curve.html\")\n",
    "show(column(main_menu, app_title, description,sub_div_title_1, channel_length, channel_width, channel_sloope, row(column(sub_div_title_2,roughness_method, roughness,discharge,water_depth),column(sub_div_title_3,numerical,space_step,error)),column(sub_div_title_4),column(graph), row(column(output_button_1),column(output_button_2))))"
   ]
  },
  {
   "cell_type": "code",
   "execution_count": null,
   "metadata": {},
   "outputs": [],
   "source": []
  }
 ],
 "metadata": {
  "interpreter": {
   "hash": "07efdcd4b820c98a756949507a4d29d7862823915ec7477944641bea022f4f62"
  },
  "kernelspec": {
   "display_name": "Python 3.9.7 ('base')",
   "language": "python",
   "name": "python3"
  },
  "language_info": {
   "codemirror_mode": {
    "name": "ipython",
    "version": 3
   },
   "file_extension": ".py",
   "mimetype": "text/x-python",
   "name": "python",
   "nbconvert_exporter": "python",
   "pygments_lexer": "ipython3",
   "version": "3.9.7"
  },
  "orig_nbformat": 4
 },
 "nbformat": 4,
 "nbformat_minor": 2
}
