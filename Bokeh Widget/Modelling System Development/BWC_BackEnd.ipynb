{
 "cells": [
  {
   "cell_type": "markdown",
   "metadata": {},
   "source": [
    "# Back Water Curve - Back End"
   ]
  },
  {
   "cell_type": "markdown",
   "metadata": {},
   "source": [
    "### Make the Back End Function for Each Widget "
   ]
  },
  {
   "cell_type": "code",
   "execution_count": 1,
   "metadata": {},
   "outputs": [],
   "source": [
    "##### Define the Function for Reading the Input Value #####\n",
    "def read_data(path) :\n",
    "    results = None\n",
    "    results_dict= dict()\n",
    "    with open(path,'r') as file:\n",
    "        for line in file:\n",
    "            if '#' in line or line.isspace() :\n",
    "                pass\n",
    "            else:\n",
    "                 results = line.split('=')\n",
    "                 results_dict[results[0]] =float( results[1] ) \n",
    "    return results_dict\n",
    "\n",
    "data_dict   = read_data('Back Water Curve - Input.txt')\n",
    "\n",
    "b  = data_dict['b' ] # Channel width (m)               \n",
    "hd = data_dict['hd'] # Initial water depth at downstream (m)\n",
    "dx = data_dict['dx'] # Space step (m)\n",
    "Q  = data_dict['Q' ] # Discharge (m3/s)\n",
    "C  = data_dict['C' ] # Chezy coefficient \n",
    "S0 = data_dict['S0'] # Channel sloope (m/m)\n",
    "Nx = data_dict['Nx'] # Number of steps\n",
    "L  = data_dict['L' ] # Channel length (m)\n",
    "\n",
    "##### Define the Function for Calculate ##### \n",
    "def calculation(b,hd,dx,Q,C,S0,Nx,L) : \n",
    "    maxcom = int (L/dx) + 1 \n",
    "    x      = [0 ] # Distance iteration\n",
    "    Hw_Exp = [hd] # Water height using explicit approach (m)\n",
    "    Hg     = [0 ] # Ground height (m)\n",
    "    Wl_Exp = [hd] # Water level using explicit approach (m) \n",
    "\n",
    "    for i in range (1,maxcom):\n",
    "        x.append      (x[i-1] + dx)\n",
    "        Hg.append     (i * dx * S0)\n",
    "        Hw_Exp.append (Hw_Exp[i-1] + dx * (((Q**2 / (C**2 * Hw_Exp[i-1]**3 * b**2))-S0)))\n",
    "        Wl_Exp.append (Hw_Exp[i] + Hg[i])\n",
    "\n",
    "##### Create Output #####\n",
    "\n"
   ]
  },
  {
   "cell_type": "code",
   "execution_count": null,
   "metadata": {},
   "outputs": [],
   "source": []
  }
 ],
 "metadata": {
  "interpreter": {
   "hash": "07efdcd4b820c98a756949507a4d29d7862823915ec7477944641bea022f4f62"
  },
  "kernelspec": {
   "display_name": "Python 3.9.7 ('base')",
   "language": "python",
   "name": "python3"
  },
  "language_info": {
   "codemirror_mode": {
    "name": "ipython",
    "version": 3
   },
   "file_extension": ".py",
   "mimetype": "text/x-python",
   "name": "python",
   "nbconvert_exporter": "python",
   "pygments_lexer": "ipython3",
   "version": "3.9.7"
  },
  "orig_nbformat": 4
 },
 "nbformat": 4,
 "nbformat_minor": 2
}
