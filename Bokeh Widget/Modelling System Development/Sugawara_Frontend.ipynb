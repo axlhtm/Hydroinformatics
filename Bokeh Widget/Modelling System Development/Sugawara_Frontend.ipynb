{
 "cells": [
  {
   "cell_type": "markdown",
   "metadata": {},
   "source": [
    "# Sugawara - Front End"
   ]
  },
  {
   "cell_type": "markdown",
   "metadata": {},
   "source": [
    "### Make the Front End Layout by Using Bokeh Widget "
   ]
  },
  {
   "cell_type": "code",
   "execution_count": 1,
   "metadata": {},
   "outputs": [
    {
     "name": "stderr",
     "output_type": "stream",
     "text": [
      "WARNING:bokeh.core.validation.check:W-1000 (MISSING_RENDERERS): Plot has no renderers: Figure(id='1018', ...)\n"
     ]
    }
   ],
   "source": [
    "from bokeh.plotting import figure\n",
    "from bokeh.layouts import row, column\n",
    "from bokeh.io import output_file, show\n",
    "from bokeh.models import CustomJS, TextInput, RangeSlider\n",
    "from bokeh.models.widgets import RadioButtonGroup, Slider, Select, Button, Div\n",
    "\n",
    "##### SET THE HEADER #####\n",
    "logo             = Div(text=\"<https://www.un-ihe.org/sites/default/files/ihe-delft_logo_black_cyan_reduced_version.png'>\")\n",
    "main_menu        = RadioButtonGroup(labels=[\"Back Water Curve\", \"Sugawara Tank\", \"Free Flow Equations\"], active=1)\n",
    "app_title        = Div(text=\"<b> SUGAWARA TANK </b>\")\n",
    "description      = Div(text=\"This application helps <b>calculating and analyzing water behaviour on Sugawara Tanks. </b> All errors and the graphical result will be shown after the calculation is finished.\")\n",
    "\n",
    "##### SET THE MODEL PARAMETER ##### \n",
    "sub_div_title_1  = Div(text=\"<b>MODEL PARAMETER</b>\")\n",
    "\n",
    "d1_widget        = TextInput(value=\"5\", title=\"d1 in mm:\")\n",
    "d2_widget        = TextInput(value=\"6\", title=\"d2 in mm:\")\n",
    "\n",
    "s1_widget        = TextInput(value=\"7\", title=\"s1 in mm:\")\n",
    "s2_widget        = TextInput(value=\"8\", title=\"s2 in mm:\")\n",
    "\n",
    "k1_widget        = TextInput(value=\"9\", title=\"k1:\")\n",
    "k2_widget        = TextInput(value=\"10\", title=\"k2:\")\n",
    "k3_widget        = TextInput(value=\"11\", title=\"k3:\")\n",
    "k4_widget        = TextInput(value=\"12\", title=\"k4:\")\n",
    "\n",
    "##### SET THE OUTPUT BUTTON #####\n",
    "sub_div_title_4  = Div(text=\"<b>===========================================================================================</b>\")\n",
    "output_button_1  = Button(label=\"Analyze Data\", button_type=\"default\")\n",
    "output_button_2  = Button(label=\"Export Chart Result\")\n",
    "\n",
    "##### SET THE FIGURE #####\n",
    "graph            = figure(plot_width=700, plot_height=500, title=None)\n",
    "\n",
    "##### SHOW THE GUI #####\n",
    "output_file(\"Back-Water-Curve.html\")\n",
    "show(column(logo, main_menu, app_title, description,sub_div_title_1, row(column(d1_widget, d2_widget, s1_widget, s2_widget),column(k1_widget, k2_widget, k3_widget, k4_widget)),column(graph), row(column(output_button_1),column(output_button_2))))"
   ]
  },
  {
   "cell_type": "code",
   "execution_count": null,
   "metadata": {},
   "outputs": [],
   "source": []
  }
 ],
 "metadata": {
  "interpreter": {
   "hash": "07efdcd4b820c98a756949507a4d29d7862823915ec7477944641bea022f4f62"
  },
  "kernelspec": {
   "display_name": "Python 3.9.7 ('base')",
   "language": "python",
   "name": "python3"
  },
  "language_info": {
   "codemirror_mode": {
    "name": "ipython",
    "version": 3
   },
   "file_extension": ".py",
   "mimetype": "text/x-python",
   "name": "python",
   "nbconvert_exporter": "python",
   "pygments_lexer": "ipython3",
   "version": "3.9.7"
  },
  "orig_nbformat": 4
 },
 "nbformat": 4,
 "nbformat_minor": 2
}
