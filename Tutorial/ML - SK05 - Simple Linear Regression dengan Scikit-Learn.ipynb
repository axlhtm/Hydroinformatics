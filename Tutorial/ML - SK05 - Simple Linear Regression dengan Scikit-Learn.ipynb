{
 "cells": [
  {
   "cell_type": "markdown",
   "metadata": {},
   "source": [
    "# TUTORIAL 05:\n",
    "## Simple Linear Regression dengan Scikit-Learn"
   ]
  },
  {
   "cell_type": "markdown",
   "metadata": {},
   "source": [
    "Simple linear regression **memodelkan hubungan antara sebuah response variable dengan sebuah explanatory variable sebagai suatu garis lurus**(linear) "
   ]
  },
  {
   "cell_type": "code",
   "execution_count": 3,
   "metadata": {},
   "outputs": [],
   "source": [
    "import pandas as pd "
   ]
  },
  {
   "cell_type": "markdown",
   "metadata": {},
   "source": [
    "Sebagai contoh, kita mempunyai sebuah data pizza yang memiliki 2 key yaitu diameter dan harga. Kita mencoba memasukan features tersebut dengan menggunakan **dictionary** pada python dan merubahnya dalam bentuk **data frame** seperti dibawah ini: "
   ]
  },
  {
   "cell_type": "code",
   "execution_count": 4,
   "metadata": {},
   "outputs": [
    {
     "data": {
      "text/html": [
       "<div>\n",
       "<style scoped>\n",
       "    .dataframe tbody tr th:only-of-type {\n",
       "        vertical-align: middle;\n",
       "    }\n",
       "\n",
       "    .dataframe tbody tr th {\n",
       "        vertical-align: top;\n",
       "    }\n",
       "\n",
       "    .dataframe thead th {\n",
       "        text-align: right;\n",
       "    }\n",
       "</style>\n",
       "<table border=\"1\" class=\"dataframe\">\n",
       "  <thead>\n",
       "    <tr style=\"text-align: right;\">\n",
       "      <th></th>\n",
       "      <th>diameter</th>\n",
       "      <th>harga</th>\n",
       "    </tr>\n",
       "  </thead>\n",
       "  <tbody>\n",
       "    <tr>\n",
       "      <th>0</th>\n",
       "      <td>6</td>\n",
       "      <td>7.0</td>\n",
       "    </tr>\n",
       "    <tr>\n",
       "      <th>1</th>\n",
       "      <td>8</td>\n",
       "      <td>9.0</td>\n",
       "    </tr>\n",
       "    <tr>\n",
       "      <th>2</th>\n",
       "      <td>10</td>\n",
       "      <td>13.0</td>\n",
       "    </tr>\n",
       "    <tr>\n",
       "      <th>3</th>\n",
       "      <td>14</td>\n",
       "      <td>17.5</td>\n",
       "    </tr>\n",
       "    <tr>\n",
       "      <th>4</th>\n",
       "      <td>18</td>\n",
       "      <td>18.0</td>\n",
       "    </tr>\n",
       "  </tbody>\n",
       "</table>\n",
       "</div>"
      ],
      "text/plain": [
       "   diameter  harga\n",
       "0         6    7.0\n",
       "1         8    9.0\n",
       "2        10   13.0\n",
       "3        14   17.5\n",
       "4        18   18.0"
      ]
     },
     "execution_count": 4,
     "metadata": {},
     "output_type": "execute_result"
    }
   ],
   "source": [
    "pizza = {'diameter' : [6, 8, 10, 14, 18], \n",
    "         'harga'    : [7, 9, 13, 17.5, 18]}\n",
    "\n",
    "pizza_df = pd.DataFrame(pizza)\n",
    "pizza_df"
   ]
  },
  {
   "cell_type": "markdown",
   "metadata": {},
   "source": [
    "Disini kita mencoba untuk membuat model **machine learning** sederhana, dimana kita memerintahkan mesin tersebut untuk **menerka harga pizza berdasarkan diameternya**. Dengan kata lain, **diameter akan berperan sebagai features, sedangkan harga berperan sebagai target**. "
   ]
  },
  {
   "cell_type": "code",
   "execution_count": 19,
   "metadata": {},
   "outputs": [
    {
     "data": {
      "image/png": "[encoded data removed]",
      "text/plain": [
       "<Figure size 432x288 with 1 Axes>"
      ]
     },
     "metadata": {
      "needs_background": "light"
     },
     "output_type": "display_data"
    }
   ],
   "source": [
    "import matplotlib.pyplot as plt \n",
    "\n",
    "pizza_df.plot(kind='scatter', x ='diameter', y='harga')\n",
    "\n",
    "plt.title('Hubungan Diameter dan Harga Pizza')\n",
    "plt.xlabel('Diameter Pizza (inch)')\n",
    "plt.ylabel('Harga Pizza (dollar)')\n",
    "plt.xlim(0,25)\n",
    "plt.ylim(0,25)\n",
    "plt.grid(True)\n",
    "plt.show()"
   ]
  },
  {
   "cell_type": "markdown",
   "metadata": {},
   "source": [
    "### Simple Linear Regression Model\n",
    "Digunakan untuk menyelesaikan regression task. "
   ]
  },
  {
   "cell_type": "code",
   "execution_count": 10,
   "metadata": {},
   "outputs": [
    {
     "name": "stdout",
     "output_type": "stream",
     "text": [
      "x: [ 6  8 10 14 18]\n",
      "y: [ 7.   9.  13.  17.5 18. ]\n"
     ]
    }
   ],
   "source": [
    "import numpy as np \n",
    "\n",
    "x = np.array(pizza_df['diameter'])       # Variable feature\n",
    "y = np.array(pizza_df['harga'])          # Variable target \n",
    "\n",
    "print(f'x: {x}')\n",
    "print(f'y: {y}')"
   ]
  },
  {
   "cell_type": "markdown",
   "metadata": {},
   "source": [
    "Nilai **variable x dan y yang telah dibuat hanya berdimensi satu**, namun **sk-learn method membutuhkan dua dimensi** sehingga kita perlu **mereshape variable** feature dan variable target yang telah dibuat"
   ]
  },
  {
   "cell_type": "code",
   "execution_count": 13,
   "metadata": {},
   "outputs": [
    {
     "data": {
      "text/plain": [
       "(5, 1)"
      ]
     },
     "execution_count": 13,
     "metadata": {},
     "output_type": "execute_result"
    }
   ],
   "source": [
    "x = x.reshape(-1,1)\n",
    "x.shape"
   ]
  },
  {
   "cell_type": "markdown",
   "metadata": {},
   "source": [
    "### Training Simple Linear Regression Model\n",
    "\n",
    "Untuk melakukan training dengan menggunakan metode Linear Regression, kita perlu mengimport methods tersebut dari sk.learn. Selanjutnya digunakan method .fit(x,y) dimana x merujuk pada variable features 2 dimensi sedangkan y adalah variable target. "
   ]
  },
  {
   "cell_type": "code",
   "execution_count": 14,
   "metadata": {},
   "outputs": [
    {
     "data": {
      "text/plain": [
       "LinearRegression()"
      ]
     },
     "execution_count": 14,
     "metadata": {},
     "output_type": "execute_result"
    }
   ],
   "source": [
    "from sklearn.linear_model import LinearRegression\n",
    "\n",
    "model = LinearRegression()\n",
    "model.fit(x,y)"
   ]
  },
  {
   "cell_type": "markdown",
   "metadata": {},
   "source": [
    "### Visualisasi Simple Linear Regression Model\n",
    "\n",
    "**Formula Linear Regrresion adalah y = a + bx**, dimana: \n",
    "- y = Response Variable \n",
    "- x = Eplanatory Variable\n",
    "- a = Intercept             # Nilai y ketika x sama dengan 0\n",
    "- b = Slope                 # Kemiringan garis"
   ]
  },
  {
   "cell_type": "code",
   "execution_count": 29,
   "metadata": {},
   "outputs": [],
   "source": [
    "x_vis = np.array([0, 25]).reshape(-1,1) \n",
    "y_vis = model.predict(x_vis)"
   ]
  },
  {
   "cell_type": "code",
   "execution_count": 31,
   "metadata": {},
   "outputs": [
    {
     "data": {
      "image/png": "[encoded data removed]",
      "text/plain": [
       "<Figure size 432x288 with 1 Axes>"
      ]
     },
     "metadata": {
      "needs_background": "light"
     },
     "output_type": "display_data"
    },
    {
     "name": "stdout",
     "output_type": "stream",
     "text": [
      "intercept: 1.965517241379315\n",
      "slope: [0.9762931]\n"
     ]
    }
   ],
   "source": [
    "plt.scatter(x,y)                  # Plotting marker berwarna biru\n",
    "plt.plot(x_vis, y_vis, '-r')      # Plotting garis regresi berwarna merah, dimana kita mempunyai dua nilai x yaitu 0 dan 25\n",
    "\n",
    "plt.title('Perbandingan Diameter dan Harga Pizza')\n",
    "plt.xlabel('Diamter Pizza (inch)')\n",
    "plt.ylabel('Harga Pizza (dollar')\n",
    "plt.xlim(0,25)\n",
    "plt.ylim(0,25)\n",
    "plt.grid(True)\n",
    "plt.show()\n",
    "\n",
    "print(f'intercept: {model.intercept_}') # Method .intercept_ digunakan untuk memunculkan nilai intercept dari linear regression\n",
    "print(f'slope: {model.coef_}')          # Method .coef_ digunakan untuk memunculkan nilai gradien atau slope dari linear regression"
   ]
  },
  {
   "cell_type": "markdown",
   "metadata": {},
   "source": [
    "### Mencari Nilai Slope \n",
    "Untuk pembuktian nilai slope yang diperoleh dengan menggunakan method .coef_ , **Nilai slope pada Linear Regression** dapat diperoleh dengan memanfaatkan formula berikut: \n",
    "<br>b = cov(x,y) / var(x)\n",
    "\n",
    "dimana **cov(x,y) merujuk pada covariance** sedangkan **var(x) merujuk pada variance**."
   ]
  },
  {
   "cell_type": "code",
   "execution_count": 35,
   "metadata": {},
   "outputs": [
    {
     "name": "stdout",
     "output_type": "stream",
     "text": [
      "x: [[ 6]\n",
      " [ 8]\n",
      " [10]\n",
      " [14]\n",
      " [18]]\n",
      "x flatten: [ 6  8 10 14 18]\n",
      "y: [ 7.   9.  13.  17.5 18. ]\n"
     ]
    }
   ],
   "source": [
    "print(f'x: {x}')                   # Features variable 2 dimensi \n",
    "print(f'x flatten: {x.flatten()}') # Method .flatten() digunakan untuk merubah variable features 2 dimensi menjadi 1 dimensi\n",
    "print(f'y: {y}')                   # Target variable 1 dimensi"
   ]
  },
  {
   "cell_type": "markdown",
   "metadata": {},
   "source": [
    "#### Variance "
   ]
  },
  {
   "cell_type": "code",
   "execution_count": 36,
   "metadata": {},
   "outputs": [
    {
     "name": "stdout",
     "output_type": "stream",
     "text": [
      "variance = 23.2\n"
     ]
    }
   ],
   "source": [
    "variance_x = np.var(x.flatten(), ddof=1) # DDOF merujuk pada Degree of Freedom\n",
    "print(f'variance = {variance_x}')"
   ]
  },
  {
   "cell_type": "markdown",
   "metadata": {},
   "source": [
    "#### Covariance"
   ]
  },
  {
   "cell_type": "code",
   "execution_count": 37,
   "metadata": {},
   "outputs": [
    {
     "data": {
      "text/plain": [
       "array([[23.2 , 22.65],\n",
       "       [22.65, 24.3 ]])"
      ]
     },
     "execution_count": 37,
     "metadata": {},
     "output_type": "execute_result"
    }
   ],
   "source": [
    "np.cov(x.flatten(), y) # Penggunaan method .cov(x,y) membutuhkan 2 parameter, yaitu x (variable features) dan y (variable target) yang berdimensi satu"
   ]
  },
  {
   "cell_type": "code",
   "execution_count": 42,
   "metadata": {},
   "outputs": [
    {
     "name": "stdout",
     "output_type": "stream",
     "text": [
      "22.650000000000002\n"
     ]
    }
   ],
   "source": [
    "covariance_xy = np.cov(x.flatten(), y)[0][1] # Kita hanya membutuhkan nilai diagonalnya saja (22.65) sehingga kita menslice covariance tersebut.\n",
    "print(f'{covariance_xy}')"
   ]
  },
  {
   "cell_type": "markdown",
   "metadata": {},
   "source": [
    "#### Slope"
   ]
  },
  {
   "cell_type": "code",
   "execution_count": 43,
   "metadata": {},
   "outputs": [
    {
     "name": "stdout",
     "output_type": "stream",
     "text": [
      "0.976293103448276\n"
     ]
    }
   ],
   "source": [
    "slope = covariance_xy / variance_x\n",
    "print(f'{slope}')"
   ]
  },
  {
   "cell_type": "markdown",
   "metadata": {},
   "source": [
    "### Mencari Nilai Intercept \n",
    "Untuk pembuktian nilai intercept yang diperoleh dengan menggunakan method .intercept_ , **Nilai intercept pada Linear Regression** dapat diperoleh dengan memanfaatkan formula berikut: \n",
    "<br>a = y - bx\n",
    "\n",
    "dimana **a merujuk pada nilai intercept, y merujuk pada nilai rerata dari y, dan x merujuk pada nilai rerata dari x**. "
   ]
  },
  {
   "cell_type": "code",
   "execution_count": 47,
   "metadata": {},
   "outputs": [
    {
     "name": "stdout",
     "output_type": "stream",
     "text": [
      "intercept: 1.9655172413793096\n"
     ]
    }
   ],
   "source": [
    "intercept = np.mean(y) - slope * np.mean(x)\n",
    "print(f'intercept: {intercept}')"
   ]
  },
  {
   "cell_type": "markdown",
   "metadata": {},
   "source": [
    "### Prediksi Harga Pizza"
   ]
  },
  {
   "cell_type": "code",
   "execution_count": 49,
   "metadata": {},
   "outputs": [
    {
     "data": {
      "text/plain": [
       "array([[12],\n",
       "       [20],\n",
       "       [23]])"
      ]
     },
     "execution_count": 49,
     "metadata": {},
     "output_type": "execute_result"
    }
   ],
   "source": [
    "diameter_pizza = np.array([12,20,23]).reshape(-1,1)   # Kita mencoba untuk memprediksi harga pizza dari contoh berikut, dan di reshape \n",
    "diameter_pizza"
   ]
  },
  {
   "cell_type": "code",
   "execution_count": 50,
   "metadata": {},
   "outputs": [
    {
     "data": {
      "text/plain": [
       "array([13.68103448, 21.49137931, 24.42025862])"
      ]
     },
     "execution_count": 50,
     "metadata": {},
     "output_type": "execute_result"
    }
   ],
   "source": [
    "prediksi_harga = model.predict(diameter_pizza)\n",
    "prediksi_harga"
   ]
  },
  {
   "cell_type": "code",
   "execution_count": 52,
   "metadata": {},
   "outputs": [
    {
     "name": "stdout",
     "output_type": "stream",
     "text": [
      "Diameter: [12] prediksi harga: 13.681034482758621\n",
      "Diameter: [20] prediksi harga: 21.491379310344826\n",
      "Diameter: [23] prediksi harga: 24.42025862068965\n"
     ]
    }
   ],
   "source": [
    "for dmtr, hrg in zip(diameter_pizza, prediksi_harga): # Menampilkan prediksi harga dari contoh data diameter pizza dengan menggunakan for loop\n",
    "    print(f'Diameter: {dmtr} prediksi harga: {hrg}')"
   ]
  },
  {
   "cell_type": "markdown",
   "metadata": {},
   "source": [
    "### Evaluasi Simple Linear Regression Model"
   ]
  },
  {
   "cell_type": "markdown",
   "metadata": {},
   "source": [
    "### Training & Testing Dataset"
   ]
  },
  {
   "cell_type": "code",
   "execution_count": 53,
   "metadata": {},
   "outputs": [],
   "source": [
    "x_train = np.array([6,8,10,14,18]).reshape(-1,1) # Training set\n",
    "y_train = np.array([7,9,13,17.5,18])             # Training set\n",
    "\n",
    "x_test = np.array([8,9,11,16,12]).reshape(-1,1)  # Test set\n",
    "y_test = np.array([11, 8.5, 15, 18, 11])         # Test set"
   ]
  },
  {
   "cell_type": "markdown",
   "metadata": {},
   "source": [
    "### Training Simple Linear Regression Model"
   ]
  },
  {
   "cell_type": "code",
   "execution_count": 54,
   "metadata": {},
   "outputs": [
    {
     "data": {
      "text/plain": [
       "LinearRegression()"
      ]
     },
     "execution_count": 54,
     "metadata": {},
     "output_type": "execute_result"
    }
   ],
   "source": [
    "model = LinearRegression()\n",
    "model.fit(x_train, y_train)"
   ]
  },
  {
   "cell_type": "markdown",
   "metadata": {},
   "source": [
    "### Evaluasi Linear Regression Model dengan Coefficient of Determination atau R-Squared (R2)"
   ]
  },
  {
   "cell_type": "code",
   "execution_count": 55,
   "metadata": {},
   "outputs": [
    {
     "name": "stdout",
     "output_type": "stream",
     "text": [
      "R-Squared: 0.6620052929422553\n"
     ]
    }
   ],
   "source": [
    "from sklearn.metrics import r2_score\n",
    "\n",
    "y_pred = model.predict(x_test)\n",
    "r_squared = r2_score(y_test, y_pred)  # Method r2_score membutuhkan 2 parameter yaitu y_test dan y_pred\n",
    "\n",
    "print(f'R-Squared: {r_squared}')      # Nilai R-Squared yang didapat adalah 0.66, jika nilai mendekati 1 maka model tersebut dianggap cukup baik"
   ]
  },
  {
   "cell_type": "code",
   "execution_count": null,
   "metadata": {},
   "outputs": [],
   "source": []
  }
 ],
 "metadata": {
  "interpreter": {
   "hash": "38552727ee56418e1a63d6186a8a41f2f82ce7cc92f389e6de43124079e389b7"
  },
  "kernelspec": {
   "display_name": "Python 3.9.7 ('base')",
   "language": "python",
   "name": "python3"
  },
  "language_info": {
   "codemirror_mode": {
    "name": "ipython",
    "version": 3
   },
   "file_extension": ".py",
   "mimetype": "text/x-python",
   "name": "python",
   "nbconvert_exporter": "python",
   "pygments_lexer": "ipython3",
   "version": "3.9.7"
  },
  "orig_nbformat": 4
 },
 "nbformat": 4,
 "nbformat_minor": 2
}
