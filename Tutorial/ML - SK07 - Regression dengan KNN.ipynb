{
 "cells": [
  {
   "cell_type": "markdown",
   "metadata": {},
   "source": [
    "# Tutorial 07: \n",
    "# Regression dengan KNN (K Nearest Neighbours)\n",
    "- KNN adalah model machine learning yang dapat digunakan untuk melakukan **prediksi berdasarkan kedekatan karakter, dengan sejumlah tetangga terdekat**. \n",
    "- Prediksi yang dilakukan dapat **diterapkan baik pada classification maupun regression tasks**. "
   ]
  },
  {
   "cell_type": "markdown",
   "metadata": {},
   "source": [
    "### Sample Dataset"
   ]
  },
  {
   "cell_type": "code",
   "execution_count": 2,
   "metadata": {},
   "outputs": [
    {
     "data": {
      "text/html": [
       "<div>\n",
       "<style scoped>\n",
       "    .dataframe tbody tr th:only-of-type {\n",
       "        vertical-align: middle;\n",
       "    }\n",
       "\n",
       "    .dataframe tbody tr th {\n",
       "        vertical-align: top;\n",
       "    }\n",
       "\n",
       "    .dataframe thead th {\n",
       "        text-align: right;\n",
       "    }\n",
       "</style>\n",
       "<table border=\"1\" class=\"dataframe\">\n",
       "  <thead>\n",
       "    <tr style=\"text-align: right;\">\n",
       "      <th></th>\n",
       "      <th>tinggi</th>\n",
       "      <th>jk</th>\n",
       "      <th>berat</th>\n",
       "    </tr>\n",
       "  </thead>\n",
       "  <tbody>\n",
       "    <tr>\n",
       "      <th>0</th>\n",
       "      <td>158</td>\n",
       "      <td>pria</td>\n",
       "      <td>64</td>\n",
       "    </tr>\n",
       "    <tr>\n",
       "      <th>1</th>\n",
       "      <td>170</td>\n",
       "      <td>pria</td>\n",
       "      <td>86</td>\n",
       "    </tr>\n",
       "    <tr>\n",
       "      <th>2</th>\n",
       "      <td>183</td>\n",
       "      <td>pria</td>\n",
       "      <td>84</td>\n",
       "    </tr>\n",
       "    <tr>\n",
       "      <th>3</th>\n",
       "      <td>191</td>\n",
       "      <td>pria</td>\n",
       "      <td>80</td>\n",
       "    </tr>\n",
       "    <tr>\n",
       "      <th>4</th>\n",
       "      <td>155</td>\n",
       "      <td>wanita</td>\n",
       "      <td>49</td>\n",
       "    </tr>\n",
       "    <tr>\n",
       "      <th>5</th>\n",
       "      <td>163</td>\n",
       "      <td>wanita</td>\n",
       "      <td>59</td>\n",
       "    </tr>\n",
       "    <tr>\n",
       "      <th>6</th>\n",
       "      <td>180</td>\n",
       "      <td>wanita</td>\n",
       "      <td>67</td>\n",
       "    </tr>\n",
       "    <tr>\n",
       "      <th>7</th>\n",
       "      <td>158</td>\n",
       "      <td>wanita</td>\n",
       "      <td>54</td>\n",
       "    </tr>\n",
       "    <tr>\n",
       "      <th>8</th>\n",
       "      <td>170</td>\n",
       "      <td>wanita</td>\n",
       "      <td>67</td>\n",
       "    </tr>\n",
       "  </tbody>\n",
       "</table>\n",
       "</div>"
      ],
      "text/plain": [
       "   tinggi      jk  berat\n",
       "0     158    pria     64\n",
       "1     170    pria     86\n",
       "2     183    pria     84\n",
       "3     191    pria     80\n",
       "4     155  wanita     49\n",
       "5     163  wanita     59\n",
       "6     180  wanita     67\n",
       "7     158  wanita     54\n",
       "8     170  wanita     67"
      ]
     },
     "execution_count": 2,
     "metadata": {},
     "output_type": "execute_result"
    }
   ],
   "source": [
    "import pandas as pd \n",
    "\n",
    "sensus = {'tinggi': [158, 170, 183, 191, 155, 163, 180, 158, 170], \n",
    "          'jk'    : ['pria', 'pria', 'pria', 'pria', 'wanita', 'wanita', 'wanita', 'wanita', 'wanita'], \n",
    "          'berat' : [64, 86, 84, 80, 49, 59, 67, 54, 67]}\n",
    "          ### Ada 3 keys pada dictionaries ini yaitu tinggi, jenis kelamin, dan berat badan.\n",
    "\n",
    "sensus_df = pd.DataFrame(sensus)\n",
    "sensus_df"
   ]
  },
  {
   "cell_type": "markdown",
   "metadata": {},
   "source": [
    "### Regression dengan KNN\n",
    "Di tahap ini **variable features yang dipakai adalah data dari tinggi dan jenis kelamin**, sedangkan **variable target** yang dipakai adalah **berat**. Oleh karena itu, kita mencoba untuk **memprediksi nilai (berat badan) yang mana bersifat cointinues dengan menggunakan Regresi pada KNN**. \n",
    "#### Features dan Target"
   ]
  },
  {
   "cell_type": "code",
   "execution_count": 3,
   "metadata": {},
   "outputs": [
    {
     "name": "stdout",
     "output_type": "stream",
     "text": [
      "x train: [[158 'pria']\n",
      " [170 'pria']\n",
      " [183 'pria']\n",
      " [191 'pria']\n",
      " [155 'wanita']\n",
      " [163 'wanita']\n",
      " [180 'wanita']\n",
      " [158 'wanita']\n",
      " [170 'wanita']]\n",
      "y train: [64 86 84 80 49 59 67 54 67]\n"
     ]
    }
   ],
   "source": [
    "import numpy as np \n",
    "\n",
    "x_train = np.array(sensus_df[['tinggi', 'jk']]) # Konversi data frame menjadi array pada features variable\n",
    "y_train = np.array(sensus_df['berat'])          # Konversi data frame menjadi array pada target variable\n",
    "\n",
    "print(f'x train: {x_train}')\n",
    "print(f'y train: {y_train}')"
   ]
  },
  {
   "cell_type": "markdown",
   "metadata": {},
   "source": [
    "#### Preprocess Dataset: Konversi Label Menjadi Numerik Biner"
   ]
  },
  {
   "cell_type": "code",
   "execution_count": 4,
   "metadata": {},
   "outputs": [
    {
     "name": "stdout",
     "output_type": "stream",
     "text": [
      "x train: [[158 'pria']\n",
      " [170 'pria']\n",
      " [183 'pria']\n",
      " [191 'pria']\n",
      " [155 'wanita']\n",
      " [163 'wanita']\n",
      " [180 'wanita']\n",
      " [158 'wanita']\n",
      " [170 'wanita']]\n",
      "x train: [[158 170 183 191 155 163 180 158 170]\n",
      " ['pria' 'pria' 'pria' 'pria' 'wanita' 'wanita' 'wanita' 'wanita'\n",
      "  'wanita']]\n"
     ]
    }
   ],
   "source": [
    "x_train_transposed = np.transpose(x_train)\n",
    "\n",
    "print(f'x train: {x_train}')\n",
    "print(f'x train: {x_train_transposed}') # Merubah posisi kolom menjadi baris, dan baris menjadi kolom"
   ]
  },
  {
   "cell_type": "code",
   "execution_count": 5,
   "metadata": {},
   "outputs": [
    {
     "name": "stdout",
     "output_type": "stream",
     "text": [
      "jk: [[158 170 183 191 155 163 180 158 170]\n",
      " ['pria' 'pria' 'pria' 'pria' 'wanita' 'wanita' 'wanita' 'wanita'\n",
      "  'wanita']]\n",
      "jk_binarized: [0 0 0 0 1 1 1 1 1]\n"
     ]
    }
   ],
   "source": [
    "from sklearn.preprocessing import LabelBinarizer\n",
    "lb = LabelBinarizer()\n",
    "\n",
    "jk_binarized = lb.fit_transform(x_train_transposed[1]) # Kita merubah data string di jenis kelamin menjadi biner\n",
    "jk_binarized = jk_binarized.flatten() # Merubah menjadi 1 dimensi\n",
    "\n",
    "print(f'jk: {x_train_transposed}')\n",
    "print(f'jk_binarized: {jk_binarized}')"
   ]
  },
  {
   "cell_type": "code",
   "execution_count": 6,
   "metadata": {},
   "outputs": [
    {
     "data": {
      "text/plain": [
       "array([[158, 0],\n",
       "       [170, 0],\n",
       "       [183, 0],\n",
       "       [191, 0],\n",
       "       [155, 1],\n",
       "       [163, 1],\n",
       "       [180, 1],\n",
       "       [158, 1],\n",
       "       [170, 1]], dtype=object)"
      ]
     },
     "execution_count": 6,
     "metadata": {},
     "output_type": "execute_result"
    }
   ],
   "source": [
    "# Memasukan data biner atas jenis kelamin pada x train \n",
    "\n",
    "x_train_transposed[1] = jk_binarized\n",
    "x_train = x_train_transposed.transpose()\n",
    "x_train"
   ]
  },
  {
   "cell_type": "markdown",
   "metadata": {},
   "source": [
    "### Training KNN Regression Model"
   ]
  },
  {
   "cell_type": "code",
   "execution_count": 7,
   "metadata": {},
   "outputs": [
    {
     "data": {
      "text/plain": [
       "KNeighborsRegressor(n_neighbors=3)"
      ]
     },
     "execution_count": 7,
     "metadata": {},
     "output_type": "execute_result"
    }
   ],
   "source": [
    "from sklearn.neighbors import KNeighborsRegressor \n",
    "\n",
    "K = 3 # Jumlah tetangga yang akan digunakan dalam proses regresi\n",
    "model = KNeighborsRegressor(n_neighbors=K)\n",
    "model.fit(x_train, y_train) # Training model atas data training yaitu x_train dan y_train"
   ]
  },
  {
   "cell_type": "markdown",
   "metadata": {},
   "source": [
    "### Prediksi Berat Badan "
   ]
  },
  {
   "cell_type": "code",
   "execution_count": 8,
   "metadata": {},
   "outputs": [
    {
     "data": {
      "text/plain": [
       "array([[155,   1]])"
      ]
     },
     "execution_count": 8,
     "metadata": {},
     "output_type": "execute_result"
    }
   ],
   "source": [
    "x_new = np.array([[155,1]])\n",
    "x_new"
   ]
  },
  {
   "cell_type": "code",
   "execution_count": 9,
   "metadata": {},
   "outputs": [
    {
     "data": {
      "text/plain": [
       "array([55.66666667])"
      ]
     },
     "execution_count": 9,
     "metadata": {},
     "output_type": "execute_result"
    }
   ],
   "source": [
    "y_pred = model.predict(x_new)\n",
    "y_pred"
   ]
  },
  {
   "cell_type": "markdown",
   "metadata": {},
   "source": [
    "### Evaluasi KNN Regression Model"
   ]
  },
  {
   "cell_type": "code",
   "execution_count": 13,
   "metadata": {},
   "outputs": [
    {
     "name": "stdout",
     "output_type": "stream",
     "text": [
      "x test: [[168   0]\n",
      " [180   0]\n",
      " [160   1]\n",
      " [169   1]]\n",
      "y test: [65 96 52 67]\n"
     ]
    }
   ],
   "source": [
    "x_test = np.array([[168,0], [180,0], [160,1], [169,1]]) # Testing test dari variable features yaitu tinggi dan jenis kelamin\n",
    "y_test = np.array([65, 96, 52, 67])                     # Testing test dari variable target yaitu berat badan\n",
    "\n",
    "print(f'x test: {x_test}')\n",
    "print(f'y test: {y_test}')"
   ]
  },
  {
   "cell_type": "code",
   "execution_count": 14,
   "metadata": {},
   "outputs": [
    {
     "data": {
      "text/plain": [
       "array([70.66666667, 79.        , 59.        , 70.66666667])"
      ]
     },
     "execution_count": 14,
     "metadata": {},
     "output_type": "execute_result"
    }
   ],
   "source": [
    "y_pred = model.predict(x_test) # Prediksi variable target yaitu berat badan\n",
    "y_pred"
   ]
  },
  {
   "cell_type": "markdown",
   "metadata": {},
   "source": [
    "Berdasarkan hasil operasi diatas, **model kita memberikan prediksi sebagai berikut yaitu 70 kg, 79 kg, 59 kg, dan 71 kg**. Sedangkan hasil yang kita inginkan adalah antara lain **65 kg, 96 kg, 52 kg, dan 67 kg**. Oleh karena itu ditahap ini, terdapat beberapa **metode untuk mengevaluasi model KNN Regresi** yang telah kita buat. Antara lain:  "
   ]
  },
  {
   "cell_type": "markdown",
   "metadata": {},
   "source": [
    "#### 1. Coefficient of Determination atau R2\n",
    "Untuk menggunakan metode R Squared, kita perlu **mengimport r2_score dari sklearn.metrics** dimana metode ini mempunyai 2 parameter yaitu **y_test dan y_pred**. Berdasarkan evaluasi menggunakan metode ini, didapat **nilai R-Squared** dari model kita adalah sebesar **0.6**, apabila model semakin mendekati nilai 1 maka model tersebut dapat dianggap sudah baik. "
   ]
  },
  {
   "cell_type": "code",
   "execution_count": 15,
   "metadata": {},
   "outputs": [
    {
     "name": "stdout",
     "output_type": "stream",
     "text": [
      "R-Squared: 0.6290565226735438\n"
     ]
    }
   ],
   "source": [
    "from sklearn.metrics import r2_score\n",
    "\n",
    "r_squared = r2_score(y_test, y_pred)\n",
    "\n",
    "print(f'R-Squared: {r_squared}')"
   ]
  },
  {
   "cell_type": "markdown",
   "metadata": {},
   "source": [
    "#### 2. Mean Absolute Error (MAE) atau Mean Absolute Deviation (MAD)\n",
    "**MAE adalah nilai rerata dari absolut error dari prediksi**. Secara matematika, MAE dapat dituliskan sebagai berikut: \n",
    "<br>\n",
    "MAE = 1/n * Zigma * |yi-ym|\n",
    "<br>\n",
    "dimana: \n",
    "- **n  : jumlah data** \n",
    "- **yi : nilai rerata error dari model** \n",
    "<br><br>\n",
    "Untuk menggunakan metode MAE, kita perlu mengimportnya dari sklearn.metrcis, dimana metode ini mempunyai **2 parameter, yaitu y_test dan y_pred**. Berdasarkan hasil perhitungan dari metode tersebut didapat nilai MAE sebesar 8.3. **Semakin kecil nilai MAE maka model semakin baik**."
   ]
  },
  {
   "cell_type": "code",
   "execution_count": 16,
   "metadata": {},
   "outputs": [
    {
     "name": "stdout",
     "output_type": "stream",
     "text": [
      "MAE: 8.333333333333336\n"
     ]
    }
   ],
   "source": [
    "from sklearn.metrics import mean_absolute_error\n",
    "\n",
    "MAE = mean_absolute_error(y_test, y_pred)\n",
    "\n",
    "print(f'MAE: {MAE}')"
   ]
  },
  {
   "cell_type": "markdown",
   "metadata": {},
   "source": [
    "#### 3. Mean Squared Error (MSE) atau Mean Squared Deviation (MSD)\n",
    "**MSE adalah nilai rerata dari selisih error dari hasil prediksi yang telah dikuadratkan.** Secara matematik dapat dituliskan sebagai berikut: \n",
    "<br>\n",
    "MSE = 1/n * Zigma * (yi-ym)^^2\n",
    "<br>\n",
    "dimana: \n",
    "- **n  : jumlah data** \n",
    "- **yi : nilai rerata error dari model** \n",
    "<br><br>\n",
    "Untuk menggunakan metode MSE, kita perlu mengimportnya dari sklearn.metrcis, dimana metode ini mempunyai **2 parameter, yaitu y_test dan y_pred**. Berdasarkan hasil perhitungan dari metode tersebut didapat nilai MSE sebesar 96. **Semakin kecil nilai MSE maka model semakin baik**."
   ]
  },
  {
   "cell_type": "code",
   "execution_count": 17,
   "metadata": {},
   "outputs": [
    {
     "name": "stdout",
     "output_type": "stream",
     "text": [
      "MSE: 95.8888888888889\n"
     ]
    }
   ],
   "source": [
    "from sklearn.metrics import mean_squared_error \n",
    "\n",
    "MSE = mean_squared_error(y_test, y_pred)\n",
    "\n",
    "print(f'MSE: {MSE}')"
   ]
  },
  {
   "cell_type": "markdown",
   "metadata": {},
   "source": [
    "### Permasalahan Scaling pada Features\n",
    "Dataset yang digunakan pada dataset ini memiliki **2 features, yaitu Tinggi Badan dan Jenis Kelamin**."
   ]
  },
  {
   "cell_type": "code",
   "execution_count": null,
   "metadata": {},
   "outputs": [],
   "source": []
  }
 ],
 "metadata": {
  "interpreter": {
   "hash": "38552727ee56418e1a63d6186a8a41f2f82ce7cc92f389e6de43124079e389b7"
  },
  "kernelspec": {
   "display_name": "Python 3.9.7 ('base')",
   "language": "python",
   "name": "python3"
  },
  "language_info": {
   "codemirror_mode": {
    "name": "ipython",
    "version": 3
   },
   "file_extension": ".py",
   "mimetype": "text/x-python",
   "name": "python",
   "nbconvert_exporter": "python",
   "pygments_lexer": "ipython3",
   "version": "3.9.7"
  },
  "orig_nbformat": 4
 },
 "nbformat": 4,
 "nbformat_minor": 2
}
