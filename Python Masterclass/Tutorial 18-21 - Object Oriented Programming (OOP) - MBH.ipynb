{
 "cells": [
  {
   "cell_type": "markdown",
   "id": "9104b69f",
   "metadata": {},
   "source": [
    "# Tutorial 18\n",
    "##  1. Penggunaan Object Oriented Programming (OOB) pada Python"
   ]
  },
  {
   "cell_type": "markdown",
   "id": "5c1c2cf1",
   "metadata": {},
   "source": [
    "Di Python semuanya adalah objek, seperti lists, strings, dictionary, dll. Objek tersebut seringkali dinyatakan dengan istilah class. "
   ]
  },
  {
   "cell_type": "code",
   "execution_count": null,
   "id": "55eab5b4",
   "metadata": {},
   "outputs": [],
   "source": [
    "print(type([]))\n",
    "print(type({})) "
   ]
  },
  {
   "cell_type": "markdown",
   "id": "e592d0bf",
   "metadata": {},
   "source": [
    "OOP memungkinkan kita untuk membuat objek kita sendiri, termasuk methods dan attributesnya. "
   ]
  },
  {
   "cell_type": "markdown",
   "id": "704dbf22",
   "metadata": {},
   "source": [
    "# Tutorial 19"
   ]
  },
  {
   "cell_type": "markdown",
   "id": "b02ab7b9",
   "metadata": {},
   "source": [
    "##  2. Penggunaan Class pada Python"
   ]
  },
  {
   "cell_type": "markdown",
   "id": "b74e05ec",
   "metadata": {},
   "source": [
    "**Cara mendefiniskan class** pada Python adalah sebagai berikut: \n",
    "class NamaClass: \n",
    "    def __init__(self, nama_attribute1, nama_attribute2) : \n",
    "        self.nama_attribute1 = nama_attribute1\n",
    "        self.nama_attribute2 = nama_attribute2\n",
    "        \n",
    "   def nama_method(self) : \n",
    "       return #Tulis fungsinya"
   ]
  },
  {
   "cell_type": "markdown",
   "id": "be3ccf0b",
   "metadata": {},
   "source": [
    "**Example 1:**"
   ]
  },
  {
   "cell_type": "code",
   "execution_count": 1,
   "id": "4889b58a",
   "metadata": {},
   "outputs": [],
   "source": [
    "class Student: \n",
    "    school = 'SMA Bunda Hati Kudus' \n",
    "    \n",
    "    def __init__(self, name, age, sex, grade, mark):\n",
    "        self.name  = name\n",
    "        self.age   = age\n",
    "        self.sex   = sex \n",
    "        self.grade = grade \n",
    "        self.mark  = mark \n",
    "        \n",
    "    def summary(self):\n",
    "        print ('Student with name of {} is a {} years old {} in {} class, who achieve {} in total GPA during her studies in {}.' .format(self.name,self.age,self.sex,self.grade,self.mark,self.school) )"
   ]
  },
  {
   "cell_type": "code",
   "execution_count": 7,
   "id": "fd584b48",
   "metadata": {},
   "outputs": [],
   "source": [
    "Student_1 = Student('Axel', 17, 'M', 12, 3.53)"
   ]
  },
  {
   "cell_type": "code",
   "execution_count": 3,
   "id": "5f2c934e",
   "metadata": {},
   "outputs": [],
   "source": [
    "Student_2 = Student('Fenina', 17, 'F', 12, 3.49)"
   ]
  },
  {
   "cell_type": "code",
   "execution_count": null,
   "id": "892c3c45",
   "metadata": {},
   "outputs": [],
   "source": [
    "Student_3 = Student('Tata', 17, 'F', 12, 3.78)"
   ]
  },
  {
   "cell_type": "code",
   "execution_count": null,
   "id": "291cfeb2",
   "metadata": {},
   "outputs": [],
   "source": [
    "Student_4 = Student('Rani', 17,'F', 12, 3.39)"
   ]
  },
  {
   "cell_type": "markdown",
   "id": "3e03cf4a",
   "metadata": {},
   "source": [
    "**Contoh slicing-indexing atau pemanggilan data:**"
   ]
  },
  {
   "cell_type": "code",
   "execution_count": null,
   "id": "dc7a8e04",
   "metadata": {},
   "outputs": [],
   "source": [
    "Student_1.name"
   ]
  },
  {
   "cell_type": "code",
   "execution_count": 5,
   "id": "30f3ccac",
   "metadata": {},
   "outputs": [
    {
     "name": "stdout",
     "output_type": "stream",
     "text": [
      "Student with name of Fenina is a 17 years old F in 12 class, who achieve 3.49 in total GPA during her studies in SMA Bunda Hati Kudus.\n"
     ]
    }
   ],
   "source": [
    "Student_2.summary()"
   ]
  },
  {
   "cell_type": "markdown",
   "id": "938e8690",
   "metadata": {},
   "source": [
    "**Example 2:**"
   ]
  },
  {
   "cell_type": "code",
   "execution_count": 18,
   "id": "85241ad0",
   "metadata": {},
   "outputs": [],
   "source": [
    "import numpy as np\n",
    "\n",
    "class Circle:\n",
    "    def __init__(self, radius):\n",
    "        self.radius    = radius \n",
    "        self.area      = np.pi * self.radius**2\n",
    "        self.perimeter = np.pi * 2 * self.radius"
   ]
  },
  {
   "cell_type": "code",
   "execution_count": 19,
   "id": "c3afcfb5",
   "metadata": {},
   "outputs": [],
   "source": [
    "C1 = Circle(10)"
   ]
  },
  {
   "cell_type": "code",
   "execution_count": 21,
   "id": "164333f4",
   "metadata": {},
   "outputs": [
    {
     "data": {
      "text/plain": [
       "(314.1592653589793, 62.83185307179586)"
      ]
     },
     "execution_count": 21,
     "metadata": {},
     "output_type": "execute_result"
    }
   ],
   "source": [
    "C1.area , C1.perimeter"
   ]
  },
  {
   "cell_type": "markdown",
   "id": "d83bea7d",
   "metadata": {},
   "source": [
    "# Tutorial 20"
   ]
  },
  {
   "cell_type": "markdown",
   "id": "1050286e",
   "metadata": {},
   "source": [
    "##  3. Penggunaan Inheritance pada Python\n",
    "\n",
    "**Inheritance adalah sebuah class turunan daripada class utama.** Sehingga kita dapat menggunakan class di dalam class. Sebagai contoh pada script dibawah ini, **class utamanya adalah Mahasiswa sedangkan class turunannya adalah Nilai.**\n",
    "\n",
    "Fungsi **super** digunakan agar Python dapat **mencari definisi line yang sama pada baris baris sebelumnya**, seperti pada (self, nama,kelas)."
   ]
  },
  {
   "cell_type": "markdown",
   "id": "ed1d4c18",
   "metadata": {},
   "source": [
    "**Example 3:**"
   ]
  },
  {
   "cell_type": "code",
   "execution_count": 23,
   "id": "d91f24b1",
   "metadata": {},
   "outputs": [],
   "source": [
    "class Mahasiswa: \n",
    "    status = 'Mahasiswa'\n",
    "    \n",
    "    def __init__(self, nama, kelas): \n",
    "        self.nama  = nama\n",
    "        self.kelas = kelas \n",
    "        \n",
    "    def keterangan(self):\n",
    "        print('{} di kelas {} adalah seorang {}.' .format(self.nama, self.kelas, self.status))"
   ]
  },
  {
   "cell_type": "code",
   "execution_count": 25,
   "id": "cf79b3bb",
   "metadata": {},
   "outputs": [],
   "source": [
    "Joko = Mahasiswa('Joko',12)"
   ]
  },
  {
   "cell_type": "code",
   "execution_count": 28,
   "id": "48e010ca",
   "metadata": {},
   "outputs": [
    {
     "name": "stdout",
     "output_type": "stream",
     "text": [
      "Joko di kelas 12 adalah seorang Mahasiswa.\n"
     ]
    }
   ],
   "source": [
    "Joko.keterangan()"
   ]
  },
  {
   "cell_type": "code",
   "execution_count": 81,
   "id": "9744e146",
   "metadata": {},
   "outputs": [],
   "source": [
    "class Nilai(Mahasiswa):\n",
    "    \n",
    "    def __init__(self, nama, kelas): \n",
    "        super().__init__ (nama,kelas)\n",
    "        self.nilai_update = []\n",
    "        \n",
    "    def input_nilai(self, tambah): \n",
    "        return self.nilai_update.append(tambah)"
   ]
  },
  {
   "cell_type": "code",
   "execution_count": 82,
   "id": "fd8d3efe",
   "metadata": {},
   "outputs": [],
   "source": [
    "Budi = Nilai('Budi',13)"
   ]
  },
  {
   "cell_type": "code",
   "execution_count": 83,
   "id": "0ead0bd6",
   "metadata": {},
   "outputs": [],
   "source": [
    "Budi.input_nilai(80)"
   ]
  },
  {
   "cell_type": "code",
   "execution_count": 84,
   "id": "6588203b",
   "metadata": {},
   "outputs": [
    {
     "data": {
      "text/plain": [
       "[80]"
      ]
     },
     "execution_count": 84,
     "metadata": {},
     "output_type": "execute_result"
    }
   ],
   "source": [
    "Budi.nilai_update"
   ]
  },
  {
   "cell_type": "code",
   "execution_count": 85,
   "id": "c4aedde4",
   "metadata": {},
   "outputs": [],
   "source": [
    "Budi.input_nilai(75)"
   ]
  },
  {
   "cell_type": "code",
   "execution_count": 86,
   "id": "ee101901",
   "metadata": {},
   "outputs": [
    {
     "data": {
      "text/plain": [
       "[80, 75]"
      ]
     },
     "execution_count": 86,
     "metadata": {},
     "output_type": "execute_result"
    }
   ],
   "source": [
    "Budi.nilai_update"
   ]
  },
  {
   "cell_type": "code",
   "execution_count": 87,
   "id": "e683beef",
   "metadata": {},
   "outputs": [],
   "source": [
    "Budi.input_nilai(90)"
   ]
  },
  {
   "cell_type": "code",
   "execution_count": 88,
   "id": "a9cfbaeb",
   "metadata": {},
   "outputs": [
    {
     "data": {
      "text/plain": [
       "[80, 75, 90]"
      ]
     },
     "execution_count": 88,
     "metadata": {},
     "output_type": "execute_result"
    }
   ],
   "source": [
    "Budi.nilai_update"
   ]
  },
  {
   "cell_type": "code",
   "execution_count": 89,
   "id": "2ee70ce0",
   "metadata": {},
   "outputs": [
    {
     "data": {
      "text/plain": [
       "75"
      ]
     },
     "execution_count": 89,
     "metadata": {},
     "output_type": "execute_result"
    }
   ],
   "source": [
    "min(Budi.nilai_update)"
   ]
  },
  {
   "cell_type": "code",
   "execution_count": 91,
   "id": "1daed8fb",
   "metadata": {},
   "outputs": [
    {
     "data": {
      "text/plain": [
       "81.66666666666667"
      ]
     },
     "execution_count": 91,
     "metadata": {},
     "output_type": "execute_result"
    }
   ],
   "source": [
    "sum(Budi.nilai_update) / len(Budi.nilai_update)"
   ]
  },
  {
   "cell_type": "markdown",
   "id": "cd0850ee",
   "metadata": {},
   "source": [
    "# Tutorial 21"
   ]
  },
  {
   "cell_type": "markdown",
   "id": "3187f38a",
   "metadata": {},
   "source": [
    "##  4. Penggunaan Polymorphism pada Python"
   ]
  },
  {
   "cell_type": "markdown",
   "id": "552962f8",
   "metadata": {},
   "source": [
    "**Example 4:**"
   ]
  },
  {
   "cell_type": "code",
   "execution_count": 92,
   "id": "e523c137",
   "metadata": {},
   "outputs": [],
   "source": [
    "class Kucing:\n",
    "    \n",
    "    def __init__(self, nama):\n",
    "        self.nama = nama \n",
    "        \n",
    "    def respon(self):\n",
    "        return self.nama + ' Meong-Meong!'"
   ]
  },
  {
   "cell_type": "code",
   "execution_count": 93,
   "id": "43f706c9",
   "metadata": {},
   "outputs": [],
   "source": [
    "class Anjing: \n",
    "    \n",
    "    def __init__(self,nama):\n",
    "        self.nama = nama \n",
    "        \n",
    "    def respon(self) : \n",
    "        return self.nama + ' Guk-Guk!'"
   ]
  },
  {
   "cell_type": "code",
   "execution_count": 99,
   "id": "d1955051",
   "metadata": {},
   "outputs": [],
   "source": [
    "Riri = Kucing('Riri')"
   ]
  },
  {
   "cell_type": "code",
   "execution_count": 100,
   "id": "a06ecaa7",
   "metadata": {},
   "outputs": [],
   "source": [
    "Bono = Anjing('Bono')"
   ]
  },
  {
   "cell_type": "code",
   "execution_count": 101,
   "id": "4c91b2b3",
   "metadata": {},
   "outputs": [
    {
     "data": {
      "text/plain": [
       "'Riri Meong-Meong!'"
      ]
     },
     "execution_count": 101,
     "metadata": {},
     "output_type": "execute_result"
    }
   ],
   "source": [
    "Riri.respon()"
   ]
  },
  {
   "cell_type": "code",
   "execution_count": 102,
   "id": "26e053a0",
   "metadata": {},
   "outputs": [
    {
     "data": {
      "text/plain": [
       "'Bono Guk-Guk!'"
      ]
     },
     "execution_count": 102,
     "metadata": {},
     "output_type": "execute_result"
    }
   ],
   "source": [
    "Bono.respon()"
   ]
  },
  {
   "cell_type": "code",
   "execution_count": 108,
   "id": "4cf42b6a",
   "metadata": {},
   "outputs": [
    {
     "name": "stdout",
     "output_type": "stream",
     "text": [
      "<class '__main__.Kucing'>\n",
      "Riri Meong-Meong!\n",
      "<class '__main__.Anjing'>\n",
      "Bono Guk-Guk!\n"
     ]
    }
   ],
   "source": [
    "for i in [Riri, Bono]: \n",
    "    print(type(i))\n",
    "    print(i.respon())"
   ]
  },
  {
   "cell_type": "code",
   "execution_count": 109,
   "id": "77b6406d",
   "metadata": {},
   "outputs": [],
   "source": [
    "def hewan_ngomong(i) : \n",
    "    print (i.respon())"
   ]
  },
  {
   "cell_type": "code",
   "execution_count": 110,
   "id": "a251d82b",
   "metadata": {},
   "outputs": [
    {
     "name": "stdout",
     "output_type": "stream",
     "text": [
      "Riri Meong-Meong!\n"
     ]
    }
   ],
   "source": [
    "hewan_ngomong(Riri)"
   ]
  },
  {
   "cell_type": "code",
   "execution_count": 111,
   "id": "7537764f",
   "metadata": {},
   "outputs": [
    {
     "name": "stdout",
     "output_type": "stream",
     "text": [
      "Bono Guk-Guk!\n"
     ]
    }
   ],
   "source": [
    "hewan_ngomong(Bono)"
   ]
  },
  {
   "cell_type": "markdown",
   "id": "71b382ad",
   "metadata": {},
   "source": [
    "##  5. Penggunaan Dunder/Magic Methods pada Python"
   ]
  },
  {
   "cell_type": "markdown",
   "id": "dbc8a445",
   "metadata": {},
   "source": [
    "**Example 5:**"
   ]
  },
  {
   "cell_type": "code",
   "execution_count": 200,
   "id": "2766e8a4",
   "metadata": {},
   "outputs": [],
   "source": [
    "class Coba: \n",
    "    def __init__(self, nama, angka, kata):\n",
    "        self.nama  = nama\n",
    "        self.angka = angka\n",
    "        self.kata  = kata\n",
    "        \n",
    "    def cetak(self): \n",
    "        return self.angka\n",
    "    \n",
    "    def __str__(self): \n",
    "        return self.nama\n",
    "    \n",
    "    def __len__(self):\n",
    "        return 100"
   ]
  },
  {
   "cell_type": "code",
   "execution_count": 201,
   "id": "e1795cf8",
   "metadata": {},
   "outputs": [],
   "source": [
    "coba = Coba('Joko', 20, 'Sehat')"
   ]
  },
  {
   "cell_type": "code",
   "execution_count": 202,
   "id": "3b14ceea",
   "metadata": {},
   "outputs": [
    {
     "data": {
      "text/plain": [
       "20"
      ]
     },
     "execution_count": 202,
     "metadata": {},
     "output_type": "execute_result"
    }
   ],
   "source": [
    "coba.cetak()"
   ]
  },
  {
   "cell_type": "code",
   "execution_count": 203,
   "id": "51a636d4",
   "metadata": {},
   "outputs": [
    {
     "name": "stdout",
     "output_type": "stream",
     "text": [
      "['__class__', '__delattr__', '__dict__', '__dir__', '__doc__', '__eq__', '__format__', '__ge__', '__getattribute__', '__gt__', '__hash__', '__init__', '__init_subclass__', '__le__', '__len__', '__lt__', '__module__', '__ne__', '__new__', '__reduce__', '__reduce_ex__', '__repr__', '__setattr__', '__sizeof__', '__str__', '__subclasshook__', '__weakref__', 'angka', 'cetak', 'kata', 'nama']\n"
     ]
    }
   ],
   "source": [
    "print(dir(coba))"
   ]
  },
  {
   "cell_type": "code",
   "execution_count": 204,
   "id": "fe5f054c",
   "metadata": {},
   "outputs": [
    {
     "data": {
      "text/plain": [
       "'Joko'"
      ]
     },
     "execution_count": 204,
     "metadata": {},
     "output_type": "execute_result"
    }
   ],
   "source": [
    "coba.__str__()"
   ]
  },
  {
   "cell_type": "code",
   "execution_count": 205,
   "id": "7d22dad5",
   "metadata": {},
   "outputs": [
    {
     "data": {
      "text/plain": [
       "'Joko'"
      ]
     },
     "execution_count": 205,
     "metadata": {},
     "output_type": "execute_result"
    }
   ],
   "source": [
    "str(coba)"
   ]
  },
  {
   "cell_type": "code",
   "execution_count": 206,
   "id": "7b4d81bc",
   "metadata": {
    "scrolled": true
   },
   "outputs": [
    {
     "data": {
      "text/plain": [
       "'Joko'"
      ]
     },
     "execution_count": 206,
     "metadata": {},
     "output_type": "execute_result"
    }
   ],
   "source": [
    "coba.__str__()"
   ]
  },
  {
   "cell_type": "code",
   "execution_count": 207,
   "id": "f15719f8",
   "metadata": {},
   "outputs": [
    {
     "data": {
      "text/plain": [
       "'Joko'"
      ]
     },
     "execution_count": 207,
     "metadata": {},
     "output_type": "execute_result"
    }
   ],
   "source": [
    "str(coba)"
   ]
  },
  {
   "cell_type": "code",
   "execution_count": 208,
   "id": "a185a1f1",
   "metadata": {},
   "outputs": [
    {
     "data": {
      "text/plain": [
       "100"
      ]
     },
     "execution_count": 208,
     "metadata": {},
     "output_type": "execute_result"
    }
   ],
   "source": [
    "coba.__len__()"
   ]
  },
  {
   "cell_type": "code",
   "execution_count": 209,
   "id": "432a5fd2",
   "metadata": {},
   "outputs": [
    {
     "data": {
      "text/plain": [
       "100"
      ]
     },
     "execution_count": 209,
     "metadata": {},
     "output_type": "execute_result"
    }
   ],
   "source": [
    "len(coba)"
   ]
  },
  {
   "cell_type": "markdown",
   "id": "ffbdecf7",
   "metadata": {},
   "source": [
    "##  Challenge\n",
    "Buatlah sebuah class dengan nama Rekening Bank. kemudian class ini memiliki beberapa method seperti mencetak saldo, menabung dan menarik uang. Jika rekeningnya kurang, maka akan menunjukan keterangan bahwa saldo tidak bisa ditarik karena saldo tidak mencukupi."
   ]
  },
  {
   "cell_type": "code",
   "execution_count": 266,
   "id": "7b39a068",
   "metadata": {},
   "outputs": [],
   "source": [
    "class RekeningBank: \n",
    "    \n",
    "    def __init__(self, tabungan):\n",
    "        self.tabungan = tabungan \n",
    "    \n",
    "    def cek_saldo(self): \n",
    "        print('Jumlah saldo anda adalah sebesar Rp. {}.' .format(self.tabungan))\n",
    "        \n",
    "    def menabung(self): \n",
    "        tambah = int(input('Masukan jumlah uang yang ingin ditambahkan ke rekening anda = '))\n",
    "        self.tabungan = self.tabungan + tambah \n",
    "        print('Saldo anda saat ini adalah sebesar Rp. {}' .format(self.tabungan))\n",
    "        \n",
    "    def menarik(self):\n",
    "        tarik = int(input('Masukan jumlah uang yang ingin ditarik ke rekening anda = '))\n",
    "        if tarik < self.tabungan : \n",
    "            self.tabungan = self.tabungan - tarik \n",
    "            print('Saldo anda saat ini adalah sebesar Rp. {}' .format(self.tabungan))\n",
    "        else : \n",
    "            print('Saldo anda tidak cukup untuk melakukan penarikan transaksi ini')"
   ]
  },
  {
   "cell_type": "code",
   "execution_count": 267,
   "id": "a9c56bef",
   "metadata": {},
   "outputs": [],
   "source": [
    "RekeningAxel = RekeningBank(1000)"
   ]
  },
  {
   "cell_type": "code",
   "execution_count": 268,
   "id": "2f945079",
   "metadata": {},
   "outputs": [
    {
     "name": "stdout",
     "output_type": "stream",
     "text": [
      "Jumlah saldo anda adalah sebesar Rp. 1000.\n"
     ]
    }
   ],
   "source": [
    "RekeningAxel.cek_saldo()"
   ]
  },
  {
   "cell_type": "code",
   "execution_count": 270,
   "id": "26bd204e",
   "metadata": {},
   "outputs": [
    {
     "name": "stdout",
     "output_type": "stream",
     "text": [
      "Masukan jumlah uang yang ingin ditambahkan ke rekening anda = 1500\n",
      "Saldo anda saat ini adalah sebesar Rp. 2500\n"
     ]
    }
   ],
   "source": [
    "RekeningAxel.menabung()"
   ]
  },
  {
   "cell_type": "code",
   "execution_count": 271,
   "id": "747e361e",
   "metadata": {},
   "outputs": [
    {
     "name": "stdout",
     "output_type": "stream",
     "text": [
      "Jumlah saldo anda adalah sebesar Rp. 2500.\n"
     ]
    }
   ],
   "source": [
    "RekeningAxel.cek_saldo()"
   ]
  },
  {
   "cell_type": "code",
   "execution_count": 272,
   "id": "b80275f4",
   "metadata": {},
   "outputs": [
    {
     "name": "stdout",
     "output_type": "stream",
     "text": [
      "Masukan jumlah uang yang ingin ditarik ke rekening anda = 750\n",
      "Saldo anda saat ini adalah sebesar Rp. 1750\n"
     ]
    }
   ],
   "source": [
    "RekeningAxel.menarik()"
   ]
  },
  {
   "cell_type": "code",
   "execution_count": 273,
   "id": "bd0c9eab",
   "metadata": {},
   "outputs": [
    {
     "name": "stdout",
     "output_type": "stream",
     "text": [
      "Masukan jumlah uang yang ingin ditarik ke rekening anda = 2000\n",
      "Saldo anda tidak cukup untuk melakukan penarikan transaksi ini\n"
     ]
    }
   ],
   "source": [
    "RekeningAxel.menarik()"
   ]
  },
  {
   "cell_type": "code",
   "execution_count": null,
   "id": "6c233e96",
   "metadata": {},
   "outputs": [],
   "source": []
  }
 ],
 "metadata": {
  "kernelspec": {
   "display_name": "Python 3 (ipykernel)",
   "language": "python",
   "name": "python3"
  },
  "language_info": {
   "codemirror_mode": {
    "name": "ipython",
    "version": 3
   },
   "file_extension": ".py",
   "mimetype": "text/x-python",
   "name": "python",
   "nbconvert_exporter": "python",
   "pygments_lexer": "ipython3",
   "version": "3.9.7"
  }
 },
 "nbformat": 4,
 "nbformat_minor": 5
}
