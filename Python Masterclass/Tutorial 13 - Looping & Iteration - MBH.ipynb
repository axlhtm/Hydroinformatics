{
 "cells": [
  {
   "cell_type": "markdown",
   "id": "bad5dceb",
   "metadata": {},
   "source": [
    "# Tutorial 13"
   ]
  },
  {
   "cell_type": "markdown",
   "id": "d08c0016",
   "metadata": {},
   "source": [
    "## Penggunaan For Loops (Iterasi) pada Python"
   ]
  },
  {
   "cell_type": "markdown",
   "id": "25cf78d6",
   "metadata": {},
   "source": [
    "**For Loops** digunakan untuk melakukan iterasi pada Python, dimana cara penulisan dari iterasi adalah sebagai berikut: \n",
    "\n",
    "**for item in items:\n",
    "    eksekusi perintah**\n"
   ]
  },
  {
   "cell_type": "code",
   "execution_count": null,
   "id": "fbe512be",
   "metadata": {},
   "outputs": [],
   "source": [
    "for i in 'saya belajar python': \n",
    "    print(i)"
   ]
  },
  {
   "cell_type": "code",
   "execution_count": null,
   "id": "63e5e034",
   "metadata": {},
   "outputs": [],
   "source": [
    "for i in 'saya belajar python':\n",
    "    print(i, end='')"
   ]
  },
  {
   "cell_type": "code",
   "execution_count": null,
   "id": "0fb181bd",
   "metadata": {},
   "outputs": [],
   "source": [
    "number = [1,2,3,4,5,6,7,8,9,10]"
   ]
  },
  {
   "cell_type": "code",
   "execution_count": null,
   "id": "64852b5c",
   "metadata": {},
   "outputs": [],
   "source": [
    "for i in number:\n",
    "    print(i)"
   ]
  },
  {
   "cell_type": "code",
   "execution_count": null,
   "id": "1a83fa47",
   "metadata": {},
   "outputs": [],
   "source": [
    "for i in number:\n",
    "    print(i, end='')"
   ]
  },
  {
   "cell_type": "code",
   "execution_count": null,
   "id": "d0cbae17",
   "metadata": {},
   "outputs": [],
   "source": [
    "jumlah = 0"
   ]
  },
  {
   "cell_type": "code",
   "execution_count": null,
   "id": "01e0a056",
   "metadata": {},
   "outputs": [],
   "source": [
    "for i in number: \n",
    "    jumlah = jumlah + i\n",
    "    print('Hasil penjumlahan pada iterator ke-{a} adalah {b}' .format(a=i, b=jumlah))\n",
    "    \n",
    "print('Hasul penjumlahan total dari iterasi di atas adalah sebesar',jumlah)"
   ]
  },
  {
   "cell_type": "markdown",
   "id": "2e08c222",
   "metadata": {},
   "source": [
    "## Cara Pengguanaan Looping pada Python"
   ]
  },
  {
   "cell_type": "code",
   "execution_count": null,
   "id": "d4815c59",
   "metadata": {},
   "outputs": [],
   "source": [
    "for i in 'Saya belajar Python':\n",
    "    if (i == 'a'):\n",
    "        print('Kamu sedang berada di huruf a')"
   ]
  },
  {
   "cell_type": "code",
   "execution_count": null,
   "id": "e17a5a01",
   "metadata": {},
   "outputs": [],
   "source": [
    "jumlah = 0 \n",
    "for i in 'Saya belajar Python':\n",
    "    jumlah = jumlah + 1 \n",
    "    if i == 'a':\n",
    "        print('Kamu sedang berada di huruf a dan ada di posisi',jumlah)"
   ]
  },
  {
   "cell_type": "markdown",
   "id": "d6865263",
   "metadata": {},
   "source": [
    "### Challenge"
   ]
  },
  {
   "cell_type": "markdown",
   "id": "cf5a4b41",
   "metadata": {},
   "source": [
    "Terdapat list dari variabel angka seperti dibawah ini. Lakukan **iterasi** untuk menunjukan apakah tiap data yang terdapat di list tersebut bersifat **ganjil** atau **genap. \n",
    "\n",
    "angka = [1,2,3,4,5,6,7,8,9,10]"
   ]
  },
  {
   "cell_type": "code",
   "execution_count": 4,
   "id": "70739376",
   "metadata": {},
   "outputs": [],
   "source": [
    "angka = [1,2,3,4,5,6,7,8,9,10]"
   ]
  },
  {
   "cell_type": "code",
   "execution_count": 5,
   "id": "55770bd9",
   "metadata": {},
   "outputs": [
    {
     "name": "stdout",
     "output_type": "stream",
     "text": [
      "[1, 2, 3, 4, 5, 6, 7, 8, 9, 10]\n"
     ]
    }
   ],
   "source": [
    "print(angka)"
   ]
  },
  {
   "cell_type": "code",
   "execution_count": 6,
   "id": "9aa48aae",
   "metadata": {},
   "outputs": [
    {
     "data": {
      "text/plain": [
       "list"
      ]
     },
     "execution_count": 6,
     "metadata": {},
     "output_type": "execute_result"
    }
   ],
   "source": [
    "type(angka)"
   ]
  },
  {
   "cell_type": "code",
   "execution_count": 7,
   "id": "d7754463",
   "metadata": {},
   "outputs": [
    {
     "name": "stdout",
     "output_type": "stream",
     "text": [
      "Angka 1 merupakan angka yang bersifat ganjil\n",
      "Angka 2 merupakan angka yang bersifat genap\n",
      "Angka 3 merupakan angka yang bersifat ganjil\n",
      "Angka 4 merupakan angka yang bersifat genap\n",
      "Angka 5 merupakan angka yang bersifat ganjil\n",
      "Angka 6 merupakan angka yang bersifat genap\n",
      "Angka 7 merupakan angka yang bersifat ganjil\n",
      "Angka 8 merupakan angka yang bersifat genap\n",
      "Angka 9 merupakan angka yang bersifat ganjil\n",
      "Angka 10 merupakan angka yang bersifat genap\n"
     ]
    }
   ],
   "source": [
    "for i in angka: \n",
    "    if ( i%2 == 0):\n",
    "        print('Angka {a} merupakan angka yang bersifat {b}'.format(a=i,b='genap'))\n",
    "    elif (i%2 != 0): \n",
    "        print('Angka {a} merupakan angka yang bersifat {b}'.format(a=i,b='ganjil'))"
   ]
  },
  {
   "cell_type": "markdown",
   "id": "99d9d709",
   "metadata": {},
   "source": [
    "### For Loop dengan Tuple dan List Multiple Items di Python"
   ]
  },
  {
   "cell_type": "code",
   "execution_count": null,
   "id": "31d34157",
   "metadata": {},
   "outputs": [],
   "source": [
    "box1 = ((1,2) , (3,4) , (5,6), (7,8))"
   ]
  },
  {
   "cell_type": "code",
   "execution_count": null,
   "id": "241dbf6a",
   "metadata": {},
   "outputs": [],
   "source": [
    "type(box1)"
   ]
  },
  {
   "cell_type": "code",
   "execution_count": null,
   "id": "85429c86",
   "metadata": {},
   "outputs": [],
   "source": [
    "for i in box1: \n",
    "    print (i)"
   ]
  },
  {
   "cell_type": "code",
   "execution_count": null,
   "id": "ad685bd7",
   "metadata": {},
   "outputs": [],
   "source": [
    "for a,b in box1: \n",
    "    print (a)\n",
    "    print (b)"
   ]
  },
  {
   "cell_type": "code",
   "execution_count": null,
   "id": "0e8256a8",
   "metadata": {},
   "outputs": [],
   "source": [
    "box2 = [[1,2] , [3,4] , [5,6] , [7,8]]"
   ]
  },
  {
   "cell_type": "code",
   "execution_count": null,
   "id": "a8396a28",
   "metadata": {},
   "outputs": [],
   "source": [
    "type(box2)"
   ]
  },
  {
   "cell_type": "code",
   "execution_count": null,
   "id": "3d2a73ca",
   "metadata": {},
   "outputs": [],
   "source": [
    "for a,b in box2:\n",
    "    print (a)\n",
    "    print (b)"
   ]
  },
  {
   "cell_type": "code",
   "execution_count": null,
   "id": "1c829eff",
   "metadata": {},
   "outputs": [],
   "source": [
    "box3 = [[1,2,3] , [4,5,6] , [7,8,9]]"
   ]
  },
  {
   "cell_type": "code",
   "execution_count": null,
   "id": "7bd74df3",
   "metadata": {},
   "outputs": [],
   "source": [
    "for a,b,c in box3:\n",
    "    print (c)"
   ]
  },
  {
   "cell_type": "markdown",
   "id": "5e4a0cbc",
   "metadata": {},
   "source": [
    "## Cara Penggunaan While Loop di Python"
   ]
  },
  {
   "cell_type": "markdown",
   "id": "13c6410e",
   "metadata": {},
   "source": [
    "Terdapat 3 argumen dalam **while loop** yang biasa digunakan didalam Python, antara lain: \n",
    "- **break** = menghentikan looping\n",
    "- **continue** = melanjutkan looping ke iterator selanjutnya dan melewati iterator saat ini\n",
    "- **pass** = tidak melakukan apa apa\n",
    "\n",
    "**Cara penulisan** dari while loop adalah sebagai berikut\n",
    "while(sebuah kondisi = True): \n",
    "    perintah"
   ]
  },
  {
   "cell_type": "code",
   "execution_count": 2,
   "id": "de112339",
   "metadata": {},
   "outputs": [],
   "source": [
    "x = 0"
   ]
  },
  {
   "cell_type": "code",
   "execution_count": 3,
   "id": "63d96520",
   "metadata": {},
   "outputs": [
    {
     "name": "stdout",
     "output_type": "stream",
     "text": [
      "Maka nilai x saat ini adalah 0\n",
      "Maka nilai x saat ini adalah 2\n",
      "Maka nilai x saat ini adalah 4\n",
      "Maka nilai x saat ini adalah 6\n",
      "Maka nilai x saat ini adalah 8\n",
      "Maka nilai x saat ini adalah 10\n",
      "Maka nilai x saat ini adalah 12\n",
      "Maka nilai x saat ini adalah 14\n",
      "Maka nilai x saat ini adalah 16\n",
      "Maka nilai x saat ini adalah 18\n",
      "Maka nilai x saat ini adalah 20\n",
      "Maka nilai x saat ini adalah 22\n",
      "Maka nilai x saat ini adalah 24\n",
      "Maka nilai x saat ini adalah 26\n"
     ]
    }
   ],
   "source": [
    "while x <= 26: \n",
    "    print('Maka nilai x saat ini adalah', x)\n",
    "    x +=2"
   ]
  },
  {
   "cell_type": "code",
   "execution_count": 9,
   "id": "5e42906b",
   "metadata": {},
   "outputs": [],
   "source": [
    "indeks = 0"
   ]
  },
  {
   "cell_type": "code",
   "execution_count": 10,
   "id": "8e26888d",
   "metadata": {},
   "outputs": [
    {
     "name": "stdout",
     "output_type": "stream",
     "text": [
      "Saya berhasil menggunakan while loop\n",
      "Saya berhasil menggunakan while loop\n",
      "Saya berhasil menggunakan while loop\n",
      "Saya berhasil menggunakan while loop\n",
      "Saya berhasil menggunakan while loop\n",
      "Saya berhasil menggunakan while loop\n",
      "Saya berhasil menggunakan while loop\n",
      "Saya berhasil menggunakan while loop\n",
      "Saya berhasil menggunakan while loop\n",
      "Saya berhasil menggunakan while loop\n"
     ]
    }
   ],
   "source": [
    "while True: \n",
    "    print('Saya berhasil menggunakan while loop')\n",
    "    indeks += 1\n",
    "    if indeks == 10:\n",
    "        break"
   ]
  },
  {
   "cell_type": "markdown",
   "id": "0b4bbb68",
   "metadata": {},
   "source": [
    "### Challenge"
   ]
  },
  {
   "cell_type": "markdown",
   "id": "e658f085",
   "metadata": {},
   "source": [
    "Terdapat list bilangan seperti yang tertera di bawah ini. Buatlah perintah dalam Python untuk mengindikasikan **print pada angka yang bersifat ganjil** sedangkan angka genap akan diskip. "
   ]
  },
  {
   "cell_type": "code",
   "execution_count": 3,
   "id": "abff5c01",
   "metadata": {},
   "outputs": [],
   "source": [
    "bilangan = [1,2,3,4,5,6,7,8,9,10]"
   ]
  },
  {
   "cell_type": "code",
   "execution_count": 4,
   "id": "20d73846",
   "metadata": {},
   "outputs": [
    {
     "name": "stdout",
     "output_type": "stream",
     "text": [
      "[1, 2, 3, 4, 5, 6, 7, 8, 9, 10]\n"
     ]
    }
   ],
   "source": [
    "print(bilangan)"
   ]
  },
  {
   "cell_type": "code",
   "execution_count": 6,
   "id": "9208272d",
   "metadata": {},
   "outputs": [
    {
     "name": "stdout",
     "output_type": "stream",
     "text": [
      "Maka angka 1 tersebut bersifat Ganjil\n",
      "Maka angka 3 tersebut bersifat Ganjil\n",
      "Maka angka 5 tersebut bersifat Ganjil\n",
      "Maka angka 7 tersebut bersifat Ganjil\n",
      "Maka angka 9 tersebut bersifat Ganjil\n"
     ]
    }
   ],
   "source": [
    "for i in bilangan:\n",
    "    while i%2 != 0:\n",
    "        print('Maka angka {} tersebut bersifat Ganjil'.format(i))\n",
    "        i = i+1\n",
    "        if bilangan == 10:\n",
    "            break"
   ]
  },
  {
   "cell_type": "code",
   "execution_count": 7,
   "id": "c15cfa94",
   "metadata": {},
   "outputs": [],
   "source": [
    "kalimat = 'Saya sudah mulai mahir di bahasa programming Python'"
   ]
  },
  {
   "cell_type": "code",
   "execution_count": 10,
   "id": "d1b9b81f",
   "metadata": {},
   "outputs": [
    {
     "name": "stdout",
     "output_type": "stream",
     "text": [
      "Huruf yang terbentuk adalah S\n",
      "Huruf yang terbentuk adalah y\n",
      "Huruf yang terbentuk adalah  \n",
      "Huruf yang terbentuk adalah s\n",
      "Huruf yang terbentuk adalah u\n",
      "Huruf yang terbentuk adalah d\n",
      "Huruf yang terbentuk adalah h\n",
      "Huruf yang terbentuk adalah  \n",
      "Huruf yang terbentuk adalah m\n",
      "Huruf yang terbentuk adalah u\n",
      "Huruf yang terbentuk adalah l\n",
      "Huruf yang terbentuk adalah i\n",
      "Huruf yang terbentuk adalah  \n",
      "Huruf yang terbentuk adalah m\n",
      "Huruf yang terbentuk adalah h\n",
      "Huruf yang terbentuk adalah i\n",
      "Huruf yang terbentuk adalah r\n",
      "Huruf yang terbentuk adalah  \n",
      "Huruf yang terbentuk adalah d\n",
      "Huruf yang terbentuk adalah i\n",
      "Huruf yang terbentuk adalah  \n",
      "Huruf yang terbentuk adalah b\n",
      "Huruf yang terbentuk adalah h\n",
      "Huruf yang terbentuk adalah s\n",
      "Huruf yang terbentuk adalah  \n",
      "Huruf yang terbentuk adalah p\n",
      "Huruf yang terbentuk adalah r\n",
      "Huruf yang terbentuk adalah o\n",
      "Huruf yang terbentuk adalah g\n",
      "Huruf yang terbentuk adalah r\n",
      "Huruf yang terbentuk adalah m\n",
      "Huruf yang terbentuk adalah m\n",
      "Huruf yang terbentuk adalah i\n",
      "Huruf yang terbentuk adalah n\n",
      "Huruf yang terbentuk adalah g\n",
      "Huruf yang terbentuk adalah  \n",
      "Huruf yang terbentuk adalah P\n",
      "Huruf yang terbentuk adalah y\n",
      "Huruf yang terbentuk adalah t\n",
      "Huruf yang terbentuk adalah h\n",
      "Huruf yang terbentuk adalah o\n",
      "Huruf yang terbentuk adalah n\n"
     ]
    }
   ],
   "source": [
    "for i in kalimat:\n",
    "    if i == 'a':\n",
    "        pass\n",
    "    else: \n",
    "        print('Huruf yang terbentuk adalah {}' .format(i))\n",
    "    "
   ]
  },
  {
   "cell_type": "code",
   "execution_count": null,
   "id": "62ff7694",
   "metadata": {},
   "outputs": [],
   "source": []
  }
 ],
 "metadata": {
  "kernelspec": {
   "display_name": "Python 3 (ipykernel)",
   "language": "python",
   "name": "python3"
  },
  "language_info": {
   "codemirror_mode": {
    "name": "ipython",
    "version": 3
   },
   "file_extension": ".py",
   "mimetype": "text/x-python",
   "name": "python",
   "nbconvert_exporter": "python",
   "pygments_lexer": "ipython3",
   "version": "3.9.7"
  }
 },
 "nbformat": 4,
 "nbformat_minor": 5
}
