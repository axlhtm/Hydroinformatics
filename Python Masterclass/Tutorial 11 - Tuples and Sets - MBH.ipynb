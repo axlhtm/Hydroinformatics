{
 "cells": [
  {
   "cell_type": "markdown",
   "id": "b84625f1",
   "metadata": {},
   "source": [
    "# Tutorial 11"
   ]
  },
  {
   "cell_type": "markdown",
   "id": "bf9edff7",
   "metadata": {},
   "source": [
    "## Penggunaan Tuples di Python"
   ]
  },
  {
   "cell_type": "markdown",
   "id": "e169fc8f",
   "metadata": {},
   "source": [
    "Tuples bersifat **immutable (tidak bisa diubah isinya)** sehingga data-data yang terdapat pada tuple bersifat konstan. Penulisan Tuples di Python dimulai dengan **tanda kurung bulat ( )** seperti pada dibawah ini.  "
   ]
  },
  {
   "cell_type": "code",
   "execution_count": 21,
   "id": "d6811b88",
   "metadata": {},
   "outputs": [],
   "source": [
    "keranjang_t = (1,2,3,4,5)"
   ]
  },
  {
   "cell_type": "code",
   "execution_count": 2,
   "id": "a7a3a311",
   "metadata": {},
   "outputs": [],
   "source": [
    "keranjang_t2 = 1,2,3,4,5"
   ]
  },
  {
   "cell_type": "code",
   "execution_count": 3,
   "id": "7a21a083",
   "metadata": {},
   "outputs": [
    {
     "data": {
      "text/plain": [
       "tuple"
      ]
     },
     "execution_count": 3,
     "metadata": {},
     "output_type": "execute_result"
    }
   ],
   "source": [
    "type(keranjang_t)"
   ]
  },
  {
   "cell_type": "code",
   "execution_count": 6,
   "id": "f0252401",
   "metadata": {},
   "outputs": [
    {
     "data": {
      "text/plain": [
       "tuple"
      ]
     },
     "execution_count": 6,
     "metadata": {},
     "output_type": "execute_result"
    }
   ],
   "source": [
    "type(keranjang_t2)"
   ]
  },
  {
   "cell_type": "markdown",
   "id": "0cae6499",
   "metadata": {},
   "source": [
    "Contoh dibawah ini merupakan bukti bahwa tuple bersifat **immutable**"
   ]
  },
  {
   "cell_type": "code",
   "execution_count": 5,
   "id": "823ee08e",
   "metadata": {},
   "outputs": [
    {
     "ename": "TypeError",
     "evalue": "'tuple' object does not support item assignment",
     "output_type": "error",
     "traceback": [
      "\u001b[1;31m---------------------------------------------------------------------------\u001b[0m",
      "\u001b[1;31mTypeError\u001b[0m                                 Traceback (most recent call last)",
      "\u001b[1;32m~\\AppData\\Local\\Temp/ipykernel_7368/1309962227.py\u001b[0m in \u001b[0;36m<module>\u001b[1;34m\u001b[0m\n\u001b[1;32m----> 1\u001b[1;33m \u001b[0mkeranjang_t\u001b[0m\u001b[1;33m[\u001b[0m\u001b[1;36m1\u001b[0m\u001b[1;33m]\u001b[0m \u001b[1;33m=\u001b[0m \u001b[1;36m3\u001b[0m\u001b[1;33m\u001b[0m\u001b[1;33m\u001b[0m\u001b[0m\n\u001b[0m",
      "\u001b[1;31mTypeError\u001b[0m: 'tuple' object does not support item assignment"
     ]
    }
   ],
   "source": [
    "keranjang_t[1] = 3"
   ]
  },
  {
   "cell_type": "markdown",
   "id": "f95a5c29",
   "metadata": {},
   "source": [
    "### Indexing dan Slicing pada Tuple"
   ]
  },
  {
   "cell_type": "code",
   "execution_count": 7,
   "id": "9600faa7",
   "metadata": {},
   "outputs": [
    {
     "data": {
      "text/plain": [
       "3"
      ]
     },
     "execution_count": 7,
     "metadata": {},
     "output_type": "execute_result"
    }
   ],
   "source": [
    "keranjang_t[2]"
   ]
  },
  {
   "cell_type": "code",
   "execution_count": 8,
   "id": "db57cac6",
   "metadata": {},
   "outputs": [
    {
     "data": {
      "text/plain": [
       "4"
      ]
     },
     "execution_count": 8,
     "metadata": {},
     "output_type": "execute_result"
    }
   ],
   "source": [
    "keranjang_t[3]"
   ]
  },
  {
   "cell_type": "markdown",
   "id": "50f3e955",
   "metadata": {},
   "source": [
    "### Modifikasi Data pada Tuple"
   ]
  },
  {
   "cell_type": "markdown",
   "id": "99a874be",
   "metadata": {},
   "source": [
    "Jika ingin **memodifikasi data pada Tuple** dapat dilakukan dengan 2 cara, antara lain:\n",
    "- Menuliskan kembali tuple secara manual.\n",
    "- Merubah tuple menjadi list. "
   ]
  },
  {
   "cell_type": "markdown",
   "id": "c101ae3e",
   "metadata": {},
   "source": [
    "Modifikasi dengan cara **Manual**"
   ]
  },
  {
   "cell_type": "code",
   "execution_count": 22,
   "id": "be5446f3",
   "metadata": {},
   "outputs": [
    {
     "data": {
      "text/plain": [
       "(1, 2, 3, 4, 5)"
      ]
     },
     "execution_count": 22,
     "metadata": {},
     "output_type": "execute_result"
    }
   ],
   "source": [
    "keranjang_t "
   ]
  },
  {
   "cell_type": "code",
   "execution_count": 23,
   "id": "64253ef1",
   "metadata": {},
   "outputs": [],
   "source": [
    "keranjang_t = keranjang_t [0], keranjang_t[1], 'Apel', keranjang_t [3], keranjang_t [4]"
   ]
  },
  {
   "cell_type": "code",
   "execution_count": 24,
   "id": "505412e2",
   "metadata": {},
   "outputs": [
    {
     "data": {
      "text/plain": [
       "(1, 2, 'Apel', 4, 5)"
      ]
     },
     "execution_count": 24,
     "metadata": {},
     "output_type": "execute_result"
    }
   ],
   "source": [
    "keranjang_t"
   ]
  },
  {
   "cell_type": "markdown",
   "id": "f56dce37",
   "metadata": {},
   "source": [
    "Modifikasi dengan cara **List**"
   ]
  },
  {
   "cell_type": "code",
   "execution_count": 26,
   "id": "44309257",
   "metadata": {},
   "outputs": [],
   "source": [
    "keranjang_t = list(keranjang_t)"
   ]
  },
  {
   "cell_type": "code",
   "execution_count": 27,
   "id": "9e39700e",
   "metadata": {},
   "outputs": [
    {
     "data": {
      "text/plain": [
       "[1, 2, 'Apel', 4, 5]"
      ]
     },
     "execution_count": 27,
     "metadata": {},
     "output_type": "execute_result"
    }
   ],
   "source": [
    "keranjang_t"
   ]
  },
  {
   "cell_type": "code",
   "execution_count": 29,
   "id": "9a5e7db0",
   "metadata": {},
   "outputs": [],
   "source": [
    "keranjang_t[3] = 'Jeruk'"
   ]
  },
  {
   "cell_type": "code",
   "execution_count": 32,
   "id": "c06a0ce8",
   "metadata": {},
   "outputs": [],
   "source": [
    "keranjang_t = tuple(keranjang_t)"
   ]
  },
  {
   "cell_type": "code",
   "execution_count": 33,
   "id": "83db0559",
   "metadata": {},
   "outputs": [
    {
     "data": {
      "text/plain": [
       "(1, 2, 'Apel', 'Jeruk', 5)"
      ]
     },
     "execution_count": 33,
     "metadata": {},
     "output_type": "execute_result"
    }
   ],
   "source": [
    "keranjang_t"
   ]
  },
  {
   "cell_type": "markdown",
   "id": "764f7e96",
   "metadata": {},
   "source": [
    "### Methods di Tuples"
   ]
  },
  {
   "cell_type": "code",
   "execution_count": 35,
   "id": "23aad62b",
   "metadata": {},
   "outputs": [],
   "source": [
    "t1 = (1,2,3,4,5,1,1,1,1,1)"
   ]
  },
  {
   "cell_type": "code",
   "execution_count": 36,
   "id": "5a0c65c1",
   "metadata": {},
   "outputs": [
    {
     "data": {
      "text/plain": [
       "6"
      ]
     },
     "execution_count": 36,
     "metadata": {},
     "output_type": "execute_result"
    }
   ],
   "source": [
    "t1.count(1)"
   ]
  },
  {
   "cell_type": "code",
   "execution_count": 38,
   "id": "d229c411",
   "metadata": {},
   "outputs": [
    {
     "data": {
      "text/plain": [
       "2"
      ]
     },
     "execution_count": 38,
     "metadata": {},
     "output_type": "execute_result"
    }
   ],
   "source": [
    "t1.index(3)"
   ]
  },
  {
   "cell_type": "markdown",
   "id": "f42238ab",
   "metadata": {},
   "source": [
    "### Multiple Assignments pada Tuples"
   ]
  },
  {
   "cell_type": "code",
   "execution_count": 39,
   "id": "1c07598a",
   "metadata": {},
   "outputs": [],
   "source": [
    "a,b,c,d = 1,2,3,4"
   ]
  },
  {
   "cell_type": "code",
   "execution_count": 40,
   "id": "8c087104",
   "metadata": {},
   "outputs": [
    {
     "data": {
      "text/plain": [
       "1"
      ]
     },
     "execution_count": 40,
     "metadata": {},
     "output_type": "execute_result"
    }
   ],
   "source": [
    "a"
   ]
  },
  {
   "cell_type": "code",
   "execution_count": 41,
   "id": "327783ec",
   "metadata": {},
   "outputs": [
    {
     "data": {
      "text/plain": [
       "3"
      ]
     },
     "execution_count": 41,
     "metadata": {},
     "output_type": "execute_result"
    }
   ],
   "source": [
    "c"
   ]
  },
  {
   "cell_type": "code",
   "execution_count": 43,
   "id": "870c38b3",
   "metadata": {},
   "outputs": [],
   "source": [
    "l = m = n = 'sama'"
   ]
  },
  {
   "cell_type": "code",
   "execution_count": 44,
   "id": "8d6e9331",
   "metadata": {},
   "outputs": [],
   "source": [
    "tas = ('rambutan', 41, 9.87, [1,2,3,4])"
   ]
  },
  {
   "cell_type": "code",
   "execution_count": 45,
   "id": "999333b0",
   "metadata": {},
   "outputs": [],
   "source": [
    "item1, item2, item3, item4 = tas"
   ]
  },
  {
   "cell_type": "code",
   "execution_count": 46,
   "id": "f8cd9b45",
   "metadata": {},
   "outputs": [
    {
     "data": {
      "text/plain": [
       "'rambutan'"
      ]
     },
     "execution_count": 46,
     "metadata": {},
     "output_type": "execute_result"
    }
   ],
   "source": [
    "item1"
   ]
  },
  {
   "cell_type": "code",
   "execution_count": 48,
   "id": "da795a4c",
   "metadata": {},
   "outputs": [
    {
     "data": {
      "text/plain": [
       "9.87"
      ]
     },
     "execution_count": 48,
     "metadata": {},
     "output_type": "execute_result"
    }
   ],
   "source": [
    "item3"
   ]
  },
  {
   "cell_type": "markdown",
   "id": "3096cb10",
   "metadata": {},
   "source": [
    "## Pengunaan Sets pada Python"
   ]
  },
  {
   "cell_type": "markdown",
   "id": "d8e122cd",
   "metadata": {},
   "source": [
    "Sets adalah sebuah tipe data untuk elemen yang bersifat **unik** (tanpa duplikasi) dan **tidak berurutan**"
   ]
  },
  {
   "cell_type": "code",
   "execution_count": 2,
   "id": "7e56828c",
   "metadata": {},
   "outputs": [],
   "source": [
    "set1 = set()"
   ]
  },
  {
   "cell_type": "code",
   "execution_count": 3,
   "id": "24000b09",
   "metadata": {},
   "outputs": [],
   "source": [
    "set1.add('biru')"
   ]
  },
  {
   "cell_type": "code",
   "execution_count": 4,
   "id": "e8a00b49",
   "metadata": {},
   "outputs": [
    {
     "data": {
      "text/plain": [
       "{'biru'}"
      ]
     },
     "execution_count": 4,
     "metadata": {},
     "output_type": "execute_result"
    }
   ],
   "source": [
    "set1"
   ]
  },
  {
   "cell_type": "code",
   "execution_count": 5,
   "id": "02bf3b87",
   "metadata": {},
   "outputs": [],
   "source": [
    "set1.add('kuning')"
   ]
  },
  {
   "cell_type": "code",
   "execution_count": 6,
   "id": "a18da039",
   "metadata": {},
   "outputs": [
    {
     "data": {
      "text/plain": [
       "{'biru', 'kuning'}"
      ]
     },
     "execution_count": 6,
     "metadata": {},
     "output_type": "execute_result"
    }
   ],
   "source": [
    "set1"
   ]
  },
  {
   "cell_type": "markdown",
   "id": "0b6722f7",
   "metadata": {},
   "source": [
    "Cara merubah **variabel** menjadi set. "
   ]
  },
  {
   "cell_type": "code",
   "execution_count": 53,
   "id": "d4b701b4",
   "metadata": {},
   "outputs": [],
   "source": [
    "list_angka = [1,2,3,4,5,6,7,8,9,0,2,4,5,6,6,7,213,5125,312]"
   ]
  },
  {
   "cell_type": "code",
   "execution_count": 54,
   "id": "ba324ff4",
   "metadata": {},
   "outputs": [],
   "source": [
    "set_angka = set(list_angka)"
   ]
  },
  {
   "cell_type": "code",
   "execution_count": 55,
   "id": "ef22ce8a",
   "metadata": {},
   "outputs": [
    {
     "data": {
      "text/plain": [
       "{0, 1, 2, 3, 4, 5, 6, 7, 8, 9, 213, 312, 5125}"
      ]
     },
     "execution_count": 55,
     "metadata": {},
     "output_type": "execute_result"
    }
   ],
   "source": [
    "set_angka"
   ]
  },
  {
   "cell_type": "code",
   "execution_count": 58,
   "id": "64345ae2",
   "metadata": {},
   "outputs": [
    {
     "data": {
      "text/plain": [
       "<function set.difference>"
      ]
     },
     "execution_count": 58,
     "metadata": {},
     "output_type": "execute_result"
    }
   ],
   "source": [
    "set.angka"
   ]
  },
  {
   "cell_type": "code",
   "execution_count": null,
   "id": "25afcfa3",
   "metadata": {},
   "outputs": [],
   "source": []
  }
 ],
 "metadata": {
  "kernelspec": {
   "display_name": "Python 3 (ipykernel)",
   "language": "python",
   "name": "python3"
  },
  "language_info": {
   "codemirror_mode": {
    "name": "ipython",
    "version": 3
   },
   "file_extension": ".py",
   "mimetype": "text/x-python",
   "name": "python",
   "nbconvert_exporter": "python",
   "pygments_lexer": "ipython3",
   "version": "3.9.7"
  }
 },
 "nbformat": 4,
 "nbformat_minor": 5
}
