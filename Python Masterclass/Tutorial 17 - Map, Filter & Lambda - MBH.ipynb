{
 "cells": [
  {
   "cell_type": "markdown",
   "id": "e8791e3b",
   "metadata": {},
   "source": [
    "# Tutorial 17\n",
    "##  1. Penggunaan Map di Python"
   ]
  },
  {
   "cell_type": "markdown",
   "id": "3372fab3",
   "metadata": {},
   "source": [
    "Map pada Python **digunakan pada suatu fungsi dimana variabel dari fungsi tersebut meruapakan set, maupun tuple.** Penulisan daripada map dituliskan sebagai berikut: \n",
    "\n",
    "**Jika variabelnya adalah list** dituliskan sebagai berikut: list( map( nama_fungsi , variabel_list))  \n",
    "**Jika variabelnya adalah tuple** dituliskan sebagai berikut: tuple(map( nama_fungsi , variabel_tuple))"
   ]
  },
  {
   "cell_type": "code",
   "execution_count": 30,
   "id": "911ab0f3",
   "metadata": {},
   "outputs": [],
   "source": [
    "def kali10(num):\n",
    "    return num*10"
   ]
  },
  {
   "cell_type": "code",
   "execution_count": 2,
   "id": "b3f39bd6",
   "metadata": {},
   "outputs": [
    {
     "data": {
      "text/plain": [
       "760"
      ]
     },
     "execution_count": 2,
     "metadata": {},
     "output_type": "execute_result"
    }
   ],
   "source": [
    "kali10(76)"
   ]
  },
  {
   "cell_type": "code",
   "execution_count": 3,
   "id": "1b88beaf",
   "metadata": {},
   "outputs": [],
   "source": [
    "angka = [3,6,9]"
   ]
  },
  {
   "cell_type": "code",
   "execution_count": 5,
   "id": "9311049a",
   "metadata": {},
   "outputs": [
    {
     "name": "stdout",
     "output_type": "stream",
     "text": [
      "30\n",
      "60\n",
      "90\n"
     ]
    }
   ],
   "source": [
    "for i in map(kali10, angka):\n",
    "    print (i)"
   ]
  },
  {
   "cell_type": "code",
   "execution_count": 6,
   "id": "8db50abf",
   "metadata": {},
   "outputs": [
    {
     "data": {
      "text/plain": [
       "[30, 60, 90]"
      ]
     },
     "execution_count": 6,
     "metadata": {},
     "output_type": "execute_result"
    }
   ],
   "source": [
    "hasil = list(map(kali10, angka))\n",
    "hasil"
   ]
  },
  {
   "cell_type": "code",
   "execution_count": 7,
   "id": "49164c5a",
   "metadata": {},
   "outputs": [],
   "source": [
    "angka2 = (31,61,91)"
   ]
  },
  {
   "cell_type": "code",
   "execution_count": 8,
   "id": "5169d6f5",
   "metadata": {},
   "outputs": [],
   "source": [
    "hasil2 = tuple(map(kali10, angka2))"
   ]
  },
  {
   "cell_type": "code",
   "execution_count": 9,
   "id": "39e750da",
   "metadata": {},
   "outputs": [
    {
     "data": {
      "text/plain": [
       "(310, 610, 910)"
      ]
     },
     "execution_count": 9,
     "metadata": {},
     "output_type": "execute_result"
    }
   ],
   "source": [
    "hasil2"
   ]
  },
  {
   "cell_type": "code",
   "execution_count": 11,
   "id": "b6c9c607",
   "metadata": {},
   "outputs": [
    {
     "data": {
      "text/plain": [
       "tuple"
      ]
     },
     "execution_count": 11,
     "metadata": {},
     "output_type": "execute_result"
    }
   ],
   "source": [
    "type(hasil2)"
   ]
  },
  {
   "cell_type": "code",
   "execution_count": 12,
   "id": "00ac1d52",
   "metadata": {},
   "outputs": [],
   "source": [
    "def jumlahkata(kata):\n",
    "    if len(kata)%2 == 0:\n",
    "        return \"Genap loh\"\n",
    "    else:\n",
    "        return 'Bro Ganjil Bro'"
   ]
  },
  {
   "cell_type": "code",
   "execution_count": 13,
   "id": "a539fc01",
   "metadata": {},
   "outputs": [
    {
     "data": {
      "text/plain": [
       "'Bro Ganjil Bro'"
      ]
     },
     "execution_count": 13,
     "metadata": {},
     "output_type": "execute_result"
    }
   ],
   "source": [
    "jumlahkata('sdjhqgwojehgqwoeuigqp')"
   ]
  },
  {
   "cell_type": "code",
   "execution_count": 14,
   "id": "cf52d6b4",
   "metadata": {},
   "outputs": [],
   "source": [
    "listkata= ['hjqgeqwjkhegqwjk','asdjkhbqwkjeghq','asdjhgjkq']"
   ]
  },
  {
   "cell_type": "code",
   "execution_count": 15,
   "id": "7ae228ff",
   "metadata": {},
   "outputs": [],
   "source": [
    "hasil3 = list(map(jumlahkata, listkata))"
   ]
  },
  {
   "cell_type": "code",
   "execution_count": 16,
   "id": "b31b9002",
   "metadata": {},
   "outputs": [
    {
     "data": {
      "text/plain": [
       "['Genap loh', 'Bro Ganjil Bro', 'Bro Ganjil Bro']"
      ]
     },
     "execution_count": 16,
     "metadata": {},
     "output_type": "execute_result"
    }
   ],
   "source": [
    "hasil3"
   ]
  },
  {
   "cell_type": "code",
   "execution_count": 17,
   "id": "0e74dc41",
   "metadata": {},
   "outputs": [],
   "source": [
    "def cekgenap(num): \n",
    "    return num%2 == 0 "
   ]
  },
  {
   "cell_type": "code",
   "execution_count": 18,
   "id": "3281887a",
   "metadata": {},
   "outputs": [
    {
     "data": {
      "text/plain": [
       "False"
      ]
     },
     "execution_count": 18,
     "metadata": {},
     "output_type": "execute_result"
    }
   ],
   "source": [
    "cekgenap(7)"
   ]
  },
  {
   "cell_type": "code",
   "execution_count": 19,
   "id": "bae40a95",
   "metadata": {},
   "outputs": [
    {
     "data": {
      "text/plain": [
       "True"
      ]
     },
     "execution_count": 19,
     "metadata": {},
     "output_type": "execute_result"
    }
   ],
   "source": [
    "cekgenap(10)"
   ]
  },
  {
   "cell_type": "code",
   "execution_count": 23,
   "id": "191953eb",
   "metadata": {},
   "outputs": [],
   "source": [
    "nomor = [1,2,3,4,5,6,7,8,9,10]"
   ]
  },
  {
   "cell_type": "code",
   "execution_count": 31,
   "id": "315f7fcc",
   "metadata": {},
   "outputs": [
    {
     "data": {
      "text/plain": [
       "[False, True, False, True, False, True, False, True, False, True]"
      ]
     },
     "execution_count": 31,
     "metadata": {},
     "output_type": "execute_result"
    }
   ],
   "source": [
    "list(map(cekgenap, nomor))"
   ]
  },
  {
   "cell_type": "markdown",
   "id": "0ebd1576",
   "metadata": {},
   "source": [
    "## 2. Penggunaan Filter pada Python \n"
   ]
  },
  {
   "cell_type": "markdown",
   "id": "334f45b9",
   "metadata": {},
   "source": [
    "Penggunaan filter pada Python digunakan pada suatu fungsi, dimana ditujukan untuk **menghasilkan hasil dari fungsi yang bukan merupakan boolean (True / False)**, seperti yang ditunjukan pada contoh di bawah ini."
   ]
  },
  {
   "cell_type": "code",
   "execution_count": 29,
   "id": "5b2ae2b5",
   "metadata": {},
   "outputs": [
    {
     "name": "stdout",
     "output_type": "stream",
     "text": [
      "2\n",
      "4\n",
      "6\n",
      "8\n",
      "10\n"
     ]
    }
   ],
   "source": [
    "for i in filter(cekgenap,nomor):\n",
    "    print(i)"
   ]
  },
  {
   "cell_type": "markdown",
   "id": "0645acea",
   "metadata": {},
   "source": [
    "## 3. Pengguanaan Lambda Expression pada Python"
   ]
  },
  {
   "cell_type": "code",
   "execution_count": 43,
   "id": "a57e1dd0",
   "metadata": {},
   "outputs": [],
   "source": [
    "def fungsi_satu(angka): \n",
    "    return angka*10"
   ]
  },
  {
   "cell_type": "code",
   "execution_count": 44,
   "id": "8670a7e5",
   "metadata": {},
   "outputs": [],
   "source": [
    "angka = 10"
   ]
  },
  {
   "cell_type": "code",
   "execution_count": 45,
   "id": "0394d010",
   "metadata": {},
   "outputs": [
    {
     "data": {
      "text/plain": [
       "100"
      ]
     },
     "execution_count": 45,
     "metadata": {},
     "output_type": "execute_result"
    }
   ],
   "source": [
    "fungsi_satu(angka)"
   ]
  },
  {
   "cell_type": "code",
   "execution_count": 48,
   "id": "3605efb4",
   "metadata": {},
   "outputs": [],
   "source": [
    "bilangan = lambda fungsi_dua : fungsi_dua*10"
   ]
  },
  {
   "cell_type": "code",
   "execution_count": 50,
   "id": "ff966018",
   "metadata": {},
   "outputs": [
    {
     "data": {
      "text/plain": [
       "200"
      ]
     },
     "execution_count": 50,
     "metadata": {},
     "output_type": "execute_result"
    }
   ],
   "source": [
    "bilangan(20)"
   ]
  },
  {
   "cell_type": "code",
   "execution_count": null,
   "id": "ec097046",
   "metadata": {},
   "outputs": [],
   "source": []
  }
 ],
 "metadata": {
  "kernelspec": {
   "display_name": "Python 3 (ipykernel)",
   "language": "python",
   "name": "python3"
  },
  "language_info": {
   "codemirror_mode": {
    "name": "ipython",
    "version": 3
   },
   "file_extension": ".py",
   "mimetype": "text/x-python",
   "name": "python",
   "nbconvert_exporter": "python",
   "pygments_lexer": "ipython3",
   "version": "3.9.7"
  }
 },
 "nbformat": 4,
 "nbformat_minor": 5
}
