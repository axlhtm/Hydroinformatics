{
 "cells": [
  {
   "cell_type": "markdown",
   "id": "277aaa42",
   "metadata": {},
   "source": [
    "# Tutorial 23\n",
    "## Pengunaan Indeks dan Slicing di NumPy pada Python"
   ]
  },
  {
   "cell_type": "code",
   "execution_count": 1,
   "id": "9a3490d9",
   "metadata": {},
   "outputs": [],
   "source": [
    "import numpy as np "
   ]
  },
  {
   "cell_type": "code",
   "execution_count": 2,
   "id": "9d32fa83",
   "metadata": {},
   "outputs": [
    {
     "data": {
      "text/plain": [
       "array([0.79501704, 0.08391192, 0.61697096, 0.46464932, 0.38015548,\n",
       "       0.81255373, 0.49093229])"
      ]
     },
     "execution_count": 2,
     "metadata": {},
     "output_type": "execute_result"
    }
   ],
   "source": [
    "# Bilangan distribusi uniform (0-1)\n",
    "np.random.rand(7)"
   ]
  },
  {
   "cell_type": "code",
   "execution_count": 3,
   "id": "e1adbd55",
   "metadata": {},
   "outputs": [
    {
     "data": {
      "text/plain": [
       "array([[0.75158307, 0.09915483, 0.8991469 , 0.49555719],\n",
       "       [0.48005975, 0.7616762 , 0.3206586 , 0.60065583],\n",
       "       [0.09249407, 0.82316669, 0.51921795, 0.60757691],\n",
       "       [0.72332817, 0.45409897, 0.64329346, 0.68202569],\n",
       "       [0.94663691, 0.48833446, 0.05615422, 0.50047173]])"
      ]
     },
     "execution_count": 3,
     "metadata": {},
     "output_type": "execute_result"
    }
   ],
   "source": [
    "# Bilangan distribusi uniform (0-1) dalam bentuk matriks 2 dimensi\n",
    "np.random.rand(5,4)"
   ]
  },
  {
   "cell_type": "code",
   "execution_count": 4,
   "id": "f99e1a60",
   "metadata": {},
   "outputs": [
    {
     "data": {
      "text/plain": [
       "array([-0.91308474, -0.19219885,  0.37276898, -1.38493755,  1.07348932,\n",
       "        1.61972144,  2.03326787,  0.15833472,  0.89917124, -2.10262604])"
      ]
     },
     "execution_count": 4,
     "metadata": {},
     "output_type": "execute_result"
    }
   ],
   "source": [
    "# Bilangan distribusi normal (Gaussian) \n",
    "np.random.randn(10)"
   ]
  },
  {
   "cell_type": "code",
   "execution_count": 17,
   "id": "dbd275bd",
   "metadata": {},
   "outputs": [
    {
     "data": {
      "text/plain": [
       "array([[-0.0410478 , -0.44037266,  1.9117964 , -0.38305649],\n",
       "       [ 0.7236337 , -0.74705189,  0.01701785,  0.56123695],\n",
       "       [-0.40333112, -0.4912706 ,  0.03733762, -1.06474067],\n",
       "       [-0.60576189,  1.80612763, -0.07723262, -0.78310435]])"
      ]
     },
     "execution_count": 17,
     "metadata": {},
     "output_type": "execute_result"
    }
   ],
   "source": [
    "# Bilangan distribusi normal (Gaussian) dalam bentuk matriks 2 dimensi\n",
    "np.random.randn(4,4)"
   ]
  },
  {
   "cell_type": "markdown",
   "id": "8cce2961",
   "metadata": {},
   "source": [
    "**Distribusi Normal** dapat didefinisikan sebagai deretan angka yang berada pada nilai negatif sampai dengan positif, di python distribusi ini dituliskan sebaga **randn**. Sedangkan **Distribusi Uniform** didefinisikan deretan angka yang berada pada nilai positif saja, dan dituliskan sebagai **rand**. \n",
    "\n",
    "Untuk menggunakannya harus **import numpy dengan fungsi rand, randn, dan randint** sebagai berikut. "
   ]
  },
  {
   "cell_type": "code",
   "execution_count": 8,
   "id": "05cea0e4",
   "metadata": {},
   "outputs": [],
   "source": [
    "from numpy.random import randn, randint"
   ]
  },
  {
   "cell_type": "code",
   "execution_count": 7,
   "id": "35ef6431",
   "metadata": {},
   "outputs": [
    {
     "data": {
      "text/plain": [
       "array([[ 0.8666995 ,  0.49522742],\n",
       "       [ 1.86676276,  3.5911451 ],\n",
       "       [-1.00773703, -0.51752215],\n",
       "       [-1.02663101, -1.46231071],\n",
       "       [-0.60316197, -1.5265515 ],\n",
       "       [ 1.80873655,  0.21554724]])"
      ]
     },
     "execution_count": 7,
     "metadata": {},
     "output_type": "execute_result"
    }
   ],
   "source": [
    "randn(6,2)"
   ]
  },
  {
   "cell_type": "code",
   "execution_count": 9,
   "id": "528b2fc9",
   "metadata": {},
   "outputs": [
    {
     "data": {
      "text/plain": [
       "8"
      ]
     },
     "execution_count": 9,
     "metadata": {},
     "output_type": "execute_result"
    }
   ],
   "source": [
    "randint(0,10)"
   ]
  },
  {
   "cell_type": "code",
   "execution_count": 11,
   "id": "031fe605",
   "metadata": {},
   "outputs": [
    {
     "data": {
      "text/plain": [
       "array([1, 2, 4, 5, 5])"
      ]
     },
     "execution_count": 11,
     "metadata": {},
     "output_type": "execute_result"
    }
   ],
   "source": [
    "randint(0,10,5)"
   ]
  },
  {
   "cell_type": "code",
   "execution_count": 14,
   "id": "eeee189d",
   "metadata": {},
   "outputs": [
    {
     "data": {
      "text/plain": [
       "array([10, 10, 96, 51, 93, 80, 66, 31, 80, 91, 86, 55, 77, 19, 45, 52,  6,\n",
       "       96, 21, 68])"
      ]
     },
     "execution_count": 14,
     "metadata": {},
     "output_type": "execute_result"
    }
   ],
   "source": [
    "bilangan = randint(0,100,20)\n",
    "bilangan"
   ]
  },
  {
   "cell_type": "code",
   "execution_count": 15,
   "id": "ed000521",
   "metadata": {},
   "outputs": [
    {
     "data": {
      "text/plain": [
       "array([[10, 10, 96, 51, 93],\n",
       "       [80, 66, 31, 80, 91],\n",
       "       [86, 55, 77, 19, 45],\n",
       "       [52,  6, 96, 21, 68]])"
      ]
     },
     "execution_count": 15,
     "metadata": {},
     "output_type": "execute_result"
    }
   ],
   "source": [
    "bilangan.reshape(4,5)"
   ]
  },
  {
   "cell_type": "markdown",
   "id": "2ae58490",
   "metadata": {},
   "source": [
    "Contoh di atas merupakan **cara untuk merubah list array menjadi list matriks** dengan menggunakan **mehtods reshape**. Perlu diperhatikan bahwa **perkalian antara kolom dan baris** harus **sama dengan jumlah data (n)** yang terdapat pada satu variabel. "
   ]
  },
  {
   "cell_type": "code",
   "execution_count": 21,
   "id": "80ba6109",
   "metadata": {},
   "outputs": [
    {
     "data": {
      "text/plain": [
       "array([[5, 1, 1, 3, 8],\n",
       "       [7, 5, 6, 8, 7],\n",
       "       [9, 5, 2, 7, 2],\n",
       "       [8, 2, 3, 6, 0]])"
      ]
     },
     "execution_count": 21,
     "metadata": {},
     "output_type": "execute_result"
    }
   ],
   "source": [
    "coba = randint (0,10,20).reshape(4,5)\n",
    "coba"
   ]
  },
  {
   "cell_type": "code",
   "execution_count": 22,
   "id": "b777959f",
   "metadata": {},
   "outputs": [
    {
     "data": {
      "text/plain": [
       "array([[5, 1, 1, 3, 8, 7, 5, 6, 8, 7],\n",
       "       [9, 5, 2, 7, 2, 8, 2, 3, 6, 0]])"
      ]
     },
     "execution_count": 22,
     "metadata": {},
     "output_type": "execute_result"
    }
   ],
   "source": [
    "coba = coba.reshape(2,10)\n",
    "coba"
   ]
  },
  {
   "cell_type": "code",
   "execution_count": 34,
   "id": "5485e047",
   "metadata": {},
   "outputs": [
    {
     "data": {
      "text/plain": [
       "array([29,  4, 13, 57, 54, 79, 61, 73, 68, 89, 53, 37, 24, 48, 91, 14, 35,\n",
       "       81, 36, 72])"
      ]
     },
     "execution_count": 34,
     "metadata": {},
     "output_type": "execute_result"
    }
   ],
   "source": [
    "Matriks1D = randint(0,100,20 )\n",
    "Matriks1D"
   ]
  },
  {
   "cell_type": "code",
   "execution_count": 36,
   "id": "9f6652ee",
   "metadata": {},
   "outputs": [
    {
     "name": "stdout",
     "output_type": "stream",
     "text": [
      "91\n",
      "4\n",
      "50.9\n"
     ]
    }
   ],
   "source": [
    "print(Matriks1D.max())\n",
    "print(Matriks1D.min())\n",
    "print(Matriks1D.mean())\n"
   ]
  },
  {
   "cell_type": "code",
   "execution_count": 27,
   "id": "fb347c69",
   "metadata": {},
   "outputs": [
    {
     "data": {
      "text/plain": [
       "array([[67,  7, 19, 16,  0],\n",
       "       [57, 36, 92, 90, 30],\n",
       "       [56, 19, 28, 87, 80],\n",
       "       [89, 60, 79, 50, 28]])"
      ]
     },
     "execution_count": 27,
     "metadata": {},
     "output_type": "execute_result"
    }
   ],
   "source": [
    "Matriks2D = randint (0,100,20).reshape(4,5)\n",
    "Matriks2D"
   ]
  },
  {
   "cell_type": "code",
   "execution_count": 37,
   "id": "155cbe47",
   "metadata": {},
   "outputs": [
    {
     "name": "stdout",
     "output_type": "stream",
     "text": [
      "92\n",
      "0\n",
      "49.5\n"
     ]
    }
   ],
   "source": [
    "print(Matriks2D.max())\n",
    "print(Matriks2D.min())\n",
    "print(Matriks2D.mean())"
   ]
  },
  {
   "cell_type": "markdown",
   "id": "a2c2a760",
   "metadata": {},
   "source": [
    "### Penggunaan Indexing di NumPy pada Python\n"
   ]
  },
  {
   "cell_type": "markdown",
   "id": "1b7c7776",
   "metadata": {},
   "source": [
    "Pada **NumPy** variabel dibawah dimana **coba2 = coba[0:6] bersifat mengikat 2 arah**, sehingga ketika **kita merubah value dari coba2, maka data di coba 1 juga akan berubah**. Hal ini juga berlaku pada sebaliknya. Contoh penggunannya adalah sebagai berikut:"
   ]
  },
  {
   "cell_type": "markdown",
   "id": "88bd2d6f",
   "metadata": {},
   "source": [
    "**Contoh 1:**"
   ]
  },
  {
   "cell_type": "code",
   "execution_count": 57,
   "id": "070554cc",
   "metadata": {},
   "outputs": [],
   "source": [
    "import numpy as np"
   ]
  },
  {
   "cell_type": "code",
   "execution_count": 70,
   "id": "f0f5ca4b",
   "metadata": {},
   "outputs": [
    {
     "data": {
      "text/plain": [
       "array([ 0,  1,  2,  3,  4,  5,  6,  7,  8,  9, 10])"
      ]
     },
     "execution_count": 70,
     "metadata": {},
     "output_type": "execute_result"
    }
   ],
   "source": [
    "coba = np.arange (0,11)\n",
    "coba"
   ]
  },
  {
   "cell_type": "code",
   "execution_count": 71,
   "id": "e911cff5",
   "metadata": {},
   "outputs": [
    {
     "data": {
      "text/plain": [
       "3"
      ]
     },
     "execution_count": 71,
     "metadata": {},
     "output_type": "execute_result"
    }
   ],
   "source": [
    "coba[3]"
   ]
  },
  {
   "cell_type": "code",
   "execution_count": 72,
   "id": "94555ef2",
   "metadata": {},
   "outputs": [
    {
     "data": {
      "text/plain": [
       "array([5, 6, 7, 8, 9])"
      ]
     },
     "execution_count": 72,
     "metadata": {},
     "output_type": "execute_result"
    }
   ],
   "source": [
    "coba[5:10]"
   ]
  },
  {
   "cell_type": "code",
   "execution_count": 77,
   "id": "16021fdf",
   "metadata": {},
   "outputs": [
    {
     "data": {
      "text/plain": [
       "array([100, 100, 100, 100, 100, 100])"
      ]
     },
     "execution_count": 77,
     "metadata": {},
     "output_type": "execute_result"
    }
   ],
   "source": [
    "coba2 = coba[0:6]\n",
    "coba2"
   ]
  },
  {
   "cell_type": "code",
   "execution_count": 75,
   "id": "9d3ec275",
   "metadata": {},
   "outputs": [
    {
     "data": {
      "text/plain": [
       "array([100, 100, 100, 100, 100, 100])"
      ]
     },
     "execution_count": 75,
     "metadata": {},
     "output_type": "execute_result"
    }
   ],
   "source": [
    "coba2[:] = 100\n",
    "coba2"
   ]
  },
  {
   "cell_type": "code",
   "execution_count": 90,
   "id": "73ecf1e7",
   "metadata": {},
   "outputs": [
    {
     "data": {
      "text/plain": [
       "array([100, 100, 100, 100, 100, 100,   6,   7,   8,   9,  10])"
      ]
     },
     "execution_count": 90,
     "metadata": {},
     "output_type": "execute_result"
    }
   ],
   "source": [
    "coba"
   ]
  },
  {
   "cell_type": "markdown",
   "id": "858dbc28",
   "metadata": {},
   "source": [
    "**Contoh 2:**"
   ]
  },
  {
   "cell_type": "code",
   "execution_count": 91,
   "id": "3c1bb4c0",
   "metadata": {},
   "outputs": [
    {
     "data": {
      "text/plain": [
       "array([10, 11, 12, 13, 14, 15])"
      ]
     },
     "execution_count": 91,
     "metadata": {},
     "output_type": "execute_result"
    }
   ],
   "source": [
    "l = np.arange(10,16)\n",
    "l"
   ]
  },
  {
   "cell_type": "code",
   "execution_count": 92,
   "id": "a990a820",
   "metadata": {},
   "outputs": [
    {
     "data": {
      "text/plain": [
       "array([50, 50])"
      ]
     },
     "execution_count": 92,
     "metadata": {},
     "output_type": "execute_result"
    }
   ],
   "source": [
    "m = ab[3:5]\n",
    "m "
   ]
  },
  {
   "cell_type": "code",
   "execution_count": 93,
   "id": "296ae3bf",
   "metadata": {},
   "outputs": [
    {
     "data": {
      "text/plain": [
       "array([50, 50])"
      ]
     },
     "execution_count": 93,
     "metadata": {},
     "output_type": "execute_result"
    }
   ],
   "source": [
    "m[:] = 50\n",
    "m"
   ]
  },
  {
   "cell_type": "code",
   "execution_count": 94,
   "id": "697bfaf1",
   "metadata": {},
   "outputs": [
    {
     "data": {
      "text/plain": [
       "array([10, 11, 12, 13, 14, 15])"
      ]
     },
     "execution_count": 94,
     "metadata": {},
     "output_type": "execute_result"
    }
   ],
   "source": [
    "l"
   ]
  },
  {
   "cell_type": "markdown",
   "id": "e06e8dbc",
   "metadata": {},
   "source": [
    "Apabila kedua **variabel diinginkan untuk berdiri secara independen dan tidak terikat satu sama lain**, maka pada fungsi persamaan array **harus ditambahkan method .copy()**. Contoh penggunannnya adalah sebagai berikut: "
   ]
  },
  {
   "cell_type": "code",
   "execution_count": 101,
   "id": "13d6d7b6",
   "metadata": {},
   "outputs": [
    {
     "data": {
      "text/plain": [
       "array([100, 200, 300, 400, 500])"
      ]
     },
     "execution_count": 101,
     "metadata": {},
     "output_type": "execute_result"
    }
   ],
   "source": [
    "x = np.array ([100, 200, 300, 400, 500])\n",
    "x"
   ]
  },
  {
   "cell_type": "code",
   "execution_count": 102,
   "id": "5c96b5b0",
   "metadata": {},
   "outputs": [
    {
     "data": {
      "text/plain": [
       "array([200, 300, 400])"
      ]
     },
     "execution_count": 102,
     "metadata": {},
     "output_type": "execute_result"
    }
   ],
   "source": [
    "y = x[1:4].copy()\n",
    "y"
   ]
  },
  {
   "cell_type": "code",
   "execution_count": 103,
   "id": "258f4fca",
   "metadata": {},
   "outputs": [
    {
     "data": {
      "text/plain": [
       "array([200,  50, 400])"
      ]
     },
     "execution_count": 103,
     "metadata": {},
     "output_type": "execute_result"
    }
   ],
   "source": [
    "y[1:2] = 50 \n",
    "y"
   ]
  },
  {
   "cell_type": "code",
   "execution_count": 104,
   "id": "572bdb88",
   "metadata": {},
   "outputs": [
    {
     "data": {
      "text/plain": [
       "array([100, 200, 300, 400, 500])"
      ]
     },
     "execution_count": 104,
     "metadata": {},
     "output_type": "execute_result"
    }
   ],
   "source": [
    "x "
   ]
  },
  {
   "cell_type": "markdown",
   "id": "dccc299f",
   "metadata": {},
   "source": [
    "### Indexing Matriks NumPy pada Python"
   ]
  },
  {
   "cell_type": "code",
   "execution_count": 129,
   "id": "be1bdfa7",
   "metadata": {},
   "outputs": [
    {
     "data": {
      "text/plain": [
       "array([[ 1,  2,  3,  4,  5],\n",
       "       [ 6,  7,  8,  9, 10],\n",
       "       [11, 12, 13, 14, 15],\n",
       "       [16, 17, 18, 19, 20],\n",
       "       [21, 22, 23, 24, 25],\n",
       "       [26, 27, 28, 29, 30]])"
      ]
     },
     "execution_count": 129,
     "metadata": {},
     "output_type": "execute_result"
    }
   ],
   "source": [
    "matriks_1 = np.array ([[1,2,3,4,5] , [6,7,8,9,10] , [11,12,13,14,15] , [16,17,18,19,20] , [21,22,23,24,25] , [26,27,28,29,30]])\n",
    "matriks_1"
   ]
  },
  {
   "cell_type": "markdown",
   "id": "855ba39b",
   "metadata": {},
   "source": [
    "Contoh **indexing pada matriks di NumPy**, dimana penulisannya adalah\n",
    "**matriks_1 [baris_awal:baris_akhir , kolom_awal:kolom_akhir]**"
   ]
  },
  {
   "cell_type": "code",
   "execution_count": 130,
   "id": "213bedb5",
   "metadata": {},
   "outputs": [
    {
     "data": {
      "text/plain": [
       "1"
      ]
     },
     "execution_count": 130,
     "metadata": {},
     "output_type": "execute_result"
    }
   ],
   "source": [
    "matriks_1[0][0]"
   ]
  },
  {
   "cell_type": "code",
   "execution_count": 131,
   "id": "cd900be4",
   "metadata": {},
   "outputs": [
    {
     "data": {
      "text/plain": [
       "array([[11, 12]])"
      ]
     },
     "execution_count": 131,
     "metadata": {},
     "output_type": "execute_result"
    }
   ],
   "source": [
    "matriks_1[2:3, 0:2]"
   ]
  },
  {
   "cell_type": "code",
   "execution_count": 132,
   "id": "49158a54",
   "metadata": {},
   "outputs": [
    {
     "data": {
      "text/plain": [
       "array([[18, 19, 20],\n",
       "       [23, 24, 25],\n",
       "       [28, 29, 30]])"
      ]
     },
     "execution_count": 132,
     "metadata": {},
     "output_type": "execute_result"
    }
   ],
   "source": [
    "matriks_1[3: , 2: ]"
   ]
  },
  {
   "cell_type": "code",
   "execution_count": 133,
   "id": "10da7e7e",
   "metadata": {},
   "outputs": [
    {
     "data": {
      "text/plain": [
       "array([[ 3,  4,  5],\n",
       "       [ 8,  9, 10],\n",
       "       [13, 14, 15]])"
      ]
     },
     "execution_count": 133,
     "metadata": {},
     "output_type": "execute_result"
    }
   ],
   "source": [
    "matriks_2 = matriks_1 [ :3 , 2:].copy()\n",
    "matriks_2"
   ]
  },
  {
   "cell_type": "code",
   "execution_count": 134,
   "id": "eef8815c",
   "metadata": {},
   "outputs": [
    {
     "data": {
      "text/plain": [
       "array([[  3,   4,   5],\n",
       "       [  8, 100, 100],\n",
       "       [ 13, 100, 100]])"
      ]
     },
     "execution_count": 134,
     "metadata": {},
     "output_type": "execute_result"
    }
   ],
   "source": [
    "matriks_2[1: , 1: ] = 100\n",
    "matriks_2"
   ]
  },
  {
   "cell_type": "code",
   "execution_count": 135,
   "id": "f777d9d9",
   "metadata": {},
   "outputs": [
    {
     "data": {
      "text/plain": [
       "array([[ 1,  2,  3,  4,  5],\n",
       "       [ 6,  7,  8,  9, 10],\n",
       "       [11, 12, 13, 14, 15],\n",
       "       [16, 17, 18, 19, 20],\n",
       "       [21, 22, 23, 24, 25],\n",
       "       [26, 27, 28, 29, 30]])"
      ]
     },
     "execution_count": 135,
     "metadata": {},
     "output_type": "execute_result"
    }
   ],
   "source": [
    "matriks_1"
   ]
  },
  {
   "cell_type": "markdown",
   "id": "0cbcbc58",
   "metadata": {},
   "source": [
    "## Slicing Boolean di Numpy pada Python"
   ]
  },
  {
   "cell_type": "code",
   "execution_count": 150,
   "id": "e8588503",
   "metadata": {},
   "outputs": [],
   "source": [
    "import numpy as np"
   ]
  },
  {
   "cell_type": "markdown",
   "id": "a8778205",
   "metadata": {},
   "source": [
    "**Contoh 1:**"
   ]
  },
  {
   "cell_type": "code",
   "execution_count": 151,
   "id": "b4bb36cb",
   "metadata": {},
   "outputs": [
    {
     "data": {
      "text/plain": [
       "array([ 1,  2,  3,  4,  5,  6,  7,  8,  9, 10])"
      ]
     },
     "execution_count": 151,
     "metadata": {},
     "output_type": "execute_result"
    }
   ],
   "source": [
    "bil = np.arange(1,11)\n",
    "bil"
   ]
  },
  {
   "cell_type": "code",
   "execution_count": 152,
   "id": "f49cb482",
   "metadata": {},
   "outputs": [
    {
     "data": {
      "text/plain": [
       "array([False, False, False, False, False,  True,  True,  True,  True,\n",
       "        True])"
      ]
     },
     "execution_count": 152,
     "metadata": {},
     "output_type": "execute_result"
    }
   ],
   "source": [
    "angkaT = bil>5\n",
    "angkaT"
   ]
  },
  {
   "cell_type": "code",
   "execution_count": 153,
   "id": "433c6510",
   "metadata": {},
   "outputs": [
    {
     "data": {
      "text/plain": [
       "array([ 6,  7,  8,  9, 10])"
      ]
     },
     "execution_count": 153,
     "metadata": {},
     "output_type": "execute_result"
    }
   ],
   "source": [
    "bil = bil[angkaT]\n",
    "bil"
   ]
  },
  {
   "cell_type": "markdown",
   "id": "0b86c3ee",
   "metadata": {},
   "source": [
    "**Contoh 2:**"
   ]
  },
  {
   "cell_type": "code",
   "execution_count": 154,
   "id": "1011ced9",
   "metadata": {},
   "outputs": [
    {
     "data": {
      "text/plain": [
       "array([10, 20, 30, 40, 50])"
      ]
     },
     "execution_count": 154,
     "metadata": {},
     "output_type": "execute_result"
    }
   ],
   "source": [
    "bil2 = np.array([10,20,30,40,50])\n",
    "bil2"
   ]
  },
  {
   "cell_type": "code",
   "execution_count": 155,
   "id": "d9a034d4",
   "metadata": {},
   "outputs": [
    {
     "data": {
      "text/plain": [
       "array([40, 50])"
      ]
     },
     "execution_count": 155,
     "metadata": {},
     "output_type": "execute_result"
    }
   ],
   "source": [
    "bil2 = bil2 [bil2>30]\n",
    "bil2"
   ]
  },
  {
   "cell_type": "code",
   "execution_count": null,
   "id": "791caf22",
   "metadata": {},
   "outputs": [],
   "source": []
  }
 ],
 "metadata": {
  "kernelspec": {
   "display_name": "Python 3 (ipykernel)",
   "language": "python",
   "name": "python3"
  },
  "language_info": {
   "codemirror_mode": {
    "name": "ipython",
    "version": 3
   },
   "file_extension": ".py",
   "mimetype": "text/x-python",
   "name": "python",
   "nbconvert_exporter": "python",
   "pygments_lexer": "ipython3",
   "version": "3.9.7"
  }
 },
 "nbformat": 4,
 "nbformat_minor": 5
}
