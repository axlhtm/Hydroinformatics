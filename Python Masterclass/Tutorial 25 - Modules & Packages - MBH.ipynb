{
 "cells": [
  {
   "cell_type": "markdown",
   "id": "235e6211",
   "metadata": {},
   "source": [
    "# Tutorial 25\n",
    "## Modul dan Package pada Python"
   ]
  },
  {
   "cell_type": "markdown",
   "id": "c851a04d",
   "metadata": {},
   "source": [
    "**Modul** dapat didefiniskan sebagai script python yang memiliki ekstensi .py. Sebagai contoh, untuk membuka file dengan ekstensi .py di Jupyter Notebook, kita harus menggunakan aplikasi pihak ketika seperti text editor atau spider. **Package** merupakan kumpulan dari beberapa modul. Package sangat membantu apabila kita mengerjakan proyek besar. "
   ]
  },
  {
   "cell_type": "markdown",
   "id": "4856ebae",
   "metadata": {},
   "source": [
    "Untuk mendefinisikan package kita sendiri, kita harus merename file kita dengan nama **__init__.py**"
   ]
  },
  {
   "cell_type": "code",
   "execution_count": null,
   "id": "97f37da2",
   "metadata": {},
   "outputs": [],
   "source": []
  }
 ],
 "metadata": {
  "kernelspec": {
   "display_name": "Python 3 (ipykernel)",
   "language": "python",
   "name": "python3"
  },
  "language_info": {
   "codemirror_mode": {
    "name": "ipython",
    "version": 3
   },
   "file_extension": ".py",
   "mimetype": "text/x-python",
   "name": "python",
   "nbconvert_exporter": "python",
   "pygments_lexer": "ipython3",
   "version": "3.9.7"
  }
 },
 "nbformat": 4,
 "nbformat_minor": 5
}
