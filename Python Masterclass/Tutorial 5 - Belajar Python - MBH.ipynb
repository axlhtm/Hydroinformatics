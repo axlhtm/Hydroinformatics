{
 "cells": [
  {
   "cell_type": "markdown",
   "id": "d73ce853",
   "metadata": {},
   "source": [
    "# Belajar menggunakan Python "
   ]
  },
  {
   "cell_type": "markdown",
   "id": "7b055571",
   "metadata": {},
   "source": [
    "Python adalah sebuah bahasa pemorgraman yang paling populer saat ini. "
   ]
  },
  {
   "cell_type": "markdown",
   "id": "77f55a79",
   "metadata": {},
   "source": [
    "Kita berlatih membuat teks menjadi italic dengan menggunakan simbol \"bintang\" *Seperti Ini Teksnya*"
   ]
  },
  {
   "cell_type": "markdown",
   "id": "a451cf82",
   "metadata": {},
   "source": [
    "Kita berlatih membuat teks menjadi tebal dengan mengguakan simbol \"bintang-bintang\" **Seperti Ini Teksnya**"
   ]
  },
  {
   "cell_type": "markdown",
   "id": "08d527fb",
   "metadata": {},
   "source": [
    "Kita berlatih membuat teks menjadi tebal dan italic dengan menggunakan simbol \"bintang dan bintang-bintang\"\" *Seperti **Ini** Teksnya*"
   ]
  },
  {
   "cell_type": "markdown",
   "id": "843493e7",
   "metadata": {},
   "source": [
    "Kita berlating membuat teks menjadi kutpian dengan menggunakan simbol \">\""
   ]
  },
  {
   "cell_type": "markdown",
   "id": "69ac35f6",
   "metadata": {},
   "source": [
    "> \"Seperti Ini Teksnya\""
   ]
  },
  {
   "cell_type": "markdown",
   "id": "e0e9295a",
   "metadata": {},
   "source": [
    "Jenis makanan yang mengandung karbohidrat adalah: \n",
    "* Nasi\n",
    "* Roti\n",
    "* Tepung\n",
    "    * Tepung Terigu\n",
    "    * Tebung Beras \n",
    "    * Tepung Jagung\n",
    "    "
   ]
  },
  {
   "cell_type": "markdown",
   "id": "2d2f8811",
   "metadata": {},
   "source": [
    "Juara lomba lari adalah: \n",
    "1. Joko\n",
    "2. Budi \n",
    "3. Anto"
   ]
  },
  {
   "cell_type": "markdown",
   "id": "26d8b323",
   "metadata": {},
   "source": [
    "\\*Tanda bintang ini berhasil dipakai tanpa membuat kalimatnya menjadi miring*"
   ]
  },
  {
   "cell_type": "markdown",
   "id": "3519ec0e",
   "metadata": {},
   "source": [
    "![nama_gambar_terserah](Logo_IHE_Delft.jpg)"
   ]
  },
  {
   "cell_type": "markdown",
   "id": "94b74d13",
   "metadata": {},
   "source": [
    "While dan Ternyata Looping Tidak Berhenti"
   ]
  },
  {
   "cell_type": "code",
   "execution_count": null,
   "id": "feab4629",
   "metadata": {},
   "outputs": [],
   "source": [
    "while # looping non stop"
   ]
  }
 ],
 "metadata": {
  "kernelspec": {
   "display_name": "Python 3 (ipykernel)",
   "language": "python",
   "name": "python3"
  },
  "language_info": {
   "codemirror_mode": {
    "name": "ipython",
    "version": 3
   },
   "file_extension": ".py",
   "mimetype": "text/x-python",
   "name": "python",
   "nbconvert_exporter": "python",
   "pygments_lexer": "ipython3",
   "version": "3.9.7"
  }
 },
 "nbformat": 4,
 "nbformat_minor": 5
}
