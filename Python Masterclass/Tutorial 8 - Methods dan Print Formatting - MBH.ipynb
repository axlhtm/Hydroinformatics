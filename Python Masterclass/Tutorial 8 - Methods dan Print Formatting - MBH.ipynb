{
 "cells": [
  {
   "cell_type": "markdown",
   "id": "e7179721",
   "metadata": {},
   "source": [
    "# TUTORIAL 8"
   ]
  },
  {
   "cell_type": "markdown",
   "id": "59ef0f85",
   "metadata": {},
   "source": [
    "## Strings tidak bisa digantikan isi datanya (Immutable)"
   ]
  },
  {
   "cell_type": "code",
   "execution_count": 1,
   "id": "086488ef",
   "metadata": {},
   "outputs": [],
   "source": [
    "var1 = [1,2,3,4,5]"
   ]
  },
  {
   "cell_type": "code",
   "execution_count": 2,
   "id": "25584151",
   "metadata": {},
   "outputs": [],
   "source": [
    "var1 [1] = 100"
   ]
  },
  {
   "cell_type": "code",
   "execution_count": 3,
   "id": "edaeece1",
   "metadata": {},
   "outputs": [
    {
     "data": {
      "text/plain": [
       "[1, 100, 3, 4, 5]"
      ]
     },
     "execution_count": 3,
     "metadata": {},
     "output_type": "execute_result"
    }
   ],
   "source": [
    "var1"
   ]
  },
  {
   "cell_type": "code",
   "execution_count": 4,
   "id": "664c8b0b",
   "metadata": {},
   "outputs": [],
   "source": [
    "nama1 = 'Bambang'"
   ]
  },
  {
   "cell_type": "code",
   "execution_count": 6,
   "id": "81d44b53",
   "metadata": {},
   "outputs": [
    {
     "ename": "TypeError",
     "evalue": "'str' object does not support item assignment",
     "output_type": "error",
     "traceback": [
      "\u001b[1;31m---------------------------------------------------------------------------\u001b[0m",
      "\u001b[1;31mTypeError\u001b[0m                                 Traceback (most recent call last)",
      "\u001b[1;32m~\\AppData\\Local\\Temp/ipykernel_12148/4152184901.py\u001b[0m in \u001b[0;36m<module>\u001b[1;34m\u001b[0m\n\u001b[1;32m----> 1\u001b[1;33m \u001b[0mnama1\u001b[0m \u001b[1;33m[\u001b[0m\u001b[1;36m4\u001b[0m\u001b[1;33m]\u001b[0m \u001b[1;33m=\u001b[0m \u001b[1;34m'z'\u001b[0m\u001b[1;33m\u001b[0m\u001b[1;33m\u001b[0m\u001b[0m\n\u001b[0m",
      "\u001b[1;31mTypeError\u001b[0m: 'str' object does not support item assignment"
     ]
    }
   ],
   "source": [
    "nama1 [4] = 'z'"
   ]
  },
  {
   "cell_type": "code",
   "execution_count": 8,
   "id": "cb32ce7f",
   "metadata": {},
   "outputs": [
    {
     "data": {
      "text/plain": [
       "'Bambang Lukito'"
      ]
     },
     "execution_count": 8,
     "metadata": {},
     "output_type": "execute_result"
    }
   ],
   "source": [
    "nama1 + ' Lukito'"
   ]
  },
  {
   "cell_type": "code",
   "execution_count": 9,
   "id": "af255e0c",
   "metadata": {},
   "outputs": [],
   "source": [
    "Nama_Lengkap = nama1 + ' Suyoto'"
   ]
  },
  {
   "cell_type": "code",
   "execution_count": 10,
   "id": "5fcbec2b",
   "metadata": {},
   "outputs": [
    {
     "data": {
      "text/plain": [
       "'Bambang Suyoto'"
      ]
     },
     "execution_count": 10,
     "metadata": {},
     "output_type": "execute_result"
    }
   ],
   "source": [
    "Nama_Lengkap"
   ]
  },
  {
   "cell_type": "code",
   "execution_count": 11,
   "id": "f9e408ed",
   "metadata": {},
   "outputs": [
    {
     "data": {
      "text/plain": [
       "'BambangBambang'"
      ]
     },
     "execution_count": 11,
     "metadata": {},
     "output_type": "execute_result"
    }
   ],
   "source": [
    "nama1*2"
   ]
  },
  {
   "cell_type": "code",
   "execution_count": 15,
   "id": "294f9ef1",
   "metadata": {},
   "outputs": [
    {
     "data": {
      "text/plain": [
       "'Bambang sedang belanja di pasar'"
      ]
     },
     "execution_count": 15,
     "metadata": {},
     "output_type": "execute_result"
    }
   ],
   "source": [
    "nama1 + ' sedang belanja di pasar'"
   ]
  },
  {
   "cell_type": "code",
   "execution_count": 16,
   "id": "9dfe40d7",
   "metadata": {},
   "outputs": [
    {
     "data": {
      "text/plain": [
       "'Bambang sedang belanja di pasar sedang belanja di pasar'"
      ]
     },
     "execution_count": 16,
     "metadata": {},
     "output_type": "execute_result"
    }
   ],
   "source": [
    "nama1 + ' sedang belanja di pasar' * 2"
   ]
  },
  {
   "cell_type": "code",
   "execution_count": 17,
   "id": "11156481",
   "metadata": {},
   "outputs": [],
   "source": [
    "nama1 = nama1 + ' sedang menjalani proses pendidikan Python'"
   ]
  },
  {
   "cell_type": "code",
   "execution_count": 18,
   "id": "5d304293",
   "metadata": {},
   "outputs": [
    {
     "data": {
      "text/plain": [
       "'Bambang sedang menjalani proses pendidikan Python'"
      ]
     },
     "execution_count": 18,
     "metadata": {},
     "output_type": "execute_result"
    }
   ],
   "source": [
    "nama1"
   ]
  },
  {
   "cell_type": "markdown",
   "id": "aeee83d4",
   "metadata": {},
   "source": [
    "## Penggunaan Method di Python"
   ]
  },
  {
   "cell_type": "code",
   "execution_count": 33,
   "id": "1805203b",
   "metadata": {},
   "outputs": [],
   "source": [
    "var1 = 'Makanan sehat itu adalah 4 sehat 5 sempurna'"
   ]
  },
  {
   "cell_type": "code",
   "execution_count": 34,
   "id": "c43ab294",
   "metadata": {},
   "outputs": [
    {
     "data": {
      "text/plain": [
       "str"
      ]
     },
     "execution_count": 34,
     "metadata": {},
     "output_type": "execute_result"
    }
   ],
   "source": [
    "type(var1)"
   ]
  },
  {
   "cell_type": "code",
   "execution_count": 20,
   "id": "e8237094",
   "metadata": {},
   "outputs": [
    {
     "data": {
      "text/plain": [
       "'Makanan sehat itu adalah 4 sehat 5 sempurna'"
      ]
     },
     "execution_count": 20,
     "metadata": {},
     "output_type": "execute_result"
    }
   ],
   "source": [
    "var1"
   ]
  },
  {
   "cell_type": "code",
   "execution_count": 22,
   "id": "84f5efbd",
   "metadata": {},
   "outputs": [
    {
     "data": {
      "text/plain": [
       "'MAKANAN SEHAT ITU ADALAH 4 SEHAT 5 SEMPURNA'"
      ]
     },
     "execution_count": 22,
     "metadata": {},
     "output_type": "execute_result"
    }
   ],
   "source": [
    "var1.upper()"
   ]
  },
  {
   "cell_type": "code",
   "execution_count": 26,
   "id": "c64271dd",
   "metadata": {},
   "outputs": [
    {
     "data": {
      "text/plain": [
       "'MAKANAN SEHAT ITU ADALAH 4 SEHAT 5 SEMPURNA'"
      ]
     },
     "execution_count": 26,
     "metadata": {},
     "output_type": "execute_result"
    }
   ],
   "source": [
    "var1"
   ]
  },
  {
   "cell_type": "markdown",
   "id": "7c566b7a",
   "metadata": {},
   "source": [
    "Penggunaan method (*ex: .upper()*) **tidak merubah kondisi variabel awal** (var1). Jika ingin merubah variabel awal secara sepenuhnya maka var1 harus didefinisikan kembali denggan menggunakan method (*ex: .upper()*) seperti dibawah ini: "
   ]
  },
  {
   "cell_type": "code",
   "execution_count": 24,
   "id": "16a98177",
   "metadata": {},
   "outputs": [],
   "source": [
    "var1 = var1.upper()"
   ]
  },
  {
   "cell_type": "code",
   "execution_count": 25,
   "id": "d40d2fce",
   "metadata": {},
   "outputs": [
    {
     "data": {
      "text/plain": [
       "'MAKANAN SEHAT ITU ADALAH 4 SEHAT 5 SEMPURNA'"
      ]
     },
     "execution_count": 25,
     "metadata": {},
     "output_type": "execute_result"
    }
   ],
   "source": [
    "var1"
   ]
  },
  {
   "cell_type": "code",
   "execution_count": 31,
   "id": "2a193b6f",
   "metadata": {},
   "outputs": [
    {
     "data": {
      "text/plain": [
       "['MAKANAN', 'SEHAT', 'ITU', 'ADALAH', '4', 'SEHAT', '5', 'SEMPURNA']"
      ]
     },
     "execution_count": 31,
     "metadata": {},
     "output_type": "execute_result"
    }
   ],
   "source": [
    "var1.split ( )"
   ]
  },
  {
   "cell_type": "markdown",
   "id": "be38e48f",
   "metadata": {},
   "source": [
    "Method **.split ( )** digunakan untuk **memisahkan string berdasarkan kata per kata atau per spasi pada suatu kalimat**. Metode ini kerap kali digunakan pada **NLP** atau Natural Language Processing seperti pada sistem Google Translate ataupun Alexa."
   ]
  },
  {
   "cell_type": "code",
   "execution_count": 28,
   "id": "5230e419",
   "metadata": {},
   "outputs": [
    {
     "data": {
      "text/plain": [
       "['M', 'K', 'N', 'N SEH', 'T ITU ', 'D', 'L', 'H 4 SEH', 'T 5 SEMPURN', '']"
      ]
     },
     "execution_count": 28,
     "metadata": {},
     "output_type": "execute_result"
    }
   ],
   "source": [
    "var1.split ('A')"
   ]
  },
  {
   "cell_type": "markdown",
   "id": "bfab8f3e",
   "metadata": {},
   "source": [
    "Method **.split ('A')** adalah contoh untuk **memisahkan string berdasarkan batasan huruf ('A') pada suatu kalimat**. Karakter **spasi** dihitung dan termasuk pada kalimat seperti pada potongan kata **N SEH**. "
   ]
  },
  {
   "cell_type": "code",
   "execution_count": 35,
   "id": "9a7edd63",
   "metadata": {},
   "outputs": [],
   "source": [
    "var2 = [1,2,3,4,5]"
   ]
  },
  {
   "cell_type": "code",
   "execution_count": 36,
   "id": "ef4be517",
   "metadata": {},
   "outputs": [
    {
     "data": {
      "text/plain": [
       "list"
      ]
     },
     "execution_count": 36,
     "metadata": {},
     "output_type": "execute_result"
    }
   ],
   "source": [
    "type(var2)"
   ]
  },
  {
   "cell_type": "markdown",
   "id": "35bf5bad",
   "metadata": {},
   "source": [
    "## Penggunaan Print dan Formatting di Python"
   ]
  },
  {
   "cell_type": "code",
   "execution_count": 37,
   "id": "cf7c20e6",
   "metadata": {},
   "outputs": [],
   "source": [
    "var1 = 'Ayam goreng KFC dan McD mana yang lebih enak?'"
   ]
  },
  {
   "cell_type": "code",
   "execution_count": 38,
   "id": "1ad8d51f",
   "metadata": {},
   "outputs": [
    {
     "name": "stdout",
     "output_type": "stream",
     "text": [
      "Ayam goreng KFC dan McD mana yang lebih enak?\n"
     ]
    }
   ],
   "source": [
    "print(var1)"
   ]
  },
  {
   "cell_type": "code",
   "execution_count": 39,
   "id": "b388dc57",
   "metadata": {},
   "outputs": [
    {
     "data": {
      "text/plain": [
       "'Ayam goreng KFC dan McD mana yang lebih enak?'"
      ]
     },
     "execution_count": 39,
     "metadata": {},
     "output_type": "execute_result"
    }
   ],
   "source": [
    "var1"
   ]
  },
  {
   "cell_type": "code",
   "execution_count": 41,
   "id": "7bdeeaf8",
   "metadata": {},
   "outputs": [
    {
     "name": "stdout",
     "output_type": "stream",
     "text": [
      "Ini ada 10 buah apel\n"
     ]
    }
   ],
   "source": [
    "print('Ini ada {} buah apel'.format('10'))"
   ]
  },
  {
   "cell_type": "code",
   "execution_count": 43,
   "id": "d4af175b",
   "metadata": {},
   "outputs": [
    {
     "name": "stdout",
     "output_type": "stream",
     "text": [
      "Urutan pemenang lomba lari adalah Aji Bambang Budi\n"
     ]
    }
   ],
   "source": [
    "print('Urutan pemenang lomba lari adalah {} {} {}'.format('Aji','Bambang','Budi'))"
   ]
  },
  {
   "cell_type": "code",
   "execution_count": 46,
   "id": "a67f7a0d",
   "metadata": {},
   "outputs": [
    {
     "name": "stdout",
     "output_type": "stream",
     "text": [
      "Urutan pemenang lomba lari adalah Budi Aji Bambang\n"
     ]
    }
   ],
   "source": [
    "print('Urutan pemenang lomba lari adalah {2} {0} {1}'.format('Aji','Bambang','Budi'))"
   ]
  },
  {
   "cell_type": "code",
   "execution_count": 47,
   "id": "131efdfb",
   "metadata": {},
   "outputs": [
    {
     "name": "stdout",
     "output_type": "stream",
     "text": [
      "Urutan pemenang lomba lari adalah Budi Aji Bambang\n"
     ]
    }
   ],
   "source": [
    "print('Urutan pemenang lomba lari adalah {a} {c} {b}'.format(c='Aji',b='Bambang',a='Budi'))"
   ]
  },
  {
   "cell_type": "markdown",
   "id": "6c057d34",
   "metadata": {},
   "source": [
    "Contoh **In [43], [44] dan [45]** di atas adalah contoh dari penggunaan formating pada print, dimana kita bisa **menggunakan urutan indexing** untuk menampilkan urutan yang kita harapkan. "
   ]
  },
  {
   "cell_type": "markdown",
   "id": "0bda4b3f",
   "metadata": {},
   "source": [
    "### Penerapan pada aritmatika {nilai:lebar.tingkat_presisi f}"
   ]
  },
  {
   "cell_type": "code",
   "execution_count": 49,
   "id": "a81f729e",
   "metadata": {},
   "outputs": [],
   "source": [
    "phi = 22/7"
   ]
  },
  {
   "cell_type": "code",
   "execution_count": 50,
   "id": "82b89eeb",
   "metadata": {},
   "outputs": [
    {
     "data": {
      "text/plain": [
       "3.142857142857143"
      ]
     },
     "execution_count": 50,
     "metadata": {},
     "output_type": "execute_result"
    }
   ],
   "source": [
    "phi"
   ]
  },
  {
   "cell_type": "code",
   "execution_count": 55,
   "id": "a49cc519",
   "metadata": {},
   "outputs": [],
   "source": [
    "luas1 = 667.945"
   ]
  },
  {
   "cell_type": "code",
   "execution_count": 56,
   "id": "7292722c",
   "metadata": {},
   "outputs": [],
   "source": [
    "luas2 = 998.735"
   ]
  },
  {
   "cell_type": "code",
   "execution_count": 57,
   "id": "dd7424b1",
   "metadata": {},
   "outputs": [
    {
     "name": "stdout",
     "output_type": "stream",
     "text": [
      "Luas tanah yang dimiliki oleh Pak Budi adalah sebesar 667.945 dan 998.735 m2\n"
     ]
    }
   ],
   "source": [
    "print('Luas tanah yang dimiliki oleh Pak Budi adalah sebesar {a} dan {b} m2' .format (a=luas1, b=luas2))"
   ]
  },
  {
   "cell_type": "code",
   "execution_count": 64,
   "id": "3bc0d708",
   "metadata": {},
   "outputs": [
    {
     "name": "stdout",
     "output_type": "stream",
     "text": [
      "Luas tanah yang dimiliki oleh Pak Budi adalah sebesar          667.95 dan 998.735 m2\n"
     ]
    }
   ],
   "source": [
    "print('Luas tanah yang dimiliki oleh Pak Budi adalah sebesar {a:15.2f} dan {b:0.3f} m2' .format (a=luas1, b=luas2))"
   ]
  },
  {
   "cell_type": "code",
   "execution_count": null,
   "id": "4a72f733",
   "metadata": {},
   "outputs": [],
   "source": []
  }
 ],
 "metadata": {
  "kernelspec": {
   "display_name": "Python 3 (ipykernel)",
   "language": "python",
   "name": "python3"
  },
  "language_info": {
   "codemirror_mode": {
    "name": "ipython",
    "version": 3
   },
   "file_extension": ".py",
   "mimetype": "text/x-python",
   "name": "python",
   "nbconvert_exporter": "python",
   "pygments_lexer": "ipython3",
   "version": "3.9.7"
  }
 },
 "nbformat": 4,
 "nbformat_minor": 5
}
