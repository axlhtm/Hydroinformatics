{
 "cells": [
  {
   "cell_type": "markdown",
   "id": "300b90f0",
   "metadata": {},
   "source": [
    "# Tutorial 22 "
   ]
  },
  {
   "cell_type": "markdown",
   "id": "dbfabc38",
   "metadata": {},
   "source": [
    "## Pengunaan Library NumPy pada Python"
   ]
  },
  {
   "cell_type": "code",
   "execution_count": 1,
   "id": "9b6f601f",
   "metadata": {},
   "outputs": [],
   "source": [
    "import numpy as np "
   ]
  },
  {
   "cell_type": "code",
   "execution_count": 2,
   "id": "7b90ba88",
   "metadata": {},
   "outputs": [],
   "source": [
    "angka = [1,2,3]"
   ]
  },
  {
   "cell_type": "code",
   "execution_count": 3,
   "id": "f4513832",
   "metadata": {},
   "outputs": [],
   "source": [
    "angkanp = np.array(angka)"
   ]
  },
  {
   "cell_type": "code",
   "execution_count": 10,
   "id": "479cb441",
   "metadata": {},
   "outputs": [
    {
     "data": {
      "text/plain": [
       "array([1, 2, 3])"
      ]
     },
     "execution_count": 10,
     "metadata": {},
     "output_type": "execute_result"
    }
   ],
   "source": [
    "angkanp"
   ]
  },
  {
   "cell_type": "markdown",
   "id": "0f59869c",
   "metadata": {},
   "source": [
    "Salah satu perbedaan yang terdapat antara **array dan list yang berisikan integer adalah pada proses aritmatika**. Ketika kita **mengkalikan 2x list integer** maka hasilnya adalah **setiap elemen di list tersebut dituliskan sebanyak 2 kali**. Namun apabila kita **mengkalikan 2x pada array** maka hasilnya adalah **nilai setiap elemen tersebut dikalikan 2.**. Hal ini ditunjukan sebagai berikut: "
   ]
  },
  {
   "cell_type": "code",
   "execution_count": 5,
   "id": "43bfd84e",
   "metadata": {},
   "outputs": [
    {
     "data": {
      "text/plain": [
       "[1, 2, 3, 1, 2, 3, 1, 2, 3]"
      ]
     },
     "execution_count": 5,
     "metadata": {},
     "output_type": "execute_result"
    }
   ],
   "source": [
    "angka*3"
   ]
  },
  {
   "cell_type": "code",
   "execution_count": 11,
   "id": "71702c19",
   "metadata": {},
   "outputs": [
    {
     "data": {
      "text/plain": [
       "array([3, 6, 9])"
      ]
     },
     "execution_count": 11,
     "metadata": {},
     "output_type": "execute_result"
    }
   ],
   "source": [
    "angkanp*3"
   ]
  },
  {
   "cell_type": "markdown",
   "id": "d188c9f4",
   "metadata": {},
   "source": [
    "fungsi **np.array** juga dapat merubah **nested list** menjadi matriks, sebagai berikut: "
   ]
  },
  {
   "cell_type": "code",
   "execution_count": 7,
   "id": "16239baa",
   "metadata": {},
   "outputs": [
    {
     "data": {
      "text/plain": [
       "[[1, 2, 3], [4, 5, 6], [7, 8, 9]]"
      ]
     },
     "execution_count": 7,
     "metadata": {},
     "output_type": "execute_result"
    }
   ],
   "source": [
    "versilist = [[1,2,3] , [4,5,6] , [7,8,9]] \n",
    "versilist"
   ]
  },
  {
   "cell_type": "code",
   "execution_count": 8,
   "id": "18a99edf",
   "metadata": {},
   "outputs": [],
   "source": [
    "versinumpy = np.array(versilist)"
   ]
  },
  {
   "cell_type": "code",
   "execution_count": 9,
   "id": "00020116",
   "metadata": {},
   "outputs": [
    {
     "data": {
      "text/plain": [
       "array([[1, 2, 3],\n",
       "       [4, 5, 6],\n",
       "       [7, 8, 9]])"
      ]
     },
     "execution_count": 9,
     "metadata": {},
     "output_type": "execute_result"
    }
   ],
   "source": [
    "versinumpy"
   ]
  },
  {
   "cell_type": "code",
   "execution_count": 16,
   "id": "2f0bc9b5",
   "metadata": {},
   "outputs": [
    {
     "data": {
      "text/plain": [
       "array([0, 1, 2, 3, 4, 5, 6, 7, 8, 9])"
      ]
     },
     "execution_count": 16,
     "metadata": {},
     "output_type": "execute_result"
    }
   ],
   "source": [
    "np.arange(0,10)"
   ]
  },
  {
   "cell_type": "code",
   "execution_count": 22,
   "id": "6bff8cd7",
   "metadata": {},
   "outputs": [
    {
     "data": {
      "text/plain": [
       "array([ 0,  3,  6,  9, 12, 15, 18])"
      ]
     },
     "execution_count": 22,
     "metadata": {},
     "output_type": "execute_result"
    }
   ],
   "source": [
    "np.arange(0,20,3)"
   ]
  },
  {
   "cell_type": "markdown",
   "id": "ec5d63da",
   "metadata": {},
   "source": [
    "cara **membangkitkan angka 0** pada python dapat dilakukan dengpan menggunakan **np.zeros()**, sedangkan **angka 1** diwakilkan dengan **np.ones** seperti pada contoh di bawah ini"
   ]
  },
  {
   "cell_type": "code",
   "execution_count": 23,
   "id": "f8028ba4",
   "metadata": {},
   "outputs": [
    {
     "data": {
      "text/plain": [
       "array([0., 0., 0., 0., 0.])"
      ]
     },
     "execution_count": 23,
     "metadata": {},
     "output_type": "execute_result"
    }
   ],
   "source": [
    "np.zeros(5)"
   ]
  },
  {
   "cell_type": "code",
   "execution_count": 25,
   "id": "48c835e5",
   "metadata": {},
   "outputs": [
    {
     "data": {
      "text/plain": [
       "array([1., 1., 1.])"
      ]
     },
     "execution_count": 25,
     "metadata": {},
     "output_type": "execute_result"
    }
   ],
   "source": [
    "np.ones(3)"
   ]
  },
  {
   "cell_type": "markdown",
   "id": "62be02af",
   "metadata": {},
   "source": [
    "cara **membuat matriks** pada python dengan menggunakan array juga dapat dilakukan dengan **mengkombinasikan tuple pada array**, sebagai contoh **np.zeros ((a,b))** dimana **a adalah baris dan b adalah kolom**, seperti yang dicontohkan di bawah ini:"
   ]
  },
  {
   "cell_type": "code",
   "execution_count": 21,
   "id": "4b3f31c9",
   "metadata": {},
   "outputs": [
    {
     "data": {
      "text/plain": [
       "array([[0., 0., 0., 0.],\n",
       "       [0., 0., 0., 0.]])"
      ]
     },
     "execution_count": 21,
     "metadata": {},
     "output_type": "execute_result"
    }
   ],
   "source": [
    "np.zeros((2,4))"
   ]
  },
  {
   "cell_type": "code",
   "execution_count": 28,
   "id": "e0f87987",
   "metadata": {},
   "outputs": [
    {
     "data": {
      "text/plain": [
       "array([[1., 1., 1., 1.],\n",
       "       [1., 1., 1., 1.],\n",
       "       [1., 1., 1., 1.],\n",
       "       [1., 1., 1., 1.]])"
      ]
     },
     "execution_count": 28,
     "metadata": {},
     "output_type": "execute_result"
    }
   ],
   "source": [
    "np.ones((4,4))"
   ]
  },
  {
   "cell_type": "markdown",
   "id": "702d5f9b",
   "metadata": {},
   "source": [
    "fungsi dari **np.linspace(a,b,c)** adalah untuk menuliskan array yang berisikan **angka dimulai dari a sampai dengan b dengan pecahan c**. Perbedaannya dengan *np.arange (a,b,c)* adalah pada fungsi arrange, **nilai b tidak diperhitungkan**.  "
   ]
  },
  {
   "cell_type": "code",
   "execution_count": 27,
   "id": "8f4b1343",
   "metadata": {},
   "outputs": [
    {
     "data": {
      "text/plain": [
       "array([0.        , 0.88888889, 1.77777778, 2.66666667, 3.55555556,\n",
       "       4.44444444, 5.33333333, 6.22222222, 7.11111111, 8.        ])"
      ]
     },
     "execution_count": 27,
     "metadata": {},
     "output_type": "execute_result"
    }
   ],
   "source": [
    "np.linspace(0,8,10) "
   ]
  },
  {
   "cell_type": "markdown",
   "id": "161e0660",
   "metadata": {},
   "source": [
    "## Cara Identifikasi Matriks pada Python"
   ]
  },
  {
   "cell_type": "markdown",
   "id": "a3ee3f34",
   "metadata": {},
   "source": [
    "**Matriks Identitas / Satuan / Eye** pada Python dapat dituliskan dengan menggunakan **np.eye(a)**, dimana **a** merepresentasikan **jumlah kolom** yang terdapat pada matriks identitas tersebut. Semua matriks yang dikalikan dengan **np.eye(a)** nilainya tidak akan berubah. "
   ]
  },
  {
   "cell_type": "code",
   "execution_count": 29,
   "id": "011d8a1d",
   "metadata": {},
   "outputs": [
    {
     "data": {
      "text/plain": [
       "array([[1., 0., 0., 0., 0.],\n",
       "       [0., 1., 0., 0., 0.],\n",
       "       [0., 0., 1., 0., 0.],\n",
       "       [0., 0., 0., 1., 0.],\n",
       "       [0., 0., 0., 0., 1.]])"
      ]
     },
     "execution_count": 29,
     "metadata": {},
     "output_type": "execute_result"
    }
   ],
   "source": [
    "np.eye(5)"
   ]
  },
  {
   "cell_type": "markdown",
   "id": "ea4d8370",
   "metadata": {},
   "source": []
  }
 ],
 "metadata": {
  "kernelspec": {
   "display_name": "Python 3 (ipykernel)",
   "language": "python",
   "name": "python3"
  },
  "language_info": {
   "codemirror_mode": {
    "name": "ipython",
    "version": 3
   },
   "file_extension": ".py",
   "mimetype": "text/x-python",
   "name": "python",
   "nbconvert_exporter": "python",
   "pygments_lexer": "ipython3",
   "version": "3.9.7"
  }
 },
 "nbformat": 4,
 "nbformat_minor": 5
}
