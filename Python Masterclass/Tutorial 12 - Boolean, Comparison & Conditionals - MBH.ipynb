{
 "cells": [
  {
   "cell_type": "markdown",
   "id": "734c40e0",
   "metadata": {},
   "source": [
    "# Tutorial 12"
   ]
  },
  {
   "cell_type": "markdown",
   "id": "ac4f18ef",
   "metadata": {},
   "source": [
    "## Penggunaan Boolean (True/False) di Python"
   ]
  },
  {
   "cell_type": "code",
   "execution_count": 2,
   "id": "849f89a1",
   "metadata": {},
   "outputs": [
    {
     "data": {
      "text/plain": [
       "True"
      ]
     },
     "execution_count": 2,
     "metadata": {},
     "output_type": "execute_result"
    }
   ],
   "source": [
    "True "
   ]
  },
  {
   "cell_type": "code",
   "execution_count": 3,
   "id": "b7caf8b5",
   "metadata": {},
   "outputs": [
    {
     "data": {
      "text/plain": [
       "False"
      ]
     },
     "execution_count": 3,
     "metadata": {},
     "output_type": "execute_result"
    }
   ],
   "source": [
    "False"
   ]
  },
  {
   "cell_type": "code",
   "execution_count": 5,
   "id": "c974c128",
   "metadata": {},
   "outputs": [
    {
     "data": {
      "text/plain": [
       "bool"
      ]
     },
     "execution_count": 5,
     "metadata": {},
     "output_type": "execute_result"
    }
   ],
   "source": [
    "type(True)"
   ]
  },
  {
   "cell_type": "code",
   "execution_count": 6,
   "id": "798e5475",
   "metadata": {},
   "outputs": [
    {
     "data": {
      "text/plain": [
       "bool"
      ]
     },
     "execution_count": 6,
     "metadata": {},
     "output_type": "execute_result"
    }
   ],
   "source": [
    "type(False)"
   ]
  },
  {
   "cell_type": "markdown",
   "id": "a376399e",
   "metadata": {},
   "source": [
    "## Penggunaan Comparison Operators di Python"
   ]
  },
  {
   "cell_type": "markdown",
   "id": "697159e4",
   "metadata": {},
   "source": [
    "Terdapat beberapa contoh fungsi dari **Comparison Operators** di Python, antara lain: \n",
    "- == = **Sama Dengan**\n",
    "- != = **Tidak Sama Dengan**\n",
    "- >  = **Lebih Besar Dari (Eksklusif)**\n",
    "- <  = **Lebih Kecil Dari (Eksklusif)**\n",
    "- >= = **Lebih Besar Dari (Inklulif)**\n",
    "- <= = **Lebih Kecil Dari (Inklusif)**"
   ]
  },
  {
   "cell_type": "code",
   "execution_count": 8,
   "id": "45fee55c",
   "metadata": {},
   "outputs": [],
   "source": [
    "a=25"
   ]
  },
  {
   "cell_type": "code",
   "execution_count": 9,
   "id": "b000bf24",
   "metadata": {},
   "outputs": [],
   "source": [
    "b=50"
   ]
  },
  {
   "cell_type": "code",
   "execution_count": 10,
   "id": "dfe9b0bf",
   "metadata": {},
   "outputs": [
    {
     "data": {
      "text/plain": [
       "False"
      ]
     },
     "execution_count": 10,
     "metadata": {},
     "output_type": "execute_result"
    }
   ],
   "source": [
    "a == b"
   ]
  },
  {
   "cell_type": "code",
   "execution_count": 11,
   "id": "01fd33da",
   "metadata": {},
   "outputs": [
    {
     "data": {
      "text/plain": [
       "True"
      ]
     },
     "execution_count": 11,
     "metadata": {},
     "output_type": "execute_result"
    }
   ],
   "source": [
    "a != b"
   ]
  },
  {
   "cell_type": "code",
   "execution_count": 12,
   "id": "6a1902f1",
   "metadata": {},
   "outputs": [
    {
     "data": {
      "text/plain": [
       "True"
      ]
     },
     "execution_count": 12,
     "metadata": {},
     "output_type": "execute_result"
    }
   ],
   "source": [
    "a <= b"
   ]
  },
  {
   "cell_type": "code",
   "execution_count": 13,
   "id": "39dbc8af",
   "metadata": {},
   "outputs": [
    {
     "data": {
      "text/plain": [
       "False"
      ]
     },
     "execution_count": 13,
     "metadata": {},
     "output_type": "execute_result"
    }
   ],
   "source": [
    "a > b"
   ]
  },
  {
   "cell_type": "markdown",
   "id": "fbf85dcb",
   "metadata": {},
   "source": [
    "## Penggunaan Comparison Berantai di Python"
   ]
  },
  {
   "cell_type": "markdown",
   "id": "0847b0aa",
   "metadata": {},
   "source": [
    "Terdapat 3 argumen yang digunakan dalam **Comparison Berantai** pada Python, antara lain: \n",
    "- and  = **dua kondisi harus True untuk menghasilkan True** \n",
    "- or   = **salah satu kondisi harus True untuk menghasilkan True**\n",
    "- not  = **Memberikan boolean yang berlawanan**"
   ]
  },
  {
   "cell_type": "code",
   "execution_count": 14,
   "id": "e303e09c",
   "metadata": {},
   "outputs": [
    {
     "data": {
      "text/plain": [
       "False"
      ]
     },
     "execution_count": 14,
     "metadata": {},
     "output_type": "execute_result"
    }
   ],
   "source": [
    "3<4 and 4>5"
   ]
  },
  {
   "cell_type": "code",
   "execution_count": 17,
   "id": "be823e4a",
   "metadata": {},
   "outputs": [
    {
     "data": {
      "text/plain": [
       "True"
      ]
     },
     "execution_count": 17,
     "metadata": {},
     "output_type": "execute_result"
    }
   ],
   "source": [
    "3<4 or 4>5"
   ]
  },
  {
   "cell_type": "code",
   "execution_count": 18,
   "id": "6fc5674e",
   "metadata": {},
   "outputs": [
    {
     "data": {
      "text/plain": [
       "False"
      ]
     },
     "execution_count": 18,
     "metadata": {},
     "output_type": "execute_result"
    }
   ],
   "source": [
    "not True"
   ]
  },
  {
   "cell_type": "markdown",
   "id": "8ed40ed5",
   "metadata": {},
   "source": [
    "## Penggunaan Conditionals di Python"
   ]
  },
  {
   "cell_type": "markdown",
   "id": "9e6ae053",
   "metadata": {},
   "source": [
    "Terdapat 3 **conditionals** yang biasa dipakai didalam Python, antara lain: \n",
    "- if\n",
    "- elif (else if)\n",
    "- else \n",
    "\n",
    "Dimana **penulisan conditionals** adalah sebagai berikut, \n",
    "if(**sebuah kondisi=True**):\n",
    "    perintah \n",
    "  else:\n",
    "      perintah"
   ]
  },
  {
   "cell_type": "code",
   "execution_count": 29,
   "id": "298d2390",
   "metadata": {},
   "outputs": [
    {
     "name": "stdout",
     "output_type": "stream",
     "text": [
      "Maka nilai dari variable a adalah bersifat genap\n"
     ]
    }
   ],
   "source": [
    "a = 6\n",
    "b = a%2 \n",
    "if (b==0):\n",
    "    print('Maka nilai dari variable a adalah bersifat genap')\n",
    "else: \n",
    "    print('Maka nilai dari variable b adalah bersifat ganjil')"
   ]
  },
  {
   "cell_type": "code",
   "execution_count": 31,
   "id": "eba4a5f3",
   "metadata": {},
   "outputs": [
    {
     "name": "stdout",
     "output_type": "stream",
     "text": [
      "Kamu terlalu kurus, jangan lupa makan dan tetap ngegym\n"
     ]
    }
   ],
   "source": [
    "berat = 50\n",
    "\n",
    "if (berat>100):\n",
    "    print('Kamu termasuk gendut, jangan lupa diet dan ngegym')\n",
    "elif (0<=berat<=50):\n",
    "    print('Kamu terlalu kurus, jangan lupa makan dan tetap ngegym')\n",
    "elif (50<berat<70):\n",
    "    print('Kamu beratnya pas, jangan lupa tetep gym biar sexy')\n",
    "else: \n",
    "    print('Berat kamu pasti diantara 70-100 kg kan? Gendut')"
   ]
  },
  {
   "cell_type": "code",
   "execution_count": null,
   "id": "d53c497f",
   "metadata": {},
   "outputs": [],
   "source": []
  }
 ],
 "metadata": {
  "kernelspec": {
   "display_name": "Python 3 (ipykernel)",
   "language": "python",
   "name": "python3"
  },
  "language_info": {
   "codemirror_mode": {
    "name": "ipython",
    "version": 3
   },
   "file_extension": ".py",
   "mimetype": "text/x-python",
   "name": "python",
   "nbconvert_exporter": "python",
   "pygments_lexer": "ipython3",
   "version": "3.9.7"
  }
 },
 "nbformat": 4,
 "nbformat_minor": 5
}
