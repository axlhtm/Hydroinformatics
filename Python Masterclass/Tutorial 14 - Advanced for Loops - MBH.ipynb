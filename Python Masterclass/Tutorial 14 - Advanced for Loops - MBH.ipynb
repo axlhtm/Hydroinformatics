{
 "cells": [
  {
   "cell_type": "markdown",
   "id": "65548401",
   "metadata": {},
   "source": [
    "# Tutorial 14\n",
    "## Penggunaan Advanced for Loops di Python"
   ]
  },
  {
   "cell_type": "markdown",
   "id": "ff1b4eef",
   "metadata": {},
   "source": [
    "### Penggunaan Range pada Python"
   ]
  },
  {
   "cell_type": "code",
   "execution_count": 1,
   "id": "d87cabc3",
   "metadata": {},
   "outputs": [
    {
     "name": "stdout",
     "output_type": "stream",
     "text": [
      "0\n",
      "1\n",
      "2\n",
      "3\n",
      "4\n",
      "5\n",
      "6\n",
      "7\n",
      "8\n",
      "9\n"
     ]
    }
   ],
   "source": [
    "for i in range (0,10): \n",
    "    print (i)\n"
   ]
  },
  {
   "cell_type": "code",
   "execution_count": 2,
   "id": "2a77e939",
   "metadata": {},
   "outputs": [
    {
     "name": "stdout",
     "output_type": "stream",
     "text": [
      "1\n",
      "4\n",
      "7\n",
      "10\n",
      "13\n",
      "16\n",
      "19\n"
     ]
    }
   ],
   "source": [
    "for i in range (1,20,3):\n",
    "    print (i)"
   ]
  },
  {
   "cell_type": "code",
   "execution_count": 3,
   "id": "fb30cd78",
   "metadata": {},
   "outputs": [],
   "source": [
    "angka = list (range(1,11))"
   ]
  },
  {
   "cell_type": "code",
   "execution_count": 4,
   "id": "a4ab5216",
   "metadata": {},
   "outputs": [
    {
     "data": {
      "text/plain": [
       "[1, 2, 3, 4, 5, 6, 7, 8, 9, 10]"
      ]
     },
     "execution_count": 4,
     "metadata": {},
     "output_type": "execute_result"
    }
   ],
   "source": [
    "angka"
   ]
  },
  {
   "cell_type": "markdown",
   "id": "1570bfcc",
   "metadata": {},
   "source": [
    "### Penggunaan Enumerate pada Python"
   ]
  },
  {
   "cell_type": "code",
   "execution_count": 5,
   "id": "63ed384e",
   "metadata": {},
   "outputs": [
    {
     "name": "stdout",
     "output_type": "stream",
     "text": [
      "kaakter a berada di indeks ke- 0\n",
      "kaakter b berada di indeks ke- 1\n",
      "kaakter c berada di indeks ke- 2\n",
      "kaakter d berada di indeks ke- 3\n",
      "kaakter e berada di indeks ke- 4\n",
      "kaakter f berada di indeks ke- 5\n",
      "kaakter g berada di indeks ke- 6\n",
      "kaakter h berada di indeks ke- 7\n",
      "kaakter i berada di indeks ke- 8\n",
      "kaakter j berada di indeks ke- 9\n"
     ]
    }
   ],
   "source": [
    "indeks = 0\n",
    "for i in 'abcdefghij':\n",
    "    print('kaakter {} berada di indeks ke- {}' .format(i,indeks))\n",
    "    indeks += 1\n"
   ]
  },
  {
   "cell_type": "markdown",
   "id": "57f71011",
   "metadata": {},
   "source": [
    "Contoh di atas adalah contoh iterasi yang dilakukan secara manual, dengan menggunakan fungsi **enumerate** kita dapat melakukan **perintah yang serupa dengan cara yang lebih efisien**. Tata cara penulisannya dalam Pyhton adalah sebagai berikut. "
   ]
  },
  {
   "cell_type": "code",
   "execution_count": 6,
   "id": "3ea4c24f",
   "metadata": {},
   "outputs": [],
   "source": [
    "kata = 'abcdefghij'"
   ]
  },
  {
   "cell_type": "code",
   "execution_count": 7,
   "id": "c8d40733",
   "metadata": {},
   "outputs": [
    {
     "name": "stdout",
     "output_type": "stream",
     "text": [
      "(0, 'a')\n",
      "(1, 'b')\n",
      "(2, 'c')\n",
      "(3, 'd')\n",
      "(4, 'e')\n",
      "(5, 'f')\n",
      "(6, 'g')\n",
      "(7, 'h')\n",
      "(8, 'i')\n",
      "(9, 'j')\n"
     ]
    }
   ],
   "source": [
    "for i in enumerate(kata): \n",
    "    print (i)"
   ]
  },
  {
   "cell_type": "code",
   "execution_count": 8,
   "id": "9fee999c",
   "metadata": {},
   "outputs": [
    {
     "name": "stdout",
     "output_type": "stream",
     "text": [
      "0\n",
      "a\n",
      "1\n",
      "b\n",
      "2\n",
      "c\n",
      "3\n",
      "d\n",
      "4\n",
      "e\n",
      "5\n",
      "f\n",
      "6\n",
      "g\n",
      "7\n",
      "h\n",
      "8\n",
      "i\n",
      "9\n",
      "j\n"
     ]
    }
   ],
   "source": [
    "for a,b in enumerate(kata):\n",
    "    print (a)\n",
    "    print (b)"
   ]
  },
  {
   "cell_type": "markdown",
   "id": "7fee5d0c",
   "metadata": {},
   "source": [
    "### Cara Penggunaan Zip pada Python"
   ]
  },
  {
   "cell_type": "markdown",
   "id": "767e4cf2",
   "metadata": {},
   "source": [
    "Fungsi **Zipp** pada Python ditulisan sebagai **zip()** dimana fungsi ini digunakan untuk menggabungkan 2 buah atau lebih list. Dimana contoh aplikasinya ditunjukan sebagai berikut."
   ]
  },
  {
   "cell_type": "code",
   "execution_count": 9,
   "id": "71c4c65f",
   "metadata": {},
   "outputs": [],
   "source": [
    "list1 = [1,2,3,4,5]"
   ]
  },
  {
   "cell_type": "code",
   "execution_count": 10,
   "id": "f283e4bf",
   "metadata": {},
   "outputs": [],
   "source": [
    "list2 = ['a','b','c','d','e']"
   ]
  },
  {
   "cell_type": "code",
   "execution_count": 11,
   "id": "007ee68b",
   "metadata": {},
   "outputs": [
    {
     "name": "stdout",
     "output_type": "stream",
     "text": [
      "(1, 'a')\n",
      "(2, 'b')\n",
      "(3, 'c')\n",
      "(4, 'd')\n",
      "(5, 'e')\n"
     ]
    }
   ],
   "source": [
    "for i in zip(list1,list2): \n",
    "    print (i)"
   ]
  },
  {
   "cell_type": "markdown",
   "id": "d45f33ca",
   "metadata": {},
   "source": [
    "### Cara Penggunaan Item Checking pada Python"
   ]
  },
  {
   "cell_type": "code",
   "execution_count": 12,
   "id": "799c2bfc",
   "metadata": {},
   "outputs": [
    {
     "data": {
      "text/plain": [
       "'aku belajar'"
      ]
     },
     "execution_count": 12,
     "metadata": {},
     "output_type": "execute_result"
    }
   ],
   "source": [
    "'aku belajar'"
   ]
  },
  {
   "cell_type": "code",
   "execution_count": 13,
   "id": "d22d1fa2",
   "metadata": {},
   "outputs": [
    {
     "data": {
      "text/plain": [
       "False"
      ]
     },
     "execution_count": 13,
     "metadata": {},
     "output_type": "execute_result"
    }
   ],
   "source": [
    "'v' in 'aku belajar'"
   ]
  },
  {
   "cell_type": "code",
   "execution_count": 14,
   "id": "0921f0d9",
   "metadata": {},
   "outputs": [
    {
     "data": {
      "text/plain": [
       "True"
      ]
     },
     "execution_count": 14,
     "metadata": {},
     "output_type": "execute_result"
    }
   ],
   "source": [
    "'a' in 'aku belajar'"
   ]
  },
  {
   "cell_type": "markdown",
   "id": "59bc3983",
   "metadata": {},
   "source": [
    "Contoh item checking pada **dictionary**. Pada tipe data dictionary, **item checking hanya bekerja pada kolom headnya saja, yaitu 'a', 'b', dan 'c'.** Jika ingin **mengecheck values**, maka harus **ditambahkan method .values**"
   ]
  },
  {
   "cell_type": "code",
   "execution_count": 15,
   "id": "423bd1df",
   "metadata": {},
   "outputs": [],
   "source": [
    "kotak1 = {'a':100 , 'b':200 , 'c':300}"
   ]
  },
  {
   "cell_type": "code",
   "execution_count": 16,
   "id": "4a0eeb93",
   "metadata": {},
   "outputs": [
    {
     "data": {
      "text/plain": [
       "dict"
      ]
     },
     "execution_count": 16,
     "metadata": {},
     "output_type": "execute_result"
    }
   ],
   "source": [
    "type(kotak1)"
   ]
  },
  {
   "cell_type": "code",
   "execution_count": 17,
   "id": "5217dff2",
   "metadata": {},
   "outputs": [
    {
     "data": {
      "text/plain": [
       "True"
      ]
     },
     "execution_count": 17,
     "metadata": {},
     "output_type": "execute_result"
    }
   ],
   "source": [
    "'b' in kotak1"
   ]
  },
  {
   "cell_type": "code",
   "execution_count": 18,
   "id": "7433dd42",
   "metadata": {},
   "outputs": [
    {
     "data": {
      "text/plain": [
       "False"
      ]
     },
     "execution_count": 18,
     "metadata": {},
     "output_type": "execute_result"
    }
   ],
   "source": [
    "100 in kotak1"
   ]
  },
  {
   "cell_type": "code",
   "execution_count": 19,
   "id": "7fc2060f",
   "metadata": {},
   "outputs": [
    {
     "data": {
      "text/plain": [
       "True"
      ]
     },
     "execution_count": 19,
     "metadata": {},
     "output_type": "execute_result"
    }
   ],
   "source": [
    "100 in kotak1.values()"
   ]
  },
  {
   "cell_type": "markdown",
   "id": "4885f932",
   "metadata": {},
   "source": [
    "## Penggunaan Advanced for Loops pada Python"
   ]
  },
  {
   "cell_type": "code",
   "execution_count": 23,
   "id": "d58b24ff",
   "metadata": {},
   "outputs": [
    {
     "name": "stdout",
     "output_type": "stream",
     "text": [
      "[1, 2, 3, 4, 5, 6, 7, 8, 9, 10]\n"
     ]
    }
   ],
   "source": [
    "isi = list(range(1,11))\n",
    "print(isi)"
   ]
  },
  {
   "cell_type": "code",
   "execution_count": 25,
   "id": "37d6ee40",
   "metadata": {},
   "outputs": [
    {
     "name": "stdout",
     "output_type": "stream",
     "text": [
      "[1, 2, 3, 4, 5, 6, 7, 8, 9, 10]\n"
     ]
    }
   ],
   "source": [
    "isi2 = [i for i in range(1,11)]\n",
    "print(isi2)"
   ]
  },
  {
   "cell_type": "markdown",
   "id": "f4159141",
   "metadata": {},
   "source": [
    "Pembacaan dari variabel isi2 di atas adalah **variabel isi2 diisikan dengan item baru yang berada pada rentang 1-11**. Kelebihan dari cara ini adalah **kita bisa menambahkan fungsi aritmatika pada i bagian awal**. Sebagai contoh pada berikut"
   ]
  },
  {
   "cell_type": "code",
   "execution_count": 27,
   "id": "a48a1265",
   "metadata": {},
   "outputs": [
    {
     "name": "stdout",
     "output_type": "stream",
     "text": [
      "[3, 4, 5, 6, 7, 8, 9, 10, 11, 12]\n"
     ]
    }
   ],
   "source": [
    "isi3 = [(i+2) for i in range(1,11)]\n",
    "print(isi3)"
   ]
  },
  {
   "cell_type": "code",
   "execution_count": 31,
   "id": "ac0cb47c",
   "metadata": {},
   "outputs": [
    {
     "name": "stdout",
     "output_type": "stream",
     "text": [
      "[2.0, 5.0, 10.0, 17.0, 26.0, 37.0, 50.0, 65.0, 82.0, 101.0]\n"
     ]
    }
   ],
   "source": [
    "import numpy as np \n",
    "isi4 = [(np.sqrt(i**4)+1) for i in range(1,11)]\n",
    "print (isi4)"
   ]
  },
  {
   "cell_type": "code",
   "execution_count": 32,
   "id": "14bba1dd",
   "metadata": {},
   "outputs": [
    {
     "name": "stdout",
     "output_type": "stream",
     "text": [
      "[1, 3, 5, 7, 9]\n"
     ]
    }
   ],
   "source": [
    "isi5 = [i for i in range(1,11) if i%2 != 0]\n",
    "print(isi5)"
   ]
  },
  {
   "cell_type": "code",
   "execution_count": null,
   "id": "68fe86b8",
   "metadata": {},
   "outputs": [],
   "source": []
  }
 ],
 "metadata": {
  "kernelspec": {
   "display_name": "Python 3 (ipykernel)",
   "language": "python",
   "name": "python3"
  },
  "language_info": {
   "codemirror_mode": {
    "name": "ipython",
    "version": 3
   },
   "file_extension": ".py",
   "mimetype": "text/x-python",
   "name": "python",
   "nbconvert_exporter": "python",
   "pygments_lexer": "ipython3",
   "version": "3.9.7"
  }
 },
 "nbformat": 4,
 "nbformat_minor": 5
}
