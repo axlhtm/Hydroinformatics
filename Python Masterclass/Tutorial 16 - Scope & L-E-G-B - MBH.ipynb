{
 "cells": [
  {
   "cell_type": "markdown",
   "id": "4d3e6bb3",
   "metadata": {},
   "source": [
    "# Tutorial 16\n",
    "##  1. Penggunaan Scope dan L-E-G-B di Python"
   ]
  },
  {
   "cell_type": "markdown",
   "id": "ce164b34",
   "metadata": {},
   "source": [
    "Urutan eksekusi di Python dapat dibagi menjadi: \n",
    "- **L (Local)                    = Variabel ini bersifat lokal, yang biasanya berada didalam fungsi (def/lambda) tertentu.**\n",
    "- **E (Enclosing Function Local) = Variabel ini berada didalam fungsi (def/lambda) mulai dari lingkup terdalam hingga keluar.**\n",
    "- **G (Global)                   = Variabel ini didefinisikan di luarm biasanya di tahap awal.**\n",
    "- **B(Built-in)                  = Variabel bawaan Python, seperti list, str, upper, dll.**"
   ]
  },
  {
   "cell_type": "code",
   "execution_count": 4,
   "id": "3e2cfd52",
   "metadata": {},
   "outputs": [
    {
     "name": "stdout",
     "output_type": "stream",
     "text": [
      "Halo hasilnya adalahSaya adalah Global\n"
     ]
    }
   ],
   "source": [
    "kalimat = 'Saya adalah Global (G)'\n",
    "\n",
    "def cetak():\n",
    "    def eksekusi():\n",
    "        print('Halo hasilnya adalah' + kalimat)\n",
    "        \n",
    "    eksekusi()\n",
    "cetak()"
   ]
  },
  {
   "cell_type": "code",
   "execution_count": 5,
   "id": "c373007d",
   "metadata": {},
   "outputs": [
    {
     "name": "stdout",
     "output_type": "stream",
     "text": [
      "Halo hasilnya adalahSaya adalah Enclosing Function Local (E)\n"
     ]
    }
   ],
   "source": [
    "kalimat = 'Saya adalah Global (G)' \n",
    "\n",
    "def cetak(): \n",
    "    kalimat = 'Saya adalah Enclosing Function Local (E)'\n",
    "    def eksekusi():\n",
    "        print('Halo hasilnya adalah' +kalimat)\n",
    "        \n",
    "    eksekusi()\n",
    "cetak()    "
   ]
  },
  {
   "cell_type": "code",
   "execution_count": 6,
   "id": "10b75efd",
   "metadata": {},
   "outputs": [
    {
     "name": "stdout",
     "output_type": "stream",
     "text": [
      "Halo hasilnya adalahSay adalah Local (L)\n"
     ]
    }
   ],
   "source": [
    "kalimat = 'Saya adalah Global (G)'\n",
    "\n",
    "def cetak():\n",
    "    kalimat = 'Saya adalah Enclosing Function local (E)'\n",
    "    def eksekusi():\n",
    "        kalimat = 'Say adalah Local (L)'\n",
    "        print('Halo hasilnya adalah' +kalimat)\n",
    "        \n",
    "    eksekusi()\n",
    "cetak()"
   ]
  },
  {
   "cell_type": "code",
   "execution_count": null,
   "id": "1c62d765",
   "metadata": {},
   "outputs": [],
   "source": []
  }
 ],
 "metadata": {
  "kernelspec": {
   "display_name": "Python 3 (ipykernel)",
   "language": "python",
   "name": "python3"
  },
  "language_info": {
   "codemirror_mode": {
    "name": "ipython",
    "version": 3
   },
   "file_extension": ".py",
   "mimetype": "text/x-python",
   "name": "python",
   "nbconvert_exporter": "python",
   "pygments_lexer": "ipython3",
   "version": "3.9.7"
  }
 },
 "nbformat": 4,
 "nbformat_minor": 5
}
