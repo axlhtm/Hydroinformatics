{
 "cells": [
  {
   "cell_type": "markdown",
   "id": "51acf6fc",
   "metadata": {},
   "source": [
    "# Tutorial 9"
   ]
  },
  {
   "cell_type": "code",
   "execution_count": null,
   "id": "8b84edb4",
   "metadata": {},
   "outputs": [],
   "source": [
    "keranjang = [1,2.3, 'Apel']"
   ]
  },
  {
   "cell_type": "code",
   "execution_count": null,
   "id": "5b5ff15a",
   "metadata": {},
   "outputs": [],
   "source": [
    "type(keranjang)"
   ]
  },
  {
   "cell_type": "code",
   "execution_count": null,
   "id": "5889310e",
   "metadata": {},
   "outputs": [],
   "source": [
    "len(keranjang)"
   ]
  },
  {
   "cell_type": "markdown",
   "id": "94d6f18d",
   "metadata": {},
   "source": [
    "fungsi **len()** mengindikasikan jumlah indeks variabel dalam satu matriks atau satu list dan berguna dalam looping."
   ]
  },
  {
   "cell_type": "code",
   "execution_count": null,
   "id": "910291d3",
   "metadata": {},
   "outputs": [],
   "source": [
    "for i in range(len(keranjang)):\n",
    "    print(keranjang[i])"
   ]
  },
  {
   "cell_type": "code",
   "execution_count": null,
   "id": "9b361c2d",
   "metadata": {},
   "outputs": [],
   "source": [
    "for i in range(0,3):\n",
    "    print(keranjang[i])"
   ]
  },
  {
   "cell_type": "code",
   "execution_count": null,
   "id": "ce67b435",
   "metadata": {},
   "outputs": [],
   "source": [
    "keranjang\n"
   ]
  },
  {
   "cell_type": "code",
   "execution_count": null,
   "id": "101bcd4b",
   "metadata": {},
   "outputs": [],
   "source": [
    "keranjang[1] = 'Mangga'"
   ]
  },
  {
   "cell_type": "code",
   "execution_count": null,
   "id": "cf5c8a5d",
   "metadata": {},
   "outputs": [],
   "source": [
    "keranjang"
   ]
  },
  {
   "cell_type": "markdown",
   "id": "253956bb",
   "metadata": {},
   "source": [
    "Cara **menambahkan kolom atau variabel pada list** bisa dengan menggunakan **cara manual** seperti dibawah ini. **Atau** bisa menggunakan methods **.append**, namun **methods tersebut hanya bisa digunakan untuk menambah 1 kolom saja**, jika ingin menambahkan lebih dari 1 maka menggunakan cara manual."
   ]
  },
  {
   "cell_type": "code",
   "execution_count": null,
   "id": "dadee8e4",
   "metadata": {},
   "outputs": [],
   "source": [
    "jeruk = ['jeruk']"
   ]
  },
  {
   "cell_type": "code",
   "execution_count": null,
   "id": "fe477930",
   "metadata": {},
   "outputs": [],
   "source": [
    "keranjang = keranjang + jeruk"
   ]
  },
  {
   "cell_type": "code",
   "execution_count": null,
   "id": "100ae8c3",
   "metadata": {},
   "outputs": [],
   "source": [
    "keranjang"
   ]
  },
  {
   "cell_type": "code",
   "execution_count": null,
   "id": "efbe2781",
   "metadata": {},
   "outputs": [],
   "source": [
    "keranjang.append('Pisang')"
   ]
  },
  {
   "cell_type": "code",
   "execution_count": null,
   "id": "bf487751",
   "metadata": {},
   "outputs": [],
   "source": [
    "keranjang"
   ]
  },
  {
   "cell_type": "code",
   "execution_count": null,
   "id": "0964132b",
   "metadata": {},
   "outputs": [],
   "source": [
    "buah_lagi = ['Anggur','Nanas','Durian','Mengkudu']"
   ]
  },
  {
   "cell_type": "code",
   "execution_count": null,
   "id": "5003ee39",
   "metadata": {},
   "outputs": [],
   "source": [
    "keranjang = keranjang + buah_lagi"
   ]
  },
  {
   "cell_type": "code",
   "execution_count": null,
   "id": "36c44305",
   "metadata": {},
   "outputs": [],
   "source": [
    "keranjang"
   ]
  },
  {
   "cell_type": "code",
   "execution_count": null,
   "id": "d7ffaf36",
   "metadata": {},
   "outputs": [],
   "source": [
    "len(keranjang)"
   ]
  },
  {
   "cell_type": "markdown",
   "id": "50e39ce3",
   "metadata": {},
   "source": [
    "Cara **menghilangkan variabel atau kolom pada suatu list** atau matriks bisa dengan menggunakan methods **.pop()**. Methods tersebut **( ) jika tidak diisi, mengindikasikan dan menghapus variabel terakhir yang terdapat pada suatu matriks.**"
   ]
  },
  {
   "cell_type": "code",
   "execution_count": null,
   "id": "a6911883",
   "metadata": {},
   "outputs": [],
   "source": [
    "baru = [1,2,3,4,5,6]"
   ]
  },
  {
   "cell_type": "code",
   "execution_count": null,
   "id": "01a16d3e",
   "metadata": {},
   "outputs": [],
   "source": [
    "baru"
   ]
  },
  {
   "cell_type": "code",
   "execution_count": null,
   "id": "eaa16d30",
   "metadata": {},
   "outputs": [],
   "source": [
    "baru.pop()"
   ]
  },
  {
   "cell_type": "code",
   "execution_count": null,
   "id": "03c94975",
   "metadata": {},
   "outputs": [],
   "source": [
    "baru"
   ]
  },
  {
   "cell_type": "code",
   "execution_count": null,
   "id": "1c2636d2",
   "metadata": {},
   "outputs": [],
   "source": [
    "baru.pop(1)"
   ]
  },
  {
   "cell_type": "code",
   "execution_count": null,
   "id": "b474417e",
   "metadata": {},
   "outputs": [],
   "source": [
    "baru"
   ]
  },
  {
   "cell_type": "code",
   "execution_count": null,
   "id": "3d6e69f4",
   "metadata": {},
   "outputs": [],
   "source": [
    "baru_lagi = baru.pop()"
   ]
  },
  {
   "cell_type": "code",
   "execution_count": null,
   "id": "a9bcb222",
   "metadata": {},
   "outputs": [],
   "source": [
    "baru_lagi"
   ]
  },
  {
   "cell_type": "markdown",
   "id": "953580b9",
   "metadata": {},
   "source": [
    "Cara **mengurutkan variabel atau kolom secara accending** pada suatu list yang berisikan tipe data string atau integer dapat menggunakan methods **.sort()** "
   ]
  },
  {
   "cell_type": "code",
   "execution_count": 8,
   "id": "38a9b5fa",
   "metadata": {},
   "outputs": [],
   "source": [
    "var_1 = [1,2,5,7,4,9]"
   ]
  },
  {
   "cell_type": "code",
   "execution_count": 9,
   "id": "d0f373dd",
   "metadata": {},
   "outputs": [],
   "source": [
    "var_1.sort() "
   ]
  },
  {
   "cell_type": "code",
   "execution_count": 10,
   "id": "f6248353",
   "metadata": {},
   "outputs": [
    {
     "data": {
      "text/plain": [
       "[1, 2, 4, 5, 7, 9]"
      ]
     },
     "execution_count": 10,
     "metadata": {},
     "output_type": "execute_result"
    }
   ],
   "source": [
    "var_1"
   ]
  },
  {
   "cell_type": "code",
   "execution_count": 30,
   "id": "0071178b",
   "metadata": {},
   "outputs": [],
   "source": [
    "var_2 = ['a','h','c','b','e','z']"
   ]
  },
  {
   "cell_type": "code",
   "execution_count": 31,
   "id": "212b8f2d",
   "metadata": {},
   "outputs": [],
   "source": [
    "var_2.sort()"
   ]
  },
  {
   "cell_type": "code",
   "execution_count": 32,
   "id": "0891f171",
   "metadata": {},
   "outputs": [
    {
     "data": {
      "text/plain": [
       "['a', 'b', 'c', 'e', 'h', 'z']"
      ]
     },
     "execution_count": 32,
     "metadata": {},
     "output_type": "execute_result"
    }
   ],
   "source": [
    "var_2"
   ]
  },
  {
   "cell_type": "code",
   "execution_count": 15,
   "id": "41522dc4",
   "metadata": {},
   "outputs": [],
   "source": [
    "var_3 = ['b','d','z','l', 5, 3, 1, 7]"
   ]
  },
  {
   "cell_type": "code",
   "execution_count": 16,
   "id": "19cd1efa",
   "metadata": {},
   "outputs": [
    {
     "ename": "TypeError",
     "evalue": "'<' not supported between instances of 'int' and 'str'",
     "output_type": "error",
     "traceback": [
      "\u001b[1;31m---------------------------------------------------------------------------\u001b[0m",
      "\u001b[1;31mTypeError\u001b[0m                                 Traceback (most recent call last)",
      "\u001b[1;32m~\\AppData\\Local\\Temp/ipykernel_2312/2186938558.py\u001b[0m in \u001b[0;36m<module>\u001b[1;34m\u001b[0m\n\u001b[1;32m----> 1\u001b[1;33m \u001b[0mvar_3\u001b[0m\u001b[1;33m.\u001b[0m\u001b[0msort\u001b[0m\u001b[1;33m(\u001b[0m\u001b[1;33m)\u001b[0m\u001b[1;33m\u001b[0m\u001b[1;33m\u001b[0m\u001b[0m\n\u001b[0m",
      "\u001b[1;31mTypeError\u001b[0m: '<' not supported between instances of 'int' and 'str'"
     ]
    }
   ],
   "source": [
    "var_3.sort()"
   ]
  },
  {
   "cell_type": "markdown",
   "id": "f191efa1",
   "metadata": {},
   "source": [
    "pada **var_3** di atas, python tidak dapat mengurutkan list yang terdiri dari integer dan string"
   ]
  },
  {
   "cell_type": "code",
   "execution_count": 34,
   "id": "c4118442",
   "metadata": {},
   "outputs": [],
   "source": [
    "var_4 = ['Bambang', 'Budi', 'Anton', 'Zakir']"
   ]
  },
  {
   "cell_type": "code",
   "execution_count": 36,
   "id": "8ace6cfb",
   "metadata": {},
   "outputs": [],
   "source": [
    "var_4.sort()"
   ]
  },
  {
   "cell_type": "code",
   "execution_count": 38,
   "id": "aca80ae0",
   "metadata": {},
   "outputs": [
    {
     "data": {
      "text/plain": [
       "['Anton', 'Bambang', 'Budi', 'Zakir']"
      ]
     },
     "execution_count": 38,
     "metadata": {},
     "output_type": "execute_result"
    }
   ],
   "source": [
    "var_4"
   ]
  },
  {
   "cell_type": "code",
   "execution_count": 45,
   "id": "46a06037",
   "metadata": {},
   "outputs": [],
   "source": [
    "var_5 = [0.4 , 0.02, 0.03, 99]"
   ]
  },
  {
   "cell_type": "code",
   "execution_count": 47,
   "id": "c906776b",
   "metadata": {},
   "outputs": [],
   "source": [
    "var_5.sort()"
   ]
  },
  {
   "cell_type": "code",
   "execution_count": 48,
   "id": "2a41b929",
   "metadata": {},
   "outputs": [
    {
     "data": {
      "text/plain": [
       "[0.02, 0.03, 0.4, 99]"
      ]
     },
     "execution_count": 48,
     "metadata": {},
     "output_type": "execute_result"
    }
   ],
   "source": [
    "var_5"
   ]
  },
  {
   "cell_type": "markdown",
   "id": "a043395c",
   "metadata": {},
   "source": [
    "Cara **mengurutkan variabel atau kolom secara deccending** pada suatu list yang berisikan tipe data string atau integer dapat menggunakan methods **.reverse()** "
   ]
  },
  {
   "cell_type": "code",
   "execution_count": 49,
   "id": "59c3c5fa",
   "metadata": {},
   "outputs": [],
   "source": [
    "var_6 = [1,2,5,7,4,9]"
   ]
  },
  {
   "cell_type": "code",
   "execution_count": 50,
   "id": "a9195446",
   "metadata": {},
   "outputs": [],
   "source": [
    "var_6.reverse()"
   ]
  },
  {
   "cell_type": "code",
   "execution_count": 51,
   "id": "17606859",
   "metadata": {},
   "outputs": [
    {
     "data": {
      "text/plain": [
       "[9, 4, 7, 5, 2, 1]"
      ]
     },
     "execution_count": 51,
     "metadata": {},
     "output_type": "execute_result"
    }
   ],
   "source": [
    "var_6"
   ]
  },
  {
   "cell_type": "code",
   "execution_count": 52,
   "id": "4fc97112",
   "metadata": {},
   "outputs": [],
   "source": [
    "var_7 = ['a','h','c','b','e','z']"
   ]
  },
  {
   "cell_type": "code",
   "execution_count": 53,
   "id": "9d865da5",
   "metadata": {},
   "outputs": [],
   "source": [
    "var_7.reverse()"
   ]
  },
  {
   "cell_type": "code",
   "execution_count": 54,
   "id": "f96e1a00",
   "metadata": {},
   "outputs": [
    {
     "data": {
      "text/plain": [
       "['z', 'e', 'b', 'c', 'h', 'a']"
      ]
     },
     "execution_count": 54,
     "metadata": {},
     "output_type": "execute_result"
    }
   ],
   "source": [
    "var_7"
   ]
  },
  {
   "cell_type": "code",
   "execution_count": 55,
   "id": "86330463",
   "metadata": {},
   "outputs": [],
   "source": [
    "var_8 = ['Bambang', 'Budi', 'Anton', 'Zakir']"
   ]
  },
  {
   "cell_type": "code",
   "execution_count": 56,
   "id": "835cf70c",
   "metadata": {},
   "outputs": [],
   "source": [
    "var_8.reverse()"
   ]
  },
  {
   "cell_type": "code",
   "execution_count": 57,
   "id": "3de3f4e4",
   "metadata": {},
   "outputs": [
    {
     "data": {
      "text/plain": [
       "['Zakir', 'Anton', 'Budi', 'Bambang']"
      ]
     },
     "execution_count": 57,
     "metadata": {},
     "output_type": "execute_result"
    }
   ],
   "source": [
    "var_8"
   ]
  },
  {
   "cell_type": "code",
   "execution_count": 58,
   "id": "b1c5a08a",
   "metadata": {},
   "outputs": [],
   "source": [
    "var_9 = [0.4 , 0.02, 0.03, 99]"
   ]
  },
  {
   "cell_type": "code",
   "execution_count": 59,
   "id": "9c189443",
   "metadata": {},
   "outputs": [],
   "source": [
    "var_9.reverse()"
   ]
  },
  {
   "cell_type": "code",
   "execution_count": 60,
   "id": "12f9c924",
   "metadata": {},
   "outputs": [
    {
     "data": {
      "text/plain": [
       "[99, 0.03, 0.02, 0.4]"
      ]
     },
     "execution_count": 60,
     "metadata": {},
     "output_type": "execute_result"
    }
   ],
   "source": [
    "var_9"
   ]
  },
  {
   "cell_type": "markdown",
   "id": "d2371a5f",
   "metadata": {},
   "source": [
    "## Cara Menggunakan Nested List dalam Python"
   ]
  },
  {
   "cell_type": "markdown",
   "id": "1359370c",
   "metadata": {},
   "source": [
    "**Nested List** adalah bentuk list yang terdapat di dalam list. Dimana Untuk **Slicing** data **Nested List** menggunakan kurung dalam kurung seperti di bawah ini. "
   ]
  },
  {
   "cell_type": "code",
   "execution_count": 61,
   "id": "9e444b75",
   "metadata": {},
   "outputs": [],
   "source": [
    "isi = [1,2,3,[11,12,13,[14,15,16]]]"
   ]
  },
  {
   "cell_type": "code",
   "execution_count": 62,
   "id": "5119fa6c",
   "metadata": {},
   "outputs": [
    {
     "data": {
      "text/plain": [
       "3"
      ]
     },
     "execution_count": 62,
     "metadata": {},
     "output_type": "execute_result"
    }
   ],
   "source": [
    "isi[2]"
   ]
  },
  {
   "cell_type": "code",
   "execution_count": 64,
   "id": "2c0c0a10",
   "metadata": {},
   "outputs": [
    {
     "data": {
      "text/plain": [
       "[11, 12, 13, [14, 15, 16]]"
      ]
     },
     "execution_count": 64,
     "metadata": {},
     "output_type": "execute_result"
    }
   ],
   "source": [
    "isi[3]"
   ]
  },
  {
   "cell_type": "code",
   "execution_count": 65,
   "id": "a9610a8e",
   "metadata": {},
   "outputs": [
    {
     "data": {
      "text/plain": [
       "12"
      ]
     },
     "execution_count": 65,
     "metadata": {},
     "output_type": "execute_result"
    }
   ],
   "source": [
    "isi[3][1]"
   ]
  },
  {
   "cell_type": "code",
   "execution_count": 67,
   "id": "8191a420",
   "metadata": {},
   "outputs": [
    {
     "data": {
      "text/plain": [
       "16"
      ]
     },
     "execution_count": 67,
     "metadata": {},
     "output_type": "execute_result"
    }
   ],
   "source": [
    "isi[3][3][2]"
   ]
  },
  {
   "cell_type": "markdown",
   "id": "8a468359",
   "metadata": {},
   "source": [
    "Penulisan list bisa juga dengan menggunakan **Kurung Biasa ( )** seperti di bawah ini. "
   ]
  },
  {
   "cell_type": "code",
   "execution_count": 77,
   "id": "1ca7de95",
   "metadata": {},
   "outputs": [],
   "source": [
    "var_10 = list() "
   ]
  },
  {
   "cell_type": "code",
   "execution_count": 78,
   "id": "c8a280cb",
   "metadata": {},
   "outputs": [
    {
     "data": {
      "text/plain": [
       "list"
      ]
     },
     "execution_count": 78,
     "metadata": {},
     "output_type": "execute_result"
    }
   ],
   "source": [
    "type(var_10)"
   ]
  },
  {
   "cell_type": "code",
   "execution_count": 82,
   "id": "4cc1f333",
   "metadata": {},
   "outputs": [],
   "source": [
    "var_11 = []"
   ]
  },
  {
   "cell_type": "code",
   "execution_count": 83,
   "id": "9a53b31c",
   "metadata": {},
   "outputs": [
    {
     "data": {
      "text/plain": [
       "list"
      ]
     },
     "execution_count": 83,
     "metadata": {},
     "output_type": "execute_result"
    }
   ],
   "source": [
    "type(var_11)"
   ]
  },
  {
   "cell_type": "code",
   "execution_count": 84,
   "id": "edc6996d",
   "metadata": {},
   "outputs": [
    {
     "name": "stdout",
     "output_type": "stream",
     "text": [
      "Ternyata var_10 sama dengan var_11\n"
     ]
    }
   ],
   "source": [
    "if var_10 == var_11: \n",
    "    print('Ternyata var_10 sama dengan var_11')\n",
    "else:     \n",
    "     print('Ternyata var_10 tidak sama dengan var_11')"
   ]
  },
  {
   "cell_type": "markdown",
   "id": "1f8e93e9",
   "metadata": {},
   "source": [
    "Apabila bentuk dari list adalah **string** maka Python akan **membagi karakter dari tiap string tersebut menjadi tiap variabel**. "
   ]
  },
  {
   "cell_type": "code",
   "execution_count": 85,
   "id": "f3214246",
   "metadata": {},
   "outputs": [],
   "source": [
    "baru = list('Saya senang belajar Python')"
   ]
  },
  {
   "cell_type": "code",
   "execution_count": 86,
   "id": "a3415d38",
   "metadata": {},
   "outputs": [
    {
     "data": {
      "text/plain": [
       "['S',\n",
       " 'a',\n",
       " 'y',\n",
       " 'a',\n",
       " ' ',\n",
       " 's',\n",
       " 'e',\n",
       " 'n',\n",
       " 'a',\n",
       " 'n',\n",
       " 'g',\n",
       " ' ',\n",
       " 'b',\n",
       " 'e',\n",
       " 'l',\n",
       " 'a',\n",
       " 'j',\n",
       " 'a',\n",
       " 'r',\n",
       " ' ',\n",
       " 'P',\n",
       " 'y',\n",
       " 't',\n",
       " 'h',\n",
       " 'o',\n",
       " 'n']"
      ]
     },
     "execution_count": 86,
     "metadata": {},
     "output_type": "execute_result"
    }
   ],
   "source": [
    "baru"
   ]
  },
  {
   "cell_type": "code",
   "execution_count": null,
   "id": "579e95d1",
   "metadata": {},
   "outputs": [],
   "source": []
  }
 ],
 "metadata": {
  "kernelspec": {
   "display_name": "Python 3 (ipykernel)",
   "language": "python",
   "name": "python3"
  },
  "language_info": {
   "codemirror_mode": {
    "name": "ipython",
    "version": 3
   },
   "file_extension": ".py",
   "mimetype": "text/x-python",
   "name": "python",
   "nbconvert_exporter": "python",
   "pygments_lexer": "ipython3",
   "version": "3.9.7"
  }
 },
 "nbformat": 4,
 "nbformat_minor": 5
}
