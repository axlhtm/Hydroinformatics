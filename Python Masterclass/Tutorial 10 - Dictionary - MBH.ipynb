{
 "cells": [
  {
   "cell_type": "markdown",
   "id": "d8e1b4b9",
   "metadata": {},
   "source": [
    "# Tutorial 10"
   ]
  },
  {
   "cell_type": "markdown",
   "id": "b6581a00",
   "metadata": {},
   "source": [
    "## Perbedaan Dictionary dan List\n",
    "**Dictionary** dapat didefinisikan sebagai berikut: \n",
    "- Tidak memiliki urutan.\n",
    "- Pengambilan item dengan cara menggunakan 'key'\n",
    "- Format -> dict1 = {'key1':item, 'key2':item, 'key3':item}\n",
    "\n",
    "Sedangkan **List** dapat didefinikasi sebagai berikut:\n",
    "- Memiliki urutan.\n",
    "- Pengambilan item dengan memanggil index-nya (urutan item)\n",
    "- Format -> list1 = [item1, item2, item3]"
   ]
  },
  {
   "cell_type": "code",
   "execution_count": 12,
   "id": "5727338a",
   "metadata": {},
   "outputs": [],
   "source": [
    "dict_1 = {'k1':'Sapi','k2':'Kambing','k3':'Ayam'}"
   ]
  },
  {
   "cell_type": "code",
   "execution_count": 13,
   "id": "5761ac48",
   "metadata": {},
   "outputs": [
    {
     "data": {
      "text/plain": [
       "'Kambing'"
      ]
     },
     "execution_count": 13,
     "metadata": {},
     "output_type": "execute_result"
    }
   ],
   "source": [
    "dict_1['k2']"
   ]
  },
  {
   "cell_type": "code",
   "execution_count": 14,
   "id": "c8b2c9fa",
   "metadata": {},
   "outputs": [],
   "source": [
    "daftar_harga = {'Kijang Innova':250, 'Avanza':200,'Vioz':150}"
   ]
  },
  {
   "cell_type": "code",
   "execution_count": 15,
   "id": "a2c18ca4",
   "metadata": {},
   "outputs": [
    {
     "data": {
      "text/plain": [
       "250"
      ]
     },
     "execution_count": 15,
     "metadata": {},
     "output_type": "execute_result"
    }
   ],
   "source": [
    "daftar_harga['Kijang Innova']"
   ]
  },
  {
   "cell_type": "markdown",
   "id": "157861fe",
   "metadata": {},
   "source": [
    "### Penggunaan Nested Dictionary di Python"
   ]
  },
  {
   "cell_type": "code",
   "execution_count": 16,
   "id": "416ce8cc",
   "metadata": {},
   "outputs": [],
   "source": [
    "dict_2 = {'k1':'Sapi' , 'k2':'Kambing' , 'k3':['Ayam Kampung','Ayam Negeri'] , 'k4':{'k5':'Babi' , 'k6':'Katak'}}"
   ]
  },
  {
   "cell_type": "code",
   "execution_count": 17,
   "id": "80da7dbe",
   "metadata": {},
   "outputs": [
    {
     "data": {
      "text/plain": [
       "'Sapi'"
      ]
     },
     "execution_count": 17,
     "metadata": {},
     "output_type": "execute_result"
    }
   ],
   "source": [
    "dict_2['k1']"
   ]
  },
  {
   "cell_type": "code",
   "execution_count": 19,
   "id": "d705f67c",
   "metadata": {},
   "outputs": [
    {
     "data": {
      "text/plain": [
       "['Ayam Kampung', 'Ayam Negeri']"
      ]
     },
     "execution_count": 19,
     "metadata": {},
     "output_type": "execute_result"
    }
   ],
   "source": [
    "dict_2['k3']"
   ]
  },
  {
   "cell_type": "code",
   "execution_count": 20,
   "id": "f72c5029",
   "metadata": {},
   "outputs": [
    {
     "data": {
      "text/plain": [
       "'Ayam Kampung'"
      ]
     },
     "execution_count": 20,
     "metadata": {},
     "output_type": "execute_result"
    }
   ],
   "source": [
    "dict_2['k3'][0]"
   ]
  },
  {
   "cell_type": "code",
   "execution_count": 21,
   "id": "32f0608c",
   "metadata": {},
   "outputs": [
    {
     "data": {
      "text/plain": [
       "{'k5': 'Babi', 'k6': 'Katak'}"
      ]
     },
     "execution_count": 21,
     "metadata": {},
     "output_type": "execute_result"
    }
   ],
   "source": [
    "dict_2['k4']"
   ]
  },
  {
   "cell_type": "code",
   "execution_count": 22,
   "id": "aa9f336b",
   "metadata": {},
   "outputs": [
    {
     "data": {
      "text/plain": [
       "'Babi'"
      ]
     },
     "execution_count": 22,
     "metadata": {},
     "output_type": "execute_result"
    }
   ],
   "source": [
    "dict_2['k4']['k5']"
   ]
  },
  {
   "cell_type": "markdown",
   "id": "13e15522",
   "metadata": {},
   "source": [
    "Cara **Indexing atau Slicing di Nested Dictionary** dapat dilakukan dengan cara yang sama pada Nested List seperti yang ditunjukan di atas."
   ]
  },
  {
   "cell_type": "code",
   "execution_count": 23,
   "id": "7a1bbd36",
   "metadata": {},
   "outputs": [],
   "source": [
    "dict_2['k1'] = 'Ular'"
   ]
  },
  {
   "cell_type": "code",
   "execution_count": 24,
   "id": "c294e3b7",
   "metadata": {},
   "outputs": [
    {
     "data": {
      "text/plain": [
       "{'k1': 'Ular',\n",
       " 'k2': 'Kambing',\n",
       " 'k3': ['Ayam Kampung', 'Ayam Negeri'],\n",
       " 'k4': {'k5': 'Babi', 'k6': 'Katak'}}"
      ]
     },
     "execution_count": 24,
     "metadata": {},
     "output_type": "execute_result"
    }
   ],
   "source": [
    "dict_2"
   ]
  },
  {
   "cell_type": "markdown",
   "id": "208e865c",
   "metadata": {},
   "source": [
    "Beberapa **method** yang dapat digunakan dalam Nested Dictionary, antara lain: \n",
    "- **.keys()** digunakan untuk **menampilkan kepala** dari dictionary. (k1, k2, k3) \n",
    "- **.values()** digunakan untuk **menampilkan ekor** atau isi dari dictionary. (Sapi, Kambing, Ayam) \n",
    "- **.items()** digunakan untuk **menampilkan kepala-ekor** secara berpasangan dari dictionary. ('k1':'Ayam')"
   ]
  },
  {
   "cell_type": "code",
   "execution_count": 25,
   "id": "8f382e01",
   "metadata": {},
   "outputs": [
    {
     "data": {
      "text/plain": [
       "dict_keys(['k1', 'k2', 'k3', 'k4'])"
      ]
     },
     "execution_count": 25,
     "metadata": {},
     "output_type": "execute_result"
    }
   ],
   "source": [
    "dict_2.keys()"
   ]
  },
  {
   "cell_type": "code",
   "execution_count": 26,
   "id": "22d0ba55",
   "metadata": {},
   "outputs": [
    {
     "data": {
      "text/plain": [
       "dict_values(['Ular', 'Kambing', ['Ayam Kampung', 'Ayam Negeri'], {'k5': 'Babi', 'k6': 'Katak'}])"
      ]
     },
     "execution_count": 26,
     "metadata": {},
     "output_type": "execute_result"
    }
   ],
   "source": [
    "dict_2.values()"
   ]
  },
  {
   "cell_type": "code",
   "execution_count": 27,
   "id": "8376f472",
   "metadata": {},
   "outputs": [
    {
     "data": {
      "text/plain": [
       "dict_items([('k1', 'Ular'), ('k2', 'Kambing'), ('k3', ['Ayam Kampung', 'Ayam Negeri']), ('k4', {'k5': 'Babi', 'k6': 'Katak'})])"
      ]
     },
     "execution_count": 27,
     "metadata": {},
     "output_type": "execute_result"
    }
   ],
   "source": [
    "dict_2.items()"
   ]
  },
  {
   "cell_type": "markdown",
   "id": "d467382e",
   "metadata": {},
   "source": [
    "**Challenge:** Ubah 'Katak' menjadi UPPERCASE"
   ]
  },
  {
   "cell_type": "code",
   "execution_count": 44,
   "id": "1e2e358f",
   "metadata": {},
   "outputs": [],
   "source": [
    "kapital = dict_2['k4']['k6'].upper()"
   ]
  },
  {
   "cell_type": "code",
   "execution_count": 45,
   "id": "0a7d4f18",
   "metadata": {},
   "outputs": [
    {
     "data": {
      "text/plain": [
       "'KATAK'"
      ]
     },
     "execution_count": 45,
     "metadata": {},
     "output_type": "execute_result"
    }
   ],
   "source": [
    "kapital"
   ]
  },
  {
   "cell_type": "code",
   "execution_count": null,
   "id": "e2f54376",
   "metadata": {},
   "outputs": [],
   "source": []
  }
 ],
 "metadata": {
  "kernelspec": {
   "display_name": "Python 3 (ipykernel)",
   "language": "python",
   "name": "python3"
  },
  "language_info": {
   "codemirror_mode": {
    "name": "ipython",
    "version": 3
   },
   "file_extension": ".py",
   "mimetype": "text/x-python",
   "name": "python",
   "nbconvert_exporter": "python",
   "pygments_lexer": "ipython3",
   "version": "3.9.7"
  }
 },
 "nbformat": 4,
 "nbformat_minor": 5
}
