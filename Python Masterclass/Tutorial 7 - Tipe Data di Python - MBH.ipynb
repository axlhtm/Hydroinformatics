{
 "cells": [
  {
   "cell_type": "markdown",
   "id": "1128af5c",
   "metadata": {},
   "source": [
    "# TUTORIAL 7"
   ]
  },
  {
   "cell_type": "markdown",
   "id": "72c274d6",
   "metadata": {},
   "source": [
    "## Mengenali Tipe Data di Python"
   ]
  },
  {
   "cell_type": "code",
   "execution_count": 29,
   "id": "2ac2391f",
   "metadata": {},
   "outputs": [],
   "source": [
    "data1 = 5"
   ]
  },
  {
   "cell_type": "code",
   "execution_count": 30,
   "id": "177bbb32",
   "metadata": {},
   "outputs": [
    {
     "data": {
      "text/plain": [
       "5"
      ]
     },
     "execution_count": 30,
     "metadata": {},
     "output_type": "execute_result"
    }
   ],
   "source": [
    "data1"
   ]
  },
  {
   "cell_type": "code",
   "execution_count": 31,
   "id": "b85c6174",
   "metadata": {},
   "outputs": [
    {
     "data": {
      "text/plain": [
       "int"
      ]
     },
     "execution_count": 31,
     "metadata": {},
     "output_type": "execute_result"
    }
   ],
   "source": [
    "type(data1)"
   ]
  },
  {
   "cell_type": "code",
   "execution_count": 32,
   "id": "c3fd7d83",
   "metadata": {},
   "outputs": [],
   "source": [
    "data2 = data1 / 2\n"
   ]
  },
  {
   "cell_type": "code",
   "execution_count": 33,
   "id": "6ffe841a",
   "metadata": {},
   "outputs": [
    {
     "data": {
      "text/plain": [
       "2.5"
      ]
     },
     "execution_count": 33,
     "metadata": {},
     "output_type": "execute_result"
    }
   ],
   "source": [
    "data2"
   ]
  },
  {
   "cell_type": "code",
   "execution_count": 34,
   "id": "a6ae7420",
   "metadata": {},
   "outputs": [
    {
     "data": {
      "text/plain": [
       "float"
      ]
     },
     "execution_count": 34,
     "metadata": {},
     "output_type": "execute_result"
    }
   ],
   "source": [
    "type(data2)"
   ]
  },
  {
   "cell_type": "markdown",
   "id": "86d9cef3",
   "metadata": {},
   "source": [
    "## Pengunaan Modulus (%) di Python"
   ]
  },
  {
   "cell_type": "markdown",
   "id": "d339f9e5",
   "metadata": {},
   "source": [
    "Mengetahui sisa bagi (modulus) pada pembagian di Python"
   ]
  },
  {
   "cell_type": "code",
   "execution_count": 36,
   "id": "37ca3558",
   "metadata": {},
   "outputs": [
    {
     "data": {
      "text/plain": [
       "0"
      ]
     },
     "execution_count": 36,
     "metadata": {},
     "output_type": "execute_result"
    }
   ],
   "source": [
    "6%2"
   ]
  },
  {
   "cell_type": "code",
   "execution_count": 37,
   "id": "dc4eda67",
   "metadata": {},
   "outputs": [
    {
     "data": {
      "text/plain": [
       "1"
      ]
     },
     "execution_count": 37,
     "metadata": {},
     "output_type": "execute_result"
    }
   ],
   "source": [
    "7%2"
   ]
  },
  {
   "cell_type": "markdown",
   "id": "bd4cfa5e",
   "metadata": {},
   "source": [
    "## Pengunaan Pangkat (**) dan aturan Matematika di Python"
   ]
  },
  {
   "cell_type": "code",
   "execution_count": 38,
   "id": "fcec2897",
   "metadata": {},
   "outputs": [
    {
     "data": {
      "text/plain": [
       "4"
      ]
     },
     "execution_count": 38,
     "metadata": {},
     "output_type": "execute_result"
    }
   ],
   "source": [
    "2*2"
   ]
  },
  {
   "cell_type": "code",
   "execution_count": 39,
   "id": "9ecf34ac",
   "metadata": {},
   "outputs": [
    {
     "data": {
      "text/plain": [
       "4"
      ]
     },
     "execution_count": 39,
     "metadata": {},
     "output_type": "execute_result"
    }
   ],
   "source": [
    "2**2"
   ]
  },
  {
   "cell_type": "code",
   "execution_count": 40,
   "id": "74c32b93",
   "metadata": {},
   "outputs": [
    {
     "data": {
      "text/plain": [
       "8"
      ]
     },
     "execution_count": 40,
     "metadata": {},
     "output_type": "execute_result"
    }
   ],
   "source": [
    "2*2*2"
   ]
  },
  {
   "cell_type": "code",
   "execution_count": 41,
   "id": "64bf8077",
   "metadata": {},
   "outputs": [
    {
     "data": {
      "text/plain": [
       "8"
      ]
     },
     "execution_count": 41,
     "metadata": {},
     "output_type": "execute_result"
    }
   ],
   "source": [
    "2**3"
   ]
  },
  {
   "cell_type": "code",
   "execution_count": 42,
   "id": "b18c1bc7",
   "metadata": {},
   "outputs": [
    {
     "data": {
      "text/plain": [
       "69"
      ]
     },
     "execution_count": 42,
     "metadata": {},
     "output_type": "execute_result"
    }
   ],
   "source": [
    "2 + 10 * 3 + 4 * 8 + 5"
   ]
  },
  {
   "cell_type": "code",
   "execution_count": 43,
   "id": "e43fd937",
   "metadata": {},
   "outputs": [
    {
     "data": {
      "text/plain": [
       "1092"
      ]
     },
     "execution_count": 43,
     "metadata": {},
     "output_type": "execute_result"
    }
   ],
   "source": [
    "(2 + 10) * (3 + 4) * (8 + 5)"
   ]
  },
  {
   "cell_type": "markdown",
   "id": "f86aa793",
   "metadata": {},
   "source": [
    "## Penggunaan Indexing dan Slicing di Python "
   ]
  },
  {
   "cell_type": "code",
   "execution_count": 44,
   "id": "c3afb952",
   "metadata": {},
   "outputs": [],
   "source": [
    "a = 3"
   ]
  },
  {
   "cell_type": "code",
   "execution_count": 45,
   "id": "00bd18ef",
   "metadata": {},
   "outputs": [],
   "source": [
    "item_saya = 15"
   ]
  },
  {
   "cell_type": "code",
   "execution_count": 46,
   "id": "5153f766",
   "metadata": {},
   "outputs": [],
   "source": [
    "item_saya = ['ikan','ayam', 'bebek']"
   ]
  },
  {
   "cell_type": "code",
   "execution_count": 47,
   "id": "896f78ca",
   "metadata": {},
   "outputs": [
    {
     "data": {
      "text/plain": [
       "['ikan', 'ayam', 'bebek']"
      ]
     },
     "execution_count": 47,
     "metadata": {},
     "output_type": "execute_result"
    }
   ],
   "source": [
    "item_saya"
   ]
  },
  {
   "cell_type": "code",
   "execution_count": 48,
   "id": "911ab6be",
   "metadata": {},
   "outputs": [
    {
     "data": {
      "text/plain": [
       "'bebek'"
      ]
     },
     "execution_count": 48,
     "metadata": {},
     "output_type": "execute_result"
    }
   ],
   "source": [
    "item_saya[2]"
   ]
  },
  {
   "cell_type": "code",
   "execution_count": 52,
   "id": "da15c9d5",
   "metadata": {},
   "outputs": [
    {
     "data": {
      "text/plain": [
       "'Belajar Python itu mudah'"
      ]
     },
     "execution_count": 52,
     "metadata": {},
     "output_type": "execute_result"
    }
   ],
   "source": [
    "\"Belajar Python itu mudah\""
   ]
  },
  {
   "cell_type": "code",
   "execution_count": 53,
   "id": "3c563e00",
   "metadata": {},
   "outputs": [
    {
     "data": {
      "text/plain": [
       "'e'"
      ]
     },
     "execution_count": 53,
     "metadata": {},
     "output_type": "execute_result"
    }
   ],
   "source": [
    "\"Belajar Python itu mudah\" [1]"
   ]
  },
  {
   "cell_type": "code",
   "execution_count": 54,
   "id": "90206117",
   "metadata": {},
   "outputs": [
    {
     "data": {
      "text/plain": [
       "'elaj'"
      ]
     },
     "execution_count": 54,
     "metadata": {},
     "output_type": "execute_result"
    }
   ],
   "source": [
    "\"Belajar Python itu mudah\" [1:5]"
   ]
  },
  {
   "cell_type": "code",
   "execution_count": 55,
   "id": "09b7aaf3",
   "metadata": {},
   "outputs": [
    {
     "data": {
      "text/plain": [
       "'Belajar Python itu mudah'"
      ]
     },
     "execution_count": 55,
     "metadata": {},
     "output_type": "execute_result"
    }
   ],
   "source": [
    "\"Belajar Python itu mudah\" [:]"
   ]
  },
  {
   "cell_type": "markdown",
   "id": "12ae90bb",
   "metadata": {},
   "source": [
    "## Penggunaan Step di Python"
   ]
  },
  {
   "cell_type": "markdown",
   "id": "bd9c3168",
   "metadata": {},
   "source": [
    "Menggunakan rumus [awal:akhir:jarak]"
   ]
  },
  {
   "cell_type": "code",
   "execution_count": 56,
   "id": "d57d24c9",
   "metadata": {},
   "outputs": [
    {
     "data": {
      "text/plain": [
       "'ljrPto t ua'"
      ]
     },
     "execution_count": 56,
     "metadata": {},
     "output_type": "execute_result"
    }
   ],
   "source": [
    "\"Belajar Python itu mudah\" [2:-1:2]"
   ]
  },
  {
   "cell_type": "code",
   "execution_count": 57,
   "id": "3464bbf7",
   "metadata": {},
   "outputs": [
    {
     "data": {
      "text/plain": [
       "'hadum uti nohtyP rajaleB'"
      ]
     },
     "execution_count": 57,
     "metadata": {},
     "output_type": "execute_result"
    }
   ],
   "source": [
    "\"Belajar Python itu mudah\" [::-1]"
   ]
  },
  {
   "cell_type": "code",
   "execution_count": 58,
   "id": "9f989028",
   "metadata": {},
   "outputs": [
    {
     "data": {
      "text/plain": [
       "'hdmuinhy aae'"
      ]
     },
     "execution_count": 58,
     "metadata": {},
     "output_type": "execute_result"
    }
   ],
   "source": [
    "\"Belajar Python itu mudah\" [::-2]"
   ]
  },
  {
   "cell_type": "code",
   "execution_count": 59,
   "id": "7c9ad459",
   "metadata": {},
   "outputs": [],
   "source": [
    "item = [1,2,3,4,5,6,7,8,9,10]"
   ]
  },
  {
   "cell_type": "code",
   "execution_count": 60,
   "id": "e307174c",
   "metadata": {},
   "outputs": [
    {
     "data": {
      "text/plain": [
       "[4, 7, 10]"
      ]
     },
     "execution_count": 60,
     "metadata": {},
     "output_type": "execute_result"
    }
   ],
   "source": [
    "item[3::3]"
   ]
  },
  {
   "cell_type": "code",
   "execution_count": 61,
   "id": "244adeb1",
   "metadata": {},
   "outputs": [
    {
     "data": {
      "text/plain": [
       "[8, 7, 6, 5, 4, 3, 2, 1]"
      ]
     },
     "execution_count": 61,
     "metadata": {},
     "output_type": "execute_result"
    }
   ],
   "source": [
    "item[-3::-1]"
   ]
  },
  {
   "cell_type": "code",
   "execution_count": 62,
   "id": "244da9a0",
   "metadata": {},
   "outputs": [
    {
     "data": {
      "text/plain": [
       "[8, 6, 4]"
      ]
     },
     "execution_count": 62,
     "metadata": {},
     "output_type": "execute_result"
    }
   ],
   "source": [
    "item[-3:2:-2]"
   ]
  },
  {
   "cell_type": "code",
   "execution_count": 72,
   "id": "2efdb9be",
   "metadata": {},
   "outputs": [
    {
     "data": {
      "text/plain": [
       "[10, 8, 6, 4, 2]"
      ]
     },
     "execution_count": 72,
     "metadata": {},
     "output_type": "execute_result"
    }
   ],
   "source": [
    "item[-1::-2]"
   ]
  },
  {
   "cell_type": "code",
   "execution_count": null,
   "id": "15546550",
   "metadata": {},
   "outputs": [],
   "source": []
  }
 ],
 "metadata": {
  "kernelspec": {
   "display_name": "Python 3 (ipykernel)",
   "language": "python",
   "name": "python3"
  },
  "language_info": {
   "codemirror_mode": {
    "name": "ipython",
    "version": 3
   },
   "file_extension": ".py",
   "mimetype": "text/x-python",
   "name": "python",
   "nbconvert_exporter": "python",
   "pygments_lexer": "ipython3",
   "version": "3.9.7"
  }
 },
 "nbformat": 4,
 "nbformat_minor": 5
}
