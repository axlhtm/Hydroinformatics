{
 "cells": [
  {
   "cell_type": "markdown",
   "id": "818e8396",
   "metadata": {},
   "source": [
    "# Tutorial 15\n",
    "##  1. Penggunaan Fungsi di Python"
   ]
  },
  {
   "cell_type": "markdown",
   "id": "a5fc9eb3",
   "metadata": {},
   "source": [
    "Function adalah fungsi, sebuah algoritma yang digunakan untuk perintah tertentu. Dimana perintah yang diinginkan dapat berupa return atau print. **Return digunakan untuk mendiefiniskan hasil fungsi ke variabel, sedangkan Print digunakan untuk mencetak hasil dari fungsi.** Penulisan dari fungsi adalah dengan menggunakan \n",
    "\n",
    "**def nama_fungsinya(variabel):**\n",
    "**print()**\n",
    "**return()**\n",
    "\n",
    "sebagai yang dicontohkan dibawah ini: "
   ]
  },
  {
   "cell_type": "code",
   "execution_count": 1,
   "id": "948922dd",
   "metadata": {},
   "outputs": [],
   "source": [
    "def cetak_kalimat(): \n",
    "    print('Ternyata belajar Python itu mudah')"
   ]
  },
  {
   "cell_type": "code",
   "execution_count": 2,
   "id": "265eadc8",
   "metadata": {},
   "outputs": [
    {
     "name": "stdout",
     "output_type": "stream",
     "text": [
      "Ternyata belajar Python itu mudah\n"
     ]
    }
   ],
   "source": [
    "cetak_kalimat()"
   ]
  },
  {
   "cell_type": "code",
   "execution_count": 3,
   "id": "c92622b4",
   "metadata": {},
   "outputs": [
    {
     "name": "stdout",
     "output_type": "stream",
     "text": [
      "42\n"
     ]
    }
   ],
   "source": [
    "def perkalian(num1,num2): \n",
    "    return num1*num2 \n",
    "\n",
    "kali = perkalian(6,7)\n",
    "print(kali)"
   ]
  },
  {
   "cell_type": "code",
   "execution_count": 4,
   "id": "1ff4d751",
   "metadata": {},
   "outputs": [
    {
     "name": "stdout",
     "output_type": "stream",
     "text": [
      "4\n",
      "None\n"
     ]
    }
   ],
   "source": [
    "def penjumlahan(a,b):\n",
    "    print(a+b)\n",
    "    \n",
    "jumlah = penjumlahan(1,3)\n",
    "print(jumlah)"
   ]
  },
  {
   "cell_type": "markdown",
   "id": "457c2d96",
   "metadata": {},
   "source": [
    "Berdasarkan contoh di atas, kita dapat mengetahui perbedaan dari penggunakan fungsi print dan return. **Apabila kita ingin memasukan hasil fungsi kedalam satu variabel**, maka kita **menggunakan fungsi return**. Dalam **contoh fungsi print di atas, diketahui bahwa variable jumlah tetap didefinisikan sebagai None Type, atau tidak berisi.** "
   ]
  },
  {
   "cell_type": "markdown",
   "id": "aef07fbe",
   "metadata": {},
   "source": [
    "### Memasukan Nilai Default ke dalam Satu Variabel"
   ]
  },
  {
   "cell_type": "code",
   "execution_count": 5,
   "id": "3883ef4b",
   "metadata": {},
   "outputs": [],
   "source": [
    "def belajar(var='Python'): \n",
    "    print('Saya sedang belajar ' +var)"
   ]
  },
  {
   "cell_type": "code",
   "execution_count": 6,
   "id": "f4b1a348",
   "metadata": {},
   "outputs": [
    {
     "name": "stdout",
     "output_type": "stream",
     "text": [
      "Saya sedang belajar Python\n"
     ]
    }
   ],
   "source": [
    "belajar() "
   ]
  },
  {
   "cell_type": "code",
   "execution_count": 7,
   "id": "4d67d38c",
   "metadata": {},
   "outputs": [
    {
     "name": "stdout",
     "output_type": "stream",
     "text": [
      "Saya sedang belajar Matematika\n"
     ]
    }
   ],
   "source": [
    "belajar('Matematika')"
   ]
  },
  {
   "cell_type": "markdown",
   "id": "7952b66b",
   "metadata": {},
   "source": [
    "Contoh di atas merupakan contoh penggunakan dari penggunaan nilai default pada satu variabel. **Nilai 'Python' merupakan nilai default yang digunakan apabila ketika kita memanggil 'belajar()' tanpa menggunakan isi dalam kurung, maka akan memunculkan nilai default tersebut.** "
   ]
  },
  {
   "cell_type": "code",
   "execution_count": 8,
   "id": "c98efa39",
   "metadata": {},
   "outputs": [],
   "source": [
    "def deteksi_angka(var1): \n",
    "    '''\n",
    "    Ini adalah  fungsi untuk membedakan bilangan ganjil genap \n",
    "    '''\n",
    "    if (var1%2 == 0):\n",
    "        print('Ini adalah angka genap')\n",
    "    else : \n",
    "        print('Ini adalah angka ganjil')"
   ]
  },
  {
   "cell_type": "code",
   "execution_count": 9,
   "id": "535d8ceb",
   "metadata": {},
   "outputs": [
    {
     "name": "stdout",
     "output_type": "stream",
     "text": [
      "Ini adalah angka genap\n"
     ]
    }
   ],
   "source": [
    "deteksi_angka(6)"
   ]
  },
  {
   "cell_type": "code",
   "execution_count": 10,
   "id": "5c560b03",
   "metadata": {},
   "outputs": [
    {
     "name": "stdout",
     "output_type": "stream",
     "text": [
      "Ini adalah angka ganjil\n"
     ]
    }
   ],
   "source": [
    "deteksi_angka(7)"
   ]
  },
  {
   "cell_type": "markdown",
   "id": "adde4df0",
   "metadata": {},
   "source": [
    "**Challenge:**\n",
    "\n",
    "Buatlah sebuah fungsi yang bisa memberikan nilai **True** jika bisa menemuka kata 'Pyhton' pada kalimat yang dimasukan oleh user. Contoh kalimat: \"Ternyata belajar Python itu mudah!\". "
   ]
  },
  {
   "cell_type": "code",
   "execution_count": 25,
   "id": "1728c608",
   "metadata": {},
   "outputs": [
    {
     "name": "stdout",
     "output_type": "stream",
     "text": [
      "Masukan kalimat yang diinginkan disini =  Ternyata belajar python itu mudah!\n"
     ]
    },
    {
     "data": {
      "text/plain": [
       "True"
      ]
     },
     "execution_count": 25,
     "metadata": {},
     "output_type": "execute_result"
    }
   ],
   "source": [
    "kalimat = str(input('Masukan kalimat yang diinginkan disini =  '))\n",
    "\n",
    "def cek_kalimat(var): \n",
    "    if 'Python' or 'python'in var: \n",
    "        return True\n",
    "    else: \n",
    "        return False\n",
    "    \n",
    "cek_kalimat(kalimat)"
   ]
  },
  {
   "cell_type": "code",
   "execution_count": 35,
   "id": "dd8b54ad",
   "metadata": {},
   "outputs": [
    {
     "name": "stdout",
     "output_type": "stream",
     "text": [
      "Masukan kalimat yang diinginkan disini =  Python itu asik\n"
     ]
    },
    {
     "data": {
      "text/plain": [
       "True"
      ]
     },
     "execution_count": 35,
     "metadata": {},
     "output_type": "execute_result"
    }
   ],
   "source": [
    "kalimat = str(input('Masukan kalimat yang diinginkan disini =  '))\n",
    "\n",
    "def cek_kalimat(var):\n",
    "    return 'Python' in var\n",
    "\n",
    "cek_kalimat(kalimat)"
   ]
  },
  {
   "cell_type": "markdown",
   "id": "739dddac",
   "metadata": {},
   "source": [
    "## 2. Penggunaan Args dan Kwargs di Python"
   ]
  },
  {
   "cell_type": "markdown",
   "id": "ce20f65e",
   "metadata": {},
   "source": [
    "**Args adalah** sebuah argumen dimana kita bisa **memasukan sebuah variabel dimana kita tidak harus menentuk jumlah variabel terlebih dahulu**. Penggunanaan dari fungsi Args secara konsesus dapat **dituliskan dengan (*args) seperti pada contoh dibawah ini.**"
   ]
  },
  {
   "cell_type": "code",
   "execution_count": 40,
   "id": "99f01856",
   "metadata": {},
   "outputs": [],
   "source": [
    "def cek_args(*args):\n",
    "    return sum((args))"
   ]
  },
  {
   "cell_type": "code",
   "execution_count": 41,
   "id": "a4be6bbf",
   "metadata": {},
   "outputs": [
    {
     "data": {
      "text/plain": [
       "50"
      ]
     },
     "execution_count": 41,
     "metadata": {},
     "output_type": "execute_result"
    }
   ],
   "source": [
    "cek_args(8,9,10,11,12)"
   ]
  },
  {
   "cell_type": "markdown",
   "id": "8f210c51",
   "metadata": {},
   "source": [
    "**Kwargs adalah** sebuah argumen dimana kita bisa **memasukan dictionary kedalam sebuah fungsi tanpa menentukan jumlah variabel terlebih dahulu.** Penggunaan dari fungsi Kwargs secara konsensus dapat **dituliskan dengan (**kwargs) seperti pada contoh dibawah ini.**"
   ]
  },
  {
   "cell_type": "code",
   "execution_count": 47,
   "id": "7c79dca9",
   "metadata": {},
   "outputs": [],
   "source": [
    "def cek_kwargs(**kwargs):\n",
    "    return((kwargs))"
   ]
  },
  {
   "cell_type": "code",
   "execution_count": 48,
   "id": "ee894799",
   "metadata": {},
   "outputs": [
    {
     "data": {
      "text/plain": [
       "{'Budi': 50, 'Anton': 40, 'Chandra': 30}"
      ]
     },
     "execution_count": 48,
     "metadata": {},
     "output_type": "execute_result"
    }
   ],
   "source": [
    "cek_kwargs(Budi=50 , Anton=40 , Chandra=30)"
   ]
  },
  {
   "cell_type": "markdown",
   "id": "0e959df8",
   "metadata": {},
   "source": [
    "**Challenge:**\n",
    "\n",
    "1. Buatlah sebuah fungsi perintah untuk **mengecek apakah ada kata budi dalam suatu dictionary.** Apabila terdapat kata tersebut, maka harus mengembalikan perintah return. \n",
    "2. Buatlah sebuah fungsi perintah untuk **mengecek apakah berat badan anggota dalam suatu dictionary yang kegendutan.** Apabila terdapat data tersebut, maka harus mengembalikan perintah return."
   ]
  },
  {
   "cell_type": "code",
   "execution_count": 51,
   "id": "daddd0ab",
   "metadata": {},
   "outputs": [],
   "source": [
    "def berat_anggota(**kwargs):\n",
    "    if 'Budi' or 'budi' in kwargs:\n",
    "        return True \n",
    "    else : \n",
    "        return False "
   ]
  },
  {
   "cell_type": "code",
   "execution_count": 52,
   "id": "bb88490b",
   "metadata": {},
   "outputs": [
    {
     "data": {
      "text/plain": [
       "True"
      ]
     },
     "execution_count": 52,
     "metadata": {},
     "output_type": "execute_result"
    }
   ],
   "source": [
    "berat_anggota(Budi=50 , Anton=40 , Chandra=30)"
   ]
  },
  {
   "cell_type": "code",
   "execution_count": 55,
   "id": "58e181e6",
   "metadata": {},
   "outputs": [],
   "source": [
    "def berat_anggota(**kwargs):\n",
    "    if kwargs > 40 :\n",
    "        return 'Anggota kelompok tersebut harus diet'\n",
    "    else :\n",
    "        return 'Anggota kelompok tersebut tidak harus diet'"
   ]
  },
  {
   "cell_type": "code",
   "execution_count": 57,
   "id": "9460463f",
   "metadata": {},
   "outputs": [
    {
     "ename": "TypeError",
     "evalue": "'>' not supported between instances of 'dict' and 'int'",
     "output_type": "error",
     "traceback": [
      "\u001b[1;31m---------------------------------------------------------------------------\u001b[0m",
      "\u001b[1;31mTypeError\u001b[0m                                 Traceback (most recent call last)",
      "\u001b[1;32m~\\AppData\\Local\\Temp/ipykernel_12776/124151825.py\u001b[0m in \u001b[0;36m<module>\u001b[1;34m\u001b[0m\n\u001b[1;32m----> 1\u001b[1;33m \u001b[0mberat_anggota\u001b[0m\u001b[1;33m(\u001b[0m\u001b[0mBudi\u001b[0m\u001b[1;33m=\u001b[0m\u001b[1;36m50\u001b[0m \u001b[1;33m,\u001b[0m \u001b[0mAnton\u001b[0m\u001b[1;33m=\u001b[0m\u001b[1;36m40\u001b[0m \u001b[1;33m,\u001b[0m \u001b[0mChandra\u001b[0m\u001b[1;33m=\u001b[0m\u001b[1;36m30\u001b[0m\u001b[1;33m)\u001b[0m\u001b[1;33m\u001b[0m\u001b[1;33m\u001b[0m\u001b[0m\n\u001b[0m",
      "\u001b[1;32m~\\AppData\\Local\\Temp/ipykernel_12776/4258621173.py\u001b[0m in \u001b[0;36mberat_anggota\u001b[1;34m(**kwargs)\u001b[0m\n\u001b[0;32m      1\u001b[0m \u001b[1;32mdef\u001b[0m \u001b[0mberat_anggota\u001b[0m\u001b[1;33m(\u001b[0m\u001b[1;33m**\u001b[0m\u001b[0mkwargs\u001b[0m\u001b[1;33m)\u001b[0m\u001b[1;33m:\u001b[0m\u001b[1;33m\u001b[0m\u001b[1;33m\u001b[0m\u001b[0m\n\u001b[1;32m----> 2\u001b[1;33m     \u001b[1;32mif\u001b[0m \u001b[0mkwargs\u001b[0m \u001b[1;33m>\u001b[0m \u001b[1;36m40\u001b[0m \u001b[1;33m:\u001b[0m\u001b[1;33m\u001b[0m\u001b[1;33m\u001b[0m\u001b[0m\n\u001b[0m\u001b[0;32m      3\u001b[0m         \u001b[1;32mreturn\u001b[0m \u001b[1;34m'Anggota kelompok tersebut harus diet'\u001b[0m\u001b[1;33m\u001b[0m\u001b[1;33m\u001b[0m\u001b[0m\n\u001b[0;32m      4\u001b[0m     \u001b[1;32melse\u001b[0m \u001b[1;33m:\u001b[0m\u001b[1;33m\u001b[0m\u001b[1;33m\u001b[0m\u001b[0m\n\u001b[0;32m      5\u001b[0m         \u001b[1;32mreturn\u001b[0m \u001b[1;34m'Anggota kelompok tersebut tidak harus diet'\u001b[0m\u001b[1;33m\u001b[0m\u001b[1;33m\u001b[0m\u001b[0m\n",
      "\u001b[1;31mTypeError\u001b[0m: '>' not supported between instances of 'dict' and 'int'"
     ]
    }
   ],
   "source": [
    "berat_anggota(Budi=50 , Anton=40 , Chandra=30)"
   ]
  },
  {
   "cell_type": "markdown",
   "id": "96ed3402",
   "metadata": {},
   "source": [
    "## 3. Menggabungkan Args dan Kwargs di Python"
   ]
  },
  {
   "cell_type": "code",
   "execution_count": 62,
   "id": "0c147ea3",
   "metadata": {},
   "outputs": [],
   "source": [
    "def fungsiku(*args,**kwargs): \n",
    "    print('Saya ingin membeli {} {} secara tunai' .format(args[0], kwargs['makanan'][1]))"
   ]
  },
  {
   "cell_type": "code",
   "execution_count": 63,
   "id": "80e239dc",
   "metadata": {},
   "outputs": [
    {
     "name": "stdout",
     "output_type": "stream",
     "text": [
      "Saya ingin membeli 23 sayur secara tunai\n"
     ]
    }
   ],
   "source": [
    "fungsiku(23,56,10,buah='apel', makanan=['soto','sayur'])"
   ]
  },
  {
   "cell_type": "code",
   "execution_count": null,
   "id": "a2c5a410",
   "metadata": {},
   "outputs": [],
   "source": []
  }
 ],
 "metadata": {
  "kernelspec": {
   "display_name": "Python 3 (ipykernel)",
   "language": "python",
   "name": "python3"
  },
  "language_info": {
   "codemirror_mode": {
    "name": "ipython",
    "version": 3
   },
   "file_extension": ".py",
   "mimetype": "text/x-python",
   "name": "python",
   "nbconvert_exporter": "python",
   "pygments_lexer": "ipython3",
   "version": "3.9.7"
  }
 },
 "nbformat": 4,
 "nbformat_minor": 5
}
