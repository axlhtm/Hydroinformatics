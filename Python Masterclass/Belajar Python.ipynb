{
 "cells": [
  {
   "cell_type": "markdown",
   "id": "335ebc65",
   "metadata": {},
   "source": [
    "Saya ingin menjadi mahir di bahasa Python "
   ]
  },
  {
   "cell_type": "code",
   "execution_count": 1,
   "id": "f4670f14",
   "metadata": {},
   "outputs": [
    {
     "name": "stdout",
     "output_type": "stream",
     "text": [
      "SHIFT + ENTER\n"
     ]
    }
   ],
   "source": [
    "print('SHIFT + ENTER')"
   ]
  },
  {
   "cell_type": "code",
   "execution_count": 2,
   "id": "8c9a6bf8",
   "metadata": {},
   "outputs": [
    {
     "data": {
      "text/plain": [
       "2"
      ]
     },
     "execution_count": 2,
     "metadata": {},
     "output_type": "execute_result"
    }
   ],
   "source": [
    "1+1"
   ]
  },
  {
   "cell_type": "markdown",
   "id": "ee1dae8c",
   "metadata": {},
   "source": [
    "Jika ingin menambahkan line tanpa eksekusi ketik ALT + ENTER"
   ]
  },
  {
   "cell_type": "code",
   "execution_count": 3,
   "id": "96d10a82",
   "metadata": {},
   "outputs": [
    {
     "data": {
      "text/plain": [
       "1440"
      ]
     },
     "execution_count": 3,
     "metadata": {},
     "output_type": "execute_result"
    }
   ],
   "source": [
    "18*80"
   ]
  },
  {
   "cell_type": "code",
   "execution_count": null,
   "id": "de2b2b61",
   "metadata": {},
   "outputs": [],
   "source": []
  },
  {
   "cell_type": "code",
   "execution_count": null,
   "id": "2fc9c46c",
   "metadata": {},
   "outputs": [],
   "source": []
  }
 ],
 "metadata": {
  "kernelspec": {
   "display_name": "Python 3 (ipykernel)",
   "language": "python",
   "name": "python3"
  },
  "language_info": {
   "codemirror_mode": {
    "name": "ipython",
    "version": 3
   },
   "file_extension": ".py",
   "mimetype": "text/x-python",
   "name": "python",
   "nbconvert_exporter": "python",
   "pygments_lexer": "ipython3",
   "version": "3.9.7"
  }
 },
 "nbformat": 4,
 "nbformat_minor": 5
}
