{
 "cells": [
  {
   "cell_type": "markdown",
   "metadata": {},
   "source": [
    "# TUTORIAL 03:\n",
    "## Workflow dengan Scikit-Learn"
   ]
  },
  {
   "cell_type": "markdown",
   "metadata": {},
   "source": [
    "### Load Sample DatasetL: Iris Dataset"
   ]
  },
  {
   "cell_type": "code",
   "execution_count": 16,
   "metadata": {},
   "outputs": [],
   "source": [
    "from sklearn.datasets import load_iris\n",
    "iris = load_iris()\n",
    "x = iris.data\n",
    "y = iris.target"
   ]
  },
  {
   "cell_type": "markdown",
   "metadata": {},
   "source": [
    "### Splitting Dataset: Training and Testing Set"
   ]
  },
  {
   "cell_type": "code",
   "execution_count": 17,
   "metadata": {},
   "outputs": [],
   "source": [
    "from sklearn.model_selection import train_test_split\n",
    "x_train, x_test, y_train, y_test = train_test_split(x, y, test_size = 0.4, random_state = 1)"
   ]
  },
  {
   "cell_type": "markdown",
   "metadata": {},
   "source": [
    "### Training Model\n",
    "Training disebut juga sebagai calibrasi. Dimana disetiap pengulangannya nilai dari parameter-parameter akan diubah untuk mengecilkan nilai error. \n",
    "Tahap ini dilakukan saat pembuatan model. \n",
    "- Pada Scikit-Learn, model machine learning dibentuk dari class yang dikenal dengan istilah **estimator**. \n",
    "- Setiap estimator akan mengimplementasikan dua method utama, **yaitu fit()** dan **predict()**.\n",
    "- Method **fit()** digunakan untuk melakukan **training model**. \n",
    "- Method **predict()** digunakan untuk melakukan **estimasi / prediksi** dengan memanfaatkan trained model."
   ]
  },
  {
   "cell_type": "code",
   "execution_count": 18,
   "metadata": {},
   "outputs": [
    {
     "data": {
      "text/plain": [
       "KNeighborsClassifier(n_neighbors=3)"
      ]
     },
     "execution_count": 18,
     "metadata": {},
     "output_type": "execute_result"
    }
   ],
   "source": [
    "from sklearn.neighbors import KNeighborsClassifier # Menggunakan lazy learning method - K Nearest Neighbour (KNN)untuk mengklasifikasikan features\n",
    "model = KNeighborsClassifier(n_neighbors = 3)      # Set jumlah neighbours, dimana kita mencoba untuk set neighbours adalah 3\n",
    "model.fit(x_train, y_train)"
   ]
  },
  {
   "cell_type": "markdown",
   "metadata": {},
   "source": [
    "### Evaluasi Model\n",
    "Evaluasi model atau cross validasi adalah tahapan yang dilakukan saat pembuatan model, dimana di tahap ini kita mengimitasi testing set. Pengujian diberhentikan apabila nilai dari error meningkat. \n",
    "- Testing digunakan untuk **proses evaluasi performa** dari model yang sudah ditraining sebelumnya. "
   ]
  },
  {
   "cell_type": "code",
   "execution_count": 19,
   "metadata": {},
   "outputs": [
    {
     "name": "stdout",
     "output_type": "stream",
     "text": [
      "Accuracy: 0.9833333333333333\n"
     ]
    }
   ],
   "source": [
    "from sklearn.metrics import accuracy_score \n",
    "y_pred = model.predict (x_test)\n",
    "acc    = accuracy_score (y_test, y_pred) # Membandingkan nilai target pada y_test dengan nilai prediksi pada y_pred\n",
    "print(f'Accuracy: {acc}')                # Nilai akurasi yang diperoleh adalah 98.3% dimana dinilai sangat akurat"
   ]
  },
  {
   "cell_type": "markdown",
   "metadata": {},
   "source": [
    "### Pemanfaat Trained Model\n",
    "**Menggunakan trained model untuk memprediksi data baru**. Pada variable data_baru dibawah, disebutkan bahwa kita hanya memiliki nilai features, tapi tidak ada nilai target. Kita menggunakan sistem trained sebelumnya untuk mengklasifikasikan model tersebut. "
   ]
  },
  {
   "cell_type": "code",
   "execution_count": 20,
   "metadata": {},
   "outputs": [
    {
     "data": {
      "text/plain": [
       "array([1, 2])"
      ]
     },
     "execution_count": 20,
     "metadata": {},
     "output_type": "execute_result"
    }
   ],
   "source": [
    "data_baru = [[2, 2, 3, 2],\n",
    "             [2, 4, 3, 5]]\n",
    "\n",
    "preds = model.predict(data_baru)       # Memprediksi nilai target dari nilai features\n",
    "preds                                  "
   ]
  },
  {
   "cell_type": "code",
   "execution_count": 21,
   "metadata": {},
   "outputs": [
    {
     "name": "stdout",
     "output_type": "stream",
     "text": [
      "Hasil prediksi dari dataset tersebut adalah: ['versicolor', 'virginica']\n"
     ]
    }
   ],
   "source": [
    "pred_species = [iris.target_names[i] for i in preds] # Memanggil jenis bunga berdasarkan klasifikasi angka\n",
    "print(f'Hasil prediksi dari dataset tersebut adalah: {pred_species}')"
   ]
  },
  {
   "cell_type": "markdown",
   "metadata": {},
   "source": [
    "### Dump & Load Trained Model\n",
    "**Dumping model** machine learning menjadi file dengan menggunakkan joblib. Dumping digunakan untuk **menyimpan machine learning kedalam satu file**, dimana kita memanggil file tersebut kembali. \n"
   ]
  },
  {
   "cell_type": "code",
   "execution_count": 22,
   "metadata": {},
   "outputs": [
    {
     "data": {
      "text/plain": [
       "['iris_classifier_knn.joblib']"
      ]
     },
     "execution_count": 22,
     "metadata": {},
     "output_type": "execute_result"
    }
   ],
   "source": [
    "import joblib \n",
    "joblib.dump(model, 'iris_classifier_knn.joblib')"
   ]
  },
  {
   "cell_type": "markdown",
   "metadata": {},
   "source": [
    "**Loading model** machine learning dari file joblib. **Memanggil file machine learning** dan menyimpannya pada satu variable. "
   ]
  },
  {
   "cell_type": "code",
   "execution_count": 23,
   "metadata": {},
   "outputs": [],
   "source": [
    "production_model = joblib.load('iris_classifier_knn.joblib')"
   ]
  }
 ],
 "metadata": {
  "interpreter": {
   "hash": "38552727ee56418e1a63d6186a8a41f2f82ce7cc92f389e6de43124079e389b7"
  },
  "kernelspec": {
   "display_name": "Python 3.9.7 ('base')",
   "language": "python",
   "name": "python3"
  },
  "language_info": {
   "codemirror_mode": {
    "name": "ipython",
    "version": 3
   },
   "file_extension": ".py",
   "mimetype": "text/x-python",
   "name": "python",
   "nbconvert_exporter": "python",
   "pygments_lexer": "ipython3",
   "version": "3.9.7"
  },
  "orig_nbformat": 4
 },
 "nbformat": 4,
 "nbformat_minor": 2
}
