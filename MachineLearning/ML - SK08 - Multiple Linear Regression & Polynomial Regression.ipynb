{
 "cells": [
  {
   "cell_type": "markdown",
   "metadata": {},
   "source": [
    "# Tutorial 08: \n",
    "# Multiple Linear Regression & Polynomial Regression\n",
    "Pada latihan kali ini, kita akan menggunakan sample dataset dari Pizza dimana dalam dataset tersebut terdapat **2 buah features variables, yaitu diameter dan jumlah topping** sedangkan yang menjadi **target variable adalah harga pizza**. Karena nilai yang kita coba prediksi adalah continous maka ini adalah contoh kasus regressi. "
   ]
  },
  {
   "cell_type": "markdown",
   "metadata": {},
   "source": [
    "\n",
    "### I. Sample Dataset\n",
    "#### - Training Dataset"
   ]
  },
  {
   "cell_type": "code",
   "execution_count": 31,
   "metadata": {},
   "outputs": [
    {
     "data": {
      "text/html": [
       "<div>\n",
       "<style scoped>\n",
       "    .dataframe tbody tr th:only-of-type {\n",
       "        vertical-align: middle;\n",
       "    }\n",
       "\n",
       "    .dataframe tbody tr th {\n",
       "        vertical-align: top;\n",
       "    }\n",
       "\n",
       "    .dataframe thead th {\n",
       "        text-align: right;\n",
       "    }\n",
       "</style>\n",
       "<table border=\"1\" class=\"dataframe\">\n",
       "  <thead>\n",
       "    <tr style=\"text-align: right;\">\n",
       "      <th></th>\n",
       "      <th>diameter</th>\n",
       "      <th>n_topping</th>\n",
       "      <th>harga</th>\n",
       "    </tr>\n",
       "  </thead>\n",
       "  <tbody>\n",
       "    <tr>\n",
       "      <th>0</th>\n",
       "      <td>6</td>\n",
       "      <td>2</td>\n",
       "      <td>7.0</td>\n",
       "    </tr>\n",
       "    <tr>\n",
       "      <th>1</th>\n",
       "      <td>8</td>\n",
       "      <td>1</td>\n",
       "      <td>9.0</td>\n",
       "    </tr>\n",
       "    <tr>\n",
       "      <th>2</th>\n",
       "      <td>10</td>\n",
       "      <td>0</td>\n",
       "      <td>13.0</td>\n",
       "    </tr>\n",
       "    <tr>\n",
       "      <th>3</th>\n",
       "      <td>14</td>\n",
       "      <td>2</td>\n",
       "      <td>17.5</td>\n",
       "    </tr>\n",
       "    <tr>\n",
       "      <th>4</th>\n",
       "      <td>18</td>\n",
       "      <td>0</td>\n",
       "      <td>18.0</td>\n",
       "    </tr>\n",
       "  </tbody>\n",
       "</table>\n",
       "</div>"
      ],
      "text/plain": [
       "   diameter  n_topping  harga\n",
       "0         6          2    7.0\n",
       "1         8          1    9.0\n",
       "2        10          0   13.0\n",
       "3        14          2   17.5\n",
       "4        18          0   18.0"
      ]
     },
     "execution_count": 31,
     "metadata": {},
     "output_type": "execute_result"
    }
   ],
   "source": [
    "import pandas as pd \n",
    "\n",
    "pizza = {'diameter'  : [6,8,10,14,18],\n",
    "         'n_topping' : [2,1,0,2,0], \n",
    "         'harga'     : [7,9,13,17.5,18]}\n",
    "\n",
    "train_pizza_df = pd.DataFrame(pizza)\n",
    "train_pizza_df"
   ]
  },
  {
   "cell_type": "markdown",
   "metadata": {},
   "source": [
    "#### - Testing Dataset"
   ]
  },
  {
   "cell_type": "code",
   "execution_count": 32,
   "metadata": {},
   "outputs": [
    {
     "data": {
      "text/html": [
       "<div>\n",
       "<style scoped>\n",
       "    .dataframe tbody tr th:only-of-type {\n",
       "        vertical-align: middle;\n",
       "    }\n",
       "\n",
       "    .dataframe tbody tr th {\n",
       "        vertical-align: top;\n",
       "    }\n",
       "\n",
       "    .dataframe thead th {\n",
       "        text-align: right;\n",
       "    }\n",
       "</style>\n",
       "<table border=\"1\" class=\"dataframe\">\n",
       "  <thead>\n",
       "    <tr style=\"text-align: right;\">\n",
       "      <th></th>\n",
       "      <th>diameter</th>\n",
       "      <th>n_topping</th>\n",
       "      <th>harga</th>\n",
       "    </tr>\n",
       "  </thead>\n",
       "  <tbody>\n",
       "    <tr>\n",
       "      <th>0</th>\n",
       "      <td>8</td>\n",
       "      <td>2</td>\n",
       "      <td>11.0</td>\n",
       "    </tr>\n",
       "    <tr>\n",
       "      <th>1</th>\n",
       "      <td>9</td>\n",
       "      <td>0</td>\n",
       "      <td>8.5</td>\n",
       "    </tr>\n",
       "    <tr>\n",
       "      <th>2</th>\n",
       "      <td>11</td>\n",
       "      <td>2</td>\n",
       "      <td>15.0</td>\n",
       "    </tr>\n",
       "    <tr>\n",
       "      <th>3</th>\n",
       "      <td>16</td>\n",
       "      <td>2</td>\n",
       "      <td>18.0</td>\n",
       "    </tr>\n",
       "    <tr>\n",
       "      <th>4</th>\n",
       "      <td>12</td>\n",
       "      <td>0</td>\n",
       "      <td>11.0</td>\n",
       "    </tr>\n",
       "  </tbody>\n",
       "</table>\n",
       "</div>"
      ],
      "text/plain": [
       "   diameter  n_topping  harga\n",
       "0         8          2   11.0\n",
       "1         9          0    8.5\n",
       "2        11          2   15.0\n",
       "3        16          2   18.0\n",
       "4        12          0   11.0"
      ]
     },
     "execution_count": 32,
     "metadata": {},
     "output_type": "execute_result"
    }
   ],
   "source": [
    "pizza = {'diameter'  : [8,9,11,16,12],\n",
    "         'n_topping' : [2,0,2,2,0], \n",
    "         'harga'     : [11,8.5,15,18,11]}\n",
    "\n",
    "test_pizza_df = pd.DataFrame(pizza)\n",
    "test_pizza_df"
   ]
  },
  {
   "cell_type": "markdown",
   "metadata": {},
   "source": [
    "#### - Preprocessing Dataset \n"
   ]
  },
  {
   "cell_type": "code",
   "execution_count": 33,
   "metadata": {},
   "outputs": [
    {
     "name": "stdout",
     "output_type": "stream",
     "text": [
      "x train: [[ 6  2]\n",
      " [ 8  1]\n",
      " [10  0]\n",
      " [14  2]\n",
      " [18  0]]\n",
      "y train: [ 7.   9.  13.  17.5 18. ]\n",
      "x test : [[ 8  2]\n",
      " [ 9  0]\n",
      " [11  2]\n",
      " [16  2]\n",
      " [12  0]]\n",
      "y test : [11.   8.5 15.  18.  11. ]\n"
     ]
    }
   ],
   "source": [
    "import numpy as np \n",
    "x_train = np.array(train_pizza_df[['diameter', 'n_topping']])\n",
    "y_train = np.array(train_pizza_df['harga'])\n",
    "\n",
    "x_test  = np.array(test_pizza_df[['diameter', 'n_topping']])\n",
    "y_test  = np.array(test_pizza_df['harga'])\n",
    "\n",
    "print(f'x train: {x_train}')\n",
    "print(f'y train: {y_train}')\n",
    "print(f'x test : {x_test}')\n",
    "print(f'y test : {y_test}')"
   ]
  },
  {
   "cell_type": "markdown",
   "metadata": {},
   "source": [
    "### II. Multiple Linear Regression \n",
    "Multiple Linear Regression merupakan **generalisasi dari Simple Linear Regression yang memungkinkan untuk menggunakan beberapa explanatory variables**. Sehingga perbedaan utama dari linear regression dan multiple regression terletak pada **jumlah features dan target** yang digunakan. Secara matematik, metode ini dapat dituliskan sebagai berikut. \n",
    "<br>\n",
    "y = a + b1 * x1 + b2 * x2 + bn * xn"
   ]
  },
  {
   "cell_type": "code",
   "execution_count": 34,
   "metadata": {},
   "outputs": [
    {
     "name": "stdout",
     "output_type": "stream",
     "text": [
      "r squared: 0.7701677731318468\n"
     ]
    }
   ],
   "source": [
    "from sklearn.linear_model import LinearRegression\n",
    "from sklearn.metrics import r2_score\n",
    "\n",
    "model = LinearRegression()\n",
    "model.fit(x_train, y_train)    # Training model dengan menggunakan 2 parameter, yaitu x_train dan y_train\n",
    "y_pred = model.predict(x_test)\n",
    "r2 = r2_score(y_test, y_pred)\n",
    "\n",
    "print(f'r squared: {r2}')"
   ]
  },
  {
   "cell_type": "markdown",
   "metadata": {},
   "source": [
    "### III. Quadratic Polynomial Regression\n",
    "Polynomial Regression memodelkan **hubungan antara independent variable x dan dependent variable y sebagai derajat polynomial dalam x**. Dalam konteks ini, **independent variable x adalah features variable sedangkan dependent variable adalah target**. Untuk menyederhanakan processnya, kita akan pangkas jumlah featuresnya menjadi 1 features saja. Secara matematis, metode ini dapat dituliskan sebagai berikut. \n",
    "<br>\n",
    "y = a + b1 * x + b2 x**2 \n",
    "\n",
    "#### - Preprocessing Dataset\n"
   ]
  },
  {
   "cell_type": "code",
   "execution_count": 35,
   "metadata": {},
   "outputs": [
    {
     "name": "stdout",
     "output_type": "stream",
     "text": [
      "x train: [[ 6]\n",
      " [ 8]\n",
      " [10]\n",
      " [14]\n",
      " [18]]\n",
      "y train: [ 7.   9.  13.  17.5 18. ]\n"
     ]
    }
   ],
   "source": [
    "x_train = np.array(train_pizza_df['diameter']).reshape(-1,1) # Harus di reshape karena dalam sklearn features harus dalam 2 dimensi\n",
    "y_train = np.array(train_pizza_df['harga'])\n",
    "\n",
    "print(f'x train: {x_train}')\n",
    "print(f'y train: {y_train}')"
   ]
  },
  {
   "cell_type": "markdown",
   "metadata": {},
   "source": [
    "#### - Polynomial Features\n",
    "Berdasarkan hasil polynomial didapat nilai 1, 8, 64. Dimana **Nilai 1 didapat dari 8 pangkat 0, Nilai 8 didapat dari 8 pangkat 1, sedangkan Nilai 64 didapat dari 8 pangkat 2**."
   ]
  },
  {
   "cell_type": "code",
   "execution_count": 36,
   "metadata": {},
   "outputs": [
    {
     "name": "stdout",
     "output_type": "stream",
     "text": [
      "x train quadratic: [[  1.   6.  36.]\n",
      " [  1.   8.  64.]\n",
      " [  1.  10. 100.]\n",
      " [  1.  14. 196.]\n",
      " [  1.  18. 324.]]\n"
     ]
    }
   ],
   "source": [
    "from sklearn.preprocessing import PolynomialFeatures\n",
    "\n",
    "quadratic_feature = PolynomialFeatures(degree=2) # Derajat Polinomial 2 \n",
    "x_train_quadratic = quadratic_feature.fit_transform(x_train)\n",
    "\n",
    "print(f'x train quadratic: {x_train_quadratic}')"
   ]
  },
  {
   "cell_type": "markdown",
   "metadata": {},
   "source": [
    "#### - Training Model"
   ]
  },
  {
   "cell_type": "code",
   "execution_count": 37,
   "metadata": {},
   "outputs": [
    {
     "data": {
      "text/plain": [
       "LinearRegression()"
      ]
     },
     "execution_count": 37,
     "metadata": {},
     "output_type": "execute_result"
    }
   ],
   "source": [
    "model = LinearRegression()\n",
    "model.fit(x_train_quadratic, y_train)"
   ]
  },
  {
   "cell_type": "markdown",
   "metadata": {},
   "source": [
    "#### - Visualisasi Model"
   ]
  },
  {
   "cell_type": "code",
   "execution_count": 38,
   "metadata": {},
   "outputs": [
    {
     "data": {
      "image/png": "[encoded data removed]",
      "text/plain": [
       "<Figure size 432x288 with 1 Axes>"
      ]
     },
     "metadata": {
      "needs_background": "light"
     },
     "output_type": "display_data"
    }
   ],
   "source": [
    "import matplotlib.pyplot as plt \n",
    "\n",
    "# Input Graph Data\n",
    "x_vis = np.linspace(0, 25, 100).reshape(-1,1) # Membuat array list dari 0 sampai dengan 25 sebanyak 100 variable\n",
    "x_vis_quadratic = quadratic_feature.transform(x_vis)\n",
    "y_vis_quadratic = model.predict(x_vis_quadratic)\n",
    "\n",
    "# Plot the Graph\n",
    "plt.scatter(x_train, y_train)\n",
    "plt.plot(x_vis, y_vis_quadratic, '-r')\n",
    "\n",
    "# Input Graph Description\n",
    "plt.title('Perbandingan Diameter dan Harga Pizza')\n",
    "plt.xlabel('Diameter (inch)')\n",
    "plt.ylabel('Harga (dollar)')\n",
    "plt.xlim(0,25)\n",
    "plt.ylim(0,25)\n",
    "plt.grid(True)\n",
    "plt.show()"
   ]
  },
  {
   "cell_type": "markdown",
   "metadata": {},
   "source": [
    "### IV. Polynomial Regression: Quadratic vs Cubic"
   ]
  },
  {
   "cell_type": "code",
   "execution_count": 45,
   "metadata": {},
   "outputs": [
    {
     "data": {
      "image/png": "[encoded data removed]",
      "text/plain": [
       "<Figure size 432x288 with 1 Axes>"
      ]
     },
     "metadata": {
      "needs_background": "light"
     },
     "output_type": "display_data"
    }
   ],
   "source": [
    "# Training Set\n",
    "plt.scatter(x_train, y_train)\n",
    "\n",
    "# Linear Regression\n",
    "model = LinearRegression()\n",
    "model.fit(x_train, y_train)\n",
    "x_vis = np.linspace(0, 25, 100).reshape(-1,1)\n",
    "y_vis = model.predict(x_vis)\n",
    "plt.plot(x_vis, y_vis, '--r', label='Linear')\n",
    "\n",
    "# Polynomial Regression: Quadratic\n",
    "quadratic_feature = PolynomialFeatures(degree=2)\n",
    "x_train_quadratic = quadratic_feature.fit_transform(x_train)\n",
    "\n",
    "model = LinearRegression()\n",
    "model.fit(x_train_quadratic, y_train)\n",
    "x_vis_quadratic = quadratic_feature.transform(x_vis)\n",
    "y_vis = model.predict(x_vis_quadratic)\n",
    "plt.plot(x_vis, y_vis, '--g', label='Quadratic')\n",
    "\n",
    "# Polunomial Regression: Qubic\n",
    "cubic_feature = PolynomialFeatures(degree=3)\n",
    "x_train_cubic = cubic_feature.fit_transform(x_train)\n",
    "\n",
    "model = LinearRegression()\n",
    "model.fit(x_train_cubic, y_train)\n",
    "x_vis_cubic = cubic_feature.fit_transform(x_vis)\n",
    "y_vis = model.predict(x_vis_cubic)\n",
    "plt.plot(x_vis, y_vis, '--y', label='Cubic')\n",
    "\n",
    "# Show the Graph\n",
    "plt.title ('Perbandingan Diameter dan Harga Pizza')\n",
    "plt.xlabel('Diameter (inch)')\n",
    "plt.ylabel('Harga (dollar)')\n",
    "plt.legend()\n",
    "plt.grid(True)\n",
    "plt.show()"
   ]
  },
  {
   "cell_type": "code",
   "execution_count": null,
   "metadata": {},
   "outputs": [],
   "source": []
  }
 ],
 "metadata": {
  "interpreter": {
   "hash": "38552727ee56418e1a63d6186a8a41f2f82ce7cc92f389e6de43124079e389b7"
  },
  "kernelspec": {
   "display_name": "Python 3.9.7 ('base')",
   "language": "python",
   "name": "python3"
  },
  "language_info": {
   "codemirror_mode": {
    "name": "ipython",
    "version": 3
   },
   "file_extension": ".py",
   "mimetype": "text/x-python",
   "name": "python",
   "nbconvert_exporter": "python",
   "pygments_lexer": "ipython3",
   "version": "3.9.7"
  },
  "orig_nbformat": 4
 },
 "nbformat": 4,
 "nbformat_minor": 2
}
