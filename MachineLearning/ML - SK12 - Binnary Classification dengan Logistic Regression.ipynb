{
 "cells": [
  {
   "cell_type": "markdown",
   "metadata": {},
   "source": [
    "# Tutorial 12: \n",
    "# Binnary Classification dengan Logistic Regression.ipynb"
   ]
  },
  {
   "cell_type": "markdown",
   "metadata": {},
   "source": [
    "### 1. Formula Dasar pada Logistic Regression\n",
    "- **Simple Linear Regression**\n",
    "<br>y    = a + bx \n",
    "<br>g(x) = a + bx  # x pada fungsi ini bersifat tunggal atau 1 nilai feature\n",
    "\n",
    "- **Multiple Linear Regression**\n",
    "<br>y    = a + b1 * x1 + b2 * x2 + bn * xn \n",
    "<br>g(X) = a + bX # X pada fungsi ini bersifat jamak atau sekumpulan nilai feature\n",
    "\n",
    "- **Logistic Regression**\n",
    "<br>g(X)        = sigmoid(a+bX)\n",
    "<br>-sigmoid(x) = 1 / (a+exp(-x))"
   ]
  },
  {
   "cell_type": "markdown",
   "metadata": {},
   "source": [
    "### 2. Persiapan Dataset: SMS Spam Collection Data Set"
   ]
  },
  {
   "cell_type": "code",
   "execution_count": 2,
   "metadata": {},
   "outputs": [
    {
     "ename": "SyntaxError",
     "evalue": "invalid syntax (Temp/ipykernel_21040/1884028450.py, line 6)",
     "output_type": "error",
     "traceback": [
      "\u001b[1;36m  File \u001b[1;32m\"C:\\Users\\axelh\\AppData\\Local\\Temp/ipykernel_21040/1884028450.py\"\u001b[1;36m, line \u001b[1;32m6\u001b[0m\n\u001b[1;33m    names=['label', 'sms'])\u001b[0m\n\u001b[1;37m    ^\u001b[0m\n\u001b[1;31mSyntaxError\u001b[0m\u001b[1;31m:\u001b[0m invalid syntax\n"
     ]
    }
   ],
   "source": [
    "import pandas as pd \n",
    "\n",
    "df = pd.read_csv('./dataset/SmsSpamCollection', \n",
    "                 sep='\\t', \n",
    "                 header = None\n",
    "                 names=['label', 'sms'])"
   ]
  },
  {
   "cell_type": "code",
   "execution_count": null,
   "metadata": {},
   "outputs": [],
   "source": []
  }
 ],
 "metadata": {
  "interpreter": {
   "hash": "38552727ee56418e1a63d6186a8a41f2f82ce7cc92f389e6de43124079e389b7"
  },
  "kernelspec": {
   "display_name": "Python 3.9.7 ('base')",
   "language": "python",
   "name": "python3"
  },
  "language_info": {
   "codemirror_mode": {
    "name": "ipython",
    "version": 3
   },
   "file_extension": ".py",
   "mimetype": "text/x-python",
   "name": "python",
   "nbconvert_exporter": "python",
   "pygments_lexer": "ipython3",
   "version": "3.9.7"
  },
  "orig_nbformat": 4
 },
 "nbformat": 4,
 "nbformat_minor": 2
}
