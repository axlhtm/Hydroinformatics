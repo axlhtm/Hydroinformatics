{
 "cells": [
  {
   "cell_type": "markdown",
   "metadata": {},
   "source": [
    "# Tutorial 12: \n",
    "# Binnary Classification dengan Logistic Regression.ipynb"
   ]
  },
  {
   "cell_type": "markdown",
   "metadata": {},
   "source": [
    "### Formula Dasar pada Logistic Regression\n",
    "- **Simple Linear Regression**\n",
    "<br>y    = a + bx \n",
    "<br>g(x) = a + bx  # x pada fungsi ini bersifat tunggal atau 1 nilai feature\n",
    "\n",
    "- **Multiple Linear Regression**\n",
    "<br>y    = a + b1 * x1 + b2 * x2 + bn * xn \n",
    "<br>g(X) = a + bX # X pada fungsi ini bersifat jamak atau sekumpulan nilai feature\n",
    "\n",
    "- **Logistic Regression**\n",
    "<br>g(X)        = sigmoid(a+bX)\n",
    "<br>-sigmoid(x) = 1 / (a+exp(-x))"
   ]
  },
  {
   "cell_type": "code",
   "execution_count": null,
   "metadata": {},
   "outputs": [],
   "source": []
  },
  {
   "cell_type": "markdown",
   "metadata": {},
   "source": []
  }
 ],
 "metadata": {
  "language_info": {
   "name": "python"
  },
  "orig_nbformat": 4
 },
 "nbformat": 4,
 "nbformat_minor": 2
}
