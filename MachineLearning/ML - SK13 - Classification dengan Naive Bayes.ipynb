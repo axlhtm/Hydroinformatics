{
 "cells": [
  {
   "cell_type": "markdown",
   "metadata": {},
   "source": [
    "# Tutorial 13: \n",
    "# Classification dengan Naive Bayes"
   ]
  },
  {
   "cell_type": "markdown",
   "metadata": {},
   "source": [
    "### 1. Bayes Theorem\n",
    "Bayes Theorem menawarkan suatu formula **untuk menghitung nilai probability dari suatu event dengan memanfaatkan pengetahuan sebelumnya dari kondisi terkait** atau sering kali dikenal dengan istilah conditional probability. Secara matematis dapat ditulis sebagai berikut: \n",
    "<br><br>\n",
    "Posteriror = Likelihood * Prior / Evidence "
   ]
  },
  {
   "cell_type": "markdown",
   "metadata": {},
   "source": [
    "### 2. Studi Kasus 1"
   ]
  },
  {
   "cell_type": "markdown",
   "metadata": {},
   "source": [
    "Pada sebuah toko kelontong **terdapat 2 orang pelanggan setia yang selalu memesan siomay, bakso, dan lumpia**. Nama pelanggan tersebut adalah Asep dan Joko. Berikut adalah peluang dari pesanan makanan yang akan dipesan oleh 2 orang tersebut. \n",
    "<br><br>\n",
    "**Asep**: \n",
    "- Siomay: 0.1\n",
    "- Bakso : 0.8\n",
    "- Lumpia: 0.1 \n",
    "\n",
    "<br><br>\n",
    "**Joko** \n",
    "- Siomay: 0.5\n",
    "- Bakso : 0.2\n",
    "- Lumpia: 0.3\n",
    "Disini kita akan melakukan **prediksi siapa pelanggan yang melakukan pemesanan dengan diketahui pesanannya adalah lumpia dan bakso.**\n",
    "\n",
    "#### - Prior Probability: P(y) \n",
    "Prior Probability adalah besaran nilai probabiliti atas label tertentu tanpa mempedulikan nilai featurenya. Sehingga **nilai probability dari Asep adalah P(Asep) = 0.5 sedangkan Joko P(Joko)=0.5**.\n",
    "\n",
    "#### - Likelihood: P(X|y)\n",
    "Likelihood **merupakan probabilitas dari kemunculan feature tertentu bila diketahui kemunculan nilai target labelnya**. Sehingga secara matematis, likelihood dari pesanan lumpia dan bakso dari kedua pelanggan tersebut dapat dituliskan sebagai berikut. \n",
    "<br>\n",
    "**Asep:** P(Lumpia, Bakso | Asep) = (0.1 * 0.8) = 0.08\n",
    "<br>\n",
    "**Joko:** P(Lumpia, Bakso | Joko) = (0.3 * 0.2) = 0.06\n",
    "\n",
    "#### - Evidence atau Normalizer: P(X)\n",
    "Evidence **merupakan total akumulasi dari perkalian antara likelihood dan prior**. Sehingga jika kita merujuk pada kasus kita, yaitu target label Asep dan Joko yang memesan Lumpia dan Bakso adalah sebagai berikut: \n",
    "<br>\n",
    "**Evidence = Sum (Likelihood * Prior)** <br>\n",
    "P(Lumpia, Bakso) = (0.08 * 0.5) + (0.06 * 0.5) = **0.07**\n",
    "\n",
    "#### - Posterior Probability: P(y|X)\n",
    "Posterior Probability **merupakan nilai peluang dari kemunculan suatu kelas atau target label jika diketahui kemunculan nilai featurenya.** Secara matematis, posterior dapat dituliskan sebagai berikut: \n",
    "<br><br>\n",
    "**Posterior = Likelihood * Prior / Evidence**\n",
    "<br>\n",
    "- **Asep:** <br>\n",
    "P(Asep | Lumpia, Bakso) = 0.08 * 0.5 / 0.07 = 0.57 \n",
    "- **Joko:** <br>\n",
    "P(Joko | Lumpia, Bakso) = 0.06 * 0.5 / 0.07 = 0.43\n",
    "<br>\n",
    "**Karena nilai Posterior Probability dari Asep (0.57) lebih besar dibandingkan dengan Joko (0.43) maka sistem akan mengasumsi bahwa pembelinya adalah Asep.** \n",
    " "
   ]
  },
  {
   "cell_type": "markdown",
   "metadata": {},
   "source": [
    "### 3. Studi Kasus 2 "
   ]
  },
  {
   "cell_type": "markdown",
   "metadata": {},
   "source": [
    "Pada sebuah toko kelontong **terdapat 2 orang pelanggan setia yang selalu memesan siomay, bakso, dan lumpia**. Nama pelanggan tersebut adalah Asep dan Joko. Berikut adalah peluang dari pesanan makanan yang akan dipesan oleh 2 orang tersebut. \n",
    "<br><br>\n",
    "**Asep**: \n",
    "- Siomay: 0.1\n",
    "- Bakso : 0.8\n",
    "- Lumpia: 0.1 \n",
    "\n",
    "<br><br>\n",
    "**Joko** \n",
    "- Siomay: 0.5\n",
    "- Bakso : 0.2\n",
    "- Lumpia: 0.3\n",
    "Disini kita akan melakukan **prediksi siapa pelanggan yang melakukan pemesanan dengan diketahui pesanannya adalah siomay dan bakso.**\n",
    "\n",
    "#### - Prior Probability: P(y) \n",
    "**nilai probability dari Asep adalah P(Asep) = 0.5 sedangkan Joko P(Joko)=0.5**.\n",
    "\n",
    "#### - Likelihood: P(X|y)\n",
    "**Asep:** P(Siomay, Bakso | Asep) = (0.1 * 0.8) = 0.08\n",
    "<br>\n",
    "**Joko:** P(Siomay, Bakso | Joko) = (0.5 * 0.2) = 0.1\n",
    "\n",
    "#### - Evidence atau Normalizer: P(X)\n",
    "**Evidence = Sum (Likelihood * Prior)** <br>\n",
    "P(Siomay, Bakso) = (0.08 * 0.5) + (0.1 * 0.5) = **0.09**\n",
    "\n",
    "#### - Posterior Probability: P(y|X)\n",
    "**Posterior = Likelihood * Prior / Evidence**\n",
    "<br>\n",
    "- **Asep:** <br>\n",
    "P(Asep | Siomay, Bakso) = 0.08 * 0.5 / 0.09 = 0.44\n",
    "- **Joko:** <br>\n",
    "P(Joko | Siomay, Bakso) = 0.1 * 0.5 / 0.09 = 0.56\n",
    "<br>\n",
    "**Karena nilai Posterior Probability dari Asep (0.44) lebih kecil dibandingkan dengan Joko (0.56) maka sistem akan mengasumsi bahwa pembelinya adalah Joko.** "
   ]
  },
  {
   "cell_type": "markdown",
   "metadata": {},
   "source": [
    "### 4. Persiapa Dataset: Breast Cancer Wisconsin (Diagnostic)\n",
    "#### - Load Dataset"
   ]
  },
  {
   "cell_type": "code",
   "execution_count": 3,
   "metadata": {},
   "outputs": [
    {
     "name": "stdout",
     "output_type": "stream",
     "text": [
      ".. _breast_cancer_dataset:\n",
      "\n",
      "Breast cancer wisconsin (diagnostic) dataset\n",
      "--------------------------------------------\n",
      "\n",
      "**Data Set Characteristics:**\n",
      "\n",
      "    :Number of Instances: 569\n",
      "\n",
      "    :Number of Attributes: 30 numeric, predictive attributes and the class\n",
      "\n",
      "    :Attribute Information:\n",
      "        - radius (mean of distances from center to points on the perimeter)\n",
      "        - texture (standard deviation of gray-scale values)\n",
      "        - perimeter\n",
      "        - area\n",
      "        - smoothness (local variation in radius lengths)\n",
      "        - compactness (perimeter^2 / area - 1.0)\n",
      "        - concavity (severity of concave portions of the contour)\n",
      "        - concave points (number of concave portions of the contour)\n",
      "        - symmetry\n",
      "        - fractal dimension (\"coastline approximation\" - 1)\n",
      "\n",
      "        The mean, standard error, and \"worst\" or largest (mean of the three\n",
      "        worst/largest values) of these features were computed for each image,\n",
      "        resulting in 30 features.  For instance, field 0 is Mean Radius, field\n",
      "        10 is Radius SE, field 20 is Worst Radius.\n",
      "\n",
      "        - class:\n",
      "                - WDBC-Malignant\n",
      "                - WDBC-Benign\n",
      "\n",
      "    :Summary Statistics:\n",
      "\n",
      "    ===================================== ====== ======\n",
      "                                           Min    Max\n",
      "    ===================================== ====== ======\n",
      "    radius (mean):                        6.981  28.11\n",
      "    texture (mean):                       9.71   39.28\n",
      "    perimeter (mean):                     43.79  188.5\n",
      "    area (mean):                          143.5  2501.0\n",
      "    smoothness (mean):                    0.053  0.163\n",
      "    compactness (mean):                   0.019  0.345\n",
      "    concavity (mean):                     0.0    0.427\n",
      "    concave points (mean):                0.0    0.201\n",
      "    symmetry (mean):                      0.106  0.304\n",
      "    fractal dimension (mean):             0.05   0.097\n",
      "    radius (standard error):              0.112  2.873\n",
      "    texture (standard error):             0.36   4.885\n",
      "    perimeter (standard error):           0.757  21.98\n",
      "    area (standard error):                6.802  542.2\n",
      "    smoothness (standard error):          0.002  0.031\n",
      "    compactness (standard error):         0.002  0.135\n",
      "    concavity (standard error):           0.0    0.396\n",
      "    concave points (standard error):      0.0    0.053\n",
      "    symmetry (standard error):            0.008  0.079\n",
      "    fractal dimension (standard error):   0.001  0.03\n",
      "    radius (worst):                       7.93   36.04\n",
      "    texture (worst):                      12.02  49.54\n",
      "    perimeter (worst):                    50.41  251.2\n",
      "    area (worst):                         185.2  4254.0\n",
      "    smoothness (worst):                   0.071  0.223\n",
      "    compactness (worst):                  0.027  1.058\n",
      "    concavity (worst):                    0.0    1.252\n",
      "    concave points (worst):               0.0    0.291\n",
      "    symmetry (worst):                     0.156  0.664\n",
      "    fractal dimension (worst):            0.055  0.208\n",
      "    ===================================== ====== ======\n",
      "\n",
      "    :Missing Attribute Values: None\n",
      "\n",
      "    :Class Distribution: 212 - Malignant, 357 - Benign\n",
      "\n",
      "    :Creator:  Dr. William H. Wolberg, W. Nick Street, Olvi L. Mangasarian\n",
      "\n",
      "    :Donor: Nick Street\n",
      "\n",
      "    :Date: November, 1995\n",
      "\n",
      "This is a copy of UCI ML Breast Cancer Wisconsin (Diagnostic) datasets.\n",
      "https://goo.gl/U2Uwz2\n",
      "\n",
      "Features are computed from a digitized image of a fine needle\n",
      "aspirate (FNA) of a breast mass.  They describe\n",
      "characteristics of the cell nuclei present in the image.\n",
      "\n",
      "Separating plane described above was obtained using\n",
      "Multisurface Method-Tree (MSM-T) [K. P. Bennett, \"Decision Tree\n",
      "Construction Via Linear Programming.\" Proceedings of the 4th\n",
      "Midwest Artificial Intelligence and Cognitive Science Society,\n",
      "pp. 97-101, 1992], a classification method which uses linear\n",
      "programming to construct a decision tree.  Relevant features\n",
      "were selected using an exhaustive search in the space of 1-4\n",
      "features and 1-3 separating planes.\n",
      "\n",
      "The actual linear program used to obtain the separating plane\n",
      "in the 3-dimensional space is that described in:\n",
      "[K. P. Bennett and O. L. Mangasarian: \"Robust Linear\n",
      "Programming Discrimination of Two Linearly Inseparable Sets\",\n",
      "Optimization Methods and Software 1, 1992, 23-34].\n",
      "\n",
      "This database is also available through the UW CS ftp server:\n",
      "\n",
      "ftp ftp.cs.wisc.edu\n",
      "cd math-prog/cpo-dataset/machine-learn/WDBC/\n",
      "\n",
      ".. topic:: References\n",
      "\n",
      "   - W.N. Street, W.H. Wolberg and O.L. Mangasarian. Nuclear feature extraction \n",
      "     for breast tumor diagnosis. IS&T/SPIE 1993 International Symposium on \n",
      "     Electronic Imaging: Science and Technology, volume 1905, pages 861-870,\n",
      "     San Jose, CA, 1993.\n",
      "   - O.L. Mangasarian, W.N. Street and W.H. Wolberg. Breast cancer diagnosis and \n",
      "     prognosis via linear programming. Operations Research, 43(4), pages 570-577, \n",
      "     July-August 1995.\n",
      "   - W.H. Wolberg, W.N. Street, and O.L. Mangasarian. Machine learning techniques\n",
      "     to diagnose breast cancer from fine-needle aspirates. Cancer Letters 77 (1994) \n",
      "     163-171.\n"
     ]
    }
   ],
   "source": [
    "from sklearn.datasets import load_breast_cancer\n",
    "\n",
    "print(load_breast_cancer().DESCR)"
   ]
  },
  {
   "cell_type": "code",
   "execution_count": 9,
   "metadata": {},
   "outputs": [
    {
     "data": {
      "text/plain": [
       "(569, 30)"
      ]
     },
     "execution_count": 9,
     "metadata": {},
     "output_type": "execute_result"
    }
   ],
   "source": [
    "X, y = load_breast_cancer(return_X_y = True) # Return X_y digunakan untuk memisahkan feature data dengan label datanya\n",
    "X.shape"
   ]
  },
  {
   "cell_type": "markdown",
   "metadata": {},
   "source": [
    "#### - Training & Testing Dataset"
   ]
  },
  {
   "cell_type": "code",
   "execution_count": 10,
   "metadata": {},
   "outputs": [
    {
     "name": "stdout",
     "output_type": "stream",
     "text": [
      "X Train Shape: (455, 30)\n",
      "X Test Shape: (114, 30)\n"
     ]
    }
   ],
   "source": [
    "from sklearn.model_selection import train_test_split \n",
    "\n",
    "X_train, X_test, y_train, y_test = train_test_split(X, \n",
    "                                                    y, \n",
    "                                                    test_size=0.2, #20% Testing Set, dan 80% Training Set\n",
    "                                                    random_state=0)\n",
    "\n",
    "print(f'X Train Shape: {X_train.shape}')\n",
    "print(f'X Test Shape: {X_test.shape}')"
   ]
  },
  {
   "cell_type": "code",
   "execution_count": 14,
   "metadata": {},
   "outputs": [
    {
     "data": {
      "text/plain": [
       "array([0, 1, 1, 1, 1, 1, 1, 1, 1, 1, 1, 1, 1, 1, 1, 0, 1, 0, 0, 0, 0, 0,\n",
       "       1, 1, 0, 1, 1, 0, 1, 0, 1, 0, 1, 0, 1, 0, 1, 0, 1, 0, 0, 1, 0, 1,\n",
       "       1, 0, 1, 1, 1, 0, 0, 0, 0, 1, 1, 1, 1, 1, 1, 0, 0, 0, 1, 1, 0, 1,\n",
       "       0, 0, 0, 1, 1, 0, 1, 0, 0, 1, 1, 1, 1, 1, 0, 0, 0, 1, 0, 1, 1, 1,\n",
       "       0, 0, 1, 0, 1, 0, 1, 1, 0, 1, 1, 1, 1, 1, 1, 1, 0, 1, 0, 1, 0, 0,\n",
       "       1, 0, 0, 1])"
      ]
     },
     "execution_count": 14,
     "metadata": {},
     "output_type": "execute_result"
    }
   ],
   "source": [
    "y_test"
   ]
  },
  {
   "cell_type": "markdown",
   "metadata": {},
   "source": [
    "#### - Naive Bayes dengan Scikit Learn "
   ]
  },
  {
   "cell_type": "code",
   "execution_count": 15,
   "metadata": {},
   "outputs": [
    {
     "data": {
      "text/plain": [
       "0.9298245614035088"
      ]
     },
     "execution_count": 15,
     "metadata": {},
     "output_type": "execute_result"
    }
   ],
   "source": [
    "from sklearn.naive_bayes import GaussianNB\n",
    "from sklearn.metrics import accuracy_score\n",
    "\n",
    "model = GaussianNB()\n",
    "model.fit(X_train, y_train)\n",
    "y_pred = model.predict(X_test)\n",
    "accuracy_score(y_test, y_pred)"
   ]
  },
  {
   "cell_type": "code",
   "execution_count": 17,
   "metadata": {},
   "outputs": [
    {
     "data": {
      "text/plain": [
       "0.9298245614035088"
      ]
     },
     "execution_count": 17,
     "metadata": {},
     "output_type": "execute_result"
    }
   ],
   "source": [
    "model.score(X_test, y_test)"
   ]
  },
  {
   "cell_type": "code",
   "execution_count": null,
   "metadata": {},
   "outputs": [],
   "source": []
  }
 ],
 "metadata": {
  "interpreter": {
   "hash": "38552727ee56418e1a63d6186a8a41f2f82ce7cc92f389e6de43124079e389b7"
  },
  "kernelspec": {
   "display_name": "Python 3.9.7 ('base')",
   "language": "python",
   "name": "python3"
  },
  "language_info": {
   "codemirror_mode": {
    "name": "ipython",
    "version": 3
   },
   "file_extension": ".py",
   "mimetype": "text/x-python",
   "name": "python",
   "nbconvert_exporter": "python",
   "pygments_lexer": "ipython3",
   "version": "3.9.7"
  },
  "orig_nbformat": 4
 },
 "nbformat": 4,
 "nbformat_minor": 2
}
