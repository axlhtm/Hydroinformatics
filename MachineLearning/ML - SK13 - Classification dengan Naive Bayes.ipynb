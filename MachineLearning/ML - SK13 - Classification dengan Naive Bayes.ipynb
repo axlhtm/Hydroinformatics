{
 "cells": [
  {
   "cell_type": "markdown",
   "metadata": {},
   "source": [
    "# Tutorial 13: \n",
    "# Classification dengan Naive Bayes"
   ]
  },
  {
   "cell_type": "markdown",
   "metadata": {},
   "source": [
    "### 1. Bayes Theorem\n",
    "Bayes Theorem menawarkan suatu formula **untuk menghitung nilai probability dari suatu event dengan memanfaatkan pengetahuan sebelumnya dari kondisi terkait** atau sering kali dikenal dengan istilah conditional probability. Secara matematis dapat ditulis sebagai berikut: \n",
    "<br><br>\n",
    "Posteriror = Likelihood * Prior / Evidence "
   ]
  },
  {
   "cell_type": "markdown",
   "metadata": {},
   "source": [
    "### 2. Studi Kasus 1"
   ]
  },
  {
   "cell_type": "markdown",
   "metadata": {},
   "source": [
    "Pada sebuah toko kelontong **terdapat 2 orang pelanggan setia yang selalu memesan siomay, bakso, dan lumpia**. Nama pelanggan tersebut adalah Asep dan Joko. Berikut adalah peluang dari pesanan makanan yang akan dipesan oleh 2 orang tersebut. \n",
    "<br><br>\n",
    "**Asep**: \n",
    "- Siomay: 0.1\n",
    "- Bakso : 0.8\n",
    "- Lumpia: 0.1 \n",
    "\n",
    "<br><br>\n",
    "**Joko** \n",
    "- Siomay: 0.5\n",
    "- Bakso : 0.2\n",
    "- Lumpia: 0.3\n",
    "Disini kita akan melakukan **prediksi siapa pelanggan yang melakukan pemesanan dengan diketahui pesanannya adalah lumpia dan bakso.**\n",
    "\n",
    "#### - Prior Probability: P(y) \n",
    "Prior Probability adalah besaran nilai probabiliti atas label tertentu tanpa mempedulikan nilai featurenya. Sehingga **nilai probability dari Asep adalah P(Asep) = 0.5 sedangkan Joko P(Joko)=0.5**.\n",
    "\n",
    "#### - Likelihood: P(X|y)\n",
    "Likelihood **merupakan probabilitas dari kemunculan feature tertentu bila diketahui kemunculan nilai target labelnya**. Sehingga secara matematis, likelihood dari pesanan lumpia dan bakso dari kedua pelanggan tersebut dapat dituliskan sebagai berikut. \n",
    "<br>\n",
    "**Asep:** P(Lumpia, Bakso | Asep) = (0.1 * 0.8) = 0.08\n",
    "<br>\n",
    "**Joko:** P(Lumpia, Bakso | Joko) = (0.3 * 0.2) = 0.06\n",
    "\n",
    "#### - Evidence atau Normalizer: P(X)\n",
    "Evidence **merupakan total akumulasi dari perkalian antara likelihood dan prior**. Sehingga jika kita merujuk pada kasus kita, yaitu target label Asep dan Joko yang memesan Lumpia dan Bakso adalah sebagai berikut: \n",
    "<br>\n",
    "**Evidence = Sum (Likelihood * Prior)** <br>\n",
    "P(Lumpia, Bakso) = (0.08 * 0.5) + (0.06 * 0.5) = **0.07**\n",
    "\n",
    "#### - Posterior Probability: P(y|X)\n",
    "Posterior Probability **merupakan nilai peluang dari kemunculan suatu kelas atau target label jika diketahui kemunculan nilai featurenya.** Secara matematis, posterior dapat dituliskan sebagai berikut: \n",
    "<br><br>\n",
    "**Posterior = Likelihood * Prior / Evidence**\n",
    "<br>\n",
    "- **Asep:** <br>\n",
    "P(Asep | Lumpia, Bakso) = 0.08 * 0.5 / 0.07 = 0.57 \n",
    "- **Joko:** <br>\n",
    "P(Joko | Lumpia, Bakso) = 0.06 * 0.5 / 0.07 = 0.43\n",
    " "
   ]
  },
  {
   "cell_type": "code",
   "execution_count": null,
   "metadata": {},
   "outputs": [],
   "source": []
  },
  {
   "cell_type": "markdown",
   "metadata": {},
   "source": []
  }
 ],
 "metadata": {
  "interpreter": {
   "hash": "38552727ee56418e1a63d6186a8a41f2f82ce7cc92f389e6de43124079e389b7"
  },
  "kernelspec": {
   "display_name": "Python 3.9.7 ('base')",
   "language": "python",
   "name": "python3"
  },
  "language_info": {
   "codemirror_mode": {
    "name": "ipython",
    "version": 3
   },
   "file_extension": ".py",
   "mimetype": "text/x-python",
   "name": "python",
   "nbconvert_exporter": "python",
   "pygments_lexer": "ipython3",
   "version": "3.9.7"
  },
  "orig_nbformat": 4
 },
 "nbformat": 4,
 "nbformat_minor": 2
}
